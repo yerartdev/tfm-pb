{
 "cells": [
  {
   "cell_type": "markdown",
   "metadata": {},
   "source": [
    "# Gerardo de Miguel González"
   ]
  },
  {
   "cell_type": "markdown",
   "metadata": {},
   "source": [
    "**::GMG::** The aim of this notebook is to find a basic workflow for doing machine learning classification of an imbalanced dataset using best practices taken from other people's examples."
   ]
  },
  {
   "cell_type": "markdown",
   "metadata": {},
   "source": [
    "# Binary Classification Proof of Concept"
   ]
  },
  {
   "cell_type": "markdown",
   "metadata": {
    "heading_collapsed": true
   },
   "source": [
    "## References"
   ]
  },
  {
   "cell_type": "markdown",
   "metadata": {
    "hidden": true
   },
   "source": [
    "**::GMG::** This one:\n",
    "\n",
    "  - [STHDA](http://www.sthda.com/english/articles/36-classification-methods-essentials/149-penalized-logistic-regression-essentials-in-r-ridge-lasso-and-elastic-net/) Penalized Logistic Regression Essentials in R: Ridge, Lasso and Elastic Net by kassambara -- 11/03/2018 from  [Articles](http://www.sthda.com/english/articles/36-classification-methods-essentials/) - Classification Methods Essentials"
   ]
  },
  {
   "cell_type": "markdown",
   "metadata": {
    "heading_collapsed": true
   },
   "source": [
    "## Libraries"
   ]
  },
  {
   "cell_type": "code",
   "execution_count": 1,
   "metadata": {
    "hidden": true
   },
   "outputs": [],
   "source": [
    "#::GMG::Helper function to install missing libraries before loading them\n",
    "# https://stackoverflow.com/questions/4090169/elegant-way-to-check-for-missing-packages-and-install-them\n",
    "using<-function(...) {\n",
    "    libs<-unlist(list(...))\n",
    "    req<-unlist(lapply(libs,require,character.only=TRUE))\n",
    "    need<-libs[req==FALSE]\n",
    "    if(length(need)>0){ \n",
    "        install.packages(need)\n",
    "        lapply(need,require,character.only=TRUE)\n",
    "    }\n",
    "}"
   ]
  },
  {
   "cell_type": "code",
   "execution_count": 2,
   "metadata": {
    "hidden": true,
    "scrolled": true
   },
   "outputs": [
    {
     "name": "stderr",
     "output_type": "stream",
     "text": [
      "Loading required package: repr\n",
      "Loading required package: mlbench\n",
      "Loading required package: caTools\n",
      "Loading required package: glmnet\n",
      "Loading required package: Matrix\n",
      "Loading required package: foreach\n",
      "Loaded glmnet 2.0-18\n",
      "\n",
      "Loading required package: crossval\n"
     ]
    }
   ],
   "source": [
    "#::NOTE::Downsizing to simpler packages\n",
    "#using('tidyverse','caret','glmnet', 'mlbench')\n",
    "# ... repr to fix size of graphics within jupyter noteboook  ...\n",
    "# https://blog.revolutionanalytics.com/2015/09/resizing-plots-in-the-r-kernel-for-jupyter-notebooks.html\n",
    "# ... crossval: Generic Functions for Cross Validation \n",
    "#     Contains generic functions for performing cross validation and for computing diagnostic errors ...\n",
    "# https://cran.r-project.org/web/packages/crossval/\n",
    "# https://cran.r-project.org/web/packages/crossval/crossval.pdf\n",
    "using('repr', 'mlbench', 'caTools', 'glmnet', 'crossval')"
   ]
  },
  {
   "cell_type": "markdown",
   "metadata": {
    "hidden": true
   },
   "source": [
    "**::GMG::** `crossval` package first install output here:\n",
    "\n",
    "```R\n",
    "Loading required package: mlbench\n",
    "Loading required package: caTools\n",
    "Loading required package: glmnet\n",
    "Loading required package: Matrix\n",
    "Loading required package: foreach\n",
    "Loaded glmnet 2.0-18\n",
    "\n",
    "Loading required package: crossval\n",
    "Warning message in library(package, lib.loc = lib.loc, character.only = TRUE, logical.return = TRUE, :\n",
    "“there is no package called ‘crossval’”Installing package into ‘/home/jovyan/R/x86_64-pc-linux-gnu-library/3.6’\n",
    "(as ‘lib’ is unspecified)\n",
    "Loading required package: crossval\n",
    "  1. TRUE\n",
    "```"
   ]
  },
  {
   "cell_type": "markdown",
   "metadata": {
    "hidden": true
   },
   "source": [
    "**::GMG::** `tidyverse` output first install here:\n",
    "\n",
    "```R\n",
    "Loading required package: tidyverse\n",
    "Warning message in library(package, lib.loc = lib.loc, character.only = TRUE, logical.return = TRUE, :\n",
    "“there is no package called ‘tidyverse’”Loading required package: caret\n",
    "Loading required package: lattice\n",
    "Loading required package: ggplot2\n",
    "Loading required package: glmnet\n",
    "Loading required package: Matrix\n",
    "Loading required package: foreach\n",
    "Loaded glmnet 2.0-18\n",
    "\n",
    "Installing package into ‘/home/jovyan/R/x86_64-pc-linux-gnu-library/3.6’\n",
    "(as ‘lib’ is unspecified)\n",
    "also installing the dependencies ‘tinytex’, ‘rmarkdown’, ‘selectr’, ‘broom’, ‘dbplyr’, ‘modelr’, ‘reprex’, ‘rvest’\n",
    "\n",
    "Loading required package: tidyverse\n",
    "── Attaching packages ─────────────────────────────────────── tidyverse 1.2.1 ──\n",
    "✔ tibble  2.1.3     ✔ purrr   0.3.2\n",
    "✔ tidyr   0.8.3     ✔ dplyr   0.8.3\n",
    "✔ readr   1.3.1     ✔ stringr 1.4.0\n",
    "✔ tibble  2.1.3     ✔ forcats 0.4.0\n",
    "── Conflicts ────────────────────────────────────────── tidyverse_conflicts() ──\n",
    "✖ purrr::accumulate() masks foreach::accumulate()\n",
    "✖ tidyr::expand()     masks Matrix::expand()\n",
    "✖ dplyr::filter()     masks stats::filter()\n",
    "✖ dplyr::lag()        masks stats::lag()\n",
    "✖ purrr::lift()       masks caret::lift()\n",
    "✖ purrr::when()       masks foreach::when()\n",
    "                           \n",
    "    1. TRUE\n",
    "``` "
   ]
  },
  {
   "cell_type": "markdown",
   "metadata": {
    "heading_collapsed": true
   },
   "source": [
    "## Dataset"
   ]
  },
  {
   "cell_type": "code",
   "execution_count": 3,
   "metadata": {
    "hidden": true
   },
   "outputs": [],
   "source": [
    "#::GMG::There are two versions in mlbench\n",
    "#::NOTE::2nd version comes with zero outliers as NAs\n",
    "data(PimaIndiansDiabetes2)"
   ]
  },
  {
   "cell_type": "code",
   "execution_count": 4,
   "metadata": {
    "hidden": true
   },
   "outputs": [
    {
     "data": {
      "text/html": [
       "<table>\n",
       "<caption>A data.frame: 6 × 9</caption>\n",
       "<thead>\n",
       "\t<tr><th scope=col>pregnant</th><th scope=col>glucose</th><th scope=col>pressure</th><th scope=col>triceps</th><th scope=col>insulin</th><th scope=col>mass</th><th scope=col>pedigree</th><th scope=col>age</th><th scope=col>diabetes</th></tr>\n",
       "\t<tr><th scope=col>&lt;dbl&gt;</th><th scope=col>&lt;dbl&gt;</th><th scope=col>&lt;dbl&gt;</th><th scope=col>&lt;dbl&gt;</th><th scope=col>&lt;dbl&gt;</th><th scope=col>&lt;dbl&gt;</th><th scope=col>&lt;dbl&gt;</th><th scope=col>&lt;dbl&gt;</th><th scope=col>&lt;fct&gt;</th></tr>\n",
       "</thead>\n",
       "<tbody>\n",
       "\t<tr><td>6</td><td>148</td><td>72</td><td>35</td><td> NA</td><td>33.6</td><td>0.627</td><td>50</td><td>pos</td></tr>\n",
       "\t<tr><td>1</td><td> 85</td><td>66</td><td>29</td><td> NA</td><td>26.6</td><td>0.351</td><td>31</td><td>neg</td></tr>\n",
       "\t<tr><td>8</td><td>183</td><td>64</td><td>NA</td><td> NA</td><td>23.3</td><td>0.672</td><td>32</td><td>pos</td></tr>\n",
       "\t<tr><td>1</td><td> 89</td><td>66</td><td>23</td><td> 94</td><td>28.1</td><td>0.167</td><td>21</td><td>neg</td></tr>\n",
       "\t<tr><td>0</td><td>137</td><td>40</td><td>35</td><td>168</td><td>43.1</td><td>2.288</td><td>33</td><td>pos</td></tr>\n",
       "\t<tr><td>5</td><td>116</td><td>74</td><td>NA</td><td> NA</td><td>25.6</td><td>0.201</td><td>30</td><td>neg</td></tr>\n",
       "</tbody>\n",
       "</table>\n"
      ],
      "text/latex": [
       "A data.frame: 6 × 9\n",
       "\\begin{tabular}{r|lllllllll}\n",
       " pregnant & glucose & pressure & triceps & insulin & mass & pedigree & age & diabetes\\\\\n",
       " <dbl> & <dbl> & <dbl> & <dbl> & <dbl> & <dbl> & <dbl> & <dbl> & <fct>\\\\\n",
       "\\hline\n",
       "\t 6 & 148 & 72 & 35 &  NA & 33.6 & 0.627 & 50 & pos\\\\\n",
       "\t 1 &  85 & 66 & 29 &  NA & 26.6 & 0.351 & 31 & neg\\\\\n",
       "\t 8 & 183 & 64 & NA &  NA & 23.3 & 0.672 & 32 & pos\\\\\n",
       "\t 1 &  89 & 66 & 23 &  94 & 28.1 & 0.167 & 21 & neg\\\\\n",
       "\t 0 & 137 & 40 & 35 & 168 & 43.1 & 2.288 & 33 & pos\\\\\n",
       "\t 5 & 116 & 74 & NA &  NA & 25.6 & 0.201 & 30 & neg\\\\\n",
       "\\end{tabular}\n"
      ],
      "text/markdown": [
       "\n",
       "A data.frame: 6 × 9\n",
       "\n",
       "| pregnant &lt;dbl&gt; | glucose &lt;dbl&gt; | pressure &lt;dbl&gt; | triceps &lt;dbl&gt; | insulin &lt;dbl&gt; | mass &lt;dbl&gt; | pedigree &lt;dbl&gt; | age &lt;dbl&gt; | diabetes &lt;fct&gt; |\n",
       "|---|---|---|---|---|---|---|---|---|\n",
       "| 6 | 148 | 72 | 35 |  NA | 33.6 | 0.627 | 50 | pos |\n",
       "| 1 |  85 | 66 | 29 |  NA | 26.6 | 0.351 | 31 | neg |\n",
       "| 8 | 183 | 64 | NA |  NA | 23.3 | 0.672 | 32 | pos |\n",
       "| 1 |  89 | 66 | 23 |  94 | 28.1 | 0.167 | 21 | neg |\n",
       "| 0 | 137 | 40 | 35 | 168 | 43.1 | 2.288 | 33 | pos |\n",
       "| 5 | 116 | 74 | NA |  NA | 25.6 | 0.201 | 30 | neg |\n",
       "\n"
      ],
      "text/plain": [
       "  pregnant glucose pressure triceps insulin mass pedigree age diabetes\n",
       "1 6        148     72       35       NA     33.6 0.627    50  pos     \n",
       "2 1         85     66       29       NA     26.6 0.351    31  neg     \n",
       "3 8        183     64       NA       NA     23.3 0.672    32  pos     \n",
       "4 1         89     66       23       94     28.1 0.167    21  neg     \n",
       "5 0        137     40       35      168     43.1 2.288    33  pos     \n",
       "6 5        116     74       NA       NA     25.6 0.201    30  neg     "
      ]
     },
     "metadata": {},
     "output_type": "display_data"
    }
   ],
   "source": [
    "head(PimaIndiansDiabetes2)"
   ]
  },
  {
   "cell_type": "markdown",
   "metadata": {
    "heading_collapsed": true
   },
   "source": [
    "## Exploratory Data Analysis"
   ]
  },
  {
   "cell_type": "markdown",
   "metadata": {
    "hidden": true
   },
   "source": [
    "**::GMG::** The goal of this stage of our study is to get to know the data, their flaws and perhaps some clues to improve them."
   ]
  },
  {
   "cell_type": "code",
   "execution_count": 5,
   "metadata": {
    "hidden": true,
    "scrolled": true
   },
   "outputs": [
    {
     "name": "stdout",
     "output_type": "stream",
     "text": [
      "'data.frame':\t768 obs. of  9 variables:\n",
      " $ pregnant: num  6 1 8 1 0 5 3 10 2 8 ...\n",
      " $ glucose : num  148 85 183 89 137 116 78 115 197 125 ...\n",
      " $ pressure: num  72 66 64 66 40 74 50 NA 70 96 ...\n",
      " $ triceps : num  35 29 NA 23 35 NA 32 NA 45 NA ...\n",
      " $ insulin : num  NA NA NA 94 168 NA 88 NA 543 NA ...\n",
      " $ mass    : num  33.6 26.6 23.3 28.1 43.1 25.6 31 35.3 30.5 NA ...\n",
      " $ pedigree: num  0.627 0.351 0.672 0.167 2.288 ...\n",
      " $ age     : num  50 31 32 21 33 30 26 29 53 54 ...\n",
      " $ diabetes: Factor w/ 2 levels \"neg\",\"pos\": 2 1 2 1 2 1 2 1 2 2 ...\n"
     ]
    }
   ],
   "source": [
    "#::GMG::PimaIndiansDiabetes2 (say, v2) has the outliers from \n",
    "#       glucose, pressure, triceps, insulin and mass as NAs\n",
    "str(PimaIndiansDiabetes2)"
   ]
  },
  {
   "cell_type": "code",
   "execution_count": 6,
   "metadata": {
    "hidden": true
   },
   "outputs": [
    {
     "data": {
      "text/plain": [
       "    pregnant         glucose         pressure         triceps     \n",
       " Min.   : 0.000   Min.   : 44.0   Min.   : 24.00   Min.   : 7.00  \n",
       " 1st Qu.: 1.000   1st Qu.: 99.0   1st Qu.: 64.00   1st Qu.:22.00  \n",
       " Median : 3.000   Median :117.0   Median : 72.00   Median :29.00  \n",
       " Mean   : 3.845   Mean   :121.7   Mean   : 72.41   Mean   :29.15  \n",
       " 3rd Qu.: 6.000   3rd Qu.:141.0   3rd Qu.: 80.00   3rd Qu.:36.00  \n",
       " Max.   :17.000   Max.   :199.0   Max.   :122.00   Max.   :99.00  \n",
       "                  NA's   :5       NA's   :35       NA's   :227    \n",
       "    insulin            mass          pedigree           age        diabetes \n",
       " Min.   : 14.00   Min.   :18.20   Min.   :0.0780   Min.   :21.00   neg:500  \n",
       " 1st Qu.: 76.25   1st Qu.:27.50   1st Qu.:0.2437   1st Qu.:24.00   pos:268  \n",
       " Median :125.00   Median :32.30   Median :0.3725   Median :29.00            \n",
       " Mean   :155.55   Mean   :32.46   Mean   :0.4719   Mean   :33.24            \n",
       " 3rd Qu.:190.00   3rd Qu.:36.60   3rd Qu.:0.6262   3rd Qu.:41.00            \n",
       " Max.   :846.00   Max.   :67.10   Max.   :2.4200   Max.   :81.00            \n",
       " NA's   :374      NA's   :11                                                "
      ]
     },
     "metadata": {},
     "output_type": "display_data"
    }
   ],
   "source": [
    "#::GMG::NA counts yield the outliers (!)\n",
    "summary(PimaIndiansDiabetes2)"
   ]
  },
  {
   "cell_type": "code",
   "execution_count": 7,
   "metadata": {
    "hidden": true,
    "scrolled": false
   },
   "outputs": [
    {
     "data": {
      "text/html": [
       "<dl class=dl-horizontal>\n",
       "\t<dt>pregnant</dt>\n",
       "\t\t<dd>0</dd>\n",
       "\t<dt>glucose</dt>\n",
       "\t\t<dd>5</dd>\n",
       "\t<dt>pressure</dt>\n",
       "\t\t<dd>35</dd>\n",
       "\t<dt>triceps</dt>\n",
       "\t\t<dd>227</dd>\n",
       "\t<dt>insulin</dt>\n",
       "\t\t<dd>374</dd>\n",
       "\t<dt>mass</dt>\n",
       "\t\t<dd>11</dd>\n",
       "\t<dt>pedigree</dt>\n",
       "\t\t<dd>0</dd>\n",
       "\t<dt>age</dt>\n",
       "\t\t<dd>0</dd>\n",
       "\t<dt>diabetes</dt>\n",
       "\t\t<dd>0</dd>\n",
       "</dl>\n"
      ],
      "text/latex": [
       "\\begin{description*}\n",
       "\\item[pregnant] 0\n",
       "\\item[glucose] 5\n",
       "\\item[pressure] 35\n",
       "\\item[triceps] 227\n",
       "\\item[insulin] 374\n",
       "\\item[mass] 11\n",
       "\\item[pedigree] 0\n",
       "\\item[age] 0\n",
       "\\item[diabetes] 0\n",
       "\\end{description*}\n"
      ],
      "text/markdown": [
       "pregnant\n",
       ":   0glucose\n",
       ":   5pressure\n",
       ":   35triceps\n",
       ":   227insulin\n",
       ":   374mass\n",
       ":   11pedigree\n",
       ":   0age\n",
       ":   0diabetes\n",
       ":   0\n",
       "\n"
      ],
      "text/plain": [
       "pregnant  glucose pressure  triceps  insulin     mass pedigree      age \n",
       "       0        5       35      227      374       11        0        0 \n",
       "diabetes \n",
       "       0 "
      ]
     },
     "metadata": {},
     "output_type": "display_data"
    }
   ],
   "source": [
    "#::GMG::Check for missing values ... I know they are marked witn 'NA' in mlbench 2nd dataset\n",
    "sapply(PimaIndiansDiabetes2, function(x) sum(is.na(x)))"
   ]
  },
  {
   "cell_type": "code",
   "execution_count": 8,
   "metadata": {
    "hidden": true
   },
   "outputs": [
    {
     "data": {
      "text/plain": [
       "\n",
       "neg pos \n",
       "500 268 "
      ]
     },
     "metadata": {},
     "output_type": "display_data"
    }
   ],
   "source": [
    "#::GMG::Now I test the imbalance of the dataset\n",
    "# http://metadatascience.com/2013/07/03/plotting-the-frequency-distribution-using-r/\n",
    "table(PimaIndiansDiabetes2$diabetes)"
   ]
  },
  {
   "cell_type": "code",
   "execution_count": 9,
   "metadata": {
    "hidden": true
   },
   "outputs": [
    {
     "data": {
      "text/plain": [
       "\n",
       "      neg       pos \n",
       "0.6510417 0.3489583 "
      ]
     },
     "metadata": {},
     "output_type": "display_data"
    }
   ],
   "source": [
    "prop.table(table(PimaIndiansDiabetes2$diabetes))"
   ]
  },
  {
   "cell_type": "code",
   "execution_count": 10,
   "metadata": {
    "hidden": true,
    "scrolled": true
   },
   "outputs": [
    {
     "data": {
      "image/png": "[encoded data removed]",
      "text/plain": [
       "Plot with title “Outcome Imbalance”"
      ]
     },
     "metadata": {},
     "output_type": "display_data"
    }
   ],
   "source": [
    "#::GMG::Plot the imbalance\n",
    "# https://www.statmethods.net/advgraphs/parameters.html\n",
    "# http://www.programmingr.com/content/positioning-charts-fig-and-fin/\n",
    "#::NOTE::I don't know how to make the fig smaller and the margins tight (!?)\n",
    "# https://blog.revolutionanalytics.com/2015/09/resizing-plots-in-the-r-kernel-for-jupyter-notebooks.html\n",
    "options(repr.plot.width=4, repr.plot.height=3)\n",
    "barplot(100*prop.table(table(PimaIndiansDiabetes2$diabetes)), \n",
    "        col = c('blue', 'red'),\n",
    "        ylim = c(0,70),\n",
    "        main = 'Outcome Imbalance')"
   ]
  },
  {
   "cell_type": "markdown",
   "metadata": {
    "heading_collapsed": true
   },
   "source": [
    "## Preparing the data"
   ]
  },
  {
   "cell_type": "code",
   "execution_count": 11,
   "metadata": {
    "hidden": true
   },
   "outputs": [],
   "source": [
    "# Load the data and remove NAs\n",
    "#::NOTE::I've already attached that dataset earlier\n",
    "#data(\"PimaIndiansDiabetes2\", package = \"mlbench\")\n",
    "# https://www.rdocumentation.org/packages/data.table/versions/1.12.2/topics/na.omit.data.table\n",
    "# https://www.statmethods.net/input/missingdata.html\n",
    "pima_clean <- na.omit(PimaIndiansDiabetes2)"
   ]
  },
  {
   "cell_type": "code",
   "execution_count": 12,
   "metadata": {
    "hidden": true
   },
   "outputs": [
    {
     "data": {
      "text/html": [
       "<dl class=dl-horizontal>\n",
       "\t<dt>pregnant</dt>\n",
       "\t\t<dd>0</dd>\n",
       "\t<dt>glucose</dt>\n",
       "\t\t<dd>0</dd>\n",
       "\t<dt>pressure</dt>\n",
       "\t\t<dd>0</dd>\n",
       "\t<dt>triceps</dt>\n",
       "\t\t<dd>0</dd>\n",
       "\t<dt>insulin</dt>\n",
       "\t\t<dd>0</dd>\n",
       "\t<dt>mass</dt>\n",
       "\t\t<dd>0</dd>\n",
       "\t<dt>pedigree</dt>\n",
       "\t\t<dd>0</dd>\n",
       "\t<dt>age</dt>\n",
       "\t\t<dd>0</dd>\n",
       "\t<dt>diabetes</dt>\n",
       "\t\t<dd>0</dd>\n",
       "</dl>\n"
      ],
      "text/latex": [
       "\\begin{description*}\n",
       "\\item[pregnant] 0\n",
       "\\item[glucose] 0\n",
       "\\item[pressure] 0\n",
       "\\item[triceps] 0\n",
       "\\item[insulin] 0\n",
       "\\item[mass] 0\n",
       "\\item[pedigree] 0\n",
       "\\item[age] 0\n",
       "\\item[diabetes] 0\n",
       "\\end{description*}\n"
      ],
      "text/markdown": [
       "pregnant\n",
       ":   0glucose\n",
       ":   0pressure\n",
       ":   0triceps\n",
       ":   0insulin\n",
       ":   0mass\n",
       ":   0pedigree\n",
       ":   0age\n",
       ":   0diabetes\n",
       ":   0\n",
       "\n"
      ],
      "text/plain": [
       "pregnant  glucose pressure  triceps  insulin     mass pedigree      age \n",
       "       0        0        0        0        0        0        0        0 \n",
       "diabetes \n",
       "       0 "
      ]
     },
     "metadata": {},
     "output_type": "display_data"
    }
   ],
   "source": [
    "#::GMG::Check for missing values ... No NAs after cleaning with na.omit()\n",
    "sapply(pima_clean, function(x) sum(is.na(x)))"
   ]
  },
  {
   "cell_type": "code",
   "execution_count": 13,
   "metadata": {
    "hidden": true
   },
   "outputs": [
    {
     "data": {
      "text/html": [
       "<table>\n",
       "<caption>A data.frame: 6 × 9</caption>\n",
       "<thead>\n",
       "\t<tr><th></th><th scope=col>pregnant</th><th scope=col>glucose</th><th scope=col>pressure</th><th scope=col>triceps</th><th scope=col>insulin</th><th scope=col>mass</th><th scope=col>pedigree</th><th scope=col>age</th><th scope=col>diabetes</th></tr>\n",
       "\t<tr><th></th><th scope=col>&lt;dbl&gt;</th><th scope=col>&lt;dbl&gt;</th><th scope=col>&lt;dbl&gt;</th><th scope=col>&lt;dbl&gt;</th><th scope=col>&lt;dbl&gt;</th><th scope=col>&lt;dbl&gt;</th><th scope=col>&lt;dbl&gt;</th><th scope=col>&lt;dbl&gt;</th><th scope=col>&lt;fct&gt;</th></tr>\n",
       "</thead>\n",
       "<tbody>\n",
       "\t<tr><th scope=row>4</th><td>1</td><td> 89</td><td>66</td><td>23</td><td> 94</td><td>28.1</td><td>0.167</td><td>21</td><td>neg</td></tr>\n",
       "\t<tr><th scope=row>5</th><td>0</td><td>137</td><td>40</td><td>35</td><td>168</td><td>43.1</td><td>2.288</td><td>33</td><td>pos</td></tr>\n",
       "\t<tr><th scope=row>7</th><td>3</td><td> 78</td><td>50</td><td>32</td><td> 88</td><td>31.0</td><td>0.248</td><td>26</td><td>pos</td></tr>\n",
       "\t<tr><th scope=row>9</th><td>2</td><td>197</td><td>70</td><td>45</td><td>543</td><td>30.5</td><td>0.158</td><td>53</td><td>pos</td></tr>\n",
       "\t<tr><th scope=row>14</th><td>1</td><td>189</td><td>60</td><td>23</td><td>846</td><td>30.1</td><td>0.398</td><td>59</td><td>pos</td></tr>\n",
       "\t<tr><th scope=row>15</th><td>5</td><td>166</td><td>72</td><td>19</td><td>175</td><td>25.8</td><td>0.587</td><td>51</td><td>pos</td></tr>\n",
       "</tbody>\n",
       "</table>\n"
      ],
      "text/latex": [
       "A data.frame: 6 × 9\n",
       "\\begin{tabular}{r|lllllllll}\n",
       "  & pregnant & glucose & pressure & triceps & insulin & mass & pedigree & age & diabetes\\\\\n",
       "  & <dbl> & <dbl> & <dbl> & <dbl> & <dbl> & <dbl> & <dbl> & <dbl> & <fct>\\\\\n",
       "\\hline\n",
       "\t4 & 1 &  89 & 66 & 23 &  94 & 28.1 & 0.167 & 21 & neg\\\\\n",
       "\t5 & 0 & 137 & 40 & 35 & 168 & 43.1 & 2.288 & 33 & pos\\\\\n",
       "\t7 & 3 &  78 & 50 & 32 &  88 & 31.0 & 0.248 & 26 & pos\\\\\n",
       "\t9 & 2 & 197 & 70 & 45 & 543 & 30.5 & 0.158 & 53 & pos\\\\\n",
       "\t14 & 1 & 189 & 60 & 23 & 846 & 30.1 & 0.398 & 59 & pos\\\\\n",
       "\t15 & 5 & 166 & 72 & 19 & 175 & 25.8 & 0.587 & 51 & pos\\\\\n",
       "\\end{tabular}\n"
      ],
      "text/markdown": [
       "\n",
       "A data.frame: 6 × 9\n",
       "\n",
       "| <!--/--> | pregnant &lt;dbl&gt; | glucose &lt;dbl&gt; | pressure &lt;dbl&gt; | triceps &lt;dbl&gt; | insulin &lt;dbl&gt; | mass &lt;dbl&gt; | pedigree &lt;dbl&gt; | age &lt;dbl&gt; | diabetes &lt;fct&gt; |\n",
       "|---|---|---|---|---|---|---|---|---|---|\n",
       "| 4 | 1 |  89 | 66 | 23 |  94 | 28.1 | 0.167 | 21 | neg |\n",
       "| 5 | 0 | 137 | 40 | 35 | 168 | 43.1 | 2.288 | 33 | pos |\n",
       "| 7 | 3 |  78 | 50 | 32 |  88 | 31.0 | 0.248 | 26 | pos |\n",
       "| 9 | 2 | 197 | 70 | 45 | 543 | 30.5 | 0.158 | 53 | pos |\n",
       "| 14 | 1 | 189 | 60 | 23 | 846 | 30.1 | 0.398 | 59 | pos |\n",
       "| 15 | 5 | 166 | 72 | 19 | 175 | 25.8 | 0.587 | 51 | pos |\n",
       "\n"
      ],
      "text/plain": [
       "   pregnant glucose pressure triceps insulin mass pedigree age diabetes\n",
       "4  1         89     66       23       94     28.1 0.167    21  neg     \n",
       "5  0        137     40       35      168     43.1 2.288    33  pos     \n",
       "7  3         78     50       32       88     31.0 0.248    26  pos     \n",
       "9  2        197     70       45      543     30.5 0.158    53  pos     \n",
       "14 1        189     60       23      846     30.1 0.398    59  pos     \n",
       "15 5        166     72       19      175     25.8 0.587    51  pos     "
      ]
     },
     "metadata": {},
     "output_type": "display_data"
    }
   ],
   "source": [
    "# Inspect the data\n",
    "# https://dplyr.tidyverse.org/reference/sample.html\n",
    "#dplyr::sample_n(pima_clean, 3)\n",
    "#::NOTE::Downsize use of tidyverse to R core functions\n",
    "# https://www.rdocumentation.org/packages/utils/versions/3.6.1/topics/head\n",
    "utils::head(pima_clean)"
   ]
  },
  {
   "cell_type": "code",
   "execution_count": 14,
   "metadata": {
    "hidden": true
   },
   "outputs": [
    {
     "name": "stdout",
     "output_type": "stream",
     "text": [
      "'data.frame':\t392 obs. of  9 variables:\n",
      " $ pregnant: num  1 0 3 2 1 5 0 1 1 3 ...\n",
      " $ glucose : num  89 137 78 197 189 166 118 103 115 126 ...\n",
      " $ pressure: num  66 40 50 70 60 72 84 30 70 88 ...\n",
      " $ triceps : num  23 35 32 45 23 19 47 38 30 41 ...\n",
      " $ insulin : num  94 168 88 543 846 175 230 83 96 235 ...\n",
      " $ mass    : num  28.1 43.1 31 30.5 30.1 25.8 45.8 43.3 34.6 39.3 ...\n",
      " $ pedigree: num  0.167 2.288 0.248 0.158 0.398 ...\n",
      " $ age     : num  21 33 26 53 59 51 31 33 32 27 ...\n",
      " $ diabetes: Factor w/ 2 levels \"neg\",\"pos\": 1 2 2 2 2 2 2 1 2 1 ...\n",
      " - attr(*, \"na.action\")= 'omit' Named int  1 2 3 6 8 10 11 12 13 16 ...\n",
      "  ..- attr(*, \"names\")= chr  \"1\" \"2\" \"3\" \"6\" ...\n"
     ]
    }
   ],
   "source": [
    "#::NOTE::Originally 768 Observations!!\n",
    "str(pima_clean)"
   ]
  },
  {
   "cell_type": "code",
   "execution_count": 15,
   "metadata": {
    "hidden": true
   },
   "outputs": [],
   "source": [
    "#::NOTE::Make it reproducible\n",
    "set.seed(123)"
   ]
  },
  {
   "cell_type": "code",
   "execution_count": 16,
   "metadata": {
    "hidden": true
   },
   "outputs": [],
   "source": [
    "# Split the data into training and test set\n",
    "#::NOTE::using caret to do the stratified split and dplyr %>% notation\n",
    "# https://topepo.github.io/caret/data-splitting.html\n",
    "# https://github.com/tidyverse/dplyr\n",
    "#training_samples <- pima_clean$diabetes %>% \n",
    "#  caret::createDataPartition(p = 0.8, list = FALSE)\n",
    "#::NOTE::downsizing to caTools\n",
    "msk <- caTools::sample.split(Y = pima_clean$diabetes, SplitRatio = 0.8)"
   ]
  },
  {
   "cell_type": "code",
   "execution_count": 17,
   "metadata": {
    "hidden": true
   },
   "outputs": [],
   "source": [
    "#::NOTE::Do the actual split with the indices just computed\n",
    "#train_data  <- pima_clean[training_samples, ]\n",
    "#test_data <- pima_clean[-training_samples, ]\n",
    "#::NOTE::downsizing to caTools\n",
    "train_data <- pima_clean[msk,]  # use output of sample.split to ...\n",
    "test_data  <- pima_clean[!msk,] # create train and test subse"
   ]
  },
  {
   "cell_type": "code",
   "execution_count": 18,
   "metadata": {
    "hidden": true
   },
   "outputs": [
    {
     "name": "stdout",
     "output_type": "stream",
     "text": [
      "'data.frame':\t314 obs. of  9 variables:\n",
      " $ pregnant: num  1 0 2 1 5 0 1 1 3 11 ...\n",
      " $ glucose : num  89 137 197 189 166 118 103 115 126 143 ...\n",
      " $ pressure: num  66 40 70 60 72 84 30 70 88 94 ...\n",
      " $ triceps : num  23 35 45 23 19 47 38 30 41 33 ...\n",
      " $ insulin : num  94 168 543 846 175 230 83 96 235 146 ...\n",
      " $ mass    : num  28.1 43.1 30.5 30.1 25.8 45.8 43.3 34.6 39.3 36.6 ...\n",
      " $ pedigree: num  0.167 2.288 0.158 0.398 0.587 ...\n",
      " $ age     : num  21 33 53 59 51 31 33 32 27 51 ...\n",
      " $ diabetes: Factor w/ 2 levels \"neg\",\"pos\": 1 2 2 2 2 2 1 2 1 2 ...\n",
      " - attr(*, \"na.action\")= 'omit' Named int  1 2 3 6 8 10 11 12 13 16 ...\n",
      "  ..- attr(*, \"names\")= chr  \"1\" \"2\" \"3\" \"6\" ...\n"
     ]
    }
   ],
   "source": [
    "#::NOTE::See the split datasets\n",
    "str(train_data)"
   ]
  },
  {
   "cell_type": "code",
   "execution_count": 19,
   "metadata": {
    "hidden": true
   },
   "outputs": [
    {
     "name": "stdout",
     "output_type": "stream",
     "text": [
      "'data.frame':\t78 obs. of  9 variables:\n",
      " $ pregnant: num  3 10 1 13 3 5 1 2 7 2 ...\n",
      " $ glucose : num  78 125 97 145 180 88 95 100 83 110 ...\n",
      " $ pressure: num  50 70 66 82 64 66 66 66 78 74 ...\n",
      " $ triceps : num  32 26 15 19 25 21 13 20 26 29 ...\n",
      " $ insulin : num  88 115 140 110 70 23 38 90 71 125 ...\n",
      " $ mass    : num  31 31.1 23.2 22.2 34 24.4 19.6 32.9 29.3 32.4 ...\n",
      " $ pedigree: num  0.248 0.205 0.487 0.245 0.271 0.342 0.334 0.867 0.767 0.698 ...\n",
      " $ age     : num  26 41 22 57 26 30 25 28 36 27 ...\n",
      " $ diabetes: Factor w/ 2 levels \"neg\",\"pos\": 2 2 1 1 1 1 1 2 1 1 ...\n",
      " - attr(*, \"na.action\")= 'omit' Named int  1 2 3 6 8 10 11 12 13 16 ...\n",
      "  ..- attr(*, \"names\")= chr  \"1\" \"2\" \"3\" \"6\" ...\n"
     ]
    }
   ],
   "source": [
    "str(test_data)"
   ]
  },
  {
   "cell_type": "code",
   "execution_count": 20,
   "metadata": {
    "hidden": true
   },
   "outputs": [],
   "source": [
    "#::NOTE::The R function model.matrix() helps to create the matrix of predictors and also automatically \n",
    "#        converts categorical predictors to appropriate dummy variables, which is required for the glmnet() \n",
    "#        function.\n",
    "# https://www.rdocumentation.org/packages/stats/versions/3.6.1/topics/model.matrix\n",
    "# Dumy code categorical predictor variables\n",
    "X_train <- stats::model.matrix(diabetes~., train_data)[,-1]"
   ]
  },
  {
   "cell_type": "code",
   "execution_count": 21,
   "metadata": {
    "hidden": true
   },
   "outputs": [],
   "source": [
    "# Convert the outcome (class) to a numerical variable\n",
    "y_train <- ifelse(train_data$diabetes == \"pos\", 1, 0)"
   ]
  },
  {
   "cell_type": "code",
   "execution_count": 22,
   "metadata": {
    "hidden": true
   },
   "outputs": [
    {
     "name": "stdout",
     "output_type": "stream",
     "text": [
      " num [1:314, 1:8] 1 0 2 1 5 0 1 1 3 11 ...\n",
      " - attr(*, \"dimnames\")=List of 2\n",
      "  ..$ : chr [1:314] \"4\" \"5\" \"9\" \"14\" ...\n",
      "  ..$ : chr [1:8] \"pregnant\" \"glucose\" \"pressure\" \"triceps\" ...\n"
     ]
    }
   ],
   "source": [
    "#::NOTE::Check the results (a named 2D matrix of features)\n",
    "str(X_train)"
   ]
  },
  {
   "cell_type": "code",
   "execution_count": 23,
   "metadata": {
    "hidden": true
   },
   "outputs": [
    {
     "name": "stdout",
     "output_type": "stream",
     "text": [
      " num [1:314] 0 1 1 1 1 1 0 1 0 1 ...\n"
     ]
    }
   ],
   "source": [
    "#::NOTE::Check the results (a numeric 1/0 vector)\n",
    "str(y_train)"
   ]
  },
  {
   "cell_type": "markdown",
   "metadata": {},
   "source": [
    "## LASSO"
   ]
  },
  {
   "cell_type": "markdown",
   "metadata": {},
   "source": [
    "### computing cv for lambda"
   ]
  },
  {
   "cell_type": "code",
   "execution_count": 24,
   "metadata": {},
   "outputs": [],
   "source": [
    "#::NOTE::Make it reproducible\n",
    "set.seed(123) "
   ]
  },
  {
   "cell_type": "code",
   "execution_count": 25,
   "metadata": {},
   "outputs": [],
   "source": [
    "#::NOTE::In penalized regression, you need to specify a constant lambda to adjust the amount of \n",
    "#        the coefficient shrinkage. The best lambda for your data, can be defined as the lambda \n",
    "#        that minimize the cross-validation prediction error rate. This can be determined automatically \n",
    "#        using the function cv.glmnet()\n",
    "# https://www.rdocumentation.org/packages/glmnet/versions/2.0-18/topics/cv.glmnet\n",
    "#::NOTE::compute lasso regression by specifying the option alpha = 1\n",
    "# Find the optimal value of lambda that minimizes the cross-validation error:\n",
    "cv_lasso <- glmnet::cv.glmnet(x = X_train, \n",
    "                              y = y_train, \n",
    "                              alpha = 1,\n",
    "                              type.measure = 'class', #::NOTE::misclassification error\n",
    "                              family = 'binomial')"
   ]
  },
  {
   "cell_type": "code",
   "execution_count": 27,
   "metadata": {},
   "outputs": [
    {
     "data": {
      "image/png": "[encoded data removed]",
      "text/plain": [
       "plot without title"
      ]
     },
     "metadata": {},
     "output_type": "display_data"
    }
   ],
   "source": [
    "#::NOTE::See graphically the best lambda\n",
    "options(repr.plot.width = 8, repr.plot.height = 6)\n",
    "plot(cv_lasso)"
   ]
  },
  {
   "cell_type": "markdown",
   "metadata": {},
   "source": [
    "The plot displays the cross-validation *misclassification error* according to the log of lambda. The *left dashed vertical line* indicates that the log of the optimal value of lambda `lambda.min` is approximately -3, which is the one that minimizes the prediction error. This lambda value will give the most accurate model. The exact value of lambda can be viewed as follow:"
   ]
  },
  {
   "cell_type": "code",
   "execution_count": 28,
   "metadata": {},
   "outputs": [
    {
     "name": "stdout",
     "output_type": "stream",
     "text": [
      "Optimum lambda:  0.04433472"
     ]
    }
   ],
   "source": [
    "cat('Optimum lambda: ', cv_lasso$lambda.min)"
   ]
  },
  {
   "cell_type": "markdown",
   "metadata": {},
   "source": [
    "Generally, the purpose of regularization is to balance accuracy and simplicity. This means, a model with the smallest number of predictors that also gives a good accuracy. To this end, the function `cv.glmnet()` finds also the value of lambda that gives the simplest model but also lies within one standard error of the optimal value of lambda. This value is called `lambda.1se`."
   ]
  },
  {
   "cell_type": "code",
   "execution_count": 29,
   "metadata": {},
   "outputs": [
    {
     "name": "stdout",
     "output_type": "stream",
     "text": [
      "Simplest model within one se of lambda optimum:  0.07747618"
     ]
    }
   ],
   "source": [
    "cat('Simplest model within one se of lambda optimum: ', cv_lasso$lambda.1se)"
   ]
  },
  {
   "cell_type": "markdown",
   "metadata": {},
   "source": [
    "Using lambda.min as the best lambda, gives the following regression coefficients:"
   ]
  },
  {
   "cell_type": "code",
   "execution_count": 30,
   "metadata": {},
   "outputs": [
    {
     "data": {
      "text/plain": [
       "9 x 1 sparse Matrix of class \"dgCMatrix\"\n",
       "                      1\n",
       "(Intercept) -7.27963837\n",
       "pregnant     .         \n",
       "glucose      0.02971456\n",
       "pressure     .         \n",
       "triceps      .         \n",
       "insulin      .         \n",
       "mass         0.03283818\n",
       "pedigree     0.19088139\n",
       "age          0.05046321"
      ]
     },
     "metadata": {},
     "output_type": "display_data"
    }
   ],
   "source": [
    "# https://www.rdocumentation.org/packages/stats/versions/3.6.1/topics/coef (?)\n",
    "stats::coef(cv_lasso, cv_lasso$lambda.min)"
   ]
  },
  {
   "cell_type": "code",
   "execution_count": 31,
   "metadata": {},
   "outputs": [
    {
     "data": {
      "text/plain": [
       "9 x 1 sparse Matrix of class \"dgCMatrix\"\n",
       "                      1\n",
       "(Intercept) -7.27963837\n",
       "pregnant     .         \n",
       "glucose      0.02971456\n",
       "pressure     .         \n",
       "triceps      .         \n",
       "insulin      .         \n",
       "mass         0.03283818\n",
       "pedigree     0.19088139\n",
       "age          0.05046321"
      ]
     },
     "metadata": {},
     "output_type": "display_data"
    }
   ],
   "source": [
    "#::NOTE:the \"native\" glmnet packaage coef() (same result)\n",
    "glmnet::coef.cv.glmnet(cv_lasso, cv_lasso$lambda.min)"
   ]
  },
  {
   "cell_type": "markdown",
   "metadata": {},
   "source": [
    "Using `lambda.1se` as the best lambda, gives the following regression coefficients:"
   ]
  },
  {
   "cell_type": "code",
   "execution_count": 32,
   "metadata": {},
   "outputs": [
    {
     "data": {
      "text/plain": [
       "9 x 1 sparse Matrix of class \"dgCMatrix\"\n",
       "                       1\n",
       "(Intercept) -5.258398520\n",
       "pregnant     .          \n",
       "glucose      0.024781813\n",
       "pressure     .          \n",
       "triceps      .          \n",
       "insulin      .          \n",
       "mass         0.009478224\n",
       "pedigree     .          \n",
       "age          0.035000550"
      ]
     },
     "metadata": {},
     "output_type": "display_data"
    }
   ],
   "source": [
    "coef(cv_lasso, cv_lasso$lambda.1se)"
   ]
  },
  {
   "cell_type": "markdown",
   "metadata": {},
   "source": [
    "**::PENDING::** <span style=\"color:red\">Discussion here</span>"
   ]
  },
  {
   "cell_type": "code",
   "execution_count": 35,
   "metadata": {},
   "outputs": [
    {
     "data": {
      "image/png": "[encoded data removed]",
      "text/plain": [
       "plot without title"
      ]
     },
     "metadata": {},
     "output_type": "display_data"
    }
   ],
   "source": [
    "#::GMG::Plot the shrinkageof the coefficients\n",
    "# https://stackoverflow.com/questions/36656752/plotting-cv-glmnet-in-r~\n",
    "#::NOTE::How do I put the feature names on that plot?\n",
    "# https://stats.stackexchange.com/questions/133873/lasso-plot-label-lines-with-names-using-glmnet\n",
    "# https://www.rdocumentation.org/packages/glmnet/versions/2.0-18/topics/plot.glmnet\n",
    "options(repr.plot.width = 8, repr.plot.height = 6)\n",
    "plot(cv_lasso$glmnet.fit, \"lambda\")"
   ]
  },
  {
   "cell_type": "markdown",
   "metadata": {
    "heading_collapsed": true
   },
   "source": [
    "### computing final model with best lambda"
   ]
  },
  {
   "cell_type": "code",
   "execution_count": 32,
   "metadata": {
    "hidden": true
   },
   "outputs": [],
   "source": [
    "# Fit the final model on the training data and lambda.min\n",
    "model_lambda_min <- glmnet(\n",
    "    X_train, \n",
    "    y_train, \n",
    "    alpha = 1, \n",
    "    family = \"binomial\",\n",
    "    lambda = cv_lasso$lambda.min\n",
    ")"
   ]
  },
  {
   "cell_type": "code",
   "execution_count": 33,
   "metadata": {
    "hidden": true
   },
   "outputs": [
    {
     "data": {
      "text/plain": [
       "9 x 1 sparse Matrix of class \"dgCMatrix\"\n",
       "                       s0\n",
       "(Intercept) -9.5834885138\n",
       "pregnant     0.0799808517\n",
       "glucose      0.0348646613\n",
       "pressure     .           \n",
       "triceps      0.0118672779\n",
       "insulin      0.0003826888\n",
       "mass         0.0697657308\n",
       "pedigree     1.0828217871\n",
       "age          0.0263599979"
      ]
     },
     "metadata": {},
     "output_type": "display_data"
    }
   ],
   "source": [
    "# Display regression coefficients\n",
    "coef(model_lambda_min)"
   ]
  },
  {
   "cell_type": "code",
   "execution_count": 34,
   "metadata": {
    "hidden": true
   },
   "outputs": [],
   "source": [
    "# Make predictions on the test data\n",
    "X_test <- model.matrix(diabetes ~., test_data)[,-1]\n",
    "probabilities <- model_lambda_min %>% predict(newx = X_test)\n",
    "predicted_classes <- ifelse(probabilities > 0.5, \"pos\", \"neg\")"
   ]
  },
  {
   "cell_type": "code",
   "execution_count": 35,
   "metadata": {
    "hidden": true
   },
   "outputs": [
    {
     "name": "stdout",
     "output_type": "stream",
     "text": [
      "Accuracy Model lambda_min:  0.7564103"
     ]
    }
   ],
   "source": [
    "# Model accuracy\n",
    "observed_classes <- test_data$diabetes\n",
    "cat('Accuracy Model lambda_min: ', mean(predicted_classes == observed_classes))"
   ]
  },
  {
   "cell_type": "code",
   "execution_count": 36,
   "metadata": {
    "hidden": true
   },
   "outputs": [],
   "source": [
    "# Final model with lambda.1se\n",
    "model_lambda_1se <- glmnet(\n",
    "    X_train, \n",
    "    y_train, \n",
    "    alpha = 1, \n",
    "    family = \"binomial\",\n",
    "    lambda = cv_lasso$lambda.1se\n",
    ")"
   ]
  },
  {
   "cell_type": "code",
   "execution_count": 37,
   "metadata": {
    "hidden": true
   },
   "outputs": [
    {
     "data": {
      "text/plain": [
       "9 x 1 sparse Matrix of class \"dgCMatrix\"\n",
       "                      s0\n",
       "(Intercept) -6.154133389\n",
       "pregnant     0.005400720\n",
       "glucose      0.026895928\n",
       "pressure     .          \n",
       "triceps      0.003506442\n",
       "insulin      .          \n",
       "mass         0.033645833\n",
       "pedigree     0.219787112\n",
       "age          0.022427147"
      ]
     },
     "metadata": {},
     "output_type": "display_data"
    }
   ],
   "source": [
    "# Display regression coefficients\n",
    "coef(model_lambda_1se)"
   ]
  },
  {
   "cell_type": "code",
   "execution_count": 38,
   "metadata": {
    "hidden": true
   },
   "outputs": [],
   "source": [
    "# Make prediction on test data\n",
    "#X_test <- model.matrix(diabetes ~., test_data)[,-1]\n",
    "probabilities_1se <- model_lambda_1se %>% predict(newx = X_test)\n",
    "predicted_classes_1se <- ifelse(probabilities_1se > 0.5, \"pos\", \"neg\")"
   ]
  },
  {
   "cell_type": "code",
   "execution_count": 39,
   "metadata": {
    "hidden": true
   },
   "outputs": [
    {
     "name": "stdout",
     "output_type": "stream",
     "text": [
      "Accuracy Model lambda_1se:  0.7820513"
     ]
    }
   ],
   "source": [
    "# Model accuracy rate\n",
    "#observed_classes <- test_data$diabetes\n",
    "cat('Accuracy Model lambda_1se: ', mean(predicted_classes_1se == observed_classes))"
   ]
  },
  {
   "cell_type": "markdown",
   "metadata": {
    "hidden": true
   },
   "source": [
    "**::NOTE::** In the original article the simplified model yields *worse* accuracy. Here I get **better** accuracy (**?**)\n",
    "\n",
    "**::GMG::** I'll compare the accuracy obtained with lasso regression against the one obtained using the full logistic regression model (including all predictors)."
   ]
  },
  {
   "cell_type": "markdown",
   "metadata": {
    "heading_collapsed": true
   },
   "source": [
    "## compute the full logistic model"
   ]
  },
  {
   "cell_type": "code",
   "execution_count": 40,
   "metadata": {
    "hidden": true
   },
   "outputs": [],
   "source": [
    "# Fit the model\n",
    "full_model <- glm(formula = diabetes ~., \n",
    "                  data = train_data, \n",
    "                  family = \"binomial\")"
   ]
  },
  {
   "cell_type": "code",
   "execution_count": 41,
   "metadata": {
    "hidden": true
   },
   "outputs": [
    {
     "data": {
      "text/html": [
       "<dl class=dl-horizontal>\n",
       "\t<dt>(Intercept)</dt>\n",
       "\t\t<dd>-10.5340032606064</dd>\n",
       "\t<dt>pregnant</dt>\n",
       "\t\t<dd>0.100503052584995</dd>\n",
       "\t<dt>glucose</dt>\n",
       "\t\t<dd>0.0370962114561298</dd>\n",
       "\t<dt>pressure</dt>\n",
       "\t\t<dd>-0.000387593282861679</dd>\n",
       "\t<dt>triceps</dt>\n",
       "\t\t<dd>0.0141777113857399</dd>\n",
       "\t<dt>insulin</dt>\n",
       "\t\t<dd>0.000593987604643327</dd>\n",
       "\t<dt>mass</dt>\n",
       "\t\t<dd>0.0799744725886534</dd>\n",
       "\t<dt>pedigree</dt>\n",
       "\t\t<dd>1.32914921921196</dd>\n",
       "\t<dt>age</dt>\n",
       "\t\t<dd>0.0271822429856711</dd>\n",
       "</dl>\n"
      ],
      "text/latex": [
       "\\begin{description*}\n",
       "\\item[(Intercept)] -10.5340032606064\n",
       "\\item[pregnant] 0.100503052584995\n",
       "\\item[glucose] 0.0370962114561298\n",
       "\\item[pressure] -0.000387593282861679\n",
       "\\item[triceps] 0.0141777113857399\n",
       "\\item[insulin] 0.000593987604643327\n",
       "\\item[mass] 0.0799744725886534\n",
       "\\item[pedigree] 1.32914921921196\n",
       "\\item[age] 0.0271822429856711\n",
       "\\end{description*}\n"
      ],
      "text/markdown": [
       "(Intercept)\n",
       ":   -10.5340032606064pregnant\n",
       ":   0.100503052584995glucose\n",
       ":   0.0370962114561298pressure\n",
       ":   -0.000387593282861679triceps\n",
       ":   0.0141777113857399insulin\n",
       ":   0.000593987604643327mass\n",
       ":   0.0799744725886534pedigree\n",
       ":   1.32914921921196age\n",
       ":   0.0271822429856711\n",
       "\n"
      ],
      "text/plain": [
       "  (Intercept)      pregnant       glucose      pressure       triceps \n",
       "-1.053400e+01  1.005031e-01  3.709621e-02 -3.875933e-04  1.417771e-02 \n",
       "      insulin          mass      pedigree           age \n",
       " 5.939876e-04  7.997447e-02  1.329149e+00  2.718224e-02 "
      ]
     },
     "metadata": {},
     "output_type": "display_data"
    }
   ],
   "source": [
    "# Display regression coefficients\n",
    "coef(full_model)"
   ]
  },
  {
   "cell_type": "code",
   "execution_count": 42,
   "metadata": {
    "hidden": true
   },
   "outputs": [],
   "source": [
    "# Make predictions\n",
    "probabilities_full <- full_model %>% predict(newdata = test_data, type = \"response\")\n",
    "predicted_classes_full <- ifelse(probabilities_full > 0.5, \"pos\", \"neg\")"
   ]
  },
  {
   "cell_type": "code",
   "execution_count": 43,
   "metadata": {
    "hidden": true
   },
   "outputs": [
    {
     "name": "stdout",
     "output_type": "stream",
     "text": [
      "Accuracy Full Model:  0.7564103"
     ]
    }
   ],
   "source": [
    "# Model accuracy\n",
    "#observed_classes <- test_data$diabetes\n",
    "cat('Accuracy Full Model: ', mean(predicted_classes_full == observed_classes))"
   ]
  }
 ],
 "metadata": {
  "kernelspec": {
   "display_name": "R",
   "language": "R",
   "name": "ir"
  },
  "language_info": {
   "codemirror_mode": "r",
   "file_extension": ".r",
   "mimetype": "text/x-r-source",
   "name": "R",
   "pygments_lexer": "r",
   "version": "3.6.0"
  }
 },
 "nbformat": 4,
 "nbformat_minor": 2
}
