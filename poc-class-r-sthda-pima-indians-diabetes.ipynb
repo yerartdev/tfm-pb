{
 "cells": [
  {
   "cell_type": "markdown",
   "metadata": {},
   "source": [
    "# Gerardo de Miguel González"
   ]
  },
  {
   "cell_type": "markdown",
   "metadata": {},
   "source": [
    "**::GMG::** The aim of this notebook is to find a basic workflow for doing machine learning classification of an imbalanced dataset using best practices taken from other people's examples."
   ]
  },
  {
   "cell_type": "markdown",
   "metadata": {},
   "source": [
    "# Binary Classification Proof of Concept"
   ]
  },
  {
   "cell_type": "markdown",
   "metadata": {
    "heading_collapsed": true
   },
   "source": [
    "## References"
   ]
  },
  {
   "cell_type": "markdown",
   "metadata": {
    "hidden": true
   },
   "source": [
    "**::GMG::** This one:\n",
    "\n",
    "  - [STHDA](http://www.sthda.com/english/articles/36-classification-methods-essentials/149-penalized-logistic-regression-essentials-in-r-ridge-lasso-and-elastic-net/) Penalized Logistic Regression Essentials in R: Ridge, Lasso and Elastic Net by kassambara -- 11/03/2018 from  [Articles](http://www.sthda.com/english/articles/36-classification-methods-essentials/) - Classification Methods Essentials"
   ]
  },
  {
   "cell_type": "markdown",
   "metadata": {
    "heading_collapsed": true
   },
   "source": [
    "## Libraries"
   ]
  },
  {
   "cell_type": "code",
   "execution_count": 1,
   "metadata": {
    "hidden": true
   },
   "outputs": [],
   "source": [
    "#::GMG::Helper function to install missing libraries before loading them\n",
    "# https://stackoverflow.com/questions/4090169/elegant-way-to-check-for-missing-packages-and-install-them\n",
    "using<-function(...) {\n",
    "    libs<-unlist(list(...))\n",
    "    req<-unlist(lapply(libs,require,character.only=TRUE))\n",
    "    need<-libs[req==FALSE]\n",
    "    if(length(need)>0){ \n",
    "        install.packages(need)\n",
    "        lapply(need,require,character.only=TRUE)\n",
    "    }\n",
    "}"
   ]
  },
  {
   "cell_type": "code",
   "execution_count": 2,
   "metadata": {
    "hidden": true,
    "scrolled": true
   },
   "outputs": [
    {
     "name": "stderr",
     "output_type": "stream",
     "text": [
      "Loading required package: tidyverse\n",
      "── \u001b[1mAttaching packages\u001b[22m ─────────────────────────────────────── tidyverse 1.2.1 ──\n",
      "\u001b[32m✔\u001b[39m \u001b[34mggplot2\u001b[39m 3.2.0     \u001b[32m✔\u001b[39m \u001b[34mpurrr  \u001b[39m 0.3.2\n",
      "\u001b[32m✔\u001b[39m \u001b[34mtibble \u001b[39m 2.1.3     \u001b[32m✔\u001b[39m \u001b[34mdplyr  \u001b[39m 0.8.3\n",
      "\u001b[32m✔\u001b[39m \u001b[34mtidyr  \u001b[39m 0.8.3     \u001b[32m✔\u001b[39m \u001b[34mstringr\u001b[39m 1.4.0\n",
      "\u001b[32m✔\u001b[39m \u001b[34mreadr  \u001b[39m 1.3.1     \u001b[32m✔\u001b[39m \u001b[34mforcats\u001b[39m 0.4.0\n",
      "── \u001b[1mConflicts\u001b[22m ────────────────────────────────────────── tidyverse_conflicts() ──\n",
      "\u001b[31m✖\u001b[39m \u001b[34mdplyr\u001b[39m::\u001b[32mfilter()\u001b[39m masks \u001b[34mstats\u001b[39m::filter()\n",
      "\u001b[31m✖\u001b[39m \u001b[34mdplyr\u001b[39m::\u001b[32mlag()\u001b[39m    masks \u001b[34mstats\u001b[39m::lag()\n",
      "Loading required package: caret\n",
      "Loading required package: lattice\n",
      "\n",
      "Attaching package: ‘caret’\n",
      "\n",
      "The following object is masked from ‘package:purrr’:\n",
      "\n",
      "    lift\n",
      "\n",
      "Loading required package: glmnet\n",
      "Loading required package: Matrix\n",
      "\n",
      "Attaching package: ‘Matrix’\n",
      "\n",
      "The following object is masked from ‘package:tidyr’:\n",
      "\n",
      "    expand\n",
      "\n",
      "Loading required package: foreach\n",
      "\n",
      "Attaching package: ‘foreach’\n",
      "\n",
      "The following objects are masked from ‘package:purrr’:\n",
      "\n",
      "    accumulate, when\n",
      "\n",
      "Loaded glmnet 2.0-18\n",
      "\n",
      "Loading required package: mlbench\n"
     ]
    }
   ],
   "source": [
    "using('tidyverse','caret','glmnet', 'mlbench')"
   ]
  },
  {
   "cell_type": "markdown",
   "metadata": {
    "hidden": true
   },
   "source": [
    "**::GMG::** `tidyverse` first install here:\n",
    "\n",
    "```R\n",
    "Loading required package: tidyverse\n",
    "Warning message in library(package, lib.loc = lib.loc, character.only = TRUE, logical.return = TRUE, :\n",
    "“there is no package called ‘tidyverse’”Loading required package: caret\n",
    "Loading required package: lattice\n",
    "Loading required package: ggplot2\n",
    "Loading required package: glmnet\n",
    "Loading required package: Matrix\n",
    "Loading required package: foreach\n",
    "Loaded glmnet 2.0-18\n",
    "\n",
    "Installing package into ‘/home/jovyan/R/x86_64-pc-linux-gnu-library/3.6’\n",
    "(as ‘lib’ is unspecified)\n",
    "also installing the dependencies ‘tinytex’, ‘rmarkdown’, ‘selectr’, ‘broom’, ‘dbplyr’, ‘modelr’, ‘reprex’, ‘rvest’\n",
    "\n",
    "Loading required package: tidyverse\n",
    "── Attaching packages ─────────────────────────────────────── tidyverse 1.2.1 ──\n",
    "✔ tibble  2.1.3     ✔ purrr   0.3.2\n",
    "✔ tidyr   0.8.3     ✔ dplyr   0.8.3\n",
    "✔ readr   1.3.1     ✔ stringr 1.4.0\n",
    "✔ tibble  2.1.3     ✔ forcats 0.4.0\n",
    "── Conflicts ────────────────────────────────────────── tidyverse_conflicts() ──\n",
    "✖ purrr::accumulate() masks foreach::accumulate()\n",
    "✖ tidyr::expand()     masks Matrix::expand()\n",
    "✖ dplyr::filter()     masks stats::filter()\n",
    "✖ dplyr::lag()        masks stats::lag()\n",
    "✖ purrr::lift()       masks caret::lift()\n",
    "✖ purrr::when()       masks foreach::when()\n",
    "                           \n",
    "    1. TRUE\n",
    "``` "
   ]
  },
  {
   "cell_type": "markdown",
   "metadata": {
    "heading_collapsed": true
   },
   "source": [
    "## Dataset"
   ]
  },
  {
   "cell_type": "code",
   "execution_count": 3,
   "metadata": {
    "hidden": true
   },
   "outputs": [],
   "source": [
    "#::GMG::There are two versions in mlbench\n",
    "#::NOTE::2nd version comes with zero outliers as NAs\n",
    "data(PimaIndiansDiabetes2)"
   ]
  },
  {
   "cell_type": "code",
   "execution_count": 4,
   "metadata": {
    "hidden": true
   },
   "outputs": [
    {
     "data": {
      "text/html": [
       "<table>\n",
       "<caption>A data.frame: 6 × 9</caption>\n",
       "<thead>\n",
       "\t<tr><th scope=col>pregnant</th><th scope=col>glucose</th><th scope=col>pressure</th><th scope=col>triceps</th><th scope=col>insulin</th><th scope=col>mass</th><th scope=col>pedigree</th><th scope=col>age</th><th scope=col>diabetes</th></tr>\n",
       "\t<tr><th scope=col>&lt;dbl&gt;</th><th scope=col>&lt;dbl&gt;</th><th scope=col>&lt;dbl&gt;</th><th scope=col>&lt;dbl&gt;</th><th scope=col>&lt;dbl&gt;</th><th scope=col>&lt;dbl&gt;</th><th scope=col>&lt;dbl&gt;</th><th scope=col>&lt;dbl&gt;</th><th scope=col>&lt;fct&gt;</th></tr>\n",
       "</thead>\n",
       "<tbody>\n",
       "\t<tr><td>6</td><td>148</td><td>72</td><td>35</td><td> NA</td><td>33.6</td><td>0.627</td><td>50</td><td>pos</td></tr>\n",
       "\t<tr><td>1</td><td> 85</td><td>66</td><td>29</td><td> NA</td><td>26.6</td><td>0.351</td><td>31</td><td>neg</td></tr>\n",
       "\t<tr><td>8</td><td>183</td><td>64</td><td>NA</td><td> NA</td><td>23.3</td><td>0.672</td><td>32</td><td>pos</td></tr>\n",
       "\t<tr><td>1</td><td> 89</td><td>66</td><td>23</td><td> 94</td><td>28.1</td><td>0.167</td><td>21</td><td>neg</td></tr>\n",
       "\t<tr><td>0</td><td>137</td><td>40</td><td>35</td><td>168</td><td>43.1</td><td>2.288</td><td>33</td><td>pos</td></tr>\n",
       "\t<tr><td>5</td><td>116</td><td>74</td><td>NA</td><td> NA</td><td>25.6</td><td>0.201</td><td>30</td><td>neg</td></tr>\n",
       "</tbody>\n",
       "</table>\n"
      ],
      "text/latex": [
       "A data.frame: 6 × 9\n",
       "\\begin{tabular}{r|lllllllll}\n",
       " pregnant & glucose & pressure & triceps & insulin & mass & pedigree & age & diabetes\\\\\n",
       " <dbl> & <dbl> & <dbl> & <dbl> & <dbl> & <dbl> & <dbl> & <dbl> & <fct>\\\\\n",
       "\\hline\n",
       "\t 6 & 148 & 72 & 35 &  NA & 33.6 & 0.627 & 50 & pos\\\\\n",
       "\t 1 &  85 & 66 & 29 &  NA & 26.6 & 0.351 & 31 & neg\\\\\n",
       "\t 8 & 183 & 64 & NA &  NA & 23.3 & 0.672 & 32 & pos\\\\\n",
       "\t 1 &  89 & 66 & 23 &  94 & 28.1 & 0.167 & 21 & neg\\\\\n",
       "\t 0 & 137 & 40 & 35 & 168 & 43.1 & 2.288 & 33 & pos\\\\\n",
       "\t 5 & 116 & 74 & NA &  NA & 25.6 & 0.201 & 30 & neg\\\\\n",
       "\\end{tabular}\n"
      ],
      "text/markdown": [
       "\n",
       "A data.frame: 6 × 9\n",
       "\n",
       "| pregnant &lt;dbl&gt; | glucose &lt;dbl&gt; | pressure &lt;dbl&gt; | triceps &lt;dbl&gt; | insulin &lt;dbl&gt; | mass &lt;dbl&gt; | pedigree &lt;dbl&gt; | age &lt;dbl&gt; | diabetes &lt;fct&gt; |\n",
       "|---|---|---|---|---|---|---|---|---|\n",
       "| 6 | 148 | 72 | 35 |  NA | 33.6 | 0.627 | 50 | pos |\n",
       "| 1 |  85 | 66 | 29 |  NA | 26.6 | 0.351 | 31 | neg |\n",
       "| 8 | 183 | 64 | NA |  NA | 23.3 | 0.672 | 32 | pos |\n",
       "| 1 |  89 | 66 | 23 |  94 | 28.1 | 0.167 | 21 | neg |\n",
       "| 0 | 137 | 40 | 35 | 168 | 43.1 | 2.288 | 33 | pos |\n",
       "| 5 | 116 | 74 | NA |  NA | 25.6 | 0.201 | 30 | neg |\n",
       "\n"
      ],
      "text/plain": [
       "  pregnant glucose pressure triceps insulin mass pedigree age diabetes\n",
       "1 6        148     72       35       NA     33.6 0.627    50  pos     \n",
       "2 1         85     66       29       NA     26.6 0.351    31  neg     \n",
       "3 8        183     64       NA       NA     23.3 0.672    32  pos     \n",
       "4 1         89     66       23       94     28.1 0.167    21  neg     \n",
       "5 0        137     40       35      168     43.1 2.288    33  pos     \n",
       "6 5        116     74       NA       NA     25.6 0.201    30  neg     "
      ]
     },
     "metadata": {},
     "output_type": "display_data"
    }
   ],
   "source": [
    "head(PimaIndiansDiabetes2)"
   ]
  },
  {
   "cell_type": "markdown",
   "metadata": {
    "heading_collapsed": true
   },
   "source": [
    "## Exploratory Data Analysis"
   ]
  },
  {
   "cell_type": "markdown",
   "metadata": {
    "hidden": true
   },
   "source": [
    "**::GMG::** The goal of this stage of our study is to get to know the data, their flaws and perhaps some clues to improve them."
   ]
  },
  {
   "cell_type": "code",
   "execution_count": 5,
   "metadata": {
    "hidden": true,
    "scrolled": true
   },
   "outputs": [
    {
     "name": "stdout",
     "output_type": "stream",
     "text": [
      "'data.frame':\t768 obs. of  9 variables:\n",
      " $ pregnant: num  6 1 8 1 0 5 3 10 2 8 ...\n",
      " $ glucose : num  148 85 183 89 137 116 78 115 197 125 ...\n",
      " $ pressure: num  72 66 64 66 40 74 50 NA 70 96 ...\n",
      " $ triceps : num  35 29 NA 23 35 NA 32 NA 45 NA ...\n",
      " $ insulin : num  NA NA NA 94 168 NA 88 NA 543 NA ...\n",
      " $ mass    : num  33.6 26.6 23.3 28.1 43.1 25.6 31 35.3 30.5 NA ...\n",
      " $ pedigree: num  0.627 0.351 0.672 0.167 2.288 ...\n",
      " $ age     : num  50 31 32 21 33 30 26 29 53 54 ...\n",
      " $ diabetes: Factor w/ 2 levels \"neg\",\"pos\": 2 1 2 1 2 1 2 1 2 2 ...\n"
     ]
    }
   ],
   "source": [
    "#::GMG::PimaIndiansDiabetes2 (say, v2) has the outliers from \n",
    "#       glucose, pressure, triceps, insulin and mass as NAs\n",
    "str(PimaIndiansDiabetes2)"
   ]
  },
  {
   "cell_type": "code",
   "execution_count": 6,
   "metadata": {
    "hidden": true
   },
   "outputs": [
    {
     "data": {
      "text/plain": [
       "    pregnant         glucose         pressure         triceps     \n",
       " Min.   : 0.000   Min.   : 44.0   Min.   : 24.00   Min.   : 7.00  \n",
       " 1st Qu.: 1.000   1st Qu.: 99.0   1st Qu.: 64.00   1st Qu.:22.00  \n",
       " Median : 3.000   Median :117.0   Median : 72.00   Median :29.00  \n",
       " Mean   : 3.845   Mean   :121.7   Mean   : 72.41   Mean   :29.15  \n",
       " 3rd Qu.: 6.000   3rd Qu.:141.0   3rd Qu.: 80.00   3rd Qu.:36.00  \n",
       " Max.   :17.000   Max.   :199.0   Max.   :122.00   Max.   :99.00  \n",
       "                  NA's   :5       NA's   :35       NA's   :227    \n",
       "    insulin            mass          pedigree           age        diabetes \n",
       " Min.   : 14.00   Min.   :18.20   Min.   :0.0780   Min.   :21.00   neg:500  \n",
       " 1st Qu.: 76.25   1st Qu.:27.50   1st Qu.:0.2437   1st Qu.:24.00   pos:268  \n",
       " Median :125.00   Median :32.30   Median :0.3725   Median :29.00            \n",
       " Mean   :155.55   Mean   :32.46   Mean   :0.4719   Mean   :33.24            \n",
       " 3rd Qu.:190.00   3rd Qu.:36.60   3rd Qu.:0.6262   3rd Qu.:41.00            \n",
       " Max.   :846.00   Max.   :67.10   Max.   :2.4200   Max.   :81.00            \n",
       " NA's   :374      NA's   :11                                                "
      ]
     },
     "metadata": {},
     "output_type": "display_data"
    }
   ],
   "source": [
    "#::GMG::NA counts yield the outliers (!)\n",
    "summary(PimaIndiansDiabetes2)"
   ]
  },
  {
   "cell_type": "code",
   "execution_count": 7,
   "metadata": {
    "hidden": true,
    "scrolled": false
   },
   "outputs": [
    {
     "data": {
      "text/html": [
       "<dl class=dl-horizontal>\n",
       "\t<dt>pregnant</dt>\n",
       "\t\t<dd>0</dd>\n",
       "\t<dt>glucose</dt>\n",
       "\t\t<dd>5</dd>\n",
       "\t<dt>pressure</dt>\n",
       "\t\t<dd>35</dd>\n",
       "\t<dt>triceps</dt>\n",
       "\t\t<dd>227</dd>\n",
       "\t<dt>insulin</dt>\n",
       "\t\t<dd>374</dd>\n",
       "\t<dt>mass</dt>\n",
       "\t\t<dd>11</dd>\n",
       "\t<dt>pedigree</dt>\n",
       "\t\t<dd>0</dd>\n",
       "\t<dt>age</dt>\n",
       "\t\t<dd>0</dd>\n",
       "\t<dt>diabetes</dt>\n",
       "\t\t<dd>0</dd>\n",
       "</dl>\n"
      ],
      "text/latex": [
       "\\begin{description*}\n",
       "\\item[pregnant] 0\n",
       "\\item[glucose] 5\n",
       "\\item[pressure] 35\n",
       "\\item[triceps] 227\n",
       "\\item[insulin] 374\n",
       "\\item[mass] 11\n",
       "\\item[pedigree] 0\n",
       "\\item[age] 0\n",
       "\\item[diabetes] 0\n",
       "\\end{description*}\n"
      ],
      "text/markdown": [
       "pregnant\n",
       ":   0glucose\n",
       ":   5pressure\n",
       ":   35triceps\n",
       ":   227insulin\n",
       ":   374mass\n",
       ":   11pedigree\n",
       ":   0age\n",
       ":   0diabetes\n",
       ":   0\n",
       "\n"
      ],
      "text/plain": [
       "pregnant  glucose pressure  triceps  insulin     mass pedigree      age \n",
       "       0        5       35      227      374       11        0        0 \n",
       "diabetes \n",
       "       0 "
      ]
     },
     "metadata": {},
     "output_type": "display_data"
    }
   ],
   "source": [
    "#::GMG::Check for missing values ... I know they are marked witn 'NA' in mlbench 2nd dataset\n",
    "sapply(PimaIndiansDiabetes2, function(x) sum(is.na(x)))"
   ]
  },
  {
   "cell_type": "code",
   "execution_count": 8,
   "metadata": {
    "hidden": true
   },
   "outputs": [
    {
     "data": {
      "text/plain": [
       "\n",
       "neg pos \n",
       "500 268 "
      ]
     },
     "metadata": {},
     "output_type": "display_data"
    }
   ],
   "source": [
    "#::GMG::Now I test the imbalance of the dataset\n",
    "# http://metadatascience.com/2013/07/03/plotting-the-frequency-distribution-using-r/\n",
    "table(PimaIndiansDiabetes2$diabetes)"
   ]
  },
  {
   "cell_type": "code",
   "execution_count": 9,
   "metadata": {
    "hidden": true
   },
   "outputs": [
    {
     "data": {
      "text/plain": [
       "\n",
       "      neg       pos \n",
       "0.6510417 0.3489583 "
      ]
     },
     "metadata": {},
     "output_type": "display_data"
    }
   ],
   "source": [
    "prop.table(table(PimaIndiansDiabetes2$diabetes))"
   ]
  },
  {
   "cell_type": "code",
   "execution_count": 10,
   "metadata": {
    "hidden": true,
    "scrolled": true
   },
   "outputs": [
    {
     "data": {
      "image/png": "[encoded data removed]",
      "text/plain": [
       "Plot with title “Outcome Imbalance”"
      ]
     },
     "metadata": {},
     "output_type": "display_data"
    }
   ],
   "source": [
    "#::GMG::Plot the imbalance\n",
    "# https://www.statmethods.net/advgraphs/parameters.html\n",
    "# http://www.programmingr.com/content/positioning-charts-fig-and-fin/\n",
    "#::NOTE::I don't know how to make the fig smaller and the margins tight (!?)\n",
    "# https://blog.revolutionanalytics.com/2015/09/resizing-plots-in-the-r-kernel-for-jupyter-notebooks.html\n",
    "options(repr.plot.width=4, repr.plot.height=3)\n",
    "barplot(100*prop.table(table(PimaIndiansDiabetes2$diabetes)), \n",
    "        col = c('blue', 'red'),\n",
    "        ylim = c(0,70),\n",
    "        main = 'Outcome Imbalance')"
   ]
  },
  {
   "cell_type": "markdown",
   "metadata": {
    "heading_collapsed": true
   },
   "source": [
    "## Preparing the data"
   ]
  },
  {
   "cell_type": "code",
   "execution_count": 11,
   "metadata": {
    "hidden": true
   },
   "outputs": [],
   "source": [
    "# Load the data and remove NAs\n",
    "#::NOTE::I've already attached that dataset earlier\n",
    "#data(\"PimaIndiansDiabetes2\", package = \"mlbench\")\n",
    "# https://www.rdocumentation.org/packages/data.table/versions/1.12.2/topics/na.omit.data.table\n",
    "# https://www.statmethods.net/input/missingdata.html\n",
    "pima_clean <- na.omit(PimaIndiansDiabetes2)"
   ]
  },
  {
   "cell_type": "code",
   "execution_count": 12,
   "metadata": {
    "hidden": true
   },
   "outputs": [
    {
     "data": {
      "text/html": [
       "<dl class=dl-horizontal>\n",
       "\t<dt>pregnant</dt>\n",
       "\t\t<dd>0</dd>\n",
       "\t<dt>glucose</dt>\n",
       "\t\t<dd>0</dd>\n",
       "\t<dt>pressure</dt>\n",
       "\t\t<dd>0</dd>\n",
       "\t<dt>triceps</dt>\n",
       "\t\t<dd>0</dd>\n",
       "\t<dt>insulin</dt>\n",
       "\t\t<dd>0</dd>\n",
       "\t<dt>mass</dt>\n",
       "\t\t<dd>0</dd>\n",
       "\t<dt>pedigree</dt>\n",
       "\t\t<dd>0</dd>\n",
       "\t<dt>age</dt>\n",
       "\t\t<dd>0</dd>\n",
       "\t<dt>diabetes</dt>\n",
       "\t\t<dd>0</dd>\n",
       "</dl>\n"
      ],
      "text/latex": [
       "\\begin{description*}\n",
       "\\item[pregnant] 0\n",
       "\\item[glucose] 0\n",
       "\\item[pressure] 0\n",
       "\\item[triceps] 0\n",
       "\\item[insulin] 0\n",
       "\\item[mass] 0\n",
       "\\item[pedigree] 0\n",
       "\\item[age] 0\n",
       "\\item[diabetes] 0\n",
       "\\end{description*}\n"
      ],
      "text/markdown": [
       "pregnant\n",
       ":   0glucose\n",
       ":   0pressure\n",
       ":   0triceps\n",
       ":   0insulin\n",
       ":   0mass\n",
       ":   0pedigree\n",
       ":   0age\n",
       ":   0diabetes\n",
       ":   0\n",
       "\n"
      ],
      "text/plain": [
       "pregnant  glucose pressure  triceps  insulin     mass pedigree      age \n",
       "       0        0        0        0        0        0        0        0 \n",
       "diabetes \n",
       "       0 "
      ]
     },
     "metadata": {},
     "output_type": "display_data"
    }
   ],
   "source": [
    "#::GMG::Check for missing values ... No NAs after cleaning with na.omit()\n",
    "sapply(pima_clean, function(x) sum(is.na(x)))"
   ]
  },
  {
   "cell_type": "code",
   "execution_count": 13,
   "metadata": {
    "hidden": true
   },
   "outputs": [
    {
     "data": {
      "text/html": [
       "<table>\n",
       "<caption>A data.frame: 3 × 9</caption>\n",
       "<thead>\n",
       "\t<tr><th scope=col>pregnant</th><th scope=col>glucose</th><th scope=col>pressure</th><th scope=col>triceps</th><th scope=col>insulin</th><th scope=col>mass</th><th scope=col>pedigree</th><th scope=col>age</th><th scope=col>diabetes</th></tr>\n",
       "\t<tr><th scope=col>&lt;dbl&gt;</th><th scope=col>&lt;dbl&gt;</th><th scope=col>&lt;dbl&gt;</th><th scope=col>&lt;dbl&gt;</th><th scope=col>&lt;dbl&gt;</th><th scope=col>&lt;dbl&gt;</th><th scope=col>&lt;dbl&gt;</th><th scope=col>&lt;dbl&gt;</th><th scope=col>&lt;fct&gt;</th></tr>\n",
       "</thead>\n",
       "<tbody>\n",
       "\t<tr><td>1</td><td> 97</td><td>64</td><td>19</td><td> 82</td><td>18.2</td><td>0.299</td><td>21</td><td>neg</td></tr>\n",
       "\t<tr><td>0</td><td>124</td><td>56</td><td>13</td><td>105</td><td>21.8</td><td>0.452</td><td>21</td><td>neg</td></tr>\n",
       "\t<tr><td>2</td><td>121</td><td>70</td><td>32</td><td> 95</td><td>39.1</td><td>0.886</td><td>23</td><td>neg</td></tr>\n",
       "</tbody>\n",
       "</table>\n"
      ],
      "text/latex": [
       "A data.frame: 3 × 9\n",
       "\\begin{tabular}{r|lllllllll}\n",
       " pregnant & glucose & pressure & triceps & insulin & mass & pedigree & age & diabetes\\\\\n",
       " <dbl> & <dbl> & <dbl> & <dbl> & <dbl> & <dbl> & <dbl> & <dbl> & <fct>\\\\\n",
       "\\hline\n",
       "\t 1 &  97 & 64 & 19 &  82 & 18.2 & 0.299 & 21 & neg\\\\\n",
       "\t 0 & 124 & 56 & 13 & 105 & 21.8 & 0.452 & 21 & neg\\\\\n",
       "\t 2 & 121 & 70 & 32 &  95 & 39.1 & 0.886 & 23 & neg\\\\\n",
       "\\end{tabular}\n"
      ],
      "text/markdown": [
       "\n",
       "A data.frame: 3 × 9\n",
       "\n",
       "| pregnant &lt;dbl&gt; | glucose &lt;dbl&gt; | pressure &lt;dbl&gt; | triceps &lt;dbl&gt; | insulin &lt;dbl&gt; | mass &lt;dbl&gt; | pedigree &lt;dbl&gt; | age &lt;dbl&gt; | diabetes &lt;fct&gt; |\n",
       "|---|---|---|---|---|---|---|---|---|\n",
       "| 1 |  97 | 64 | 19 |  82 | 18.2 | 0.299 | 21 | neg |\n",
       "| 0 | 124 | 56 | 13 | 105 | 21.8 | 0.452 | 21 | neg |\n",
       "| 2 | 121 | 70 | 32 |  95 | 39.1 | 0.886 | 23 | neg |\n",
       "\n"
      ],
      "text/plain": [
       "  pregnant glucose pressure triceps insulin mass pedigree age diabetes\n",
       "1 1         97     64       19       82     18.2 0.299    21  neg     \n",
       "2 0        124     56       13      105     21.8 0.452    21  neg     \n",
       "3 2        121     70       32       95     39.1 0.886    23  neg     "
      ]
     },
     "metadata": {},
     "output_type": "display_data"
    }
   ],
   "source": [
    "# Inspect the data\n",
    "# https://dplyr.tidyverse.org/reference/sample.html\n",
    "dplyr::sample_n(pima_clean, 3)"
   ]
  },
  {
   "cell_type": "code",
   "execution_count": 14,
   "metadata": {
    "hidden": true
   },
   "outputs": [
    {
     "name": "stdout",
     "output_type": "stream",
     "text": [
      "'data.frame':\t392 obs. of  9 variables:\n",
      " $ pregnant: num  1 0 3 2 1 5 0 1 1 3 ...\n",
      " $ glucose : num  89 137 78 197 189 166 118 103 115 126 ...\n",
      " $ pressure: num  66 40 50 70 60 72 84 30 70 88 ...\n",
      " $ triceps : num  23 35 32 45 23 19 47 38 30 41 ...\n",
      " $ insulin : num  94 168 88 543 846 175 230 83 96 235 ...\n",
      " $ mass    : num  28.1 43.1 31 30.5 30.1 25.8 45.8 43.3 34.6 39.3 ...\n",
      " $ pedigree: num  0.167 2.288 0.248 0.158 0.398 ...\n",
      " $ age     : num  21 33 26 53 59 51 31 33 32 27 ...\n",
      " $ diabetes: Factor w/ 2 levels \"neg\",\"pos\": 1 2 2 2 2 2 2 1 2 1 ...\n",
      " - attr(*, \"na.action\")= 'omit' Named int  1 2 3 6 8 10 11 12 13 16 ...\n",
      "  ..- attr(*, \"names\")= chr  \"1\" \"2\" \"3\" \"6\" ...\n"
     ]
    }
   ],
   "source": [
    "#::NOTE::Originally 768 Observations!!\n",
    "str(pima_clean)"
   ]
  },
  {
   "cell_type": "code",
   "execution_count": 15,
   "metadata": {
    "hidden": true
   },
   "outputs": [],
   "source": [
    "#::NOTE::Make it reproducible\n",
    "set.seed(123)"
   ]
  },
  {
   "cell_type": "code",
   "execution_count": 16,
   "metadata": {
    "hidden": true
   },
   "outputs": [],
   "source": [
    "# Split the data into training and test set\n",
    "#::NOTE::using caret to do the stratified split and dplyr %>% notation\n",
    "# https://topepo.github.io/caret/data-splitting.html\n",
    "# https://github.com/tidyverse/dplyr\n",
    "training_samples <- pima_clean$diabetes %>% \n",
    "  caret::createDataPartition(p = 0.8, list = FALSE)"
   ]
  },
  {
   "cell_type": "code",
   "execution_count": 17,
   "metadata": {
    "hidden": true
   },
   "outputs": [],
   "source": [
    "#::NOTE::Do the actual split with the indices just computed\n",
    "train_data  <- pima_clean[training_samples, ]\n",
    "test_data <- pima_clean[-training_samples, ]"
   ]
  },
  {
   "cell_type": "code",
   "execution_count": 18,
   "metadata": {
    "hidden": true
   },
   "outputs": [
    {
     "name": "stdout",
     "output_type": "stream",
     "text": [
      "'data.frame':\t314 obs. of  9 variables:\n",
      " $ pregnant: num  1 0 3 2 1 5 0 1 11 10 ...\n",
      " $ glucose : num  89 137 78 197 189 166 118 115 143 125 ...\n",
      " $ pressure: num  66 40 50 70 60 72 84 70 94 70 ...\n",
      " $ triceps : num  23 35 32 45 23 19 47 30 33 26 ...\n",
      " $ insulin : num  94 168 88 543 846 175 230 96 146 115 ...\n",
      " $ mass    : num  28.1 43.1 31 30.5 30.1 25.8 45.8 34.6 36.6 31.1 ...\n",
      " $ pedigree: num  0.167 2.288 0.248 0.158 0.398 ...\n",
      " $ age     : num  21 33 26 53 59 51 31 32 51 41 ...\n",
      " $ diabetes: Factor w/ 2 levels \"neg\",\"pos\": 1 2 2 2 2 2 2 2 2 2 ...\n",
      " - attr(*, \"na.action\")= 'omit' Named int  1 2 3 6 8 10 11 12 13 16 ...\n",
      "  ..- attr(*, \"names\")= chr  \"1\" \"2\" \"3\" \"6\" ...\n"
     ]
    }
   ],
   "source": [
    "#::NOTE::See the split datasets\n",
    "str(train_data)"
   ]
  },
  {
   "cell_type": "code",
   "execution_count": 19,
   "metadata": {
    "hidden": true
   },
   "outputs": [
    {
     "name": "stdout",
     "output_type": "stream",
     "text": [
      "'data.frame':\t78 obs. of  9 variables:\n",
      " $ pregnant: num  1 3 3 7 2 2 5 4 1 6 ...\n",
      " $ glucose : num  103 126 158 150 141 100 139 129 71 93 ...\n",
      " $ pressure: num  30 88 76 66 58 66 64 86 48 50 ...\n",
      " $ triceps : num  38 41 36 42 34 20 35 20 18 30 ...\n",
      " $ insulin : num  83 235 245 342 128 90 140 270 76 64 ...\n",
      " $ mass    : num  43.3 39.3 31.6 34.7 25.4 32.9 28.6 35.1 20.4 28.7 ...\n",
      " $ pedigree: num  0.183 0.704 0.851 0.718 0.699 0.867 0.411 0.231 0.323 0.356 ...\n",
      " $ age     : num  33 27 28 42 24 28 26 23 22 23 ...\n",
      " $ diabetes: Factor w/ 2 levels \"neg\",\"pos\": 1 1 2 1 1 2 1 1 1 1 ...\n",
      " - attr(*, \"na.action\")= 'omit' Named int  1 2 3 6 8 10 11 12 13 16 ...\n",
      "  ..- attr(*, \"names\")= chr  \"1\" \"2\" \"3\" \"6\" ...\n"
     ]
    }
   ],
   "source": [
    "str(test_data)"
   ]
  },
  {
   "cell_type": "code",
   "execution_count": 20,
   "metadata": {
    "hidden": true
   },
   "outputs": [],
   "source": [
    "#::NOTE::The R function model.matrix() helps to create the matrix of predictors and also automatically \n",
    "#        converts categorical predictors to appropriate dummy variables, which is required for the glmnet() \n",
    "#        function.\n",
    "# https://www.rdocumentation.org/packages/stats/versions/3.6.1/topics/model.matrix\n",
    "# Dumy code categorical predictor variables\n",
    "X_train <- stats::model.matrix(diabetes~., train_data)[,-1]"
   ]
  },
  {
   "cell_type": "code",
   "execution_count": 21,
   "metadata": {
    "hidden": true
   },
   "outputs": [],
   "source": [
    "# Convert the outcome (class) to a numerical variable\n",
    "y_train <- ifelse(train_data$diabetes == \"pos\", 1, 0)"
   ]
  },
  {
   "cell_type": "code",
   "execution_count": 22,
   "metadata": {
    "hidden": true
   },
   "outputs": [
    {
     "name": "stdout",
     "output_type": "stream",
     "text": [
      " num [1:314, 1:8] 1 0 3 2 1 5 0 1 11 10 ...\n",
      " - attr(*, \"dimnames\")=List of 2\n",
      "  ..$ : chr [1:314] \"4\" \"5\" \"7\" \"9\" ...\n",
      "  ..$ : chr [1:8] \"pregnant\" \"glucose\" \"pressure\" \"triceps\" ...\n"
     ]
    }
   ],
   "source": [
    "#::NOTE::Check the results (a named 2D matrix of features)\n",
    "str(X_train)"
   ]
  },
  {
   "cell_type": "code",
   "execution_count": 23,
   "metadata": {
    "hidden": true
   },
   "outputs": [
    {
     "name": "stdout",
     "output_type": "stream",
     "text": [
      " num [1:314] 0 1 1 1 1 1 1 1 1 1 ...\n"
     ]
    }
   ],
   "source": [
    "#::NOTE::Check the results (a numeric 1/0 vector)\n",
    "str(y_train)"
   ]
  },
  {
   "cell_type": "markdown",
   "metadata": {
    "heading_collapsed": true
   },
   "source": [
    "## LASSO"
   ]
  },
  {
   "cell_type": "markdown",
   "metadata": {
    "heading_collapsed": true,
    "hidden": true
   },
   "source": [
    "### computing cv for lambda"
   ]
  },
  {
   "cell_type": "code",
   "execution_count": 24,
   "metadata": {
    "hidden": true
   },
   "outputs": [],
   "source": [
    "#::NOTE::Make it reproducible\n",
    "set.seed(123) "
   ]
  },
  {
   "cell_type": "code",
   "execution_count": 25,
   "metadata": {
    "hidden": true
   },
   "outputs": [],
   "source": [
    "#::NOTE::In penalized regression, you need to specify a constant lambda to adjust the amount of \n",
    "#        the coefficient shrinkage. The best lambda for your data, can be defined as the lambda \n",
    "#        that minimize the cross-validation prediction error rate. This can be determined automatically \n",
    "#        using the function cv.glmnet()\n",
    "# https://www.rdocumentation.org/packages/glmnet/versions/2.0-18/topics/cv.glmnet\n",
    "#::NOTE::compute lasso regression by specifying the option alpha = 1\n",
    "# Find the optimal value of lambda that minimizes the cross-validation error:\n",
    "cv_lasso <- glmnet::cv.glmnet(x = X_train, \n",
    "                              y = y_train, \n",
    "                              alpha = 1, \n",
    "                              family = \"binomial\")"
   ]
  },
  {
   "cell_type": "code",
   "execution_count": 26,
   "metadata": {
    "hidden": true
   },
   "outputs": [
    {
     "data": {
      "image/png": "[encoded data removed]",
      "text/plain": [
       "plot without title"
      ]
     },
     "metadata": {},
     "output_type": "display_data"
    }
   ],
   "source": [
    "#::NOTE::See graphically the best lambda\n",
    "plot(cv_lasso)"
   ]
  },
  {
   "cell_type": "markdown",
   "metadata": {
    "hidden": true
   },
   "source": [
    "The plot displays the cross-validation error according to the log of lambda. The left dashed vertical line indicates that the log of the optimal value of lambda is approximately -5, which is the one that minimizes the prediction error. This lambda value will give the most accurate model. The exact value of lambda can be viewed as follow:"
   ]
  },
  {
   "cell_type": "code",
   "execution_count": 27,
   "metadata": {
    "hidden": true
   },
   "outputs": [
    {
     "name": "stdout",
     "output_type": "stream",
     "text": [
      "Optimum lambda:  0.00794607"
     ]
    }
   ],
   "source": [
    "cat('Optimum lambda: ', cv_lasso$lambda.min)"
   ]
  },
  {
   "cell_type": "markdown",
   "metadata": {
    "hidden": true
   },
   "source": [
    "Generally, the purpose of regularization is to balance accuracy and simplicity. This means, a model with the smallest number of predictors that also gives a good accuracy. To this end, the function `cv.glmnet()` finds also the value of lambda that gives the simplest model but also lies within one standard error of the optimal value of lambda. This value is called `lambda.1se`."
   ]
  },
  {
   "cell_type": "code",
   "execution_count": 28,
   "metadata": {
    "hidden": true
   },
   "outputs": [
    {
     "name": "stdout",
     "output_type": "stream",
     "text": [
      "Simplest model within one se of lambda optimum:  0.05107792"
     ]
    }
   ],
   "source": [
    "cat('Simplest model within one se of lambda optimum: ', cv_lasso$lambda.1se)"
   ]
  },
  {
   "cell_type": "markdown",
   "metadata": {
    "hidden": true
   },
   "source": [
    "Using lambda.min as the best lambda, gives the following regression coefficients:"
   ]
  },
  {
   "cell_type": "code",
   "execution_count": 29,
   "metadata": {
    "hidden": true
   },
   "outputs": [
    {
     "data": {
      "text/plain": [
       "9 x 1 sparse Matrix of class \"dgCMatrix\"\n",
       "                        1\n",
       "(Intercept) -9.5832830912\n",
       "pregnant     0.0799668932\n",
       "glucose      0.0348640320\n",
       "pressure     .           \n",
       "triceps      0.0118761033\n",
       "insulin      0.0003828257\n",
       "mass         0.0697546400\n",
       "pedigree     1.0827803077\n",
       "age          0.0263611037"
      ]
     },
     "metadata": {},
     "output_type": "display_data"
    }
   ],
   "source": [
    "# https://www.rdocumentation.org/packages/stats/versions/3.6.1/topics/coef (?)\n",
    "stats::coef(cv_lasso, cv_lasso$lambda.min)"
   ]
  },
  {
   "cell_type": "code",
   "execution_count": 30,
   "metadata": {
    "hidden": true
   },
   "outputs": [
    {
     "data": {
      "text/plain": [
       "9 x 1 sparse Matrix of class \"dgCMatrix\"\n",
       "                        1\n",
       "(Intercept) -9.5832830912\n",
       "pregnant     0.0799668932\n",
       "glucose      0.0348640320\n",
       "pressure     .           \n",
       "triceps      0.0118761033\n",
       "insulin      0.0003828257\n",
       "mass         0.0697546400\n",
       "pedigree     1.0827803077\n",
       "age          0.0263611037"
      ]
     },
     "metadata": {},
     "output_type": "display_data"
    }
   ],
   "source": [
    "#::NOTE:the \"native\" glmnet packaage coef() (same result)\n",
    "glmnet::coef.cv.glmnet(cv_lasso, cv_lasso$lambda.min)"
   ]
  },
  {
   "cell_type": "markdown",
   "metadata": {
    "hidden": true
   },
   "source": [
    "**(?)** From the output above, only the viable `triceps` has a coefficient exactly equal to zero.\n",
    "\n",
    "**::NOTE::** I can't see that claim looking at the results above."
   ]
  },
  {
   "cell_type": "markdown",
   "metadata": {
    "hidden": true
   },
   "source": [
    "Using `lambda.1se` as the best lambda, gives the following regression coefficients:"
   ]
  },
  {
   "cell_type": "code",
   "execution_count": 31,
   "metadata": {
    "hidden": true
   },
   "outputs": [
    {
     "data": {
      "text/plain": [
       "9 x 1 sparse Matrix of class \"dgCMatrix\"\n",
       "                       1\n",
       "(Intercept) -6.153688978\n",
       "pregnant     0.005428000\n",
       "glucose      0.026897916\n",
       "pressure     .          \n",
       "triceps      0.003555793\n",
       "insulin      .          \n",
       "mass         0.033598175\n",
       "pedigree     0.219668158\n",
       "age          0.022408781"
      ]
     },
     "metadata": {},
     "output_type": "display_data"
    }
   ],
   "source": [
    "coef(cv_lasso, cv_lasso$lambda.1se)"
   ]
  },
  {
   "cell_type": "markdown",
   "metadata": {
    "hidden": true
   },
   "source": [
    "Using lambda.1se, only **2 variables** (**?**) (*NOTE*: in the original article they're five with the dot) have non-zero coefficients. The coefficients of all other variables have been set to zero by the lasso algorithm, reducing the complexity of the model.\n",
    "\n",
    "Setting lambda = lambda.1se produces a simpler model compared to lambda.min, but the model might be a little bit less accurate than the one obtained with lambda.min."
   ]
  },
  {
   "cell_type": "markdown",
   "metadata": {
    "heading_collapsed": true,
    "hidden": true
   },
   "source": [
    "### computing final model with best lambda"
   ]
  },
  {
   "cell_type": "code",
   "execution_count": 32,
   "metadata": {
    "hidden": true
   },
   "outputs": [],
   "source": [
    "# Fit the final model on the training data and lambda.min\n",
    "model_lambda_min <- glmnet(\n",
    "    X_train, \n",
    "    y_train, \n",
    "    alpha = 1, \n",
    "    family = \"binomial\",\n",
    "    lambda = cv_lasso$lambda.min\n",
    ")"
   ]
  },
  {
   "cell_type": "code",
   "execution_count": 33,
   "metadata": {
    "hidden": true
   },
   "outputs": [
    {
     "data": {
      "text/plain": [
       "9 x 1 sparse Matrix of class \"dgCMatrix\"\n",
       "                       s0\n",
       "(Intercept) -9.5834885138\n",
       "pregnant     0.0799808517\n",
       "glucose      0.0348646613\n",
       "pressure     .           \n",
       "triceps      0.0118672779\n",
       "insulin      0.0003826888\n",
       "mass         0.0697657308\n",
       "pedigree     1.0828217871\n",
       "age          0.0263599979"
      ]
     },
     "metadata": {},
     "output_type": "display_data"
    }
   ],
   "source": [
    "# Display regression coefficients\n",
    "coef(model_lambda_min)"
   ]
  },
  {
   "cell_type": "code",
   "execution_count": 34,
   "metadata": {
    "hidden": true
   },
   "outputs": [],
   "source": [
    "# Make predictions on the test data\n",
    "X_test <- model.matrix(diabetes ~., test_data)[,-1]\n",
    "probabilities <- model_lambda_min %>% predict(newx = X_test)\n",
    "predicted_classes <- ifelse(probabilities > 0.5, \"pos\", \"neg\")"
   ]
  },
  {
   "cell_type": "code",
   "execution_count": 35,
   "metadata": {
    "hidden": true
   },
   "outputs": [
    {
     "name": "stdout",
     "output_type": "stream",
     "text": [
      "Accuracy Model lambda_min:  0.7564103"
     ]
    }
   ],
   "source": [
    "# Model accuracy\n",
    "observed_classes <- test_data$diabetes\n",
    "cat('Accuracy Model lambda_min: ', mean(predicted_classes == observed_classes))"
   ]
  },
  {
   "cell_type": "code",
   "execution_count": 36,
   "metadata": {
    "hidden": true
   },
   "outputs": [],
   "source": [
    "# Final model with lambda.1se\n",
    "model_lambda_1se <- glmnet(\n",
    "    X_train, \n",
    "    y_train, \n",
    "    alpha = 1, \n",
    "    family = \"binomial\",\n",
    "    lambda = cv_lasso$lambda.1se\n",
    ")"
   ]
  },
  {
   "cell_type": "code",
   "execution_count": 37,
   "metadata": {
    "hidden": true
   },
   "outputs": [
    {
     "data": {
      "text/plain": [
       "9 x 1 sparse Matrix of class \"dgCMatrix\"\n",
       "                      s0\n",
       "(Intercept) -6.154133389\n",
       "pregnant     0.005400720\n",
       "glucose      0.026895928\n",
       "pressure     .          \n",
       "triceps      0.003506442\n",
       "insulin      .          \n",
       "mass         0.033645833\n",
       "pedigree     0.219787112\n",
       "age          0.022427147"
      ]
     },
     "metadata": {},
     "output_type": "display_data"
    }
   ],
   "source": [
    "# Display regression coefficients\n",
    "coef(model_lambda_1se)"
   ]
  },
  {
   "cell_type": "code",
   "execution_count": 38,
   "metadata": {
    "hidden": true
   },
   "outputs": [],
   "source": [
    "# Make prediction on test data\n",
    "#X_test <- model.matrix(diabetes ~., test_data)[,-1]\n",
    "probabilities_1se <- model_lambda_1se %>% predict(newx = X_test)\n",
    "predicted_classes_1se <- ifelse(probabilities_1se > 0.5, \"pos\", \"neg\")"
   ]
  },
  {
   "cell_type": "code",
   "execution_count": 39,
   "metadata": {
    "hidden": true
   },
   "outputs": [
    {
     "name": "stdout",
     "output_type": "stream",
     "text": [
      "Accuracy Model lambda_1se:  0.7820513"
     ]
    }
   ],
   "source": [
    "# Model accuracy rate\n",
    "#observed_classes <- test_data$diabetes\n",
    "cat('Accuracy Model lambda_1se: ', mean(predicted_classes_1se == observed_classes))"
   ]
  },
  {
   "cell_type": "markdown",
   "metadata": {
    "hidden": true
   },
   "source": [
    "**::NOTE::** In the original article the simplified model yields *worse* accuracy. Here I get **better** accuracy (**?**)\n",
    "\n",
    "**::GMG::** I'll compare the accuracy obtained with lasso regression against the one obtained using the full logistic regression model (including all predictors)."
   ]
  },
  {
   "cell_type": "markdown",
   "metadata": {
    "heading_collapsed": true
   },
   "source": [
    "## compute the full logistic model"
   ]
  },
  {
   "cell_type": "code",
   "execution_count": 40,
   "metadata": {
    "hidden": true
   },
   "outputs": [],
   "source": [
    "# Fit the model\n",
    "full_model <- glm(formula = diabetes ~., \n",
    "                  data = train_data, \n",
    "                  family = \"binomial\")"
   ]
  },
  {
   "cell_type": "code",
   "execution_count": 41,
   "metadata": {
    "hidden": true
   },
   "outputs": [
    {
     "data": {
      "text/html": [
       "<dl class=dl-horizontal>\n",
       "\t<dt>(Intercept)</dt>\n",
       "\t\t<dd>-10.5340032606064</dd>\n",
       "\t<dt>pregnant</dt>\n",
       "\t\t<dd>0.100503052584995</dd>\n",
       "\t<dt>glucose</dt>\n",
       "\t\t<dd>0.0370962114561298</dd>\n",
       "\t<dt>pressure</dt>\n",
       "\t\t<dd>-0.000387593282861679</dd>\n",
       "\t<dt>triceps</dt>\n",
       "\t\t<dd>0.0141777113857399</dd>\n",
       "\t<dt>insulin</dt>\n",
       "\t\t<dd>0.000593987604643327</dd>\n",
       "\t<dt>mass</dt>\n",
       "\t\t<dd>0.0799744725886534</dd>\n",
       "\t<dt>pedigree</dt>\n",
       "\t\t<dd>1.32914921921196</dd>\n",
       "\t<dt>age</dt>\n",
       "\t\t<dd>0.0271822429856711</dd>\n",
       "</dl>\n"
      ],
      "text/latex": [
       "\\begin{description*}\n",
       "\\item[(Intercept)] -10.5340032606064\n",
       "\\item[pregnant] 0.100503052584995\n",
       "\\item[glucose] 0.0370962114561298\n",
       "\\item[pressure] -0.000387593282861679\n",
       "\\item[triceps] 0.0141777113857399\n",
       "\\item[insulin] 0.000593987604643327\n",
       "\\item[mass] 0.0799744725886534\n",
       "\\item[pedigree] 1.32914921921196\n",
       "\\item[age] 0.0271822429856711\n",
       "\\end{description*}\n"
      ],
      "text/markdown": [
       "(Intercept)\n",
       ":   -10.5340032606064pregnant\n",
       ":   0.100503052584995glucose\n",
       ":   0.0370962114561298pressure\n",
       ":   -0.000387593282861679triceps\n",
       ":   0.0141777113857399insulin\n",
       ":   0.000593987604643327mass\n",
       ":   0.0799744725886534pedigree\n",
       ":   1.32914921921196age\n",
       ":   0.0271822429856711\n",
       "\n"
      ],
      "text/plain": [
       "  (Intercept)      pregnant       glucose      pressure       triceps \n",
       "-1.053400e+01  1.005031e-01  3.709621e-02 -3.875933e-04  1.417771e-02 \n",
       "      insulin          mass      pedigree           age \n",
       " 5.939876e-04  7.997447e-02  1.329149e+00  2.718224e-02 "
      ]
     },
     "metadata": {},
     "output_type": "display_data"
    }
   ],
   "source": [
    "# Display regression coefficients\n",
    "coef(full_model)"
   ]
  },
  {
   "cell_type": "code",
   "execution_count": 42,
   "metadata": {
    "hidden": true
   },
   "outputs": [],
   "source": [
    "# Make predictions\n",
    "probabilities_full <- full_model %>% predict(newdata = test_data, type = \"response\")\n",
    "predicted_classes_full <- ifelse(probabilities_full > 0.5, \"pos\", \"neg\")"
   ]
  },
  {
   "cell_type": "code",
   "execution_count": 43,
   "metadata": {
    "hidden": true
   },
   "outputs": [
    {
     "name": "stdout",
     "output_type": "stream",
     "text": [
      "Accuracy Full Model:  0.7564103"
     ]
    }
   ],
   "source": [
    "# Model accuracy\n",
    "#observed_classes <- test_data$diabetes\n",
    "cat('Accuracy Full Model: ', mean(predicted_classes_full == observed_classes))"
   ]
  }
 ],
 "metadata": {
  "kernelspec": {
   "display_name": "R",
   "language": "R",
   "name": "ir"
  },
  "language_info": {
   "codemirror_mode": "r",
   "file_extension": ".r",
   "mimetype": "text/x-r-source",
   "name": "R",
   "pygments_lexer": "r",
   "version": "3.6.0"
  }
 },
 "nbformat": 4,
 "nbformat_minor": 2
}
