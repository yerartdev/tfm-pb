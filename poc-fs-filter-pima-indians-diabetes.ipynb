{
 "cells": [
  {
   "cell_type": "markdown",
   "metadata": {},
   "source": [
    "# Gerardo de Miguel González"
   ]
  },
  {
   "cell_type": "markdown",
   "metadata": {},
   "source": [
    "# Feature Selection Proof of Concept"
   ]
  },
  {
   "cell_type": "markdown",
   "metadata": {
    "heading_collapsed": true
   },
   "source": [
    "## References"
   ]
  },
  {
   "cell_type": "markdown",
   "metadata": {
    "hidden": true
   },
   "source": [
    "**::GMG::** I've used the following references:\n",
    "\n",
    "  - [Machine Learning Process](https://machinelearningmastery.com/an-introduction-to-feature-selection/) An Introduction to Feature Selection. By Jason Brownlee on October 6, 2014.\n",
    "  - [Machine Learning Process](https://machinelearningmastery.com/feature-selection-machine-learning-python/) Feature Selection For Machine Learning in Python. By Jason Brownlee on May 20, 2016.\n",
    "  - [DataCamp](https://www.datacamp.com/community/tutorials/feature-selection-python) Beginner's Guide to Feature Selection in Python. *Learn about the basics of feature selection and how to implement and investigate various feature selection techniques in Python*. Sayak Paul. September 25th, 2018.\n",
    "  - [wikipedia](https://en.wikipedia.org/wiki/Chi-squared_test) Chi-squared test\n",
    "  - [scikit-learn](https://scikit-learn.org/stable/modules/feature_selection.html#univariate-feature-selection) 1.13.2. Univariate feature selection"
   ]
  },
  {
   "cell_type": "markdown",
   "metadata": {
    "hidden": true
   },
   "source": [
    "  **::NOTE::** Jason Brownlee (2014) comments on a *Feature selection Checklist* from a seminal paper on variable selection that I haven't used but I think I should (and perphaps I will):\n",
    "\n",
    "> Isabelle Guyon and Andre Elisseeff the authors of “[An Introduction to Variable and Feature Selection](http://jmlr.csail.mit.edu/papers/volume3/guyon03a/guyon03a.pdf)” provide an excellent checklist that you can use the next time you need to select data features for you predictive modeling problem.\n",
    "\n",
    "and also *read that paper* to that."
   ]
  },
  {
   "cell_type": "markdown",
   "metadata": {
    "heading_collapsed": true
   },
   "source": [
    "## Libraries"
   ]
  },
  {
   "cell_type": "code",
   "execution_count": 2,
   "metadata": {
    "hidden": true
   },
   "outputs": [],
   "source": [
    "#::GMG::Dataset handling basics\n",
    "import pandas as pd\n",
    "import numpy as np"
   ]
  },
  {
   "cell_type": "code",
   "execution_count": 3,
   "metadata": {
    "hidden": true
   },
   "outputs": [],
   "source": [
    "#::GMG::Visualization: matplotlib \n",
    "#       and seaborn: statistical data visualization for a heatmap of pandas.corr()\n",
    "#::NOTE::There's a lot of fuss for 'heatmapping' with matplotlib only\n",
    "# https://matplotlib.org/3.1.0/gallery/images_contours_and_fields/image_annotated_heatmap.html\n",
    "%matplotlib inline\n",
    "import matplotlib.pyplot as plt\n",
    "import seaborn as sns"
   ]
  },
  {
   "cell_type": "code",
   "execution_count": 4,
   "metadata": {
    "hidden": true
   },
   "outputs": [],
   "source": [
    "#::GMG::Split train and test\n",
    "# https://scikit-learn.org/stable/modules/classes.html#module-sklearn.model_selection\n",
    "from sklearn.model_selection import train_test_split"
   ]
  },
  {
   "cell_type": "code",
   "execution_count": 5,
   "metadata": {
    "hidden": true
   },
   "outputs": [],
   "source": [
    "#::GMG::Logistic Regression (aka logit) model for classification\n",
    "# https://scikit-learn.org/stable/modules/generated/sklearn.linear_model.LogisticRegression.html\n",
    "from sklearn.linear_model import LogisticRegression"
   ]
  },
  {
   "cell_type": "code",
   "execution_count": 7,
   "metadata": {
    "hidden": true
   },
   "outputs": [],
   "source": [
    "#::GMG::Precision-Recall curves should be used when there is a moderate to large class imbalance\n",
    "# https://machinelearningmastery.com/roc-curves-and-precision-recall-curves-for-classification-in-python/\n",
    "# https://scikit-learn.org/stable/modules/generated/sklearn.metrics.precision_recall_curve.html\n",
    "# https://scikit-learn.org/stable/modules/generated/sklearn.metrics.auc.html\n",
    "# https://scikit-learn.org/stable/modules/generated/sklearn.metrics.average_precision_score.html\n",
    "from sklearn.metrics import precision_recall_curve, auc, average_precision_score"
   ]
  },
  {
   "cell_type": "code",
   "execution_count": 60,
   "metadata": {
    "hidden": true
   },
   "outputs": [],
   "source": [
    "#::GMG::Helper for plotting Precision-Recall curve\n",
    "from inspect import signature"
   ]
  },
  {
   "cell_type": "code",
   "execution_count": 6,
   "metadata": {
    "hidden": true
   },
   "outputs": [],
   "source": [
    "#::GMG::Balanced Accuracy for taking into account the dataset (im)balance\n",
    "# https://scikit-learn.org/stable/modules/model_evaluation.html#balanced-accuracy-score\n",
    "# https://scikit-learn.org/stable/modules/generated/sklearn.metrics.balanced_accuracy_score.html\n",
    "from sklearn.metrics import balanced_accuracy_score"
   ]
  },
  {
   "cell_type": "code",
   "execution_count": 8,
   "metadata": {
    "hidden": true
   },
   "outputs": [],
   "source": [
    "#::GMG::NOTE::one report for all metrics and confusion matrix\n",
    "# https://scikit-learn.org/stable/modules/generated/sklearn.metrics.confusion_matrix.html\n",
    "# https://scikit-learn.org/stable/modules/model_evaluation.html#classification-report\n",
    "# https://scikit-learn.org/stable/modules/generated/sklearn.metrics.classification_report.html\n",
    "from sklearn.metrics import confusion_matrix\n",
    "from sklearn.metrics import classification_report"
   ]
  },
  {
   "cell_type": "code",
   "execution_count": 1,
   "metadata": {
    "hidden": true
   },
   "outputs": [],
   "source": [
    "#::GMG::Libraries for filter (univariate) feature selection\n",
    "# https://scikit-learn.org/stable/modules/feature_selection.html#univariate-feature-selection\n",
    "from sklearn.feature_selection import SelectKBest\n",
    "from sklearn.feature_selection import chi2"
   ]
  },
  {
   "cell_type": "markdown",
   "metadata": {},
   "source": [
    "## Dataset"
   ]
  },
  {
   "cell_type": "markdown",
   "metadata": {
    "heading_collapsed": true
   },
   "source": [
    "### load"
   ]
  },
  {
   "cell_type": "markdown",
   "metadata": {
    "hidden": true
   },
   "source": [
    "**::GMG::** The dataset *was available* in [UCI Machine Learning Repository](https://archive.ics.uci.edu/ml/index.php) but there's only [a text file](https://archive.ics.uci.edu/ml/machine-learning-databases/pima-indians-diabetes/) with a notice at the moment what reads:\n",
    "\n",
    "*Thank you for your interest in the Pima Indians Diabetes dataset. \n",
    "The dataset is no longer available due to permission restrictions.*"
   ]
  },
  {
   "cell_type": "markdown",
   "metadata": {
    "hidden": true
   },
   "source": [
    "**::GMG::** There are alternatives to downloading the csv formatted file though. I'm not sure whether those alternatives are going to keep being available in the near future. The first alternative that I've found out allows a direct download of a csv formated raw data, without any metadata (header):\n",
    "\n",
    "  - [networkrepository.com](http://networkrepository.com/pima-indians-diabetes.php)\n",
    "  \n",
    "However you can read metadata info and citation policy in the web page. The website also provides tools for interactive exploration of data. You can visualize and interactively explore pima-indians-diabetes and its important statistics.\n",
    "\n",
    "```BibText\n",
    "@inproceedings{nr,\n",
    "     title={The Network Data Repository with Interactive Graph Analytics and Visualization},\n",
    "     author={Ryan A. Rossi and Nesreen K. Ahmed},\n",
    "     booktitle={AAAI},\n",
    "     url={http://networkrepository.com},\n",
    "     year={2015}\n",
    "}\n",
    "```\n",
    "\n",
    "**::NOTE::** I don't know how to deal with [Bibtext](https://en.wikipedia.org/wiki/BibTeX) bibliographic entries in Notebooks yet."
   ]
  },
  {
   "cell_type": "markdown",
   "metadata": {
    "hidden": true
   },
   "source": [
    "**::GMG::** You may also [download the data from kaggle](https://www.kaggle.com/uciml/pima-indians-diabetes-database/downloads/pima-indians-diabetes-database.zip/1) in zipped csv format (which *includes a header* with the column names by the way) using [the reference provided](https://www.kaggle.com/uciml/pima-indians-diabetes-database) in the Datacamp article *if you have an account in kaggle*. I haven't checked it but you should be able [to use the kaggle API](https://medium.com/@yvettewu.dw/tutorial-kaggle-api-google-colaboratory-1a054a382de0) to automate the download from code *with an API key* created with your account. "
   ]
  },
  {
   "cell_type": "markdown",
   "metadata": {
    "hidden": true
   },
   "source": [
    "**::GMG::** I've already downloaded the csv dataset *manually from kaggle* with my account  and placed it in a data folder."
   ]
  },
  {
   "cell_type": "code",
   "execution_count": 9,
   "metadata": {
    "hidden": true
   },
   "outputs": [
    {
     "name": "stdout",
     "output_type": "stream",
     "text": [
      "pima-indians-diabetes.csv\r\n"
     ]
    }
   ],
   "source": [
    "!ls data"
   ]
  },
  {
   "cell_type": "code",
   "execution_count": 10,
   "metadata": {
    "hidden": true
   },
   "outputs": [],
   "source": [
    "#::GMG::Dataframe\n",
    "data = pd.read_csv(\"data/pima-indians-diabetes.csv\")"
   ]
  },
  {
   "cell_type": "code",
   "execution_count": null,
   "metadata": {
    "hidden": true
   },
   "outputs": [],
   "source": [
    "data.head()"
   ]
  },
  {
   "cell_type": "code",
   "execution_count": 11,
   "metadata": {
    "hidden": true
   },
   "outputs": [
    {
     "data": {
      "text/html": [
       "<div>\n",
       "<style scoped>\n",
       "    .dataframe tbody tr th:only-of-type {\n",
       "        vertical-align: middle;\n",
       "    }\n",
       "\n",
       "    .dataframe tbody tr th {\n",
       "        vertical-align: top;\n",
       "    }\n",
       "\n",
       "    .dataframe thead th {\n",
       "        text-align: right;\n",
       "    }\n",
       "</style>\n",
       "<table border=\"1\" class=\"dataframe\">\n",
       "  <thead>\n",
       "    <tr style=\"text-align: right;\">\n",
       "      <th></th>\n",
       "      <th>Pregnancies</th>\n",
       "      <th>Glucose</th>\n",
       "      <th>BloodPressure</th>\n",
       "      <th>SkinThickness</th>\n",
       "      <th>Insulin</th>\n",
       "      <th>BMI</th>\n",
       "      <th>DiabetesPedigreeFunction</th>\n",
       "      <th>Age</th>\n",
       "      <th>Outcome</th>\n",
       "    </tr>\n",
       "  </thead>\n",
       "  <tbody>\n",
       "    <tr>\n",
       "      <th>763</th>\n",
       "      <td>10</td>\n",
       "      <td>101</td>\n",
       "      <td>76</td>\n",
       "      <td>48</td>\n",
       "      <td>180</td>\n",
       "      <td>32.9</td>\n",
       "      <td>0.171</td>\n",
       "      <td>63</td>\n",
       "      <td>0</td>\n",
       "    </tr>\n",
       "    <tr>\n",
       "      <th>764</th>\n",
       "      <td>2</td>\n",
       "      <td>122</td>\n",
       "      <td>70</td>\n",
       "      <td>27</td>\n",
       "      <td>0</td>\n",
       "      <td>36.8</td>\n",
       "      <td>0.340</td>\n",
       "      <td>27</td>\n",
       "      <td>0</td>\n",
       "    </tr>\n",
       "    <tr>\n",
       "      <th>765</th>\n",
       "      <td>5</td>\n",
       "      <td>121</td>\n",
       "      <td>72</td>\n",
       "      <td>23</td>\n",
       "      <td>112</td>\n",
       "      <td>26.2</td>\n",
       "      <td>0.245</td>\n",
       "      <td>30</td>\n",
       "      <td>0</td>\n",
       "    </tr>\n",
       "    <tr>\n",
       "      <th>766</th>\n",
       "      <td>1</td>\n",
       "      <td>126</td>\n",
       "      <td>60</td>\n",
       "      <td>0</td>\n",
       "      <td>0</td>\n",
       "      <td>30.1</td>\n",
       "      <td>0.349</td>\n",
       "      <td>47</td>\n",
       "      <td>1</td>\n",
       "    </tr>\n",
       "    <tr>\n",
       "      <th>767</th>\n",
       "      <td>1</td>\n",
       "      <td>93</td>\n",
       "      <td>70</td>\n",
       "      <td>31</td>\n",
       "      <td>0</td>\n",
       "      <td>30.4</td>\n",
       "      <td>0.315</td>\n",
       "      <td>23</td>\n",
       "      <td>0</td>\n",
       "    </tr>\n",
       "  </tbody>\n",
       "</table>\n",
       "</div>"
      ],
      "text/plain": [
       "     Pregnancies  Glucose  BloodPressure  SkinThickness  Insulin   BMI  \\\n",
       "763           10      101             76             48      180  32.9   \n",
       "764            2      122             70             27        0  36.8   \n",
       "765            5      121             72             23      112  26.2   \n",
       "766            1      126             60              0        0  30.1   \n",
       "767            1       93             70             31        0  30.4   \n",
       "\n",
       "     DiabetesPedigreeFunction  Age  Outcome  \n",
       "763                     0.171   63        0  \n",
       "764                     0.340   27        0  \n",
       "765                     0.245   30        0  \n",
       "766                     0.349   47        1  \n",
       "767                     0.315   23        0  "
      ]
     },
     "execution_count": 11,
     "metadata": {},
     "output_type": "execute_result"
    }
   ],
   "source": [
    "data.tail()"
   ]
  },
  {
   "cell_type": "code",
   "execution_count": 14,
   "metadata": {
    "hidden": true
   },
   "outputs": [
    {
     "name": "stdout",
     "output_type": "stream",
     "text": [
      "Diabetes data set dimensions : (768, 9)\n"
     ]
    }
   ],
   "source": [
    "print(\"Diabetes data set dimensions : {}\".format(data.shape))"
   ]
  },
  {
   "cell_type": "markdown",
   "metadata": {
    "heading_collapsed": true
   },
   "source": [
    "### exploratory data analysis"
   ]
  },
  {
   "cell_type": "markdown",
   "metadata": {
    "hidden": true
   },
   "source": [
    "**::GMG::** There are 8 different integer and real features and the categorical (binary) *Outcome* or *target variable* where `1` stands for having diabetes, and `0` denotes not having diabetes that in the `DataFrame` is a `int64` (integer) value."
   ]
  },
  {
   "cell_type": "code",
   "execution_count": 16,
   "metadata": {
    "hidden": true,
    "scrolled": true
   },
   "outputs": [
    {
     "name": "stdout",
     "output_type": "stream",
     "text": [
      "<class 'pandas.core.frame.DataFrame'>\n",
      "RangeIndex: 768 entries, 0 to 767\n",
      "Data columns (total 9 columns):\n",
      "Pregnancies                 768 non-null int64\n",
      "Glucose                     768 non-null int64\n",
      "BloodPressure               768 non-null int64\n",
      "SkinThickness               768 non-null int64\n",
      "Insulin                     768 non-null int64\n",
      "BMI                         768 non-null float64\n",
      "DiabetesPedigreeFunction    768 non-null float64\n",
      "Age                         768 non-null int64\n",
      "Outcome                     768 non-null int64\n",
      "dtypes: float64(2), int64(7)\n",
      "memory usage: 54.1 KB\n"
     ]
    }
   ],
   "source": [
    "#::GMG::See details of features, target, data tyoes, entry number, ...\n",
    "data.info()"
   ]
  },
  {
   "cell_type": "markdown",
   "metadata": {
    "hidden": true
   },
   "source": [
    "**::GMG::** This makes me think of the Isabelle Guyon and Andre Elisseeff's feature Selection Checklist\n",
    "\n",
    "> 2. Are your features commensurate? If no, consider normalizing them.\n",
    "\n",
    "quoted in Brownlee (2014). So are they?"
   ]
  },
  {
   "cell_type": "code",
   "execution_count": 19,
   "metadata": {
    "hidden": true
   },
   "outputs": [
    {
     "data": {
      "text/html": [
       "<div>\n",
       "<style scoped>\n",
       "    .dataframe tbody tr th:only-of-type {\n",
       "        vertical-align: middle;\n",
       "    }\n",
       "\n",
       "    .dataframe tbody tr th {\n",
       "        vertical-align: top;\n",
       "    }\n",
       "\n",
       "    .dataframe thead th {\n",
       "        text-align: right;\n",
       "    }\n",
       "</style>\n",
       "<table border=\"1\" class=\"dataframe\">\n",
       "  <thead>\n",
       "    <tr style=\"text-align: right;\">\n",
       "      <th></th>\n",
       "      <th>Pregnancies</th>\n",
       "      <th>Glucose</th>\n",
       "      <th>BloodPressure</th>\n",
       "      <th>SkinThickness</th>\n",
       "      <th>Insulin</th>\n",
       "      <th>BMI</th>\n",
       "      <th>DiabetesPedigreeFunction</th>\n",
       "      <th>Age</th>\n",
       "      <th>Outcome</th>\n",
       "    </tr>\n",
       "  </thead>\n",
       "  <tbody>\n",
       "    <tr>\n",
       "      <th>count</th>\n",
       "      <td>768.000000</td>\n",
       "      <td>768.000000</td>\n",
       "      <td>768.000000</td>\n",
       "      <td>768.000000</td>\n",
       "      <td>768.000000</td>\n",
       "      <td>768.000000</td>\n",
       "      <td>768.000000</td>\n",
       "      <td>768.000000</td>\n",
       "      <td>768.000000</td>\n",
       "    </tr>\n",
       "    <tr>\n",
       "      <th>mean</th>\n",
       "      <td>3.845052</td>\n",
       "      <td>120.894531</td>\n",
       "      <td>69.105469</td>\n",
       "      <td>20.536458</td>\n",
       "      <td>79.799479</td>\n",
       "      <td>31.992578</td>\n",
       "      <td>0.471876</td>\n",
       "      <td>33.240885</td>\n",
       "      <td>0.348958</td>\n",
       "    </tr>\n",
       "    <tr>\n",
       "      <th>std</th>\n",
       "      <td>3.369578</td>\n",
       "      <td>31.972618</td>\n",
       "      <td>19.355807</td>\n",
       "      <td>15.952218</td>\n",
       "      <td>115.244002</td>\n",
       "      <td>7.884160</td>\n",
       "      <td>0.331329</td>\n",
       "      <td>11.760232</td>\n",
       "      <td>0.476951</td>\n",
       "    </tr>\n",
       "    <tr>\n",
       "      <th>min</th>\n",
       "      <td>0.000000</td>\n",
       "      <td>0.000000</td>\n",
       "      <td>0.000000</td>\n",
       "      <td>0.000000</td>\n",
       "      <td>0.000000</td>\n",
       "      <td>0.000000</td>\n",
       "      <td>0.078000</td>\n",
       "      <td>21.000000</td>\n",
       "      <td>0.000000</td>\n",
       "    </tr>\n",
       "    <tr>\n",
       "      <th>25%</th>\n",
       "      <td>1.000000</td>\n",
       "      <td>99.000000</td>\n",
       "      <td>62.000000</td>\n",
       "      <td>0.000000</td>\n",
       "      <td>0.000000</td>\n",
       "      <td>27.300000</td>\n",
       "      <td>0.243750</td>\n",
       "      <td>24.000000</td>\n",
       "      <td>0.000000</td>\n",
       "    </tr>\n",
       "    <tr>\n",
       "      <th>50%</th>\n",
       "      <td>3.000000</td>\n",
       "      <td>117.000000</td>\n",
       "      <td>72.000000</td>\n",
       "      <td>23.000000</td>\n",
       "      <td>30.500000</td>\n",
       "      <td>32.000000</td>\n",
       "      <td>0.372500</td>\n",
       "      <td>29.000000</td>\n",
       "      <td>0.000000</td>\n",
       "    </tr>\n",
       "    <tr>\n",
       "      <th>75%</th>\n",
       "      <td>6.000000</td>\n",
       "      <td>140.250000</td>\n",
       "      <td>80.000000</td>\n",
       "      <td>32.000000</td>\n",
       "      <td>127.250000</td>\n",
       "      <td>36.600000</td>\n",
       "      <td>0.626250</td>\n",
       "      <td>41.000000</td>\n",
       "      <td>1.000000</td>\n",
       "    </tr>\n",
       "    <tr>\n",
       "      <th>max</th>\n",
       "      <td>17.000000</td>\n",
       "      <td>199.000000</td>\n",
       "      <td>122.000000</td>\n",
       "      <td>99.000000</td>\n",
       "      <td>846.000000</td>\n",
       "      <td>67.100000</td>\n",
       "      <td>2.420000</td>\n",
       "      <td>81.000000</td>\n",
       "      <td>1.000000</td>\n",
       "    </tr>\n",
       "  </tbody>\n",
       "</table>\n",
       "</div>"
      ],
      "text/plain": [
       "       Pregnancies     Glucose  BloodPressure  SkinThickness     Insulin  \\\n",
       "count   768.000000  768.000000     768.000000     768.000000  768.000000   \n",
       "mean      3.845052  120.894531      69.105469      20.536458   79.799479   \n",
       "std       3.369578   31.972618      19.355807      15.952218  115.244002   \n",
       "min       0.000000    0.000000       0.000000       0.000000    0.000000   \n",
       "25%       1.000000   99.000000      62.000000       0.000000    0.000000   \n",
       "50%       3.000000  117.000000      72.000000      23.000000   30.500000   \n",
       "75%       6.000000  140.250000      80.000000      32.000000  127.250000   \n",
       "max      17.000000  199.000000     122.000000      99.000000  846.000000   \n",
       "\n",
       "              BMI  DiabetesPedigreeFunction         Age     Outcome  \n",
       "count  768.000000                768.000000  768.000000  768.000000  \n",
       "mean    31.992578                  0.471876   33.240885    0.348958  \n",
       "std      7.884160                  0.331329   11.760232    0.476951  \n",
       "min      0.000000                  0.078000   21.000000    0.000000  \n",
       "25%     27.300000                  0.243750   24.000000    0.000000  \n",
       "50%     32.000000                  0.372500   29.000000    0.000000  \n",
       "75%     36.600000                  0.626250   41.000000    1.000000  \n",
       "max     67.100000                  2.420000   81.000000    1.000000  "
      ]
     },
     "execution_count": 19,
     "metadata": {},
     "output_type": "execute_result"
    }
   ],
   "source": [
    "#::GMG::Statistics reveal some issues related to invalid values on some features, \n",
    "data.describe()"
   ]
  },
  {
   "cell_type": "markdown",
   "metadata": {
    "hidden": true
   },
   "source": [
    "**::GMG::** Note that there's a strong correlation between `age` and `preg`. On the other hand, there's almost no correlation between `skin` and `class` and between `pres` and `class`. "
   ]
  },
  {
   "cell_type": "code",
   "execution_count": 26,
   "metadata": {
    "hidden": true
   },
   "outputs": [
    {
     "data": {
      "text/plain": [
       "<matplotlib.axes._subplots.AxesSubplot at 0x7fa9d91ec3c8>"
      ]
     },
     "execution_count": 26,
     "metadata": {},
     "output_type": "execute_result"
    },
    {
     "data": {
      "image/png": "[encoded data removed]",
      "text/plain": [
       "<Figure size 576x432 with 2 Axes>"
      ]
     },
     "metadata": {},
     "output_type": "display_data"
    }
   ],
   "source": [
    "#::GMG::Not much insight from correlation\n",
    "color = sns.color_palette()\n",
    "sns.set_style('darkgrid')\n",
    "plt.subplots(figsize=(8,6))\n",
    "sns.heatmap(data_final.corr(), center=0, annot=True, linewidths=.3)"
   ]
  },
  {
   "cell_type": "code",
   "execution_count": 27,
   "metadata": {
    "hidden": true
   },
   "outputs": [
    {
     "data": {
      "text/plain": [
       "Outcome\n",
       "0    475\n",
       "1    249\n",
       "dtype: int64"
      ]
     },
     "execution_count": 27,
     "metadata": {},
     "output_type": "execute_result"
    }
   ],
   "source": [
    "#::GMG::Beware of the imbalance dataset ...\n",
    "#       https://www.quora.com/What-is-an-imbalanced-dataset\n",
    "#       https://www.datacamp.com/community/tutorials/diving-deep-imbalanced-data\n",
    "#       https://towardsdatascience.com/methods-for-dealing-with-imbalanced-data-5b761be45a18\n",
    "#       How do I check?\n",
    "# https://towardsdatascience.com/machine-learning-workflow-on-diabetes-data-part-01-573864fcc6b8\n",
    "data_final.groupby('Outcome').size()"
   ]
  },
  {
   "cell_type": "code",
   "execution_count": 28,
   "metadata": {
    "hidden": true
   },
   "outputs": [
    {
     "data": {
      "text/plain": [
       "Text(0, 0.5, 'Frequency %')"
      ]
     },
     "execution_count": 28,
     "metadata": {},
     "output_type": "execute_result"
    },
    {
     "data": {
      "image/png": "[encoded data removed]",
      "text/plain": [
       "<Figure size 432x288 with 1 Axes>"
      ]
     },
     "metadata": {},
     "output_type": "display_data"
    }
   ],
   "source": [
    "#::GMG::Say, 0 healthy, 1 diabetes\n",
    "# https://docs.scipy.org/doc/numpy-1.13.0/reference/generated/numpy.chararray.astype.html\n",
    "# https://matplotlib.org/gallery/lines_bars_and_markers/categorical_variables.html\n",
    "classes = data_final.Outcome.values\n",
    "unique, counts = np.unique(classes, return_counts=True)\n",
    "plt.bar(unique.astype(np.character),100*counts/classes.size)\n",
    "plt.title('Class Frequency')\n",
    "plt.xlabel('Class')\n",
    "plt.ylabel('Frequency %')"
   ]
  },
  {
   "cell_type": "markdown",
   "metadata": {
    "heading_collapsed": true
   },
   "source": [
    "## Stratified Split"
   ]
  },
  {
   "cell_type": "code",
   "execution_count": 29,
   "metadata": {
    "hidden": true
   },
   "outputs": [],
   "source": [
    "#::GMG::Let`s try something different\n",
    "#       I'm going to preserve the proportions of classes with stratify parameter\n",
    "# https://stackoverflow.com/questions/34842405/parameter-stratify-from-method-train-test-split-scikit-learn\n",
    "x_train, x_test, y_train, y_test = train_test_split(\n",
    "    data_final.iloc[:,:data_final.shape[1] - 1], data_final['Outcome'],\n",
    "    test_size = 0.3,\n",
    "    random_state = 70,\n",
    "    stratify = data_final['Outcome']\n",
    ")"
   ]
  },
  {
   "cell_type": "code",
   "execution_count": 30,
   "metadata": {
    "hidden": true
   },
   "outputs": [],
   "source": [
    "classes_train = y_train.values\n",
    "unique, counts = np.unique(classes_train, return_counts = True)"
   ]
  },
  {
   "cell_type": "code",
   "execution_count": 31,
   "metadata": {
    "hidden": true
   },
   "outputs": [
    {
     "data": {
      "text/plain": [
       "Text(0, 0.5, 'Frequency %')"
      ]
     },
     "execution_count": 31,
     "metadata": {},
     "output_type": "execute_result"
    },
    {
     "data": {
      "image/png": "[encoded data removed]",
      "text/plain": [
       "<Figure size 432x288 with 1 Axes>"
      ]
     },
     "metadata": {},
     "output_type": "display_data"
    }
   ],
   "source": [
    "plt.bar(unique.astype(np.character),100*counts/classes_train.size)\n",
    "plt.title('Class Frequency')\n",
    "plt.xlabel('Class')\n",
    "plt.ylabel('Frequency %')"
   ]
  },
  {
   "cell_type": "code",
   "execution_count": 32,
   "metadata": {
    "hidden": true
   },
   "outputs": [],
   "source": [
    "classes_test = y_test.values\n",
    "unique, counts = np.unique(classes_test, return_counts = True)"
   ]
  },
  {
   "cell_type": "code",
   "execution_count": 33,
   "metadata": {
    "hidden": true
   },
   "outputs": [
    {
     "data": {
      "text/plain": [
       "Text(0, 0.5, 'Frequency %')"
      ]
     },
     "execution_count": 33,
     "metadata": {},
     "output_type": "execute_result"
    },
    {
     "data": {
      "image/png": "[encoded data removed]",
      "text/plain": [
       "<Figure size 432x288 with 1 Axes>"
      ]
     },
     "metadata": {},
     "output_type": "display_data"
    }
   ],
   "source": [
    "plt.bar(unique.astype(np.character),100*counts/classes_test.size)\n",
    "plt.title('Class Frequency')\n",
    "plt.xlabel('Class')\n",
    "plt.ylabel('Frequency %')"
   ]
  },
  {
   "cell_type": "code",
   "execution_count": 34,
   "metadata": {
    "hidden": true
   },
   "outputs": [
    {
     "data": {
      "text/plain": [
       "((506, 7), (506,))"
      ]
     },
     "execution_count": 34,
     "metadata": {},
     "output_type": "execute_result"
    }
   ],
   "source": [
    "x_train.shape, y_train.shape"
   ]
  },
  {
   "cell_type": "code",
   "execution_count": 35,
   "metadata": {
    "hidden": true
   },
   "outputs": [
    {
     "data": {
      "text/plain": [
       "((218, 7), (218,))"
      ]
     },
     "execution_count": 35,
     "metadata": {},
     "output_type": "execute_result"
    }
   ],
   "source": [
    "x_test.shape, y_test.shape"
   ]
  },
  {
   "cell_type": "markdown",
   "metadata": {
    "heading_collapsed": true
   },
   "source": [
    "## Pre-processing"
   ]
  },
  {
   "cell_type": "markdown",
   "metadata": {
    "hidden": true
   },
   "source": [
    "**::GMG::** The dataset is known to have *missing values*. Specifically, there are *missing observations* for some columns that are marked as a zero value. A zero value will be invalid for `Glucose`, `BloodPressure`, `SkinThickness`, `Insulin` and `BMI`."
   ]
  },
  {
   "cell_type": "code",
   "execution_count": 21,
   "metadata": {
    "hidden": true
   },
   "outputs": [
    {
     "name": "stdout",
     "output_type": "stream",
     "text": [
      "Zero Plasma Glucose  Total :  5\n",
      "Zero Insulin level   Total :  374\n",
      "Zero Blood Pressure  Total :  35\n",
      "Zero Skin Thickness  Total :  227\n",
      "Zero Body Mass Index Total :  11\n"
     ]
    }
   ],
   "source": [
    "#::GMG::Unexpected outliers, as I've just said from data.describe() ...\n",
    "#       Glucose, Insulin, BloodPressure, SkinThickness, and BMI \n",
    "#       which have zeros (min) in their values\n",
    "# https://towardsdatascience.com/machine-learning-workflow-on-diabetes-data-part-01-573864fcc6b8\n",
    "print(\"Zero Plasma Glucose  Total : \", data[data.Glucose == 0].shape[0])\n",
    "print(\"Zero Insulin level   Total : \", data[data.Insulin == 0].shape[0])\n",
    "print(\"Zero Blood Pressure  Total : \", data[data.BloodPressure == 0].shape[0])\n",
    "print(\"Zero Skin Thickness  Total : \", data[data.SkinThickness == 0].shape[0])\n",
    "print(\"Zero Body Mass Index Total : \", data[data.BMI == 0].shape[0])"
   ]
  },
  {
   "cell_type": "code",
   "execution_count": 22,
   "metadata": {
    "hidden": true
   },
   "outputs": [],
   "source": [
    "#::GMG::Hard choice to make ... remove the rows where the “BloodPressure”, \n",
    "#       “BMI” and “Glucose” are zero (small number of rows, low impact)\n",
    "data_mod = data[(data.BloodPressure != 0) & \n",
    "                (data.BMI != 0) & \n",
    "                (data.Glucose != 0)\n",
    "               ]"
   ]
  },
  {
   "cell_type": "code",
   "execution_count": 23,
   "metadata": {
    "hidden": true
   },
   "outputs": [
    {
     "name": "stdout",
     "output_type": "stream",
     "text": [
      "(724, 9)\n"
     ]
    }
   ],
   "source": [
    "print(data_mod.shape)"
   ]
  },
  {
   "cell_type": "markdown",
   "metadata": {
    "hidden": true
   },
   "source": [
    "**::GMG::** The problem with `Insulin` and `Skin Thickness` is that they are a significant part of the dataset. They cannot be removed. I may use **an imputation method** to fill in the zeros, i.e. put *average/mean values*, but in this case putting a mean value to the blood pressure column *would send a wrong signal to the model*. I may also **avoid using the features** involved. Feature selection by filtering might come in handy and help with that. But the filter is going to use the *outliered* feature ... so I'm in doubt here!"
   ]
  },
  {
   "cell_type": "code",
   "execution_count": 24,
   "metadata": {
    "hidden": true
   },
   "outputs": [
    {
     "data": {
      "text/plain": [
       "Outcome                     1.000000\n",
       "Glucose                     0.488384\n",
       "BMI                         0.299375\n",
       "Age                         0.245741\n",
       "Pregnancies                 0.224417\n",
       "DiabetesPedigreeFunction    0.184947\n",
       "BloodPressure               0.166703\n",
       "Insulin                     0.145488\n",
       "SkinThickness               0.092030\n",
       "Name: Outcome, dtype: float64"
      ]
     },
     "execution_count": 24,
     "metadata": {},
     "output_type": "execute_result"
    }
   ],
   "source": [
    "#::GMG::Some basic (Pearson) correlations with Outcome\n",
    "# https://pandas.pydata.org/pandas-docs/stable/reference/api/pandas.DataFrame.corr.html\n",
    "correlation_matrix = data_mod.corr()\n",
    "correlation_matrix['Outcome'].sort_values(ascending=False)"
   ]
  },
  {
   "cell_type": "markdown",
   "metadata": {
    "hidden": true
   },
   "source": [
    "**::GMG::** Based on this basic analysis I might avoid using `Skin Thickness` but not `Insulin` .\n",
    "\n",
    "**::NOTE::** I've [searched](https://www.google.com/search?client=firefox-b-d&q=a+person+can+have+zero+insulin%3F) about this *zero insulin issue*. So [it turns out](https://www.yourhormones.info/hormones/insulin/) that\n",
    "\n",
    "> People with type 1 diabetes produce very little or no insulin at all. This condition is caused when the beta cells that make insulin have been destroyed by antibodies (these are usually substances released by the body to fight against infections), hence they are unable to produce insulin."
   ]
  },
  {
   "cell_type": "code",
   "execution_count": 25,
   "metadata": {
    "hidden": true
   },
   "outputs": [
    {
     "name": "stdout",
     "output_type": "stream",
     "text": [
      "(724, 8)\n"
     ]
    }
   ],
   "source": [
    "#::GMG::I make a bold choice ...\n",
    "# https://pandas.pydata.org/pandas-docs/stable/reference/api/pandas.DataFrame.drop.html\n",
    "data_final = data_mod.drop(columns = ['SkinThickness'])\n",
    "print(data_final.shape)"
   ]
  },
  {
   "cell_type": "code",
   "execution_count": null,
   "metadata": {
    "hidden": true
   },
   "outputs": [],
   "source": []
  },
  {
   "cell_type": "markdown",
   "metadata": {
    "heading_collapsed": true
   },
   "source": [
    "## Baseline (binary) classification"
   ]
  },
  {
   "cell_type": "markdown",
   "metadata": {
    "hidden": true
   },
   "source": [
    "**::GMG::** I'm gonna make a baseline classification (with all the features) to check later whether the filterwise feature selection has any effect at all. "
   ]
  },
  {
   "cell_type": "markdown",
   "metadata": {
    "hidden": true
   },
   "source": [
    "### model"
   ]
  },
  {
   "cell_type": "code",
   "execution_count": 35,
   "metadata": {
    "hidden": true
   },
   "outputs": [],
   "source": [
    "#::GMG::class_weight : dict or ‘balanced’, optional (default=None)\n",
    "#       The “balanced” mode uses the values of y to automatically adjust weights inversely \n",
    "#       proportional to class frequencies in the input data as \n",
    "#       n_samples / (n_classes * np.bincount(y))\n",
    "#\n",
    "# https://scikit-learn.org/stable/modules/generated/sklearn.linear_model.LogisticRegression.html\n",
    "lr_bm = LogisticRegression(solver = 'liblinear', class_weight = 'balanced', random_state = 2)"
   ]
  },
  {
   "cell_type": "markdown",
   "metadata": {
    "heading_collapsed": true,
    "hidden": true
   },
   "source": [
    "### fit and predict"
   ]
  },
  {
   "cell_type": "code",
   "execution_count": 36,
   "metadata": {
    "hidden": true
   },
   "outputs": [
    {
     "data": {
      "text/plain": [
       "LogisticRegression(C=1.0, class_weight='balanced', dual=False,\n",
       "          fit_intercept=True, intercept_scaling=1, max_iter=100,\n",
       "          multi_class='warn', n_jobs=None, penalty='l2', random_state=2,\n",
       "          solver='liblinear', tol=0.0001, verbose=0, warm_start=False)"
      ]
     },
     "execution_count": 36,
     "metadata": {},
     "output_type": "execute_result"
    }
   ],
   "source": [
    "#::GMG::Train the model\n",
    "# https://scikit-learn.org/stable/modules/generated/sklearn.linear_model.LogisticRegression.html#sklearn.linear_model.LogisticRegression.fit\n",
    "#\n",
    "# sample_weight : array-like, shape (n_samples,) optional\n",
    "lr_bm.fit(X = x_train, y = y_train)"
   ]
  },
  {
   "cell_type": "code",
   "execution_count": 37,
   "metadata": {
    "hidden": true
   },
   "outputs": [],
   "source": [
    "#::GMG::Now it's time to predict\n",
    "pred_bm = lr_bm.predict(X = x_test)"
   ]
  },
  {
   "cell_type": "code",
   "execution_count": 38,
   "metadata": {
    "hidden": true
   },
   "outputs": [
    {
     "name": "stdout",
     "output_type": "stream",
     "text": [
      "Score Train: 0.745 \n",
      "Score Test: 0.817\n"
     ]
    }
   ],
   "source": [
    "#::GMG::Scores\n",
    "print('Score Train: {:4.3f} \\nScore Test: {:4.3f}'.format(\n",
    "    lr_bm.score(X = x_train, y = y_train),\n",
    "    lr_bm.score(X = x_test, y = y_test)\n",
    "    )\n",
    ")"
   ]
  },
  {
   "cell_type": "markdown",
   "metadata": {
    "heading_collapsed": true,
    "hidden": true
   },
   "source": [
    "### evaluation"
   ]
  },
  {
   "cell_type": "code",
   "execution_count": 39,
   "metadata": {
    "hidden": true
   },
   "outputs": [
    {
     "name": "stdout",
     "output_type": "stream",
     "text": [
      "Balanced Accuracy Score: 0.809\n"
     ]
    }
   ],
   "source": [
    "#::GMG:: It is the macro-average of recall scores per class or, equivalently, \n",
    "#        raw accuracy where each sample is weighted according to the inverse prevalence \n",
    "#        of its true class. Thus for balanced datasets, the score is equal to accuracy.\n",
    "print('Balanced Accuracy Score: {:4.3f}'.format(\n",
    "    balanced_accuracy_score(y_true = y_test, y_pred = pred_bm)))"
   ]
  },
  {
   "cell_type": "code",
   "execution_count": 40,
   "metadata": {
    "hidden": true
   },
   "outputs": [
    {
     "name": "stdout",
     "output_type": "stream",
     "text": [
      "Classification Report:\n",
      "\n",
      "              precision    recall  f1-score   support\n",
      "\n",
      "     healthy      0.881     0.832     0.856       143\n",
      "    diabetes      0.711     0.787     0.747        75\n",
      "\n",
      "   micro avg      0.817     0.817     0.817       218\n",
      "   macro avg      0.796     0.809     0.801       218\n",
      "weighted avg      0.823     0.817     0.819       218\n",
      "\n"
     ]
    }
   ],
   "source": [
    "#::GMG::Report\n",
    "target_names = ['healthy', 'diabetes']\n",
    "print('Classification Report:\\n')\n",
    "print(classification_report(y_true = y_test, y_pred = pred_bm, \n",
    "                            target_names=target_names, digits = 3))"
   ]
  },
  {
   "cell_type": "code",
   "execution_count": 41,
   "metadata": {
    "hidden": true
   },
   "outputs": [
    {
     "name": "stdout",
     "output_type": "stream",
     "text": [
      "[[119  24]\n",
      " [ 16  59]]\n"
     ]
    }
   ],
   "source": [
    "#::GMG::Confusion Matrix\n",
    "cm_bm = confusion_matrix(y_true = y_test, y_pred = pred_bm)\n",
    "print(cm_bm)"
   ]
  },
  {
   "cell_type": "code",
   "execution_count": 42,
   "metadata": {
    "hidden": true
   },
   "outputs": [],
   "source": [
    "#::GMG::Predict probabilities instead of classes for the precision/recall curve\n",
    "probs_bm = lr_bm.predict_proba(X = x_test)\n",
    "prob_bm = probs_bm[:, 1]"
   ]
  },
  {
   "cell_type": "code",
   "execution_count": 43,
   "metadata": {
    "hidden": true
   },
   "outputs": [
    {
     "name": "stdout",
     "output_type": "stream",
     "text": [
      "Average Precision Weighted: 0.736\n"
     ]
    }
   ],
   "source": [
    "#::GMG::average precision \n",
    "apc_bm = average_precision_score(y_true = y_test, \n",
    "                                 y_score = prob_bm, \n",
    "                                 pos_label = 1, \n",
    "                                 average = 'weighted')\n",
    "print('Average Precision Weighted: {:4.3f}'.format(apc_bm))"
   ]
  },
  {
   "cell_type": "code",
   "execution_count": 44,
   "metadata": {
    "hidden": true
   },
   "outputs": [],
   "source": [
    "#::GMG::Precision-Recall Curve\n",
    "precision_bm, recall_bm, _ = precision_recall_curve(\n",
    "    y_true = y_test, \n",
    "    probas_pred = prob_bm, \n",
    "    pos_label = 1\n",
    ")"
   ]
  },
  {
   "cell_type": "code",
   "execution_count": 45,
   "metadata": {
    "hidden": true
   },
   "outputs": [
    {
     "name": "stdout",
     "output_type": "stream",
     "text": [
      "AUC Precision/Recall: 0.727\n"
     ]
    }
   ],
   "source": [
    "#::GMG::AUC (precision, recall)\n",
    "auc_pr_bm = auc(x = recall_bm, y = precision_bm)\n",
    "print('AUC Precision/Recall: {:4.3f}'.format(auc_pr_bm))"
   ]
  },
  {
   "cell_type": "code",
   "execution_count": 47,
   "metadata": {
    "hidden": true
   },
   "outputs": [
    {
     "data": {
      "text/plain": [
       "Text(0.5, 1.0, '2-class Precision-Recall curve: AP=0.74')"
      ]
     },
     "execution_count": 47,
     "metadata": {},
     "output_type": "execute_result"
    },
    {
     "data": {
      "image/png": "[encoded data removed]",
      "text/plain": [
       "<Figure size 720x648 with 1 Axes>"
      ]
     },
     "metadata": {},
     "output_type": "display_data"
    }
   ],
   "source": [
    "#::GMG::Plot Recall-Precision Curve\n",
    "step_kwargs = ({'step': 'post'}\n",
    "               if 'step' in signature(plt.fill_between).parameters\n",
    "               else {})\n",
    "plt.figure(figsize = (10,9))\n",
    "# plot no skill\n",
    "plt.plot([0, 1], [0.5, 0.5], linestyle='--', color = 'C1')\n",
    "plt.step(recall_bm, precision_bm, color='b', alpha=0.2, where='post')\n",
    "plt.fill_between(recall_bm, precision_bm, alpha=0.2, color='g', **step_kwargs)\n",
    "plt.xlabel('Recall')\n",
    "plt.ylabel('Precision')\n",
    "plt.ylim([0.0, 1.05])\n",
    "plt.xlim([0.0, 1.0])\n",
    "plt.title('2-class Precision-Recall curve: AP={0:0.2f}'.format(apc_bm))"
   ]
  },
  {
   "cell_type": "markdown",
   "metadata": {
    "heading_collapsed": true
   },
   "source": [
    "## Filter: $\\chi^2$ statistical test"
   ]
  },
  {
   "cell_type": "markdown",
   "metadata": {
    "hidden": true
   },
   "source": [
    "**::GMG::** Filter method $\\chi^2$ statistical test for non-negative features to select 4 of the best features from the dataset. A [scikit-learn library](https://scikit-learn.org/stable/modules/classes.html#module-sklearn.feature_selection) provides the [`SelectKBest`](https://scikit-learn.org/stable/modules/generated/sklearn.feature_selection.SelectKBest.html#sklearn.feature_selection.SelectKBest) class that can be used with the [$\\chi^2$ statistical test](https://scikit-learn.org/stable/modules/generated/sklearn.feature_selection.chi2.html#sklearn.feature_selection.chi2) (Some [background](https://en.wikipedia.org/wiki/Chi-squared_test) on the statitical test itself is needed, I guess)\n",
    "\n",
    "**::NOTE::** The datacamp tutorial toy example which uses the *full dataset* to perform the filter type feature selection and selects an arbitrary number of them ... This is not the way real feature selection is performed, isn't this? So I think ..."
   ]
  },
  {
   "cell_type": "markdown",
   "metadata": {
    "hidden": true
   },
   "source": [
    "**::GMG::** Now, I wonder how to proceed. Should I do the filter feature selection *before* the model evaluation? It makes sense to me. But raises the question of using *the same dataset* for fearure selection and model evaluation. Is it right? [Jason Brownlee](https://machinelearningmastery.com/feature-selection-machine-learning-python/) (2016) quotes two stackechange discussion about this.\n",
    "\n",
    ">It is important to consider feature selection a part of the model selection process. If you do not, you may inadvertently introduce bias into your models which can result in overfitting.\n",
    ">\n",
    ">    … should do feature selection on a different dataset than you train [your predictive model] on … the effect of >not doing this is you will overfit your training data.\n",
    ">\n",
    ">— Ben Allison in answer to “[Is using the same data for feature selection and cross-validation biased or not?](http://stats.stackexchange.com/questions/40576/is-using-the-same-data-for-feature-selection-and-cross-validation-biased-or-not)”\n",
    "\n",
    "So it seems that I cannot just do the split, train my model on the train split *and* perform then the feature selection on the *same* train split! Like I'm doing here."
   ]
  },
  {
   "cell_type": "markdown",
   "metadata": {
    "hidden": true
   },
   "source": [
    "**::GMG::** Indeed a bloke has (written) voiced the doubt I had within the blog responses threads:\n",
    "\n",
    ">  ZH May 3, 2019 at 3:17 am #\n",
    ">\n",
    ">Hi Jeson, thanks for this great article!\n",
    "I have confusion where you say in this article:\n",
    "“A mistake would be to perform feature selection first to prepare your data, then perform model selection and training on the selected features.”\n",
    "I believed that performing feature selection first and then perform model selection and training on the selected features, is called filter-based method for feature selection.\n",
    "– So why this is a mistake?\n",
    "– Is this a mistake to use Filter-based method which relies only on data set and is classifier-independent?\n",
    ">\n",
    ">-“Including feature selection within the inner-loop when using cross-validation&grid-search for model selection”, means that we do feature selection while creating model, is this called embedded method?\n",
    "\n",
    "And Jason answered:\n",
    "\n",
    "> It would lead to data leakage:\n",
    "https://machinelearningmastery.com/data-leakage-machine-learning/\n",
    "\n"
   ]
  },
  {
   "cell_type": "code",
   "execution_count": 36,
   "metadata": {
    "hidden": true
   },
   "outputs": [],
   "source": [
    "#::GMG::Feature selection (subset?)\n",
    "#::NOTE::Why 4?\n",
    "test = SelectKBest(score_func = chi2, k = 4)\n",
    "test.fit(x_train, y_train)"
   ]
  },
  {
   "cell_type": "code",
   "execution_count": 46,
   "metadata": {
    "hidden": true
   },
   "outputs": [
    {
     "data": {
      "text/plain": [
       "array([2.131e-010, 1.859e-177, 2.684e-007, 0.000e+000, 2.851e-017,\n",
       "       3.054e-002, 1.274e-031])"
      ]
     },
     "execution_count": 46,
     "metadata": {},
     "output_type": "execute_result"
    }
   ],
   "source": [
    "test.pvalues_"
   ]
  },
  {
   "cell_type": "code",
   "execution_count": 47,
   "metadata": {
    "hidden": true
   },
   "outputs": [
    {
     "name": "stdout",
     "output_type": "stream",
     "text": [
      "[  40.343  806.728   26.465 2363.27    71.445    4.679  136.891]\n",
      "[  40.343  806.728   26.465 2363.27    71.445    4.679  136.891]\n"
     ]
    }
   ],
   "source": [
    "# Summarize scores\n",
    "np.set_printoptions(precision=3))\n",
    "print(test.scores_)"
   ]
  },
  {
   "cell_type": "code",
   "execution_count": 48,
   "metadata": {
    "hidden": true
   },
   "outputs": [
    {
     "name": "stdout",
     "output_type": "stream",
     "text": [
      "('Pregnancies', 40.342828833999306)\n",
      "('Glucose', 806.7280087765105)\n",
      "('BloodPressure', 26.464910867252453)\n",
      "('Insulin', 2363.270196352275)\n",
      "('BMI', 71.44466696395962)\n",
      "('DiabetesPedigreeFunction', 4.678668885298059)\n",
      "('Age', 136.8911947568232)\n"
     ]
    }
   ],
   "source": [
    "#::GMG::See scores related to features ...\n",
    "# https://www.journaldev.com/15891/python-zip-function\n",
    "for values in zip(data_final.columns, test.scores_):\n",
    "    print(values)"
   ]
  },
  {
   "cell_type": "code",
   "execution_count": 49,
   "metadata": {
    "hidden": true
   },
   "outputs": [],
   "source": [
    "#::GMG::I zip long column names and scores\n",
    "zipped_full = zip(data_final.columns, test.scores_)"
   ]
  },
  {
   "cell_type": "code",
   "execution_count": 50,
   "metadata": {
    "hidden": true
   },
   "outputs": [
    {
     "data": {
      "text/plain": [
       "[('Insulin', 2363.270196352275),\n",
       " ('Glucose', 806.7280087765105),\n",
       " ('Age', 136.8911947568232),\n",
       " ('BMI', 71.44466696395962),\n",
       " ('Pregnancies', 40.342828833999306),\n",
       " ('BloodPressure', 26.464910867252453),\n",
       " ('DiabetesPedigreeFunction', 4.678668885298059)]"
      ]
     },
     "execution_count": 50,
     "metadata": {},
     "output_type": "execute_result"
    }
   ],
   "source": [
    "#::GMG::Rank the zipped object by score (key [1])\n",
    "# https://docs.python.org/3.6/howto/sorting.html\n",
    "# https://stackoverflow.com/questions/7142227/how-do-i-sort-a-zipped-list-in-python\n",
    "sorted(zipped_full, key = lambda x: x[1], reverse = True)"
   ]
  },
  {
   "cell_type": "code",
   "execution_count": 42,
   "metadata": {
    "hidden": true
   },
   "outputs": [
    {
     "data": {
      "text/html": [
       "<div>\n",
       "<style scoped>\n",
       "    .dataframe tbody tr th:only-of-type {\n",
       "        vertical-align: middle;\n",
       "    }\n",
       "\n",
       "    .dataframe tbody tr th {\n",
       "        vertical-align: top;\n",
       "    }\n",
       "\n",
       "    .dataframe thead th {\n",
       "        text-align: right;\n",
       "    }\n",
       "</style>\n",
       "<table border=\"1\" class=\"dataframe\">\n",
       "  <thead>\n",
       "    <tr style=\"text-align: right;\">\n",
       "      <th></th>\n",
       "      <th>Insulin</th>\n",
       "      <th>Glucose</th>\n",
       "      <th>Age</th>\n",
       "      <th>BMI</th>\n",
       "      <th>Outcome</th>\n",
       "    </tr>\n",
       "  </thead>\n",
       "  <tbody>\n",
       "    <tr>\n",
       "      <th>0</th>\n",
       "      <td>0</td>\n",
       "      <td>148</td>\n",
       "      <td>50</td>\n",
       "      <td>33.6</td>\n",
       "      <td>1</td>\n",
       "    </tr>\n",
       "    <tr>\n",
       "      <th>1</th>\n",
       "      <td>0</td>\n",
       "      <td>85</td>\n",
       "      <td>31</td>\n",
       "      <td>26.6</td>\n",
       "      <td>0</td>\n",
       "    </tr>\n",
       "    <tr>\n",
       "      <th>2</th>\n",
       "      <td>0</td>\n",
       "      <td>183</td>\n",
       "      <td>32</td>\n",
       "      <td>23.3</td>\n",
       "      <td>1</td>\n",
       "    </tr>\n",
       "    <tr>\n",
       "      <th>3</th>\n",
       "      <td>94</td>\n",
       "      <td>89</td>\n",
       "      <td>21</td>\n",
       "      <td>28.1</td>\n",
       "      <td>0</td>\n",
       "    </tr>\n",
       "    <tr>\n",
       "      <th>4</th>\n",
       "      <td>168</td>\n",
       "      <td>137</td>\n",
       "      <td>33</td>\n",
       "      <td>43.1</td>\n",
       "      <td>1</td>\n",
       "    </tr>\n",
       "    <tr>\n",
       "      <th>5</th>\n",
       "      <td>0</td>\n",
       "      <td>116</td>\n",
       "      <td>30</td>\n",
       "      <td>25.6</td>\n",
       "      <td>0</td>\n",
       "    </tr>\n",
       "    <tr>\n",
       "      <th>6</th>\n",
       "      <td>88</td>\n",
       "      <td>78</td>\n",
       "      <td>26</td>\n",
       "      <td>31.0</td>\n",
       "      <td>1</td>\n",
       "    </tr>\n",
       "    <tr>\n",
       "      <th>8</th>\n",
       "      <td>543</td>\n",
       "      <td>197</td>\n",
       "      <td>53</td>\n",
       "      <td>30.5</td>\n",
       "      <td>1</td>\n",
       "    </tr>\n",
       "    <tr>\n",
       "      <th>10</th>\n",
       "      <td>0</td>\n",
       "      <td>110</td>\n",
       "      <td>30</td>\n",
       "      <td>37.6</td>\n",
       "      <td>0</td>\n",
       "    </tr>\n",
       "  </tbody>\n",
       "</table>\n",
       "</div>"
      ],
      "text/plain": [
       "    Insulin  Glucose  Age   BMI  Outcome\n",
       "0         0      148   50  33.6        1\n",
       "1         0       85   31  26.6        0\n",
       "2         0      183   32  23.3        1\n",
       "3        94       89   21  28.1        0\n",
       "4       168      137   33  43.1        1\n",
       "5         0      116   30  25.6        0\n",
       "6        88       78   26  31.0        1\n",
       "8       543      197   53  30.5        1\n",
       "10        0      110   30  37.6        0"
      ]
     },
     "execution_count": 42,
     "metadata": {},
     "output_type": "execute_result"
    }
   ],
   "source": [
    "#::GMG::So this would be the final dataset manually from the results above\n",
    "data_final.loc[:10, ('Insulin', 'Glucose', 'Age', 'BMI', 'Outcome')]"
   ]
  },
  {
   "cell_type": "code",
   "execution_count": 51,
   "metadata": {
    "hidden": true
   },
   "outputs": [],
   "source": [
    "#::GMG::Select features based on scores using the API\n",
    "#       fit_transform() will return a new array where the feature set has been reduced \n",
    "#       to the best 'k'. \n",
    "# https://datascience.stackexchange.com/questions/10773/how-does-selectkbest-work\n",
    "# https://scikit-learn.org/stable/modules/generated/sklearn.feature_selection.SelectKBest.html\n",
    "x_train_fs = test.transform(x_train)"
   ]
  },
  {
   "cell_type": "code",
   "execution_count": 52,
   "metadata": {
    "hidden": true
   },
   "outputs": [
    {
     "data": {
      "text/plain": [
       "(506, 4)"
      ]
     },
     "execution_count": 52,
     "metadata": {},
     "output_type": "execute_result"
    }
   ],
   "source": [
    "x_train_fs.shape"
   ]
  },
  {
   "cell_type": "code",
   "execution_count": 45,
   "metadata": {
    "hidden": true
   },
   "outputs": [
    {
     "data": {
      "text/plain": [
       "numpy.ndarray"
      ]
     },
     "execution_count": 45,
     "metadata": {},
     "output_type": "execute_result"
    }
   ],
   "source": [
    "type(x_train_fs)"
   ]
  },
  {
   "cell_type": "code",
   "execution_count": 53,
   "metadata": {
    "hidden": true
   },
   "outputs": [],
   "source": [
    "#::GMG::I can do transform() also in the test set\n",
    "x_test_fs = test.transform(x_test)"
   ]
  },
  {
   "cell_type": "code",
   "execution_count": 56,
   "metadata": {
    "hidden": true
   },
   "outputs": [
    {
     "data": {
      "text/plain": [
       "(218, 4)"
      ]
     },
     "execution_count": 56,
     "metadata": {},
     "output_type": "execute_result"
    }
   ],
   "source": [
    "x_test_fs.shape"
   ]
  },
  {
   "cell_type": "code",
   "execution_count": 57,
   "metadata": {
    "hidden": true
   },
   "outputs": [
    {
     "data": {
      "text/plain": [
       "array([[109. ,   0. ,  25. ,  27. ],\n",
       "       [111. ,   0. ,  27.5,  40. ],\n",
       "       [152. ,  29. ,  26.8,  43. ],\n",
       "       [108. ,   0. ,  27.1,  24. ],\n",
       "       [152. , 272. ,  41.5,  27. ],\n",
       "       [179. , 159. ,  37.8,  22. ],\n",
       "       [124. ,   0. ,  27.6,  29. ],\n",
       "       [156. ,   0. ,  48.3,  32. ],\n",
       "       [164. ,  67. ,  32.8,  50. ],\n",
       "       [118. ,   0. ,  44.5,  26. ]])"
      ]
     },
     "execution_count": 57,
     "metadata": {},
     "output_type": "execute_result"
    }
   ],
   "source": [
    "#::GMG::It's funny the way columns (selected features) are distributed in numpy ndarrays\n",
    "#       You have to guess based on the original column set (data_final)\n",
    "#       i.e. Glucose Insulin BMI Age\n",
    "x_test_fs[:10,:]"
   ]
  },
  {
   "cell_type": "code",
   "execution_count": 59,
   "metadata": {
    "hidden": true
   },
   "outputs": [
    {
     "data": {
      "text/plain": [
       "array([[ 90. ,  54. ,  37.7,  29. ],\n",
       "       [123. , 165. ,  42.1,  26. ],\n",
       "       [112. ,   0. ,  31.6,  25. ],\n",
       "       [102. ,   0. ,  39.5,  42. ],\n",
       "       [ 80. ,   0. ,  19.1,  21. ],\n",
       "       [ 97. ,  91. ,  40.9,  32. ],\n",
       "       [137. ,   0. ,  32. ,  39. ],\n",
       "       [134. ,   0. ,  28.9,  23. ],\n",
       "       [ 88. ,  16. ,  28.4,  22. ],\n",
       "       [189. ,   0. ,  28.5,  37. ]])"
      ]
     },
     "execution_count": 59,
     "metadata": {},
     "output_type": "execute_result"
    }
   ],
   "source": [
    "#::GMG::Same as x_test_fs (come to think of it, it's like a mirror image of column pairs)\n",
    "#       i.e. Glucose Insulin BMI Age\n",
    "x_train_fs[:10,:]"
   ]
  },
  {
   "cell_type": "markdown",
   "metadata": {
    "heading_collapsed": true
   },
   "source": [
    "## After $\\chi^2$ classification"
   ]
  },
  {
   "cell_type": "markdown",
   "metadata": {
    "hidden": true
   },
   "source": [
    "**::GMG::** Let's check whether the selection process is a success or not. I have: (x_train_fs, y_train) and (x_test_fs, y_test)"
   ]
  },
  {
   "cell_type": "markdown",
   "metadata": {
    "hidden": true
   },
   "source": [
    "**::NOTE::** I am concerned with *the validity* of this evaluation on the same dataset as used in the feature selection phase. I may argue that the filter feature selection method is *indepemdent* of the classification method I'm using so I don't have to worry about that. I'd say that it would only matter if I'd used a cross-validation evaluation method."
   ]
  },
  {
   "cell_type": "markdown",
   "metadata": {
    "hidden": true
   },
   "source": [
    "**::PENDING::** I'll read all the discusions before I make my mind about the precdure I've used here :)\n",
    "\n",
    "  - [StackExchange](http://stats.stackexchange.com/questions/40576/is-using-the-same-data-for-feature-selection-and-cross-validation-biased-or-not) “Is using the same data for feature selection and cross-validation biased or not?”\n",
    "  - [StackExchange](http://stats.stackexchange.com/questions/2306/feature-selection-for-final-model-when-performing-cross-validation-in-machine) “Feature selection for final model when performing cross-validation in machine learning”\n",
    "  - [StackExchange](http://stats.stackexchange.com/questions/27750/feature-selection-and-cross-validation)  “Feature selection and cross-validation”"
   ]
  },
  {
   "cell_type": "markdown",
   "metadata": {
    "heading_collapsed": true,
    "hidden": true
   },
   "source": [
    "### model"
   ]
  },
  {
   "cell_type": "code",
   "execution_count": 61,
   "metadata": {
    "hidden": true
   },
   "outputs": [],
   "source": [
    "lr_bm_fs = LogisticRegression(solver = 'liblinear', \n",
    "                              class_weight = 'balanced', \n",
    "                              random_state = 3)"
   ]
  },
  {
   "cell_type": "markdown",
   "metadata": {
    "heading_collapsed": true,
    "hidden": true
   },
   "source": [
    "### fit and predict"
   ]
  },
  {
   "cell_type": "code",
   "execution_count": 62,
   "metadata": {
    "hidden": true
   },
   "outputs": [
    {
     "data": {
      "text/plain": [
       "LogisticRegression(C=1.0, class_weight='balanced', dual=False,\n",
       "          fit_intercept=True, intercept_scaling=1, max_iter=100,\n",
       "          multi_class='warn', n_jobs=None, penalty='l2', random_state=3,\n",
       "          solver='liblinear', tol=0.0001, verbose=0, warm_start=False)"
      ]
     },
     "execution_count": 62,
     "metadata": {},
     "output_type": "execute_result"
    }
   ],
   "source": [
    "lr_bm_fs.fit(X = x_train_fs, y = y_train)"
   ]
  },
  {
   "cell_type": "code",
   "execution_count": 63,
   "metadata": {
    "hidden": true
   },
   "outputs": [],
   "source": [
    "pred_bm_fs = lr_bm_fs.predict(X = x_test_fs)"
   ]
  },
  {
   "cell_type": "code",
   "execution_count": 64,
   "metadata": {
    "hidden": true
   },
   "outputs": [
    {
     "name": "stdout",
     "output_type": "stream",
     "text": [
      "Score Train: 0.717 \n",
      "Score Test: 0.780\n"
     ]
    }
   ],
   "source": [
    "print('Score Train: {:4.3f} \\nScore Test: {:4.3f}'.format(\n",
    "    lr_bm_fs.score(X = x_train_fs, y = y_train),\n",
    "    lr_bm_fs.score(X = x_test_fs, y = y_test)\n",
    "    )\n",
    ")"
   ]
  },
  {
   "cell_type": "markdown",
   "metadata": {
    "heading_collapsed": true,
    "hidden": true
   },
   "source": [
    "### evaluation"
   ]
  },
  {
   "cell_type": "code",
   "execution_count": 65,
   "metadata": {
    "hidden": true
   },
   "outputs": [
    {
     "name": "stdout",
     "output_type": "stream",
     "text": [
      "Balanced Accuracy Score: 0.769\n"
     ]
    }
   ],
   "source": [
    "print('Balanced Accuracy Score: {:4.3f}'.format(\n",
    "    balanced_accuracy_score(y_true = y_test, y_pred = pred_bm_fs)))"
   ]
  },
  {
   "cell_type": "code",
   "execution_count": 66,
   "metadata": {
    "hidden": true
   },
   "outputs": [
    {
     "name": "stdout",
     "output_type": "stream",
     "text": [
      "Classification Report:\n",
      "\n",
      "              precision    recall  f1-score   support\n",
      "\n",
      "     healthy      0.852     0.804     0.827       143\n",
      "    diabetes      0.663     0.733     0.696        75\n",
      "\n",
      "   micro avg      0.780     0.780     0.780       218\n",
      "   macro avg      0.757     0.769     0.762       218\n",
      "weighted avg      0.787     0.780     0.782       218\n",
      "\n"
     ]
    }
   ],
   "source": [
    "target_names = ['healthy', 'diabetes']\n",
    "print('Classification Report:\\n')\n",
    "print(classification_report(y_true = y_test, y_pred = pred_bm_fs, \n",
    "                            target_names=target_names, digits = 3))"
   ]
  },
  {
   "cell_type": "code",
   "execution_count": 67,
   "metadata": {
    "hidden": true
   },
   "outputs": [
    {
     "name": "stdout",
     "output_type": "stream",
     "text": [
      "Confusion Matrix: \n",
      "[[115  28]\n",
      " [ 20  55]]\n"
     ]
    }
   ],
   "source": [
    "cm_bm_fs = confusion_matrix(y_true = y_test, y_pred = pred_bm_fs)\n",
    "print('Confusion Matrix: \\n{}'.format(cm_bm_fs))"
   ]
  },
  {
   "cell_type": "code",
   "execution_count": 68,
   "metadata": {
    "hidden": true
   },
   "outputs": [],
   "source": [
    "#::GMG::Predict probabilities instead of classes for the precision/recall curve\n",
    "prob_bm_fs = lr_bm_fs.predict_proba(X = x_test_fs)[:, 1]\n",
    "#prob_bm_fs = probs_bm_fs[:, 1]"
   ]
  },
  {
   "cell_type": "code",
   "execution_count": 69,
   "metadata": {
    "hidden": true
   },
   "outputs": [
    {
     "name": "stdout",
     "output_type": "stream",
     "text": [
      "Average Precision Weighted: 0.725\n"
     ]
    }
   ],
   "source": [
    "apc_bm_fs = average_precision_score(y_true = y_test, \n",
    "                                    y_score = prob_bm_fs, \n",
    "                                    pos_label = 1, \n",
    "                                    average = 'weighted')\n",
    "print('Average Precision Weighted: {:4.3f}'.format(apc_bm_fs))"
   ]
  },
  {
   "cell_type": "code",
   "execution_count": 70,
   "metadata": {
    "hidden": true
   },
   "outputs": [],
   "source": [
    "#::GMG::Precision-Recall Curve\n",
    "precision_bm_fs, recall_bm_fs, _ = precision_recall_curve(\n",
    "    y_true = y_test, \n",
    "    probas_pred = prob_bm_fs, \n",
    "    pos_label = 1\n",
    ")"
   ]
  },
  {
   "cell_type": "code",
   "execution_count": 71,
   "metadata": {
    "hidden": true
   },
   "outputs": [
    {
     "name": "stdout",
     "output_type": "stream",
     "text": [
      "AUC Precision/Recall: 0.716\n"
     ]
    }
   ],
   "source": [
    "#::GMG::AUC (precision, recall)\n",
    "auc_pr_bm_fs = auc(x = recall_bm_fs, y = precision_bm_fs)\n",
    "print('AUC Precision/Recall: {:4.3f}'.format(auc_pr_bm_fs))"
   ]
  },
  {
   "cell_type": "code",
   "execution_count": 73,
   "metadata": {
    "hidden": true
   },
   "outputs": [
    {
     "data": {
      "text/plain": [
       "Text(0.5, 1.0, '2-class Precision-Recall curve: AP=0.72')"
      ]
     },
     "execution_count": 73,
     "metadata": {},
     "output_type": "execute_result"
    },
    {
     "data": {
      "image/png": "[encoded data removed]",
      "text/plain": [
       "<Figure size 720x648 with 1 Axes>"
      ]
     },
     "metadata": {},
     "output_type": "display_data"
    }
   ],
   "source": [
    "#::GMG::Plot Recall-Precision Curve\n",
    "step_kwargs = ({'step': 'post'}\n",
    "               if 'step' in signature(plt.fill_between).parameters\n",
    "               else {})\n",
    "plt.figure(figsize = (10,9))\n",
    "# plot no skill\n",
    "plt.plot([0, 1], [0.5, 0.5], linestyle='--', color = 'C1')\n",
    "plt.step(recall_bm_fs, precision_bm_fs, color='b', alpha=0.2, where='post')\n",
    "plt.fill_between(recall_bm_fs, precision_bm_fs, alpha=0.2, color='y', **step_kwargs)\n",
    "plt.xlabel('Recall')\n",
    "plt.ylabel('Precision')\n",
    "plt.ylim([0.0, 1.05])\n",
    "plt.xlim([0.0, 1.0])\n",
    "plt.title('2-class Precision-Recall curve: AP={0:0.2f}'.format(apc_bm_fs))"
   ]
  },
  {
   "cell_type": "markdown",
   "metadata": {
    "heading_collapsed": true
   },
   "source": [
    "## More"
   ]
  },
  {
   "cell_type": "markdown",
   "metadata": {
    "hidden": true
   },
   "source": [
    "**::GMG::** In the [feature selection uset guide](https://scikit-learn.org/stable/modules/feature_selection.html) of sckit-learn I can see that there are more methods that may be applied for classification, i.e. [f_classif](https://scikit-learn.org/stable/modules/generated/sklearn.feature_selection.f_classif.html#sklearn.feature_selection.f_classif), [mutual_info_classif](https://scikit-learn.org/stable/modules/generated/sklearn.feature_selection.mutual_info_classif.html#sklearn.feature_selection.mutual_info_classif). The latter requires *more samples* for accurate estimation and the latter *assumes Gaussian distribution* of the features.\n",
    "\n",
    "**NOTE** I'm in doubt about when I should use `f_classif` or `mutual_info_classif` given a dataset."
   ]
  },
  {
   "cell_type": "markdown",
   "metadata": {
    "hidden": true
   },
   "source": [
    "### filter: f_classif"
   ]
  },
  {
   "cell_type": "code",
   "execution_count": 76,
   "metadata": {
    "hidden": true
   },
   "outputs": [],
   "source": [
    "from sklearn.feature_selection import SelectPercentile, f_classif"
   ]
  },
  {
   "cell_type": "code",
   "execution_count": 133,
   "metadata": {
    "hidden": true
   },
   "outputs": [
    {
     "data": {
      "text/plain": [
       "<matplotlib.legend.Legend at 0x7fa9d8aaee10>"
      ]
     },
     "execution_count": 133,
     "metadata": {},
     "output_type": "execute_result"
    },
    {
     "data": {
      "image/png": "[encoded data removed]",
      "text/plain": [
       "<Figure size 432x288 with 1 Axes>"
      ]
     },
     "metadata": {},
     "output_type": "display_data"
    }
   ],
   "source": [
    "#::GMG::I give a try to f_classif with another 'univariate feature selection' method, i.e. SelectPercentile\n",
    "# https://scikit-learn.org/stable/modules/generated/sklearn.feature_selection.f_classif.html\n",
    "# https://scikit-learn.org/stable/modules/generated/sklearn.feature_selection.SelectPercentile.html\n",
    "# \n",
    "# As seen in: \n",
    "# https://scikit-learn.org/stable/auto_examples/feature_selection/plot_feature_selection.html\n",
    "#\n",
    "# #############################################################################\n",
    "# Univariate feature selection with F-test for feature scoring\n",
    "# ==> NO <== We use the default selection function: the 10% most significant features\n",
    "#::GMG:: I use the 50% most significant features\n",
    "selector = SelectPercentile(score_func = f_classif, percentile = 50)\n",
    "selector.fit(x_train, y_train)\n",
    "scores = -np.log10(selector.pvalues_)\n",
    "scores /= scores.max()\n",
    "X_indices = np.arange(x_train.shape[-1])\n",
    "#plt.bar(X_indices - .45, scores, width=.2,\n",
    "#        label=r'Univariate score ($-Log(p_{value})$)', color='darkorange',\n",
    "#        edgecolor='black')\n",
    "plt.bar(X_indices + .05, scores, width=.2,\n",
    "        label=r'Univariate score ($-Log(p_{value})$)', color='darkorange',\n",
    "        edgecolor='black')\n",
    "#plt.xlabel('Feature number')\n",
    "plt.xlabel('Feature')\n",
    "# https://stackoverflow.com/questions/3100985/plot-with-custom-text-for-x-axis-points\n",
    "plt.xticks(ticks = X_indices, \n",
    "           labels = x_train.columns.tolist(), \n",
    "           rotation = 60)\n",
    "plt.yticks(())\n",
    "plt.axis('tight')\n",
    "plt.legend(loc='upper right')"
   ]
  },
  {
   "cell_type": "code",
   "execution_count": 126,
   "metadata": {
    "hidden": true
   },
   "outputs": [
    {
     "data": {
      "text/plain": [
       "['Pregnancies',\n",
       " 'Glucose',\n",
       " 'BloodPressure',\n",
       " 'Insulin',\n",
       " 'BMI',\n",
       " 'DiabetesPedigreeFunction',\n",
       " 'Age']"
      ]
     },
     "execution_count": 126,
     "metadata": {},
     "output_type": "execute_result"
    }
   ],
   "source": [
    "x_train.columns.tolist()"
   ]
  },
  {
   "cell_type": "markdown",
   "metadata": {
    "hidden": true
   },
   "source": [
    "**::GMG** how do I interpret that graph?"
   ]
  },
  {
   "cell_type": "code",
   "execution_count": 98,
   "metadata": {
    "hidden": true
   },
   "outputs": [
    {
     "name": "stdout",
     "output_type": "stream",
     "text": [
      "The most important feature: Glucose\n"
     ]
    }
   ],
   "source": [
    "print('The most important feature: {}'.format(x_train.columns[scores.argmax()]))"
   ]
  },
  {
   "cell_type": "code",
   "execution_count": 109,
   "metadata": {
    "hidden": true
   },
   "outputs": [
    {
     "name": "stdout",
     "output_type": "stream",
     "text": [
      "The features ordered by scores: \n",
      "['Glucose', 'BMI', 'Age', 'DiabetesPedigreeFunction', 'Pregnancies', 'Insulin', 'BloodPressure']\n"
     ]
    }
   ],
   "source": [
    "print('The features ordered by scores: \\n{}'.format(\n",
    "        np.flip(\n",
    "            x_train.columns[scores.argsort()]\n",
    "        ).tolist()\n",
    "        )\n",
    "    )"
   ]
  },
  {
   "cell_type": "code",
   "execution_count": 113,
   "metadata": {
    "hidden": true
   },
   "outputs": [
    {
     "name": "stdout",
     "output_type": "stream",
     "text": [
      "0: Glucose\n",
      "1: BMI\n",
      "2: Age\n",
      "3: DiabetesPedigreeFunction\n",
      "4: Pregnancies\n",
      "5: Insulin\n",
      "6: BloodPressure\n"
     ]
    }
   ],
   "source": [
    "# https://stackoverflow.com/questions/4440516/in-python-is-there-an-elegant-way-to-print-a-list-in-a-custom-format-without-ex\n",
    "print('\\n'.join('{}: {}'.format(*k) for k in enumerate(\n",
    "        np.flip(\n",
    "            x_train.columns[scores.argsort()]\n",
    "        ).tolist()\n",
    "        )\n",
    "    )\n",
    ")"
   ]
  },
  {
   "cell_type": "code",
   "execution_count": 99,
   "metadata": {
    "hidden": true
   },
   "outputs": [],
   "source": [
    "x_train_fs_per = selector.transform(x_train)"
   ]
  },
  {
   "cell_type": "code",
   "execution_count": 100,
   "metadata": {
    "hidden": true
   },
   "outputs": [
    {
     "data": {
      "text/plain": [
       "(506, 3)"
      ]
     },
     "execution_count": 100,
     "metadata": {},
     "output_type": "execute_result"
    }
   ],
   "source": [
    "x_train_fs_per.shape"
   ]
  },
  {
   "cell_type": "code",
   "execution_count": 101,
   "metadata": {
    "hidden": true
   },
   "outputs": [
    {
     "data": {
      "text/plain": [
       "array([[ 90. ,  37.7,  29. ],\n",
       "       [123. ,  42.1,  26. ],\n",
       "       [112. ,  31.6,  25. ],\n",
       "       [102. ,  39.5,  42. ],\n",
       "       [ 80. ,  19.1,  21. ],\n",
       "       [ 97. ,  40.9,  32. ],\n",
       "       [137. ,  32. ,  39. ],\n",
       "       [134. ,  28.9,  23. ],\n",
       "       [ 88. ,  28.4,  22. ],\n",
       "       [189. ,  28.5,  37. ]])"
      ]
     },
     "execution_count": 101,
     "metadata": {},
     "output_type": "execute_result"
    }
   ],
   "source": [
    "x_train_fs_per[:10,]"
   ]
  },
  {
   "cell_type": "code",
   "execution_count": 114,
   "metadata": {
    "hidden": true
   },
   "outputs": [],
   "source": [
    "#::GMG::What if ... :)\n",
    "s_f = SelectKBest(score_func = f_classif, k = 4)"
   ]
  },
  {
   "cell_type": "code",
   "execution_count": 115,
   "metadata": {
    "hidden": true
   },
   "outputs": [
    {
     "data": {
      "text/plain": [
       "SelectKBest(k=4, score_func=<function f_classif at 0x7faa36c278c8>)"
      ]
     },
     "execution_count": 115,
     "metadata": {},
     "output_type": "execute_result"
    }
   ],
   "source": [
    "s_f.fit(X = x_train, y = y_train)"
   ]
  },
  {
   "cell_type": "code",
   "execution_count": 116,
   "metadata": {
    "hidden": true
   },
   "outputs": [
    {
     "name": "stdout",
     "output_type": "stream",
     "text": [
      "[ 14.449 134.385  12.606  14.298  54.068  21.67   34.617]\n"
     ]
    }
   ],
   "source": [
    "#np.set_printoptions(precision=3))\n",
    "print(s_f.scores_)"
   ]
  },
  {
   "cell_type": "code",
   "execution_count": 118,
   "metadata": {
    "hidden": true
   },
   "outputs": [
    {
     "data": {
      "text/plain": [
       "[('Glucose', 134.38458195519337),\n",
       " ('BMI', 54.06802741145904),\n",
       " ('Age', 34.61664456479461),\n",
       " ('DiabetesPedigreeFunction', 21.670023356569565),\n",
       " ('Pregnancies', 14.448606347660135),\n",
       " ('Insulin', 14.29839522339586),\n",
       " ('BloodPressure', 12.605943036016459)]"
      ]
     },
     "execution_count": 118,
     "metadata": {},
     "output_type": "execute_result"
    }
   ],
   "source": [
    "sorted(zip(x_train.columns, s_f.scores_), \n",
    "       key = lambda x: x[1], \n",
    "       reverse = True)"
   ]
  },
  {
   "cell_type": "code",
   "execution_count": 119,
   "metadata": {
    "hidden": true
   },
   "outputs": [],
   "source": [
    "x_train_fs_kb = s_f.transform(x_train)"
   ]
  },
  {
   "cell_type": "code",
   "execution_count": 120,
   "metadata": {
    "hidden": true
   },
   "outputs": [
    {
     "data": {
      "text/plain": [
       "(506, 4)"
      ]
     },
     "execution_count": 120,
     "metadata": {},
     "output_type": "execute_result"
    }
   ],
   "source": [
    "x_train_fs_kb.shape"
   ]
  },
  {
   "cell_type": "code",
   "execution_count": 121,
   "metadata": {
    "hidden": true
   },
   "outputs": [
    {
     "data": {
      "text/plain": [
       "array([[ 90.   ,  37.7  ,   0.362,  29.   ],\n",
       "       [123.   ,  42.1  ,   0.52 ,  26.   ],\n",
       "       [112.   ,  31.6  ,   0.197,  25.   ],\n",
       "       [102.   ,  39.5  ,   0.293,  42.   ],\n",
       "       [ 80.   ,  19.1  ,   0.258,  21.   ],\n",
       "       [ 97.   ,  40.9  ,   0.871,  32.   ],\n",
       "       [137.   ,  32.   ,   0.391,  39.   ],\n",
       "       [134.   ,  28.9  ,   0.542,  23.   ],\n",
       "       [ 88.   ,  28.4  ,   0.766,  22.   ],\n",
       "       [189.   ,  28.5  ,   0.68 ,  37.   ]])"
      ]
     },
     "execution_count": 121,
     "metadata": {},
     "output_type": "execute_result"
    }
   ],
   "source": [
    "x_train_fs_kb[:10,]"
   ]
  }
 ],
 "metadata": {
  "kernelspec": {
   "display_name": "Python 3",
   "language": "python",
   "name": "python3"
  },
  "language_info": {
   "codemirror_mode": {
    "name": "ipython",
    "version": 3
   },
   "file_extension": ".py",
   "mimetype": "text/x-python",
   "name": "python",
   "nbconvert_exporter": "python",
   "pygments_lexer": "ipython3",
   "version": "3.6.6"
  }
 },
 "nbformat": 4,
 "nbformat_minor": 2
}
