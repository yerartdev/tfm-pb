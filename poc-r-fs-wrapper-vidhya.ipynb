{
 "cells": [
  {
   "cell_type": "markdown",
   "metadata": {},
   "source": [
    "# Gerardo de Miguel González"
   ]
  },
  {
   "cell_type": "markdown",
   "metadata": {},
   "source": [
    "# Feature Selection Proof of Concept"
   ]
  },
  {
   "cell_type": "markdown",
   "metadata": {
    "heading_collapsed": true
   },
   "source": [
    "## References"
   ]
  },
  {
   "cell_type": "markdown",
   "metadata": {
    "hidden": true
   },
   "source": [
    "**::GMG::** I've followed this reference:\n",
    "\n",
    "  - [Analytics Vidhya](https://www.analyticsvidhya.com/blog/2016/12/introduction-to-feature-selection-methods-with-an-example-or-how-to-select-the-right-variables/) Introduction to Feature Selection methods with an example (or how to select the right variables?). Saurav Kaushik, december 1, 2016."
   ]
  },
  {
   "cell_type": "markdown",
   "metadata": {
    "heading_collapsed": true
   },
   "source": [
    "## Libraries"
   ]
  },
  {
   "cell_type": "code",
   "execution_count": 1,
   "metadata": {
    "hidden": true
   },
   "outputs": [],
   "source": [
    "#::GMG::Helper function to install missing libraries before loading them\n",
    "# https://stackoverflow.com/questions/4090169/elegant-way-to-check-for-missing-packages-and-install-them\n",
    "using<-function(...) {\n",
    "    libs<-unlist(list(...))\n",
    "    req<-unlist(lapply(libs,require,character.only=TRUE))\n",
    "    need<-libs[req==FALSE]\n",
    "    if(length(need)>0){ \n",
    "        install.packages(need)\n",
    "        lapply(need,require,character.only=TRUE)\n",
    "    }\n",
    "}"
   ]
  },
  {
   "cell_type": "code",
   "execution_count": 2,
   "metadata": {
    "hidden": true
   },
   "outputs": [
    {
     "name": "stderr",
     "output_type": "stream",
     "text": [
      "Loading required package: mlbench\n",
      "Loading required package: caTools\n",
      "Loading required package: corrplot\n",
      "corrplot 0.84 loaded\n"
     ]
    }
   ],
   "source": [
    "#::GMG::Now, the libraries I need (possibly)\n",
    "using('mlbench', 'caTools', 'corrplot')"
   ]
  },
  {
   "cell_type": "markdown",
   "metadata": {
    "heading_collapsed": true
   },
   "source": [
    "## Dataset"
   ]
  },
  {
   "cell_type": "markdown",
   "metadata": {
    "heading_collapsed": true,
    "hidden": true
   },
   "source": [
    "### load"
   ]
  },
  {
   "cell_type": "code",
   "execution_count": 3,
   "metadata": {
    "hidden": true
   },
   "outputs": [],
   "source": [
    "#::GMG::The reference use a Google drive stored dataset\n",
    "#::QUOTE::We’ll be using stock prediction data in which we’ll predict whether the stock will go up or down \n",
    "#         based on 100 predictors in R. This dataset contains 100 independent variables from X1 to X100 \n",
    "#         representing profile of a stock and one outcome variable Y with two levels : 1 for rise in stock \n",
    "#         price and -1 for drop in stock price.\n",
    "#::NOTE::The file is in Google Drive so it's difficult to download it from R\n",
    "#        URL = https://drive.google.com/file/d/0ByPBn4rtMQ5HaVFITnBObXdtVUU/view\n",
    "# https://stackoverflow.com/questions/33135060/read-csv-file-hosted-on-google-drive\n",
    "id <- \"0ByPBn4rtMQ5HaVFITnBObXdtVUU\" # google file ID\n",
    "stock <- read.csv(sprintf(\"https://docs.google.com/uc?id=%s&export=download\", id))"
   ]
  },
  {
   "cell_type": "code",
   "execution_count": 4,
   "metadata": {
    "hidden": true
   },
   "outputs": [
    {
     "data": {
      "text/html": [
       "<table>\n",
       "<caption>A data.frame: 6 × 101</caption>\n",
       "<thead>\n",
       "\t<tr><th scope=col>X1</th><th scope=col>X2</th><th scope=col>X3</th><th scope=col>X4</th><th scope=col>X5</th><th scope=col>X6</th><th scope=col>X7</th><th scope=col>X8</th><th scope=col>X9</th><th scope=col>X10</th><th scope=col>⋯</th><th scope=col>X92</th><th scope=col>X93</th><th scope=col>X94</th><th scope=col>X95</th><th scope=col>X96</th><th scope=col>X97</th><th scope=col>X98</th><th scope=col>X99</th><th scope=col>X100</th><th scope=col>Y</th></tr>\n",
       "\t<tr><th scope=col>&lt;dbl&gt;</th><th scope=col>&lt;dbl&gt;</th><th scope=col>&lt;dbl&gt;</th><th scope=col>&lt;dbl&gt;</th><th scope=col>&lt;dbl&gt;</th><th scope=col>&lt;dbl&gt;</th><th scope=col>&lt;dbl&gt;</th><th scope=col>&lt;dbl&gt;</th><th scope=col>&lt;dbl&gt;</th><th scope=col>&lt;dbl&gt;</th><th scope=col>⋯</th><th scope=col>&lt;dbl&gt;</th><th scope=col>&lt;dbl&gt;</th><th scope=col>&lt;dbl&gt;</th><th scope=col>&lt;dbl&gt;</th><th scope=col>&lt;dbl&gt;</th><th scope=col>&lt;dbl&gt;</th><th scope=col>&lt;dbl&gt;</th><th scope=col>&lt;dbl&gt;</th><th scope=col>&lt;dbl&gt;</th><th scope=col>&lt;int&gt;</th></tr>\n",
       "</thead>\n",
       "<tbody>\n",
       "\t<tr><td>100.00000</td><td>100.00000</td><td>100.0000</td><td>100.00000</td><td>100.00000</td><td>100.00000</td><td>100.0000</td><td>100.00000</td><td>100.00000</td><td>100.00000</td><td>⋯</td><td>100.00000</td><td>100.00000</td><td>100.00000</td><td>100.0000</td><td>100.00000</td><td>100.00000</td><td>100.00000</td><td>100.00000</td><td>100.00000</td><td> 1</td></tr>\n",
       "\t<tr><td> 91.56786</td><td> 96.62190</td><td> 98.0846</td><td> 96.54391</td><td> 91.67888</td><td> 96.33792</td><td> 96.1250</td><td> 94.01596</td><td> 94.40920</td><td> 97.08418</td><td>⋯</td><td> 96.88889</td><td> 95.49902</td><td> 97.45797</td><td> 99.2823</td><td>101.29670</td><td> 98.31068</td><td>100.48913</td><td> 99.60223</td><td> 93.26316</td><td>-1</td></tr>\n",
       "\t<tr><td> 92.90860</td><td> 97.64075</td><td>103.1124</td><td> 98.13031</td><td> 78.04196</td><td> 97.69384</td><td> 95.6250</td><td> 95.74468</td><td> 94.08971</td><td> 96.65523</td><td>⋯</td><td> 97.33333</td><td> 96.37980</td><td> 93.39722</td><td>100.4785</td><td>101.17995</td><td> 98.14162</td><td> 96.08484</td><td> 99.20447</td><td> 86.42105</td><td> 1</td></tr>\n",
       "\t<tr><td> 84.86918</td><td> 94.36989</td><td>109.0182</td><td>102.20963</td><td> 73.35720</td><td>100.67688</td><td> 96.9166</td><td> 93.08511</td><td> 98.24307</td><td> 98.11334</td><td>⋯</td><td>101.92593</td><td> 95.98841</td><td> 94.41241</td><td>100.9569</td><td> 99.28702</td><td>102.02702</td><td>100.32626</td><td>103.98531</td><td> 77.51318</td><td> 1</td></tr>\n",
       "\t<tr><td> 88.88889</td><td> 95.60322</td><td>108.4597</td><td>103.11615</td><td> 77.83273</td><td>104.67740</td><td>100.8750</td><td> 93.61702</td><td>100.00000</td><td> 99.82854</td><td>⋯</td><td>102.07407</td><td>102.15264</td><td>105.57947</td><td>106.9378</td><td>101.65110</td><td>103.88499</td><td>106.68814</td><td>108.52520</td><td> 85.73684</td><td> 1</td></tr>\n",
       "\t<tr><td> 87.32553</td><td> 96.30019</td><td>106.9432</td><td>102.71955</td><td> 77.41315</td><td>102.16948</td><td>100.7500</td><td> 94.94681</td><td> 97.12460</td><td> 98.11334</td><td>⋯</td><td> 98.51852</td><td>104.10959</td><td>117.76172</td><td>105.7416</td><td>100.47115</td><td>107.76999</td><td>101.95758</td><td>107.88648</td><td> 91.80261</td><td>-1</td></tr>\n",
       "</tbody>\n",
       "</table>\n"
      ],
      "text/latex": [
       "A data.frame: 6 × 101\n",
       "\\begin{tabular}{r|lllllllllllllllllllllllllllllllllllllllllllllllllllllllllllllllllllllllllllllllllllllllllllllllllllll}\n",
       " X1 & X2 & X3 & X4 & X5 & X6 & X7 & X8 & X9 & X10 & X11 & X12 & X13 & X14 & X15 & X16 & X17 & X18 & X19 & X20 & X21 & X22 & X23 & X24 & X25 & X26 & X27 & X28 & X29 & X30 & X31 & X32 & X33 & X34 & X35 & X36 & X37 & X38 & X39 & X40 & X41 & X42 & X43 & X44 & X45 & X46 & X47 & X48 & X49 & X50 & X51 & X52 & X53 & X54 & X55 & X56 & X57 & X58 & X59 & X60 & X61 & X62 & X63 & X64 & X65 & X66 & X67 & X68 & X69 & X70 & X71 & X72 & X73 & X74 & X75 & X76 & X77 & X78 & X79 & X80 & X81 & X82 & X83 & X84 & X85 & X86 & X87 & X88 & X89 & X90 & X91 & X92 & X93 & X94 & X95 & X96 & X97 & X98 & X99 & X100 & Y\\\\\n",
       " <dbl> & <dbl> & <dbl> & <dbl> & <dbl> & <dbl> & <dbl> & <dbl> & <dbl> & <dbl> & <dbl> & <dbl> & <dbl> & <dbl> & <dbl> & <dbl> & <dbl> & <dbl> & <dbl> & <dbl> & <dbl> & <dbl> & <dbl> & <dbl> & <dbl> & <dbl> & <dbl> & <dbl> & <dbl> & <dbl> & <dbl> & <dbl> & <dbl> & <dbl> & <dbl> & <dbl> & <dbl> & <dbl> & <dbl> & <dbl> & <dbl> & <dbl> & <dbl> & <dbl> & <dbl> & <dbl> & <dbl> & <dbl> & <dbl> & <dbl> & <dbl> & <dbl> & <dbl> & <dbl> & <dbl> & <dbl> & <dbl> & <dbl> & <dbl> & <dbl> & <dbl> & <dbl> & <dbl> & <dbl> & <dbl> & <dbl> & <dbl> & <dbl> & <dbl> & <dbl> & <dbl> & <dbl> & <dbl> & <dbl> & <dbl> & <dbl> & <dbl> & <dbl> & <dbl> & <dbl> & <dbl> & <dbl> & <dbl> & <dbl> & <dbl> & <dbl> & <dbl> & <dbl> & <dbl> & <dbl> & <dbl> & <dbl> & <dbl> & <dbl> & <dbl> & <dbl> & <dbl> & <dbl> & <dbl> & <dbl> & <int>\\\\\n",
       "\\hline\n",
       "\t 100.00000 & 100.00000 & 100.0000 & 100.00000 & 100.00000 & 100.00000 & 100.0000 & 100.00000 & 100.00000 & 100.00000 & 100.00000 & 100.00000 & 100.00000 & 100.00000 & 100.00000 & 100.00000 & 100.00000 & 100.00000 & 100.00000 & 100.00000 & 100.0000 & 100.00000 & 100.00000 & 100.00000 & 100.00000 & 100.00000 & 100.00000 & 100.00000 & 100.00000 & 100.00000 & 100.0000 & 100.00000 & 100.00000 & 100.00000 & 100.00000 & 100.00000 & 100.00000 & 100.00000 & 100.00000 & 100.00000 & 100.00000 & 100.00000 & 100.0000 & 100.0000 & 100.00000 & 100.00000 & 100.0000 & 100.00000 & 100.0000 & 100.00000 & 100.00000 & 100.00000 & 100.00000 & 100.00000 & 100.00000 & 100.0000 & 100.00000 & 100.00000 & 100.00000 & 100.00000 & 100.00000 & 100.00000 & 100.00000 & 100.0000 & 100.0000 & 100.00000 & 100.0000 & 100.00000 & 100.00000 & 100.00000 & 100.00000 & 100.00000 & 100.00000 & 100.00000 & 100.0000 & 100.00000 & 100.00000 & 100.0000 & 100.00000 & 100.0000 & 100.00000 & 100.00000 & 100.00000 & 100.00000 & 100.0000 & 100.00000 & 100.0000 & 100.00000 & 100.00000 & 100.00000 & 100.00000 & 100.00000 & 100.00000 & 100.00000 & 100.0000 & 100.00000 & 100.00000 & 100.00000 & 100.00000 & 100.00000 &  1\\\\\n",
       "\t  91.56786 &  96.62190 &  98.0846 &  96.54391 &  91.67888 &  96.33792 &  96.1250 &  94.01596 &  94.40920 &  97.08418 &  96.35173 &  95.62045 &  98.07571 &  96.47059 &  99.11111 &  99.32747 &  94.72602 &  92.51316 &  95.33057 &  96.48789 & 105.8576 &  97.45898 &  96.97134 &  94.38973 &  94.06453 &  98.72005 & 100.80003 &  95.62648 &  92.33753 &  92.35279 & 100.0000 &  95.44835 &  98.63481 &  97.95079 &  96.02653 &  99.17329 &  96.61181 &  96.83134 &  94.54585 &  96.00381 &  90.37993 &  98.23596 &  95.9008 & 100.0000 &  96.83323 &  91.98582 & 103.3975 &  99.85509 & 101.4062 &  94.52360 &  96.35225 &  94.84341 &  98.89726 &  93.27619 &  97.79116 & 105.3659 &  98.02856 &  93.23103 &  96.25135 &  92.97581 &  94.88876 &  96.22429 &  95.48872 & 100.0000 & 101.8182 &  97.40818 & 101.5545 &  98.84754 &  97.89726 &  93.05550 &  96.37036 &  92.98908 &  96.77791 &  94.76970 & 101.0992 &  98.06905 &  98.93221 &  97.0700 &  91.61105 & 102.4593 &  99.12031 &  98.71465 &  95.66349 &  94.13346 & 100.0000 & 100.00000 & 104.2069 &  98.90311 &  98.18512 &  97.21816 &  97.29271 &  96.88889 &  95.49902 &  97.45797 &  99.2823 & 101.29670 &  98.31068 & 100.48913 &  99.60223 &  93.26316 & -1\\\\\n",
       "\t  92.90860 &  97.64075 & 103.1124 &  98.13031 &  78.04196 &  97.69384 &  95.6250 &  95.74468 &  94.08971 &  96.65523 &  94.29373 & 100.10424 &  96.03499 &  97.84314 & 101.22240 & 101.94320 &  94.24741 &  90.10675 &  96.12069 & 100.18483 & 110.2511 &  95.08610 & 102.32558 &  94.10064 &  95.09678 &  98.48192 & 100.26729 &  96.09930 &  91.46471 &  95.53052 & 105.9783 &  94.66985 &  98.40728 &  99.52808 &  98.80690 & 104.62809 &  98.57400 &  98.78771 & 100.00000 &  97.90676 &  87.24295 &  97.24280 &  94.0000 & 106.0640 &  98.09864 &  92.90780 & 103.7037 &  99.85509 & 103.8715 &  96.13708 &  94.22456 &  94.50691 &  99.72431 &  89.31301 &  94.07647 & 116.9512 &  97.31226 &  99.73297 &  97.08610 &  90.70994 &  95.06915 &  93.64075 &  94.73684 & 104.5192 & 105.1515 & 100.42413 & 106.6063 &  93.48372 &  98.49833 &  89.07408 &  97.44632 &  89.83692 &  97.01660 &  92.00095 & 106.3188 &  96.27590 & 101.70573 &  97.2650 &  93.42245 & 105.4101 &  98.53374 & 101.67116 &  93.49510 &  94.39799 & 100.8264 &  97.17677 & 111.3408 & 101.91941 &  97.64037 &  99.41435 &  95.09317 &  97.33333 &  96.37980 &  93.39722 & 100.4785 & 101.17995 &  98.14162 &  96.08484 &  99.20447 &  86.42105 &  1\\\\\n",
       "\t  84.86918 &  94.36989 & 109.0182 & 102.20963 &  73.35720 & 100.67688 &  96.9166 &  93.08511 &  98.24307 &  98.11334 &  95.32273 &  98.43591 & 100.52469 & 101.76471 & 101.33333 & 106.12855 &  92.23323 &  93.58289 &  90.51724 & 101.57115 & 106.9038 &  99.32203 & 101.46025 &  92.53895 & 101.67721 & 102.66409 &  98.39994 & 102.48226 &  92.72559 &  97.11939 & 110.1449 & 101.10808 & 105.11926 &  98.10726 & 106.75384 &  97.52040 &  99.82032 & 101.39719 &  99.48135 & 100.76118 &  78.11085 &  98.78634 &  98.4992 & 107.1539 & 101.64828 &  90.88652 & 105.5556 & 105.95136 & 105.6337 &  98.06966 & 101.51957 &  94.17040 & 102.21041 &  93.13465 &  93.87566 & 112.1951 &  98.92490 & 104.15661 &  97.08610 &  86.25375 &  98.13590 &  95.62799 &  96.24060 & 110.0961 & 105.1515 & 103.25165 & 108.5493 &  98.84754 & 102.10174 &  90.74060 &  98.52113 &  86.63035 &  97.13605 &  97.53845 & 106.5938 & 100.68958 & 100.85286 &  97.0700 &  94.18508 & 106.0658 & 100.09776 & 106.16967 &  89.24546 & 101.59997 & 105.2220 & 105.24129 & 111.7199 & 104.11319 &  97.45917 & 110.83455 &  97.46179 & 101.92593 &  95.98841 &  94.41241 & 100.9569 &  99.28702 & 102.02702 & 100.32626 & 103.98531 &  77.51318 &  1\\\\\n",
       "\t  88.88889 &  95.60322 & 108.4597 & 103.11615 &  77.83273 & 104.67740 & 100.8750 &  93.61702 & 100.00000 &  99.82854 & 102.52572 &  98.12302 & 108.68795 & 108.62745 & 107.77778 & 107.92227 &  96.35669 &  90.64161 &  94.25287 & 110.90569 & 104.3935 & 104.40678 &  98.21525 &  97.97562 & 100.51613 & 114.06459 & 101.06732 & 103.07329 & 106.88650 & 108.04284 & 122.4638 & 116.53597 & 107.05346 & 100.63091 & 109.07222 &  99.50387 & 106.77352 &  98.97410 &  99.48135 & 108.18268 &  83.65279 & 104.07846 & 102.4000 & 110.2643 & 101.14212 &  90.14184 & 105.8667 & 105.22498 & 109.5051 & 104.56404 & 105.47114 &  96.41256 & 106.63122 &  93.48907 &  99.49815 & 111.7073 & 102.86778 & 116.15352 &  98.33823 &  88.06647 & 105.35177 &  96.89993 &  95.48872 & 110.4807 & 107.7275 & 105.56095 & 111.3990 & 112.26016 & 104.20348 &  93.74991 &  99.32810 &  92.71739 & 104.41518 & 100.00000 & 108.5165 &  99.58660 & 106.39648 &  98.2425 &  98.76088 & 106.3937 & 103.03044 & 109.64031 &  93.66856 & 100.26453 & 106.0440 & 103.62839 & 114.6508 & 113.71082 &  97.64037 & 111.27379 & 102.53795 & 102.07407 & 102.15264 & 105.57947 & 106.9378 & 101.65110 & 103.88499 & 106.68814 & 108.52520 &  85.73684 &  1\\\\\n",
       "\t  87.32553 &  96.30019 & 106.9432 & 102.71955 &  77.41315 & 102.16948 & 100.7500 &  94.94681 &  97.12460 &  98.11334 & 100.37418 &  97.60166 & 108.16326 & 108.23529 & 104.55573 & 105.08221 &  96.93195 & 102.27262 &  98.56322 & 107.57857 & 120.2929 & 100.33898 & 102.48783 & 101.61943 &  96.77399 & 112.08513 & 101.86735 & 101.89126 & 105.14071 & 114.59690 & 121.9203 & 131.74224 & 108.41864 & 101.10536 & 108.34322 &  99.17329 & 110.69503 &  99.90606 & 101.16863 & 103.90105 &  88.88109 & 104.63061 & 103.4016 & 108.7091 & 105.45101 &  90.31915 & 101.5457 & 107.69302 & 111.6189 & 106.74157 & 104.86301 &  99.32771 & 107.73396 &  95.54086 & 102.20884 & 105.8537 & 100.53755 & 128.15044 &  97.50348 &  85.80060 & 103.42754 &  98.29108 &  96.24060 & 107.6923 & 107.2727 & 102.87480 & 111.2694 & 114.55894 & 100.90060 &  96.75922 & 101.34381 &  98.58679 & 102.38656 &  98.46202 & 107.6923 &  99.31042 & 115.77798 &  96.9725 & 102.57404 & 106.3937 & 105.66968 & 106.04134 &  91.84737 & 102.39782 & 108.2418 & 104.83871 & 113.6317 & 112.43141 &  95.64430 & 108.49195 &  97.96954 &  98.51852 & 104.10959 & 117.76172 & 105.7416 & 100.47115 & 107.76999 & 101.95758 & 107.88648 &  91.80261 & -1\\\\\n",
       "\\end{tabular}\n"
      ],
      "text/markdown": [
       "\n",
       "A data.frame: 6 × 101\n",
       "\n",
       "| X1 &lt;dbl&gt; | X2 &lt;dbl&gt; | X3 &lt;dbl&gt; | X4 &lt;dbl&gt; | X5 &lt;dbl&gt; | X6 &lt;dbl&gt; | X7 &lt;dbl&gt; | X8 &lt;dbl&gt; | X9 &lt;dbl&gt; | X10 &lt;dbl&gt; | ⋯ ⋯ | X92 &lt;dbl&gt; | X93 &lt;dbl&gt; | X94 &lt;dbl&gt; | X95 &lt;dbl&gt; | X96 &lt;dbl&gt; | X97 &lt;dbl&gt; | X98 &lt;dbl&gt; | X99 &lt;dbl&gt; | X100 &lt;dbl&gt; | Y &lt;int&gt; |\n",
       "|---|---|---|---|---|---|---|---|---|---|---|---|---|---|---|---|---|---|---|---|---|\n",
       "| 100.00000 | 100.00000 | 100.0000 | 100.00000 | 100.00000 | 100.00000 | 100.0000 | 100.00000 | 100.00000 | 100.00000 | ⋯ | 100.00000 | 100.00000 | 100.00000 | 100.0000 | 100.00000 | 100.00000 | 100.00000 | 100.00000 | 100.00000 |  1 |\n",
       "|  91.56786 |  96.62190 |  98.0846 |  96.54391 |  91.67888 |  96.33792 |  96.1250 |  94.01596 |  94.40920 |  97.08418 | ⋯ |  96.88889 |  95.49902 |  97.45797 |  99.2823 | 101.29670 |  98.31068 | 100.48913 |  99.60223 |  93.26316 | -1 |\n",
       "|  92.90860 |  97.64075 | 103.1124 |  98.13031 |  78.04196 |  97.69384 |  95.6250 |  95.74468 |  94.08971 |  96.65523 | ⋯ |  97.33333 |  96.37980 |  93.39722 | 100.4785 | 101.17995 |  98.14162 |  96.08484 |  99.20447 |  86.42105 |  1 |\n",
       "|  84.86918 |  94.36989 | 109.0182 | 102.20963 |  73.35720 | 100.67688 |  96.9166 |  93.08511 |  98.24307 |  98.11334 | ⋯ | 101.92593 |  95.98841 |  94.41241 | 100.9569 |  99.28702 | 102.02702 | 100.32626 | 103.98531 |  77.51318 |  1 |\n",
       "|  88.88889 |  95.60322 | 108.4597 | 103.11615 |  77.83273 | 104.67740 | 100.8750 |  93.61702 | 100.00000 |  99.82854 | ⋯ | 102.07407 | 102.15264 | 105.57947 | 106.9378 | 101.65110 | 103.88499 | 106.68814 | 108.52520 |  85.73684 |  1 |\n",
       "|  87.32553 |  96.30019 | 106.9432 | 102.71955 |  77.41315 | 102.16948 | 100.7500 |  94.94681 |  97.12460 |  98.11334 | ⋯ |  98.51852 | 104.10959 | 117.76172 | 105.7416 | 100.47115 | 107.76999 | 101.95758 | 107.88648 |  91.80261 | -1 |\n",
       "\n"
      ],
      "text/plain": [
       "  X1        X2        X3       X4        X5        X6        X7       X8       \n",
       "1 100.00000 100.00000 100.0000 100.00000 100.00000 100.00000 100.0000 100.00000\n",
       "2  91.56786  96.62190  98.0846  96.54391  91.67888  96.33792  96.1250  94.01596\n",
       "3  92.90860  97.64075 103.1124  98.13031  78.04196  97.69384  95.6250  95.74468\n",
       "4  84.86918  94.36989 109.0182 102.20963  73.35720 100.67688  96.9166  93.08511\n",
       "5  88.88889  95.60322 108.4597 103.11615  77.83273 104.67740 100.8750  93.61702\n",
       "6  87.32553  96.30019 106.9432 102.71955  77.41315 102.16948 100.7500  94.94681\n",
       "  X9        X10       ⋯ X92       X93       X94       X95      X96      \n",
       "1 100.00000 100.00000 ⋯ 100.00000 100.00000 100.00000 100.0000 100.00000\n",
       "2  94.40920  97.08418 ⋯  96.88889  95.49902  97.45797  99.2823 101.29670\n",
       "3  94.08971  96.65523 ⋯  97.33333  96.37980  93.39722 100.4785 101.17995\n",
       "4  98.24307  98.11334 ⋯ 101.92593  95.98841  94.41241 100.9569  99.28702\n",
       "5 100.00000  99.82854 ⋯ 102.07407 102.15264 105.57947 106.9378 101.65110\n",
       "6  97.12460  98.11334 ⋯  98.51852 104.10959 117.76172 105.7416 100.47115\n",
       "  X97       X98       X99       X100      Y \n",
       "1 100.00000 100.00000 100.00000 100.00000  1\n",
       "2  98.31068 100.48913  99.60223  93.26316 -1\n",
       "3  98.14162  96.08484  99.20447  86.42105  1\n",
       "4 102.02702 100.32626 103.98531  77.51318  1\n",
       "5 103.88499 106.68814 108.52520  85.73684  1\n",
       "6 107.76999 101.95758 107.88648  91.80261 -1"
      ]
     },
     "metadata": {},
     "output_type": "display_data"
    }
   ],
   "source": [
    "head(stock)"
   ]
  },
  {
   "cell_type": "code",
   "execution_count": 5,
   "metadata": {
    "hidden": true
   },
   "outputs": [
    {
     "data": {
      "text/html": [
       "<ol class=list-inline>\n",
       "\t<li>3000</li>\n",
       "\t<li>101</li>\n",
       "</ol>\n"
      ],
      "text/latex": [
       "\\begin{enumerate*}\n",
       "\\item 3000\n",
       "\\item 101\n",
       "\\end{enumerate*}\n"
      ],
      "text/markdown": [
       "1. 3000\n",
       "2. 101\n",
       "\n",
       "\n"
      ],
      "text/plain": [
       "[1] 3000  101"
      ]
     },
     "metadata": {},
     "output_type": "display_data"
    }
   ],
   "source": [
    "dim(stock)"
   ]
  },
  {
   "cell_type": "code",
   "execution_count": 6,
   "metadata": {
    "hidden": true
   },
   "outputs": [],
   "source": [
    "#::GMG::I use mlbench to get the pima indians diabetes dataset\n",
    "#       that is my dataset\n",
    "# https://cran.r-project.org/web/packages/mlbench/mlbench.pdf\n",
    "data(PimaIndiansDiabetes)"
   ]
  },
  {
   "cell_type": "code",
   "execution_count": 7,
   "metadata": {
    "hidden": true
   },
   "outputs": [
    {
     "data": {
      "text/html": [
       "<table>\n",
       "<caption>A data.frame: 6 × 9</caption>\n",
       "<thead>\n",
       "\t<tr><th scope=col>pregnant</th><th scope=col>glucose</th><th scope=col>pressure</th><th scope=col>triceps</th><th scope=col>insulin</th><th scope=col>mass</th><th scope=col>pedigree</th><th scope=col>age</th><th scope=col>diabetes</th></tr>\n",
       "\t<tr><th scope=col>&lt;dbl&gt;</th><th scope=col>&lt;dbl&gt;</th><th scope=col>&lt;dbl&gt;</th><th scope=col>&lt;dbl&gt;</th><th scope=col>&lt;dbl&gt;</th><th scope=col>&lt;dbl&gt;</th><th scope=col>&lt;dbl&gt;</th><th scope=col>&lt;dbl&gt;</th><th scope=col>&lt;fct&gt;</th></tr>\n",
       "</thead>\n",
       "<tbody>\n",
       "\t<tr><td>6</td><td>148</td><td>72</td><td>35</td><td>  0</td><td>33.6</td><td>0.627</td><td>50</td><td>pos</td></tr>\n",
       "\t<tr><td>1</td><td> 85</td><td>66</td><td>29</td><td>  0</td><td>26.6</td><td>0.351</td><td>31</td><td>neg</td></tr>\n",
       "\t<tr><td>8</td><td>183</td><td>64</td><td> 0</td><td>  0</td><td>23.3</td><td>0.672</td><td>32</td><td>pos</td></tr>\n",
       "\t<tr><td>1</td><td> 89</td><td>66</td><td>23</td><td> 94</td><td>28.1</td><td>0.167</td><td>21</td><td>neg</td></tr>\n",
       "\t<tr><td>0</td><td>137</td><td>40</td><td>35</td><td>168</td><td>43.1</td><td>2.288</td><td>33</td><td>pos</td></tr>\n",
       "\t<tr><td>5</td><td>116</td><td>74</td><td> 0</td><td>  0</td><td>25.6</td><td>0.201</td><td>30</td><td>neg</td></tr>\n",
       "</tbody>\n",
       "</table>\n"
      ],
      "text/latex": [
       "A data.frame: 6 × 9\n",
       "\\begin{tabular}{r|lllllllll}\n",
       " pregnant & glucose & pressure & triceps & insulin & mass & pedigree & age & diabetes\\\\\n",
       " <dbl> & <dbl> & <dbl> & <dbl> & <dbl> & <dbl> & <dbl> & <dbl> & <fct>\\\\\n",
       "\\hline\n",
       "\t 6 & 148 & 72 & 35 &   0 & 33.6 & 0.627 & 50 & pos\\\\\n",
       "\t 1 &  85 & 66 & 29 &   0 & 26.6 & 0.351 & 31 & neg\\\\\n",
       "\t 8 & 183 & 64 &  0 &   0 & 23.3 & 0.672 & 32 & pos\\\\\n",
       "\t 1 &  89 & 66 & 23 &  94 & 28.1 & 0.167 & 21 & neg\\\\\n",
       "\t 0 & 137 & 40 & 35 & 168 & 43.1 & 2.288 & 33 & pos\\\\\n",
       "\t 5 & 116 & 74 &  0 &   0 & 25.6 & 0.201 & 30 & neg\\\\\n",
       "\\end{tabular}\n"
      ],
      "text/markdown": [
       "\n",
       "A data.frame: 6 × 9\n",
       "\n",
       "| pregnant &lt;dbl&gt; | glucose &lt;dbl&gt; | pressure &lt;dbl&gt; | triceps &lt;dbl&gt; | insulin &lt;dbl&gt; | mass &lt;dbl&gt; | pedigree &lt;dbl&gt; | age &lt;dbl&gt; | diabetes &lt;fct&gt; |\n",
       "|---|---|---|---|---|---|---|---|---|\n",
       "| 6 | 148 | 72 | 35 |   0 | 33.6 | 0.627 | 50 | pos |\n",
       "| 1 |  85 | 66 | 29 |   0 | 26.6 | 0.351 | 31 | neg |\n",
       "| 8 | 183 | 64 |  0 |   0 | 23.3 | 0.672 | 32 | pos |\n",
       "| 1 |  89 | 66 | 23 |  94 | 28.1 | 0.167 | 21 | neg |\n",
       "| 0 | 137 | 40 | 35 | 168 | 43.1 | 2.288 | 33 | pos |\n",
       "| 5 | 116 | 74 |  0 |   0 | 25.6 | 0.201 | 30 | neg |\n",
       "\n"
      ],
      "text/plain": [
       "  pregnant glucose pressure triceps insulin mass pedigree age diabetes\n",
       "1 6        148     72       35        0     33.6 0.627    50  pos     \n",
       "2 1         85     66       29        0     26.6 0.351    31  neg     \n",
       "3 8        183     64        0        0     23.3 0.672    32  pos     \n",
       "4 1         89     66       23       94     28.1 0.167    21  neg     \n",
       "5 0        137     40       35      168     43.1 2.288    33  pos     \n",
       "6 5        116     74        0        0     25.6 0.201    30  neg     "
      ]
     },
     "metadata": {},
     "output_type": "display_data"
    }
   ],
   "source": [
    "head(PimaIndiansDiabetes)"
   ]
  },
  {
   "cell_type": "code",
   "execution_count": 8,
   "metadata": {
    "hidden": true
   },
   "outputs": [
    {
     "data": {
      "text/html": [
       "<ol class=list-inline>\n",
       "\t<li>768</li>\n",
       "\t<li>9</li>\n",
       "</ol>\n"
      ],
      "text/latex": [
       "\\begin{enumerate*}\n",
       "\\item 768\n",
       "\\item 9\n",
       "\\end{enumerate*}\n"
      ],
      "text/markdown": [
       "1. 768\n",
       "2. 9\n",
       "\n",
       "\n"
      ],
      "text/plain": [
       "[1] 768   9"
      ]
     },
     "metadata": {},
     "output_type": "display_data"
    }
   ],
   "source": [
    "dim(PimaIndiansDiabetes)"
   ]
  },
  {
   "cell_type": "markdown",
   "metadata": {
    "heading_collapsed": true,
    "hidden": true
   },
   "source": [
    "### exploratory data analysis"
   ]
  },
  {
   "cell_type": "code",
   "execution_count": 9,
   "metadata": {
    "hidden": true
   },
   "outputs": [
    {
     "data": {
      "text/html": [
       "<ol class=list-inline>\n",
       "\t<li>'id'</li>\n",
       "\t<li>'PimaIndiansDiabetes'</li>\n",
       "\t<li>'stock'</li>\n",
       "\t<li>'using'</li>\n",
       "</ol>\n"
      ],
      "text/latex": [
       "\\begin{enumerate*}\n",
       "\\item 'id'\n",
       "\\item 'PimaIndiansDiabetes'\n",
       "\\item 'stock'\n",
       "\\item 'using'\n",
       "\\end{enumerate*}\n"
      ],
      "text/markdown": [
       "1. 'id'\n",
       "2. 'PimaIndiansDiabetes'\n",
       "3. 'stock'\n",
       "4. 'using'\n",
       "\n",
       "\n"
      ],
      "text/plain": [
       "[1] \"id\"                  \"PimaIndiansDiabetes\" \"stock\"              \n",
       "[4] \"using\"              "
      ]
     },
     "metadata": {},
     "output_type": "display_data"
    }
   ],
   "source": [
    "#::GMG::Here I can see the variables (datasets and functions in memory)\n",
    "ls()"
   ]
  },
  {
   "cell_type": "code",
   "execution_count": 10,
   "metadata": {
    "hidden": true
   },
   "outputs": [],
   "source": [
    "#::GMG::I do some factor feature addition in stock based on Y\n",
    "#       Y {1, -1} -> factor w/ 2 levels 'bull', 'bear', i.e up and down ;)\n",
    "#::NOTE::Useless, I comment it out\n",
    "#stock$market <- as.factor(stock$Y)\n",
    "#levels(stock$market) <- c('bull', 'bear')\n",
    "#str(stock$market)"
   ]
  },
  {
   "cell_type": "code",
   "execution_count": 11,
   "metadata": {
    "hidden": true
   },
   "outputs": [
    {
     "name": "stdout",
     "output_type": "stream",
     "text": [
      "'data.frame':\t3000 obs. of  22 variables:\n",
      " $ X80 : num  100 102 105 106 106 ...\n",
      " $ X81 : num  100 99.1 98.5 100.1 103 ...\n",
      " $ X82 : num  100 98.7 101.7 106.2 109.6 ...\n",
      " $ X83 : num  100 95.7 93.5 89.2 93.7 ...\n",
      " $ X84 : num  100 94.1 94.4 101.6 100.3 ...\n",
      " $ X85 : num  100 100 101 105 106 ...\n",
      " $ X86 : num  100 100 97.2 105.2 103.6 ...\n",
      " $ X87 : num  100 104 111 112 115 ...\n",
      " $ X88 : num  100 98.9 101.9 104.1 113.7 ...\n",
      " $ X89 : num  100 98.2 97.6 97.5 97.6 ...\n",
      " $ X90 : num  100 97.2 99.4 110.8 111.3 ...\n",
      " $ X91 : num  100 97.3 95.1 97.5 102.5 ...\n",
      " $ X92 : num  100 96.9 97.3 101.9 102.1 ...\n",
      " $ X93 : num  100 95.5 96.4 96 102.2 ...\n",
      " $ X94 : num  100 97.5 93.4 94.4 105.6 ...\n",
      " $ X95 : num  100 99.3 100.5 101 106.9 ...\n",
      " $ X96 : num  100 101.3 101.2 99.3 101.7 ...\n",
      " $ X97 : num  100 98.3 98.1 102 103.9 ...\n",
      " $ X98 : num  100 100.5 96.1 100.3 106.7 ...\n",
      " $ X99 : num  100 99.6 99.2 104 108.5 ...\n",
      " $ X100: num  100 93.3 86.4 77.5 85.7 ...\n",
      " $ Y   : int  1 -1 1 1 1 -1 1 1 1 1 ...\n"
     ]
    }
   ],
   "source": [
    "#::GMG::100 features (view last 21) + Y (binary level factor)\n",
    "str(stock[,80:101])"
   ]
  },
  {
   "cell_type": "code",
   "execution_count": 12,
   "metadata": {
    "hidden": true
   },
   "outputs": [
    {
     "name": "stdout",
     "output_type": "stream",
     "text": [
      "'data.frame':\t768 obs. of  9 variables:\n",
      " $ pregnant: num  6 1 8 1 0 5 3 10 2 8 ...\n",
      " $ glucose : num  148 85 183 89 137 116 78 115 197 125 ...\n",
      " $ pressure: num  72 66 64 66 40 74 50 0 70 96 ...\n",
      " $ triceps : num  35 29 0 23 35 0 32 0 45 0 ...\n",
      " $ insulin : num  0 0 0 94 168 0 88 0 543 0 ...\n",
      " $ mass    : num  33.6 26.6 23.3 28.1 43.1 25.6 31 35.3 30.5 0 ...\n",
      " $ pedigree: num  0.627 0.351 0.672 0.167 2.288 ...\n",
      " $ age     : num  50 31 32 21 33 30 26 29 53 54 ...\n",
      " $ diabetes: Factor w/ 2 levels \"neg\",\"pos\": 2 1 2 1 2 1 2 1 2 2 ...\n"
     ]
    }
   ],
   "source": [
    "str(PimaIndiansDiabetes)"
   ]
  },
  {
   "cell_type": "code",
   "execution_count": 13,
   "metadata": {
    "hidden": true
   },
   "outputs": [
    {
     "data": {
      "text/html": [
       "<dl class=dl-horizontal>\n",
       "\t<dt>glucose</dt>\n",
       "\t\t<dd>5</dd>\n",
       "\t<dt>pressure</dt>\n",
       "\t\t<dd>35</dd>\n",
       "\t<dt>triceps</dt>\n",
       "\t\t<dd>227</dd>\n",
       "\t<dt>insulin</dt>\n",
       "\t\t<dd>374</dd>\n",
       "\t<dt>mass</dt>\n",
       "\t\t<dd>11</dd>\n",
       "</dl>\n"
      ],
      "text/latex": [
       "\\begin{description*}\n",
       "\\item[glucose] 5\n",
       "\\item[pressure] 35\n",
       "\\item[triceps] 227\n",
       "\\item[insulin] 374\n",
       "\\item[mass] 11\n",
       "\\end{description*}\n"
      ],
      "text/markdown": [
       "glucose\n",
       ":   5pressure\n",
       ":   35triceps\n",
       ":   227insulin\n",
       ":   374mass\n",
       ":   11\n",
       "\n"
      ],
      "text/plain": [
       " glucose pressure  triceps  insulin     mass \n",
       "       5       35      227      374       11 "
      ]
     },
     "metadata": {},
     "output_type": "display_data"
    }
   ],
   "source": [
    "#::GMG::I know Pima Indians Diabetes has outliers (zeros) in 'glucose', `pressure', 'triceps', 'insulin', 'mass'\n",
    "#       and I can remove all but two, i.e 'triceps', 'insulin' with low impact in dataset\n",
    "#::NOTE::'triceps', 'insulin' would need complex imputation I won't try now\n",
    "apply(X = PimaIndiansDiabetes[c(\"glucose\", \"pressure\", \"triceps\", \"insulin\", \"mass\")], \n",
    "      MARGIN = 2, \n",
    "      FUN = function(c) sum(c == 0))"
   ]
  },
  {
   "cell_type": "code",
   "execution_count": 14,
   "metadata": {
    "hidden": true
   },
   "outputs": [],
   "source": [
    "#::GMG::I get the subset of rows to remove with conditional slicing\n",
    "row_sub <- apply(\n",
    "             X = PimaIndiansDiabetes[c(\"glucose\", \"pressure\", \"mass\")], \n",
    "             MARGIN = 1, \n",
    "             FUN = function(row) all(row != 0)\n",
    ")"
   ]
  },
  {
   "cell_type": "code",
   "execution_count": 15,
   "metadata": {
    "hidden": true
   },
   "outputs": [],
   "source": [
    "#::GMG::I transfer the somewhat cleaned dataset to a new dataframe (keep the original)\n",
    "pima_mod <- PimaIndiansDiabetes[row_sub,]"
   ]
  },
  {
   "cell_type": "code",
   "execution_count": 16,
   "metadata": {
    "hidden": true
   },
   "outputs": [
    {
     "name": "stdout",
     "output_type": "stream",
     "text": [
      "'data.frame':\t724 obs. of  9 variables:\n",
      " $ pregnant: num  6 1 8 1 0 5 3 2 4 10 ...\n",
      " $ glucose : num  148 85 183 89 137 116 78 197 110 168 ...\n",
      " $ pressure: num  72 66 64 66 40 74 50 70 92 74 ...\n",
      " $ triceps : num  35 29 0 23 35 0 32 45 0 0 ...\n",
      " $ insulin : num  0 0 0 94 168 0 88 543 0 0 ...\n",
      " $ mass    : num  33.6 26.6 23.3 28.1 43.1 25.6 31 30.5 37.6 38 ...\n",
      " $ pedigree: num  0.627 0.351 0.672 0.167 2.288 ...\n",
      " $ age     : num  50 31 32 21 33 30 26 53 30 34 ...\n",
      " $ diabetes: Factor w/ 2 levels \"neg\",\"pos\": 2 1 2 1 2 1 2 2 1 2 ...\n"
     ]
    }
   ],
   "source": [
    "#::GMG::Now I've got less rows and less outliers too!\n",
    "str(pima_mod)"
   ]
  },
  {
   "cell_type": "code",
   "execution_count": 17,
   "metadata": {
    "hidden": true
   },
   "outputs": [
    {
     "data": {
      "text/html": [
       "<dl class=dl-horizontal>\n",
       "\t<dt>glucose</dt>\n",
       "\t\t<dd>0</dd>\n",
       "\t<dt>pressure</dt>\n",
       "\t\t<dd>0</dd>\n",
       "\t<dt>triceps</dt>\n",
       "\t\t<dd>192</dd>\n",
       "\t<dt>insulin</dt>\n",
       "\t\t<dd>332</dd>\n",
       "\t<dt>mass</dt>\n",
       "\t\t<dd>0</dd>\n",
       "</dl>\n"
      ],
      "text/latex": [
       "\\begin{description*}\n",
       "\\item[glucose] 0\n",
       "\\item[pressure] 0\n",
       "\\item[triceps] 192\n",
       "\\item[insulin] 332\n",
       "\\item[mass] 0\n",
       "\\end{description*}\n"
      ],
      "text/markdown": [
       "glucose\n",
       ":   0pressure\n",
       ":   0triceps\n",
       ":   192insulin\n",
       ":   332mass\n",
       ":   0\n",
       "\n"
      ],
      "text/plain": [
       " glucose pressure  triceps  insulin     mass \n",
       "       0        0      192      332        0 "
      ]
     },
     "metadata": {},
     "output_type": "display_data"
    }
   ],
   "source": [
    "apply(X = pima_mod[c(\"glucose\", \"pressure\", \"triceps\", \"insulin\", \"mass\")], \n",
    "      MARGIN = 2, \n",
    "      FUN = function(c) sum(c == 0))"
   ]
  },
  {
   "cell_type": "code",
   "execution_count": 18,
   "metadata": {
    "hidden": true
   },
   "outputs": [
    {
     "data": {
      "text/html": [
       "<ol class=list-inline>\n",
       "\t<li>'id'</li>\n",
       "\t<li>'pima_mod'</li>\n",
       "\t<li>'PimaIndiansDiabetes'</li>\n",
       "\t<li>'row_sub'</li>\n",
       "\t<li>'stock'</li>\n",
       "\t<li>'using'</li>\n",
       "</ol>\n"
      ],
      "text/latex": [
       "\\begin{enumerate*}\n",
       "\\item 'id'\n",
       "\\item 'pima\\_mod'\n",
       "\\item 'PimaIndiansDiabetes'\n",
       "\\item 'row\\_sub'\n",
       "\\item 'stock'\n",
       "\\item 'using'\n",
       "\\end{enumerate*}\n"
      ],
      "text/markdown": [
       "1. 'id'\n",
       "2. 'pima_mod'\n",
       "3. 'PimaIndiansDiabetes'\n",
       "4. 'row_sub'\n",
       "5. 'stock'\n",
       "6. 'using'\n",
       "\n",
       "\n"
      ],
      "text/plain": [
       "[1] \"id\"                  \"pima_mod\"            \"PimaIndiansDiabetes\"\n",
       "[4] \"row_sub\"             \"stock\"               \"using\"              "
      ]
     },
     "metadata": {},
     "output_type": "display_data"
    }
   ],
   "source": [
    "#::GMG::Here I can see again the variables (datasets and functions in memory)\n",
    "ls()"
   ]
  },
  {
   "cell_type": "markdown",
   "metadata": {
    "hidden": true
   },
   "source": [
    "**::GMG::** Now I would perform some correlation analysis among the features and between each feature and the classification variable. I've done that in other notebooks with `corrplot` ([CRAN](https://cran.r-project.org/web/packages/corrplot/index.html), [STHDA](http://www.sthda.com/english/wiki/correlation-matrix-a-quick-start-guide-to-analyze-format-and-visualize-a-correlation-matrix-using-r-software)) (there's another similar package [quoted in Quick R](https://www.statmethods.net/advgraphs/correlograms.html) called `corrgram` ([CRAN](https://cran.r-project.org/web/packages/corrgram/index.html)) I haven't tried). With **100 features** in `stock` ... well, it's not easy to do that, isn't it? At least as a graph. "
   ]
  },
  {
   "cell_type": "code",
   "execution_count": 19,
   "metadata": {
    "hidden": true
   },
   "outputs": [],
   "source": [
    "#::GMG::Note that 'diabetes' must be numeric to plot the correlation (!)\n",
    "#       Otherwise it yields Error in cor(pima_mod): 'x' must be numeric\n",
    "pima_mod$class <- as.numeric(pima_mod$diabetes == 'pos')"
   ]
  },
  {
   "cell_type": "code",
   "execution_count": 20,
   "metadata": {
    "hidden": true
   },
   "outputs": [
    {
     "name": "stdout",
     "output_type": "stream",
     "text": [
      "'data.frame':\t724 obs. of  10 variables:\n",
      " $ pregnant: num  6 1 8 1 0 5 3 2 4 10 ...\n",
      " $ glucose : num  148 85 183 89 137 116 78 197 110 168 ...\n",
      " $ pressure: num  72 66 64 66 40 74 50 70 92 74 ...\n",
      " $ triceps : num  35 29 0 23 35 0 32 45 0 0 ...\n",
      " $ insulin : num  0 0 0 94 168 0 88 543 0 0 ...\n",
      " $ mass    : num  33.6 26.6 23.3 28.1 43.1 25.6 31 30.5 37.6 38 ...\n",
      " $ pedigree: num  0.627 0.351 0.672 0.167 2.288 ...\n",
      " $ age     : num  50 31 32 21 33 30 26 53 30 34 ...\n",
      " $ diabetes: Factor w/ 2 levels \"neg\",\"pos\": 2 1 2 1 2 1 2 2 1 2 ...\n",
      " $ class   : num  1 0 1 0 1 0 1 1 0 1 ...\n"
     ]
    }
   ],
   "source": [
    "#::GMG::Added class column binary 0/1 (neg/pos) nmeric vector from 2 factor diabetes\n",
    "str(pima_mod)"
   ]
  },
  {
   "cell_type": "code",
   "execution_count": 21,
   "metadata": {
    "hidden": true
   },
   "outputs": [
    {
     "name": "stdout",
     "output_type": "stream",
     "text": [
      "'data.frame':\t724 obs. of  9 variables:\n",
      " $ pregnant: num  6 1 8 1 0 5 3 2 4 10 ...\n",
      " $ glucose : num  148 85 183 89 137 116 78 197 110 168 ...\n",
      " $ pressure: num  72 66 64 66 40 74 50 70 92 74 ...\n",
      " $ triceps : num  35 29 0 23 35 0 32 45 0 0 ...\n",
      " $ insulin : num  0 0 0 94 168 0 88 543 0 0 ...\n",
      " $ mass    : num  33.6 26.6 23.3 28.1 43.1 25.6 31 30.5 37.6 38 ...\n",
      " $ pedigree: num  0.627 0.351 0.672 0.167 2.288 ...\n",
      " $ age     : num  50 31 32 21 33 30 26 53 30 34 ...\n",
      " $ class   : num  1 0 1 0 1 0 1 1 0 1 ...\n"
     ]
    }
   ],
   "source": [
    "#::GMG::There's a clever way of not including the factor in correlation\n",
    "# https://stackoverflow.com/questions/9805507/deselecting-a-column-by-name\n",
    "str(pima_mod[,!(colnames(pima_mod) == \"diabetes\")])"
   ]
  },
  {
   "cell_type": "code",
   "execution_count": 22,
   "metadata": {
    "hidden": true
   },
   "outputs": [],
   "source": [
    "#::GMG::For Pima Indians Diabetes there are a bunch of features we can plot in a correlation graph with corrplot\n",
    "# http://www.sthda.com/english/wiki/visualize-correlation-matrix-using-correlogram\n",
    "# https://stat.ethz.ch/R-manual/R-devel/library/stats/html/cor.html\n",
    "# https://www.statmethods.net/stats/correlations.html\n",
    "#::NOTE::Se also https://www.statmethods.net/advgraphs/correlograms.html\n",
    "M <- cor(pima_mod[,!(colnames(pima_mod) == \"diabetes\")])"
   ]
  },
  {
   "cell_type": "code",
   "execution_count": 23,
   "metadata": {
    "hidden": true
   },
   "outputs": [
    {
     "data": {
      "image/png": "[encoded data removed]",
      "text/plain": [
       "Plot with title “”"
      ]
     },
     "metadata": {},
     "output_type": "display_data"
    }
   ],
   "source": [
    "#::GMG::Plpot correlation plot\n",
    "# http://www.sthda.com/english/wiki/visualize-correlation-matrix-using-correlogram\n",
    "col<- colorRampPalette(c(\"red\", \"white\", \"blue\"))(20)\n",
    "corrplot(M, method=\"number\", type=\"upper\", col = col)"
   ]
  },
  {
   "cell_type": "markdown",
   "metadata": {
    "hidden": true
   },
   "source": [
    "**::GMG::** There are *weak* correlations between `insuline` and `triceps`, and `triceps` and `mass` and *stronger* between `glucose` and `diabetes` (`class`) and `pregant` and `age`.  I could devise a *cut-off* value to select some of the features based on their correlation (by default *Pearson*) with class as a measure of *relevance*. Or remove some of them based on *their correlation with other features* (some cut-off here as well) as a measure of *redundancy*."
   ]
  },
  {
   "cell_type": "markdown",
   "metadata": {
    "hidden": true
   },
   "source": [
    "**::GMG::** We did something similar in `M1966` with the meteo dataset but using the `Spearman` correlation, then chosing a cut-off. There are [some queues](https://www.google.com/search?client=firefox-b-d&q=pearson+versus+spearman+correlations) about the difference berween those correlations.\n",
    "\n",
    "> The Pearson correlation evaluates the linear relationship between two continuous variables. ... In a monotonic relationship, the variables tend to change together, but not necessarily at a constant rate. The Spearman correlation coefficient is based on the ranked values for each variable rather than the raw data. [A comparison of the Pearson and Spearman correlation methods](https://support.minitab.com/en-us/minitab-express/1/help-and-how-to/modeling-statistics/regression/supporting-topics/basics/a-comparison-of-the-pearson-and-spearman-correlation-methods/)\n",
    "\n",
    "> Should I use Pearson or Spearman correlation? Whereas,when the variables are not normally distributed or the relationship between the variables is not linear it may be more appropriate to use the Spearman rank correlation method. ... The Pearson correlation method measures the strength of the linear relationship between normally distributed variables. (Research Gate) [Which correlation coefficient is better to use: Spearman or Pearson?](https://www.researchgate.net/post/Which_correlation_coefficient_is_better_to_use_Spearman_or_Pearson)\n",
    "\n",
    "**::NOTE::** This does not work."
   ]
  },
  {
   "cell_type": "code",
   "execution_count": 24,
   "metadata": {
    "hidden": true
   },
   "outputs": [],
   "source": [
    "#stock$market <- as.numeric(stock$Y == 1)\n",
    "#str(stock$market)"
   ]
  },
  {
   "cell_type": "code",
   "execution_count": 25,
   "metadata": {
    "hidden": true
   },
   "outputs": [],
   "source": [
    "#str(stock[,80:102])"
   ]
  },
  {
   "cell_type": "code",
   "execution_count": 26,
   "metadata": {
    "hidden": true
   },
   "outputs": [],
   "source": [
    "#stock_z <- as.data.frame(scale(x = stock[,!(colnames(stock) == 'Y')], center = T, scale = T))"
   ]
  },
  {
   "cell_type": "code",
   "execution_count": 27,
   "metadata": {
    "hidden": true
   },
   "outputs": [],
   "source": [
    "#str(stock_z[,80:101])"
   ]
  },
  {
   "cell_type": "code",
   "execution_count": 28,
   "metadata": {
    "hidden": true
   },
   "outputs": [],
   "source": [
    "#::GMG::M1966 like\n",
    "# https://www.statmethods.net/stats/correlations.html\n",
    "#::NOTE::With pearson the cut-off must be less tha 0.1 (!!)\n",
    "#        even if a make Y be 0 and 1 instead of 1 and -1 ...\n",
    "#        kendall is compute intensive ... several seconds compared to the others\n",
    "#        and yields same uncorrelation < 0.05 (!!)\n",
    "# https://en.wikipedia.org/wiki/Kendall_rank_correlation_coefficient\n",
    "#\n",
    "#        scaling does not work the trick ...\n",
    "#        So I guess it does not work in a classification task\n",
    "#        Therefor I comment it out ;)\n",
    "#r_xy <- c()\n",
    "#for (ivar in 1:(ncol(stock_z) - 1)) {\n",
    "#  r_xy[ivar] <- cor(stock_z$market, stock_z[, ivar], method = \"spearman\")\n",
    "#}"
   ]
  },
  {
   "cell_type": "code",
   "execution_count": 29,
   "metadata": {
    "hidden": true
   },
   "outputs": [],
   "source": [
    "#::GMG::I plot the correlations\n",
    "#plot(r_xy, \n",
    "#     ylim = c(-0.5, 0.5), \n",
    "#     pch = 19, cex = 0.5, \n",
    "#     xlab = \"X_mn predictor\", \n",
    "#     ylab = \"Spearman corr. with Y\")\n",
    "#grid()\n",
    "#::GMG::and mark in red the selected variables above the cut-off\n",
    "#ind_sele <- which(abs(r_xy) > 0.4)\n",
    "#points(ind_sele, r_xy[ind_sele], col = \"red\", cex = 0.5)"
   ]
  },
  {
   "cell_type": "code",
   "execution_count": 30,
   "metadata": {
    "hidden": true
   },
   "outputs": [
    {
     "data": {
      "text/plain": [
       "\n",
       "neg pos \n",
       "475 249 "
      ]
     },
     "metadata": {},
     "output_type": "display_data"
    }
   ],
   "source": [
    "#::GMG::Now I test the imbalance of the datasets\n",
    "# http://metadatascience.com/2013/07/03/plotting-the-frequency-distribution-using-r/\n",
    "table(pima_mod$diabetes)"
   ]
  },
  {
   "cell_type": "code",
   "execution_count": 31,
   "metadata": {
    "hidden": true
   },
   "outputs": [
    {
     "data": {
      "text/plain": [
       "\n",
       "      neg       pos \n",
       "0.6560773 0.3439227 "
      ]
     },
     "metadata": {},
     "output_type": "display_data"
    }
   ],
   "source": [
    "prop.table(table(pima_mod$diabetes))"
   ]
  },
  {
   "cell_type": "code",
   "execution_count": 32,
   "metadata": {
    "hidden": true
   },
   "outputs": [
    {
     "data": {
      "image/png": "[encoded data removed]",
      "text/plain": [
       "Plot with title “Outcome Imbalance”"
      ]
     },
     "metadata": {},
     "output_type": "display_data"
    }
   ],
   "source": [
    "#::GMG::Plot the imbalance\n",
    "# https://www.statmethods.net/advgraphs/parameters.html\n",
    "# http://www.programmingr.com/content/positioning-charts-fig-and-fin/\n",
    "#::NOTE::I don't know how to make the fig smaller and the margins tight (!?)\n",
    "par(pin = c(4,3))\n",
    "barplot(100*prop.table(table(pima_mod$diabetes)), \n",
    "        col = c('blue', 'red'),\n",
    "        ylim = c(0,70),\n",
    "        main = 'Outcome Imbalance')"
   ]
  },
  {
   "cell_type": "code",
   "execution_count": 33,
   "metadata": {
    "hidden": true
   },
   "outputs": [
    {
     "data": {
      "text/plain": [
       "\n",
       "  -1    1 \n",
       "1508 1492 "
      ]
     },
     "metadata": {},
     "output_type": "display_data"
    }
   ],
   "source": [
    "#::GMG::Now I test the imbalance of the dataset\n",
    "# http://metadatascience.com/2013/07/03/plotting-the-frequency-distribution-using-r/\n",
    "table(stock$Y)"
   ]
  },
  {
   "cell_type": "code",
   "execution_count": 34,
   "metadata": {
    "hidden": true
   },
   "outputs": [
    {
     "data": {
      "text/plain": [
       "\n",
       "       -1         1 \n",
       "0.5026667 0.4973333 "
      ]
     },
     "metadata": {},
     "output_type": "display_data"
    }
   ],
   "source": [
    "prop.table(table(stock$Y))"
   ]
  },
  {
   "cell_type": "code",
   "execution_count": 35,
   "metadata": {
    "hidden": true
   },
   "outputs": [
    {
     "data": {
      "image/png": "[encoded data removed]",
      "text/plain": [
       "Plot with title “Outcome Imbalance”"
      ]
     },
     "metadata": {},
     "output_type": "display_data"
    }
   ],
   "source": [
    "#::GMG::Plot the imbalance\n",
    "# https://www.statmethods.net/advgraphs/parameters.html\n",
    "# http://www.programmingr.com/content/positioning-charts-fig-and-fin/\n",
    "#::NOTE::I don't know how to make the fig smaller and the margins tight (!?)\n",
    "par(pin = c(4,3))\n",
    "barplot(100*prop.table(table(stock$Y)), \n",
    "        col = c('blue', 'red'),\n",
    "        ylim = c(0,70),\n",
    "        main = 'Outcome Imbalance')"
   ]
  },
  {
   "cell_type": "code",
   "execution_count": 36,
   "metadata": {
    "hidden": true
   },
   "outputs": [
    {
     "data": {
      "text/html": [
       "<ol class=list-inline>\n",
       "\t<li>'col'</li>\n",
       "\t<li>'id'</li>\n",
       "\t<li>'M'</li>\n",
       "\t<li>'pima_mod'</li>\n",
       "\t<li>'PimaIndiansDiabetes'</li>\n",
       "\t<li>'row_sub'</li>\n",
       "\t<li>'stock'</li>\n",
       "\t<li>'using'</li>\n",
       "</ol>\n"
      ],
      "text/latex": [
       "\\begin{enumerate*}\n",
       "\\item 'col'\n",
       "\\item 'id'\n",
       "\\item 'M'\n",
       "\\item 'pima\\_mod'\n",
       "\\item 'PimaIndiansDiabetes'\n",
       "\\item 'row\\_sub'\n",
       "\\item 'stock'\n",
       "\\item 'using'\n",
       "\\end{enumerate*}\n"
      ],
      "text/markdown": [
       "1. 'col'\n",
       "2. 'id'\n",
       "3. 'M'\n",
       "4. 'pima_mod'\n",
       "5. 'PimaIndiansDiabetes'\n",
       "6. 'row_sub'\n",
       "7. 'stock'\n",
       "8. 'using'\n",
       "\n",
       "\n"
      ],
      "text/plain": [
       "[1] \"col\"                 \"id\"                  \"M\"                  \n",
       "[4] \"pima_mod\"            \"PimaIndiansDiabetes\" \"row_sub\"            \n",
       "[7] \"stock\"               \"using\"              "
      ]
     },
     "metadata": {},
     "output_type": "display_data"
    }
   ],
   "source": [
    "ls()"
   ]
  },
  {
   "cell_type": "markdown",
   "metadata": {
    "heading_collapsed": true
   },
   "source": [
    "## Train/Test Split"
   ]
  },
  {
   "cell_type": "code",
   "execution_count": 37,
   "metadata": {
    "hidden": true
   },
   "outputs": [],
   "source": [
    "#::GMG::Let's make it reproducible\n",
    "set.seed(1)"
   ]
  },
  {
   "cell_type": "code",
   "execution_count": 38,
   "metadata": {
    "hidden": true
   },
   "outputs": [],
   "source": [
    "#::GMG::I do the customary train/test split BUT stratifiying (?) because of the imbalance\n",
    "#       to make sure the percentages of healthy/diabetes hold in the train and test sets\n",
    "#::NOTE::caTools has sample.split( Y, SplitRatio = 2/3, group = NULL )\n",
    "# https://www.rdocumentation.org/packages/caTools/versions/1.17.1/topics/sample.split\n",
    "# https://cran.r-project.org/web/packages/caTools/caTools.pdf\n",
    "# Split data from vector Y into two sets in predefined ratio while preserving relative ratios of \n",
    "# differentlabels in Y. Used to split the data used during classification into train and test subsets.\n",
    "#::NOTE::So it seems this does whay I want it to do ...\n",
    "msk <- sample.split(Y = pima_mod$diabetes, SplitRatio = 0.7)"
   ]
  },
  {
   "cell_type": "code",
   "execution_count": 39,
   "metadata": {
    "hidden": true
   },
   "outputs": [],
   "source": [
    "pima_train <- pima_mod[msk, !(colnames(pima_mod) == \"class\")]  # use output of sample.split to ...\n",
    "pima_test  <- pima_mod[!msk,!(colnames(pima_mod) == \"class\")] # create train and test subse"
   ]
  },
  {
   "cell_type": "code",
   "execution_count": 40,
   "metadata": {
    "hidden": true
   },
   "outputs": [
    {
     "data": {
      "text/html": [
       "<ol class=list-inline>\n",
       "\t<li>506</li>\n",
       "\t<li>9</li>\n",
       "</ol>\n"
      ],
      "text/latex": [
       "\\begin{enumerate*}\n",
       "\\item 506\n",
       "\\item 9\n",
       "\\end{enumerate*}\n"
      ],
      "text/markdown": [
       "1. 506\n",
       "2. 9\n",
       "\n",
       "\n"
      ],
      "text/plain": [
       "[1] 506   9"
      ]
     },
     "metadata": {},
     "output_type": "display_data"
    }
   ],
   "source": [
    "dim(pima_train)"
   ]
  },
  {
   "cell_type": "code",
   "execution_count": 41,
   "metadata": {
    "hidden": true
   },
   "outputs": [
    {
     "data": {
      "text/html": [
       "<ol class=list-inline>\n",
       "\t<li>218</li>\n",
       "\t<li>9</li>\n",
       "</ol>\n"
      ],
      "text/latex": [
       "\\begin{enumerate*}\n",
       "\\item 218\n",
       "\\item 9\n",
       "\\end{enumerate*}\n"
      ],
      "text/markdown": [
       "1. 218\n",
       "2. 9\n",
       "\n",
       "\n"
      ],
      "text/plain": [
       "[1] 218   9"
      ]
     },
     "metadata": {},
     "output_type": "display_data"
    }
   ],
   "source": [
    "dim(pima_test)"
   ]
  },
  {
   "cell_type": "code",
   "execution_count": 56,
   "metadata": {
    "hidden": true
   },
   "outputs": [
    {
     "name": "stdout",
     "output_type": "stream",
     "text": [
      " Factor w/ 2 levels \"-1\",\"1\": 2 1 2 2 2 1 2 2 2 2 ...\n"
     ]
    }
   ],
   "source": [
    "#::GMG::If I want to do classification ... Y must be a factor(!!)\n",
    "stock$Y <- as.factor(stock$Y)\n",
    "str(stock$Y)"
   ]
  },
  {
   "cell_type": "code",
   "execution_count": 42,
   "metadata": {
    "hidden": true
   },
   "outputs": [],
   "source": [
    "msk_stock <- sample.split(Y = stock$Y, SplitRatio = 0.7)"
   ]
  },
  {
   "cell_type": "code",
   "execution_count": 57,
   "metadata": {
    "hidden": true
   },
   "outputs": [],
   "source": [
    "stock_train <- stock[msk_stock,]\n",
    "stock_test <- stock[!msk_stock,]"
   ]
  },
  {
   "cell_type": "code",
   "execution_count": 58,
   "metadata": {
    "hidden": true
   },
   "outputs": [
    {
     "data": {
      "text/html": [
       "<ol class=list-inline>\n",
       "\t<li>2100</li>\n",
       "\t<li>101</li>\n",
       "</ol>\n"
      ],
      "text/latex": [
       "\\begin{enumerate*}\n",
       "\\item 2100\n",
       "\\item 101\n",
       "\\end{enumerate*}\n"
      ],
      "text/markdown": [
       "1. 2100\n",
       "2. 101\n",
       "\n",
       "\n"
      ],
      "text/plain": [
       "[1] 2100  101"
      ]
     },
     "metadata": {},
     "output_type": "display_data"
    }
   ],
   "source": [
    "dim(stock_train)"
   ]
  },
  {
   "cell_type": "code",
   "execution_count": 59,
   "metadata": {
    "hidden": true
   },
   "outputs": [
    {
     "data": {
      "text/html": [
       "<ol class=list-inline>\n",
       "\t<li>900</li>\n",
       "\t<li>101</li>\n",
       "</ol>\n"
      ],
      "text/latex": [
       "\\begin{enumerate*}\n",
       "\\item 900\n",
       "\\item 101\n",
       "\\end{enumerate*}\n"
      ],
      "text/markdown": [
       "1. 900\n",
       "2. 101\n",
       "\n",
       "\n"
      ],
      "text/plain": [
       "[1] 900 101"
      ]
     },
     "metadata": {},
     "output_type": "display_data"
    }
   ],
   "source": [
    "dim(stock_test)"
   ]
  },
  {
   "cell_type": "code",
   "execution_count": 60,
   "metadata": {
    "hidden": true
   },
   "outputs": [
    {
     "name": "stdout",
     "output_type": "stream",
     "text": [
      " Factor w/ 2 levels \"-1\",\"1\": 2 1 2 2 1 2 2 2 1 1 ...\n"
     ]
    }
   ],
   "source": [
    "str(stock_train$Y)"
   ]
  },
  {
   "cell_type": "markdown",
   "metadata": {
    "heading_collapsed": true
   },
   "source": [
    "## wrapper: random forest (?)"
   ]
  },
  {
   "cell_type": "code",
   "execution_count": 47,
   "metadata": {
    "hidden": true
   },
   "outputs": [
    {
     "name": "stderr",
     "output_type": "stream",
     "text": [
      "Loading required package: Metrics\n",
      "Loading required package: randomForest\n",
      "randomForest 4.6-14\n",
      "Type rfNews() to see new features/changes/bug fixes.\n",
      "Loading required package: ggplot2\n",
      "\n",
      "Attaching package: ‘ggplot2’\n",
      "\n",
      "The following object is masked from ‘package:randomForest’:\n",
      "\n",
      "    margin\n",
      "\n",
      "Loading required package: ggthemes\n",
      "Loading required package: dplyr\n",
      "\n",
      "Attaching package: ‘dplyr’\n",
      "\n",
      "The following object is masked from ‘package:randomForest’:\n",
      "\n",
      "    combine\n",
      "\n",
      "The following objects are masked from ‘package:stats’:\n",
      "\n",
      "    filter, lag\n",
      "\n",
      "The following objects are masked from ‘package:base’:\n",
      "\n",
      "    intersect, setdiff, setequal, union\n",
      "\n"
     ]
    }
   ],
   "source": [
    "#::GMG::I do a wrapper with random forest like in vidhya\n",
    "using('Metrics', 'randomForest', 'ggplot2', 'ggthemes', 'dplyr')"
   ]
  },
  {
   "cell_type": "markdown",
   "metadata": {
    "hidden": true
   },
   "source": [
    "**::GMG::** First time run\n",
    "\n",
    "````R\n",
    "Loading required package: Metrics\n",
    "Warning message in library(package, lib.loc = lib.loc, character.only = TRUE, logical.return = TRUE, :\n",
    "“there is no package called ‘Metrics’”Loading required package: randomForest\n",
    "randomForest 4.6-14\n",
    "Type rfNews() to see new features/changes/bug fixes.\n",
    "Loading required package: ggplot2\n",
    "\n",
    "Attaching package: ‘ggplot2’\n",
    "\n",
    "The following object is masked from ‘package:randomForest’:\n",
    "\n",
    "    margin\n",
    "\n",
    "Loading required package: ggthemes\n",
    "Warning message in library(package, lib.loc = lib.loc, character.only = TRUE, logical.return = TRUE, :\n",
    "“there is no package called ‘ggthemes’”Loading required package: dplyr\n",
    "\n",
    "Attaching package: ‘dplyr’\n",
    "\n",
    "The following object is masked from ‘package:randomForest’:\n",
    "\n",
    "    combine\n",
    "\n",
    "The following objects are masked from ‘package:stats’:\n",
    "\n",
    "    filter, lag\n",
    "\n",
    "The following objects are masked from ‘package:base’:\n",
    "\n",
    "    intersect, setdiff, setequal, union\n",
    "\n",
    "Installing packages into ‘/home/jovyan/R/x86_64-pc-linux-gnu-library/3.6’\n",
    "(as ‘lib’ is unspecified)\n",
    "Loading required package: Metrics\n",
    "Loading required package: ggthemes\n",
    "\n",
    "    TRUE\n",
    "    TRUE\n",
    "\n",
    "\n",
    "```"
   ]
  },
  {
   "cell_type": "markdown",
   "metadata": {
    "heading_collapsed": true,
    "hidden": true
   },
   "source": [
    "### stock dataset"
   ]
  },
  {
   "cell_type": "code",
   "execution_count": 61,
   "metadata": {
    "hidden": true
   },
   "outputs": [],
   "source": [
    "#::GMG::Train the model with all the features\n",
    "model_stock_rf <- randomForest(Y ~ ., data = stock_train, importance = T)"
   ]
  },
  {
   "cell_type": "markdown",
   "metadata": {
    "hidden": true
   },
   "source": [
    "**::NOTE::** There is a warning message:\n",
    "\n",
    "```R\n",
    "Warning message in randomForest.default(m, y, ...):\n",
    "“The response has five or fewer unique values.  Are you sure you want to do regression?”\n",
    "```\n",
    "\n",
    "if I *forget* to transform Y from num to factor (!!)"
   ]
  },
  {
   "cell_type": "code",
   "execution_count": 62,
   "metadata": {
    "hidden": true
   },
   "outputs": [
    {
     "data": {
      "text/plain": [
       "\n",
       "Call:\n",
       " randomForest(formula = Y ~ ., data = stock_train, importance = T) \n",
       "               Type of random forest: classification\n",
       "                     Number of trees: 500\n",
       "No. of variables tried at each split: 10\n",
       "\n",
       "        OOB estimate of  error rate: 51.05%\n",
       "Confusion matrix:\n",
       "    -1   1 class.error\n",
       "-1 522 534   0.5056818\n",
       "1  538 506   0.5153257"
      ]
     },
     "metadata": {},
     "output_type": "display_data"
    }
   ],
   "source": [
    "#::GMG::Some basic facts about the model of 'all features'\n",
    "model_stock_rf"
   ]
  },
  {
   "cell_type": "markdown",
   "metadata": {
    "hidden": true
   },
   "source": [
    "**::GMG::** I The OOB and the confusion matrix are bad enough ... But perhaps this is only a starting point in the feature subset evaluatios process."
   ]
  },
  {
   "cell_type": "markdown",
   "metadata": {
    "hidden": true
   },
   "source": [
    "**::NOTE::** Something is wrong:\n",
    "\n",
    "````R\n",
    "Call:\n",
    " randomForest(formula = Y ~ ., data = stock_train) \n",
    "              Type of random forest: regression  <======= (?)\n",
    "                     Number of trees: 500\n",
    "No. of variables tried at each split: 33\n",
    "\n",
    "          Mean of squared residuals: 1.170021\n",
    "                    % Var explained: -17.0\n",
    "```\n",
    "\n",
    "if I *forget* to transform Y from num to factor (!!)"
   ]
  },
  {
   "cell_type": "code",
   "execution_count": 114,
   "metadata": {
    "hidden": true
   },
   "outputs": [],
   "source": [
    "#::GMG::I use dplyr select() instead of stock_test[,-101]\n",
    "preds <- predict(model_stock_rf, select(stock_test, -Y))"
   ]
  },
  {
   "cell_type": "code",
   "execution_count": 114,
   "metadata": {
    "hidden": true
   },
   "outputs": [
    {
     "name": "stdout",
     "output_type": "stream",
     "text": [
      " Factor w/ 2 levels \"-1\",\"1\": 2 2 2 2 2 2 1 2 2 1 ...\n",
      " - attr(*, \"names\")= chr [1:900] \"3\" \"9\" \"11\" \"15\" ...\n"
     ]
    }
   ],
   "source": [
    "str(preds)"
   ]
  },
  {
   "cell_type": "code",
   "execution_count": 116,
   "metadata": {
    "hidden": true
   },
   "outputs": [
    {
     "name": "stdout",
     "output_type": "stream",
     "text": [
      " Factor w/ 2 levels \"-1\",\"1\": 2 2 2 2 2 1 1 2 2 1 ...\n"
     ]
    }
   ],
   "source": [
    "str(stock_test$Y)"
   ]
  },
  {
   "cell_type": "code",
   "execution_count": 64,
   "metadata": {
    "hidden": true
   },
   "outputs": [
    {
     "data": {
      "text/html": [
       "0.506697486960645"
      ],
      "text/latex": [
       "0.506697486960645"
      ],
      "text/markdown": [
       "0.506697486960645"
      ],
      "text/plain": [
       "[1] 0.5066975"
      ]
     },
     "metadata": {},
     "output_type": "display_data"
    }
   ],
   "source": [
    "#::GMG::I score the set of all features with metric AUC\n",
    "Metrics::auc(preds, stock_test$Y)"
   ]
  },
  {
   "cell_type": "markdown",
   "metadata": {
    "hidden": true
   },
   "source": [
    "**::GMG::** Now the process is somewhat bizarre to me. I understand a wrapper method uses a model to score the subet of features chosen with some suitable method and then the process is repeated till some subset is found the best. Wtih a large number of features some heuristic o efficient process of subset selection is needed. In the article the author states:\n",
    "\n",
    "> Now, instead of trying a large number of possible subsets through say forward selection or backward elimination, we’ll keep it simple by using the top 20 features only to build a Random forest. Let’s find out if it can improve the accuracy of our model.\n",
    "\n",
    "Say, he uses the rank given with random forest to choose a subset for the next iteration. I think this method is not best practice, somehow."
   ]
  },
  {
   "cell_type": "code",
   "execution_count": 69,
   "metadata": {
    "hidden": true
   },
   "outputs": [
    {
     "data": {
      "text/html": [
       "<dl class=dl-horizontal>\n",
       "\t<dt>X6</dt>\n",
       "\t\t<dd>13.995759655494</dd>\n",
       "\t<dt>X12</dt>\n",
       "\t\t<dd>12.1945338540984</dd>\n",
       "\t<dt>X11</dt>\n",
       "\t\t<dd>12.1474515984793</dd>\n",
       "\t<dt>X29</dt>\n",
       "\t\t<dd>12.0135641430017</dd>\n",
       "\t<dt>X55</dt>\n",
       "\t\t<dd>12.0031096739778</dd>\n",
       "\t<dt>X30</dt>\n",
       "\t\t<dd>11.9377333669752</dd>\n",
       "\t<dt>X81</dt>\n",
       "\t\t<dd>11.8512180159037</dd>\n",
       "\t<dt>X83</dt>\n",
       "\t\t<dd>11.6286186429401</dd>\n",
       "\t<dt>X90</dt>\n",
       "\t\t<dd>11.5886878781292</dd>\n",
       "\t<dt>X31</dt>\n",
       "\t\t<dd>11.4999952387198</dd>\n",
       "\t<dt>X32</dt>\n",
       "\t\t<dd>11.4216069081214</dd>\n",
       "\t<dt>X13</dt>\n",
       "\t\t<dd>11.3957667710043</dd>\n",
       "\t<dt>X38</dt>\n",
       "\t\t<dd>11.304857996005</dd>\n",
       "\t<dt>X25</dt>\n",
       "\t\t<dd>11.2989420637453</dd>\n",
       "\t<dt>X9</dt>\n",
       "\t\t<dd>11.2927273975663</dd>\n",
       "\t<dt>X37</dt>\n",
       "\t\t<dd>11.2497372854951</dd>\n",
       "\t<dt>X19</dt>\n",
       "\t\t<dd>11.1856873578057</dd>\n",
       "\t<dt>X98</dt>\n",
       "\t\t<dd>11.0838789007342</dd>\n",
       "\t<dt>X24</dt>\n",
       "\t\t<dd>11.076813237002</dd>\n",
       "\t<dt>X15</dt>\n",
       "\t\t<dd>11.0689009110021</dd>\n",
       "</dl>\n"
      ],
      "text/latex": [
       "\\begin{description*}\n",
       "\\item[X6] 13.995759655494\n",
       "\\item[X12] 12.1945338540984\n",
       "\\item[X11] 12.1474515984793\n",
       "\\item[X29] 12.0135641430017\n",
       "\\item[X55] 12.0031096739778\n",
       "\\item[X30] 11.9377333669752\n",
       "\\item[X81] 11.8512180159037\n",
       "\\item[X83] 11.6286186429401\n",
       "\\item[X90] 11.5886878781292\n",
       "\\item[X31] 11.4999952387198\n",
       "\\item[X32] 11.4216069081214\n",
       "\\item[X13] 11.3957667710043\n",
       "\\item[X38] 11.304857996005\n",
       "\\item[X25] 11.2989420637453\n",
       "\\item[X9] 11.2927273975663\n",
       "\\item[X37] 11.2497372854951\n",
       "\\item[X19] 11.1856873578057\n",
       "\\item[X98] 11.0838789007342\n",
       "\\item[X24] 11.076813237002\n",
       "\\item[X15] 11.0689009110021\n",
       "\\end{description*}\n"
      ],
      "text/markdown": [
       "X6\n",
       ":   13.995759655494X12\n",
       ":   12.1945338540984X11\n",
       ":   12.1474515984793X29\n",
       ":   12.0135641430017X55\n",
       ":   12.0031096739778X30\n",
       ":   11.9377333669752X81\n",
       ":   11.8512180159037X83\n",
       ":   11.6286186429401X90\n",
       ":   11.5886878781292X31\n",
       ":   11.4999952387198X32\n",
       ":   11.4216069081214X13\n",
       ":   11.3957667710043X38\n",
       ":   11.304857996005X25\n",
       ":   11.2989420637453X9\n",
       ":   11.2927273975663X37\n",
       ":   11.2497372854951X19\n",
       ":   11.1856873578057X98\n",
       ":   11.0838789007342X24\n",
       ":   11.076813237002X15\n",
       ":   11.0689009110021\n",
       "\n"
      ],
      "text/plain": [
       "      X6      X12      X11      X29      X55      X30      X81      X83 \n",
       "13.99576 12.19453 12.14745 12.01356 12.00311 11.93773 11.85122 11.62862 \n",
       "     X90      X31      X32      X13      X38      X25       X9      X37 \n",
       "11.58869 11.50000 11.42161 11.39577 11.30486 11.29894 11.29273 11.24974 \n",
       "     X19      X98      X24      X15 \n",
       "11.18569 11.08388 11.07681 11.06890 "
      ]
     },
     "metadata": {},
     "output_type": "display_data"
    }
   ],
   "source": [
    "#::GMG::I get the top 20 by MeanDecreaseGini\n",
    "head(\n",
    "    x = sort(\n",
    "        x = importance(model_stock_rf)[,'MeanDecreaseGini'], \n",
    "        decreasing = T\n",
    "    ), n = 20\n",
    ")"
   ]
  },
  {
   "cell_type": "code",
   "execution_count": 73,
   "metadata": {
    "hidden": true
   },
   "outputs": [
    {
     "name": "stdout",
     "output_type": "stream",
     "text": [
      " Named num [1:20] 14 12.2 12.1 12 12 ...\n",
      " - attr(*, \"names\")= chr [1:20] \"X6\" \"X12\" \"X11\" \"X29\" ...\n"
     ]
    }
   ],
   "source": [
    "str(head(\n",
    "    x = sort(\n",
    "        x = importance(model_stock_rf)[,'MeanDecreaseGini'], \n",
    "        decreasing = T\n",
    "    ), n = 20\n",
    "))"
   ]
  },
  {
   "cell_type": "code",
   "execution_count": 91,
   "metadata": {
    "hidden": true
   },
   "outputs": [],
   "source": [
    "#::GMG::I create a vector character with hte top 20 features\n",
    "# https://rpubs.com/sowmya21jan/338762\n",
    "top20 <- as.character(names(\n",
    "    head(\n",
    "      x = sort(\n",
    "          x = importance(model_stock_rf)[,'MeanDecreaseGini'], \n",
    "          decreasing = T\n",
    "      ), n = 20\n",
    "    )\n",
    "  )\n",
    ")"
   ]
  },
  {
   "cell_type": "code",
   "execution_count": 93,
   "metadata": {
    "hidden": true
   },
   "outputs": [
    {
     "data": {
      "text/html": [
       "'Y ~ X6 + X12 + X11 + X29 + X55 + X30 + X81 + X83 + X90 + X31 + X32 + X13 + X38 + X25 + X9 + X37 + X19 + X98 + X24 + X15'"
      ],
      "text/latex": [
       "'Y \\textasciitilde{} X6 + X12 + X11 + X29 + X55 + X30 + X81 + X83 + X90 + X31 + X32 + X13 + X38 + X25 + X9 + X37 + X19 + X98 + X24 + X15'"
      ],
      "text/markdown": [
       "'Y ~ X6 + X12 + X11 + X29 + X55 + X30 + X81 + X83 + X90 + X31 + X32 + X13 + X38 + X25 + X9 + X37 + X19 + X98 + X24 + X15'"
      ],
      "text/plain": [
       "[1] \"Y ~ X6 + X12 + X11 + X29 + X55 + X30 + X81 + X83 + X90 + X31 + X32 + X13 + X38 + X25 + X9 + X37 + X19 + X98 + X24 + X15\""
      ]
     },
     "metadata": {},
     "output_type": "display_data"
    }
   ],
   "source": [
    "#::GMG::Then I create a new formula for the model\n",
    "# http://www.cookbook-r.com/Formulas/Creating_a_formula_from_a_string/\n",
    "measurevar <- \"Y\"\n",
    "groupvars  <- top20\n",
    "paste(measurevar, paste(groupvars, collapse = \" + \"), sep = \" ~ \")"
   ]
  },
  {
   "cell_type": "code",
   "execution_count": 94,
   "metadata": {
    "hidden": true
   },
   "outputs": [],
   "source": [
    "my_formula <- as.formula(\n",
    "    paste(measurevar, paste(groupvars, collapse=\" + \"), sep=\" ~ \")\n",
    ")"
   ]
  },
  {
   "cell_type": "code",
   "execution_count": 97,
   "metadata": {
    "hidden": true
   },
   "outputs": [
    {
     "name": "stdout",
     "output_type": "stream",
     "text": [
      "Class 'formula'  language Y ~ X6 + X12 + X11 + X29 + X55 + X30 + X81 + X83 + X90 + X31 + X32 + X13 +      X38 + X25 + X9 + X37 + X19 + X98 + X24 + X15\n",
      "  ..- attr(*, \".Environment\")=<environment: R_GlobalEnv> \n"
     ]
    }
   ],
   "source": [
    "str(my_formula)"
   ]
  },
  {
   "cell_type": "code",
   "execution_count": 98,
   "metadata": {
    "hidden": true
   },
   "outputs": [
    {
     "data": {
      "text/html": [
       "'formula'"
      ],
      "text/latex": [
       "'formula'"
      ],
      "text/markdown": [
       "'formula'"
      ],
      "text/plain": [
       "[1] \"formula\""
      ]
     },
     "metadata": {},
     "output_type": "display_data"
    }
   ],
   "source": [
    "class(my_formula)"
   ]
  },
  {
   "cell_type": "code",
   "execution_count": 99,
   "metadata": {
    "hidden": true
   },
   "outputs": [
    {
     "data": {
      "text/plain": [
       "Y ~ X6 + X12 + X11 + X29 + X55 + X30 + X81 + X83 + X90 + X31 + \n",
       "    X32 + X13 + X38 + X25 + X9 + X37 + X19 + X98 + X24 + X15"
      ]
     },
     "metadata": {},
     "output_type": "display_data"
    }
   ],
   "source": [
    "my_formula"
   ]
  },
  {
   "cell_type": "code",
   "execution_count": 100,
   "metadata": {
    "hidden": true
   },
   "outputs": [],
   "source": [
    "#::GMG::Now I train another model with the selected features\n",
    "#::NOTE::Using the same dataset to retrain models ... is that right?\n",
    "model_stock_rf_2 <- randomForest(my_formula, data = stock_train, importance = T)"
   ]
  },
  {
   "cell_type": "code",
   "execution_count": 101,
   "metadata": {
    "hidden": true
   },
   "outputs": [
    {
     "data": {
      "text/plain": [
       "\n",
       "Call:\n",
       " randomForest(formula = my_formula, data = stock_train, importance = T) \n",
       "               Type of random forest: classification\n",
       "                     Number of trees: 500\n",
       "No. of variables tried at each split: 4\n",
       "\n",
       "        OOB estimate of  error rate: 50.29%\n",
       "Confusion matrix:\n",
       "    -1   1 class.error\n",
       "-1 525 531   0.5028409\n",
       "1  525 519   0.5028736"
      ]
     },
     "metadata": {},
     "output_type": "display_data"
    }
   ],
   "source": [
    "#::GMG::Some basic facts about the model of 'all features'\n",
    "model_stock_rf_2"
   ]
  },
  {
   "cell_type": "code",
   "execution_count": 102,
   "metadata": {
    "hidden": true
   },
   "outputs": [],
   "source": [
    "#::GMG::I use dplyr select() instead of stock_test[,-101]\n",
    "preds_2 <- predict(model_stock_rf_2, select(stock_test, -Y))"
   ]
  },
  {
   "cell_type": "code",
   "execution_count": 103,
   "metadata": {
    "hidden": true
   },
   "outputs": [
    {
     "data": {
      "text/html": [
       "0.493387890648165"
      ],
      "text/latex": [
       "0.493387890648165"
      ],
      "text/markdown": [
       "0.493387890648165"
      ],
      "text/plain": [
       "[1] 0.4933879"
      ]
     },
     "metadata": {},
     "output_type": "display_data"
    }
   ],
   "source": [
    "#::GMG::I score the set of all features with metric AUC\n",
    "Metrics::auc(preds_2, stock_test$Y)"
   ]
  },
  {
   "cell_type": "markdown",
   "metadata": {
    "hidden": true
   },
   "source": [
    "**::GMG::** There is a **slight deterioration** ... well, I think this is a useful proof of concept but useless to go further :)"
   ]
  },
  {
   "cell_type": "markdown",
   "metadata": {
    "heading_collapsed": true,
    "hidden": true
   },
   "source": [
    "### pima"
   ]
  },
  {
   "cell_type": "code",
   "execution_count": 104,
   "metadata": {
    "hidden": true
   },
   "outputs": [],
   "source": [
    "#::GMG::Train the model with all the features\n",
    "model_pima_rf <- randomForest(diabetes ~ ., data = pima_train, importance = T)"
   ]
  },
  {
   "cell_type": "code",
   "execution_count": 105,
   "metadata": {
    "hidden": true
   },
   "outputs": [
    {
     "data": {
      "text/plain": [
       "\n",
       "Call:\n",
       " randomForest(formula = diabetes ~ ., data = pima_train, importance = T) \n",
       "               Type of random forest: classification\n",
       "                     Number of trees: 500\n",
       "No. of variables tried at each split: 2\n",
       "\n",
       "        OOB estimate of  error rate: 23.91%\n",
       "Confusion matrix:\n",
       "    neg pos class.error\n",
       "neg 287  45   0.1355422\n",
       "pos  76  98   0.4367816"
      ]
     },
     "metadata": {},
     "output_type": "display_data"
    }
   ],
   "source": [
    "model_pima_rf"
   ]
  },
  {
   "cell_type": "code",
   "execution_count": 106,
   "metadata": {
    "hidden": true
   },
   "outputs": [],
   "source": [
    "#::GMG::I use dplyr select() instead of stock_test[,-101]\n",
    "pima_preds <- predict(model_pima_rf, select(pima_test, -diabetes))"
   ]
  },
  {
   "cell_type": "code",
   "execution_count": 109,
   "metadata": {
    "hidden": true
   },
   "outputs": [
    {
     "name": "stdout",
     "output_type": "stream",
     "text": [
      " Factor w/ 2 levels \"neg\",\"pos\": 1 1 1 1 2 2 1 1 2 2 ...\n",
      " - attr(*, \"names\")= chr [1:218] \"2\" \"4\" \"6\" \"7\" ...\n"
     ]
    }
   ],
   "source": [
    "str(pima_preds)"
   ]
  },
  {
   "cell_type": "code",
   "execution_count": 111,
   "metadata": {
    "hidden": true
   },
   "outputs": [
    {
     "name": "stdout",
     "output_type": "stream",
     "text": [
      " Factor w/ 2 levels \"neg\",\"pos\": 1 1 1 2 2 2 2 1 2 1 ...\n"
     ]
    }
   ],
   "source": [
    "str(pima_test$diabetes)"
   ]
  },
  {
   "cell_type": "code",
   "execution_count": 121,
   "metadata": {
    "hidden": true
   },
   "outputs": [
    {
     "data": {
      "text/html": [
       "<ol class=list-inline>\n",
       "\t<li>0</li>\n",
       "\t<li>0</li>\n",
       "\t<li>0</li>\n",
       "\t<li>0</li>\n",
       "\t<li>1</li>\n",
       "\t<li>1</li>\n",
       "\t<li>0</li>\n",
       "\t<li>0</li>\n",
       "\t<li>1</li>\n",
       "\t<li>1</li>\n",
       "\t<li>1</li>\n",
       "\t<li>0</li>\n",
       "\t<li>1</li>\n",
       "\t<li>1</li>\n",
       "\t<li>0</li>\n",
       "\t<li>0</li>\n",
       "\t<li>0</li>\n",
       "\t<li>0</li>\n",
       "\t<li>0</li>\n",
       "\t<li>0</li>\n",
       "\t<li>1</li>\n",
       "\t<li>0</li>\n",
       "\t<li>0</li>\n",
       "\t<li>1</li>\n",
       "\t<li>1</li>\n",
       "\t<li>1</li>\n",
       "\t<li>0</li>\n",
       "\t<li>0</li>\n",
       "\t<li>0</li>\n",
       "\t<li>0</li>\n",
       "\t<li>0</li>\n",
       "\t<li>0</li>\n",
       "\t<li>1</li>\n",
       "\t<li>0</li>\n",
       "\t<li>0</li>\n",
       "\t<li>0</li>\n",
       "\t<li>0</li>\n",
       "\t<li>0</li>\n",
       "\t<li>0</li>\n",
       "\t<li>0</li>\n",
       "\t<li>0</li>\n",
       "\t<li>0</li>\n",
       "\t<li>1</li>\n",
       "\t<li>0</li>\n",
       "\t<li>0</li>\n",
       "\t<li>0</li>\n",
       "\t<li>0</li>\n",
       "\t<li>1</li>\n",
       "\t<li>0</li>\n",
       "\t<li>0</li>\n",
       "\t<li>1</li>\n",
       "\t<li>0</li>\n",
       "\t<li>0</li>\n",
       "\t<li>1</li>\n",
       "\t<li>0</li>\n",
       "\t<li>1</li>\n",
       "\t<li>1</li>\n",
       "\t<li>0</li>\n",
       "\t<li>0</li>\n",
       "\t<li>1</li>\n",
       "\t<li>1</li>\n",
       "\t<li>1</li>\n",
       "\t<li>0</li>\n",
       "\t<li>1</li>\n",
       "\t<li>0</li>\n",
       "\t<li>0</li>\n",
       "\t<li>1</li>\n",
       "\t<li>1</li>\n",
       "\t<li>0</li>\n",
       "\t<li>1</li>\n",
       "\t<li>0</li>\n",
       "\t<li>0</li>\n",
       "\t<li>0</li>\n",
       "\t<li>0</li>\n",
       "\t<li>1</li>\n",
       "\t<li>0</li>\n",
       "\t<li>0</li>\n",
       "\t<li>0</li>\n",
       "\t<li>0</li>\n",
       "\t<li>0</li>\n",
       "\t<li>0</li>\n",
       "\t<li>0</li>\n",
       "\t<li>0</li>\n",
       "\t<li>1</li>\n",
       "\t<li>0</li>\n",
       "\t<li>0</li>\n",
       "\t<li>0</li>\n",
       "\t<li>0</li>\n",
       "\t<li>0</li>\n",
       "\t<li>0</li>\n",
       "\t<li>0</li>\n",
       "\t<li>0</li>\n",
       "\t<li>0</li>\n",
       "\t<li>0</li>\n",
       "\t<li>1</li>\n",
       "\t<li>0</li>\n",
       "\t<li>0</li>\n",
       "\t<li>1</li>\n",
       "\t<li>0</li>\n",
       "\t<li>1</li>\n",
       "\t<li>0</li>\n",
       "\t<li>0</li>\n",
       "\t<li>0</li>\n",
       "\t<li>0</li>\n",
       "\t<li>0</li>\n",
       "\t<li>0</li>\n",
       "\t<li>0</li>\n",
       "\t<li>1</li>\n",
       "\t<li>0</li>\n",
       "\t<li>0</li>\n",
       "\t<li>1</li>\n",
       "\t<li>0</li>\n",
       "\t<li>0</li>\n",
       "\t<li>0</li>\n",
       "\t<li>1</li>\n",
       "\t<li>1</li>\n",
       "\t<li>0</li>\n",
       "\t<li>0</li>\n",
       "\t<li>0</li>\n",
       "\t<li>0</li>\n",
       "\t<li>0</li>\n",
       "\t<li>0</li>\n",
       "\t<li>1</li>\n",
       "\t<li>0</li>\n",
       "\t<li>0</li>\n",
       "\t<li>0</li>\n",
       "\t<li>1</li>\n",
       "\t<li>0</li>\n",
       "\t<li>0</li>\n",
       "\t<li>0</li>\n",
       "\t<li>0</li>\n",
       "\t<li>1</li>\n",
       "\t<li>0</li>\n",
       "\t<li>1</li>\n",
       "\t<li>1</li>\n",
       "\t<li>0</li>\n",
       "\t<li>0</li>\n",
       "\t<li>0</li>\n",
       "\t<li>1</li>\n",
       "\t<li>0</li>\n",
       "\t<li>0</li>\n",
       "\t<li>1</li>\n",
       "\t<li>0</li>\n",
       "\t<li>0</li>\n",
       "\t<li>1</li>\n",
       "\t<li>0</li>\n",
       "\t<li>0</li>\n",
       "\t<li>0</li>\n",
       "\t<li>0</li>\n",
       "\t<li>0</li>\n",
       "\t<li>0</li>\n",
       "\t<li>1</li>\n",
       "\t<li>0</li>\n",
       "\t<li>0</li>\n",
       "\t<li>0</li>\n",
       "\t<li>0</li>\n",
       "\t<li>0</li>\n",
       "\t<li>0</li>\n",
       "\t<li>1</li>\n",
       "\t<li>0</li>\n",
       "\t<li>0</li>\n",
       "\t<li>0</li>\n",
       "\t<li>0</li>\n",
       "\t<li>0</li>\n",
       "\t<li>0</li>\n",
       "\t<li>0</li>\n",
       "\t<li>1</li>\n",
       "\t<li>0</li>\n",
       "\t<li>1</li>\n",
       "\t<li>1</li>\n",
       "\t<li>1</li>\n",
       "\t<li>0</li>\n",
       "\t<li>1</li>\n",
       "\t<li>0</li>\n",
       "\t<li>0</li>\n",
       "\t<li>1</li>\n",
       "\t<li>0</li>\n",
       "\t<li>0</li>\n",
       "\t<li>0</li>\n",
       "\t<li>0</li>\n",
       "\t<li>0</li>\n",
       "\t<li>0</li>\n",
       "\t<li>0</li>\n",
       "\t<li>0</li>\n",
       "\t<li>0</li>\n",
       "\t<li>0</li>\n",
       "\t<li>0</li>\n",
       "\t<li>1</li>\n",
       "\t<li>0</li>\n",
       "\t<li>0</li>\n",
       "\t<li>1</li>\n",
       "\t<li>0</li>\n",
       "\t<li>1</li>\n",
       "\t<li>0</li>\n",
       "\t<li>0</li>\n",
       "\t<li>0</li>\n",
       "\t<li>1</li>\n",
       "\t<li>0</li>\n",
       "\t<li>0</li>\n",
       "\t<li>1</li>\n",
       "\t<li>0</li>\n",
       "\t<li>1</li>\n",
       "\t<li>0</li>\n",
       "\t<li>0</li>\n",
       "\t<li>0</li>\n",
       "\t<li>0</li>\n",
       "\t<li>0</li>\n",
       "\t<li>0</li>\n",
       "\t<li>0</li>\n",
       "\t<li>0</li>\n",
       "\t<li>1</li>\n",
       "\t<li>0</li>\n",
       "\t<li>0</li>\n",
       "\t<li>0</li>\n",
       "\t<li>1</li>\n",
       "\t<li>0</li>\n",
       "\t<li>0</li>\n",
       "\t<li>0</li>\n",
       "</ol>\n"
      ],
      "text/latex": [
       "\\begin{enumerate*}\n",
       "\\item 0\n",
       "\\item 0\n",
       "\\item 0\n",
       "\\item 0\n",
       "\\item 1\n",
       "\\item 1\n",
       "\\item 0\n",
       "\\item 0\n",
       "\\item 1\n",
       "\\item 1\n",
       "\\item 1\n",
       "\\item 0\n",
       "\\item 1\n",
       "\\item 1\n",
       "\\item 0\n",
       "\\item 0\n",
       "\\item 0\n",
       "\\item 0\n",
       "\\item 0\n",
       "\\item 0\n",
       "\\item 1\n",
       "\\item 0\n",
       "\\item 0\n",
       "\\item 1\n",
       "\\item 1\n",
       "\\item 1\n",
       "\\item 0\n",
       "\\item 0\n",
       "\\item 0\n",
       "\\item 0\n",
       "\\item 0\n",
       "\\item 0\n",
       "\\item 1\n",
       "\\item 0\n",
       "\\item 0\n",
       "\\item 0\n",
       "\\item 0\n",
       "\\item 0\n",
       "\\item 0\n",
       "\\item 0\n",
       "\\item 0\n",
       "\\item 0\n",
       "\\item 1\n",
       "\\item 0\n",
       "\\item 0\n",
       "\\item 0\n",
       "\\item 0\n",
       "\\item 1\n",
       "\\item 0\n",
       "\\item 0\n",
       "\\item 1\n",
       "\\item 0\n",
       "\\item 0\n",
       "\\item 1\n",
       "\\item 0\n",
       "\\item 1\n",
       "\\item 1\n",
       "\\item 0\n",
       "\\item 0\n",
       "\\item 1\n",
       "\\item 1\n",
       "\\item 1\n",
       "\\item 0\n",
       "\\item 1\n",
       "\\item 0\n",
       "\\item 0\n",
       "\\item 1\n",
       "\\item 1\n",
       "\\item 0\n",
       "\\item 1\n",
       "\\item 0\n",
       "\\item 0\n",
       "\\item 0\n",
       "\\item 0\n",
       "\\item 1\n",
       "\\item 0\n",
       "\\item 0\n",
       "\\item 0\n",
       "\\item 0\n",
       "\\item 0\n",
       "\\item 0\n",
       "\\item 0\n",
       "\\item 0\n",
       "\\item 1\n",
       "\\item 0\n",
       "\\item 0\n",
       "\\item 0\n",
       "\\item 0\n",
       "\\item 0\n",
       "\\item 0\n",
       "\\item 0\n",
       "\\item 0\n",
       "\\item 0\n",
       "\\item 0\n",
       "\\item 1\n",
       "\\item 0\n",
       "\\item 0\n",
       "\\item 1\n",
       "\\item 0\n",
       "\\item 1\n",
       "\\item 0\n",
       "\\item 0\n",
       "\\item 0\n",
       "\\item 0\n",
       "\\item 0\n",
       "\\item 0\n",
       "\\item 0\n",
       "\\item 1\n",
       "\\item 0\n",
       "\\item 0\n",
       "\\item 1\n",
       "\\item 0\n",
       "\\item 0\n",
       "\\item 0\n",
       "\\item 1\n",
       "\\item 1\n",
       "\\item 0\n",
       "\\item 0\n",
       "\\item 0\n",
       "\\item 0\n",
       "\\item 0\n",
       "\\item 0\n",
       "\\item 1\n",
       "\\item 0\n",
       "\\item 0\n",
       "\\item 0\n",
       "\\item 1\n",
       "\\item 0\n",
       "\\item 0\n",
       "\\item 0\n",
       "\\item 0\n",
       "\\item 1\n",
       "\\item 0\n",
       "\\item 1\n",
       "\\item 1\n",
       "\\item 0\n",
       "\\item 0\n",
       "\\item 0\n",
       "\\item 1\n",
       "\\item 0\n",
       "\\item 0\n",
       "\\item 1\n",
       "\\item 0\n",
       "\\item 0\n",
       "\\item 1\n",
       "\\item 0\n",
       "\\item 0\n",
       "\\item 0\n",
       "\\item 0\n",
       "\\item 0\n",
       "\\item 0\n",
       "\\item 1\n",
       "\\item 0\n",
       "\\item 0\n",
       "\\item 0\n",
       "\\item 0\n",
       "\\item 0\n",
       "\\item 0\n",
       "\\item 1\n",
       "\\item 0\n",
       "\\item 0\n",
       "\\item 0\n",
       "\\item 0\n",
       "\\item 0\n",
       "\\item 0\n",
       "\\item 0\n",
       "\\item 1\n",
       "\\item 0\n",
       "\\item 1\n",
       "\\item 1\n",
       "\\item 1\n",
       "\\item 0\n",
       "\\item 1\n",
       "\\item 0\n",
       "\\item 0\n",
       "\\item 1\n",
       "\\item 0\n",
       "\\item 0\n",
       "\\item 0\n",
       "\\item 0\n",
       "\\item 0\n",
       "\\item 0\n",
       "\\item 0\n",
       "\\item 0\n",
       "\\item 0\n",
       "\\item 0\n",
       "\\item 0\n",
       "\\item 1\n",
       "\\item 0\n",
       "\\item 0\n",
       "\\item 1\n",
       "\\item 0\n",
       "\\item 1\n",
       "\\item 0\n",
       "\\item 0\n",
       "\\item 0\n",
       "\\item 1\n",
       "\\item 0\n",
       "\\item 0\n",
       "\\item 1\n",
       "\\item 0\n",
       "\\item 1\n",
       "\\item 0\n",
       "\\item 0\n",
       "\\item 0\n",
       "\\item 0\n",
       "\\item 0\n",
       "\\item 0\n",
       "\\item 0\n",
       "\\item 0\n",
       "\\item 1\n",
       "\\item 0\n",
       "\\item 0\n",
       "\\item 0\n",
       "\\item 1\n",
       "\\item 0\n",
       "\\item 0\n",
       "\\item 0\n",
       "\\end{enumerate*}\n"
      ],
      "text/markdown": [
       "1. 0\n",
       "2. 0\n",
       "3. 0\n",
       "4. 0\n",
       "5. 1\n",
       "6. 1\n",
       "7. 0\n",
       "8. 0\n",
       "9. 1\n",
       "10. 1\n",
       "11. 1\n",
       "12. 0\n",
       "13. 1\n",
       "14. 1\n",
       "15. 0\n",
       "16. 0\n",
       "17. 0\n",
       "18. 0\n",
       "19. 0\n",
       "20. 0\n",
       "21. 1\n",
       "22. 0\n",
       "23. 0\n",
       "24. 1\n",
       "25. 1\n",
       "26. 1\n",
       "27. 0\n",
       "28. 0\n",
       "29. 0\n",
       "30. 0\n",
       "31. 0\n",
       "32. 0\n",
       "33. 1\n",
       "34. 0\n",
       "35. 0\n",
       "36. 0\n",
       "37. 0\n",
       "38. 0\n",
       "39. 0\n",
       "40. 0\n",
       "41. 0\n",
       "42. 0\n",
       "43. 1\n",
       "44. 0\n",
       "45. 0\n",
       "46. 0\n",
       "47. 0\n",
       "48. 1\n",
       "49. 0\n",
       "50. 0\n",
       "51. 1\n",
       "52. 0\n",
       "53. 0\n",
       "54. 1\n",
       "55. 0\n",
       "56. 1\n",
       "57. 1\n",
       "58. 0\n",
       "59. 0\n",
       "60. 1\n",
       "61. 1\n",
       "62. 1\n",
       "63. 0\n",
       "64. 1\n",
       "65. 0\n",
       "66. 0\n",
       "67. 1\n",
       "68. 1\n",
       "69. 0\n",
       "70. 1\n",
       "71. 0\n",
       "72. 0\n",
       "73. 0\n",
       "74. 0\n",
       "75. 1\n",
       "76. 0\n",
       "77. 0\n",
       "78. 0\n",
       "79. 0\n",
       "80. 0\n",
       "81. 0\n",
       "82. 0\n",
       "83. 0\n",
       "84. 1\n",
       "85. 0\n",
       "86. 0\n",
       "87. 0\n",
       "88. 0\n",
       "89. 0\n",
       "90. 0\n",
       "91. 0\n",
       "92. 0\n",
       "93. 0\n",
       "94. 0\n",
       "95. 1\n",
       "96. 0\n",
       "97. 0\n",
       "98. 1\n",
       "99. 0\n",
       "100. 1\n",
       "101. 0\n",
       "102. 0\n",
       "103. 0\n",
       "104. 0\n",
       "105. 0\n",
       "106. 0\n",
       "107. 0\n",
       "108. 1\n",
       "109. 0\n",
       "110. 0\n",
       "111. 1\n",
       "112. 0\n",
       "113. 0\n",
       "114. 0\n",
       "115. 1\n",
       "116. 1\n",
       "117. 0\n",
       "118. 0\n",
       "119. 0\n",
       "120. 0\n",
       "121. 0\n",
       "122. 0\n",
       "123. 1\n",
       "124. 0\n",
       "125. 0\n",
       "126. 0\n",
       "127. 1\n",
       "128. 0\n",
       "129. 0\n",
       "130. 0\n",
       "131. 0\n",
       "132. 1\n",
       "133. 0\n",
       "134. 1\n",
       "135. 1\n",
       "136. 0\n",
       "137. 0\n",
       "138. 0\n",
       "139. 1\n",
       "140. 0\n",
       "141. 0\n",
       "142. 1\n",
       "143. 0\n",
       "144. 0\n",
       "145. 1\n",
       "146. 0\n",
       "147. 0\n",
       "148. 0\n",
       "149. 0\n",
       "150. 0\n",
       "151. 0\n",
       "152. 1\n",
       "153. 0\n",
       "154. 0\n",
       "155. 0\n",
       "156. 0\n",
       "157. 0\n",
       "158. 0\n",
       "159. 1\n",
       "160. 0\n",
       "161. 0\n",
       "162. 0\n",
       "163. 0\n",
       "164. 0\n",
       "165. 0\n",
       "166. 0\n",
       "167. 1\n",
       "168. 0\n",
       "169. 1\n",
       "170. 1\n",
       "171. 1\n",
       "172. 0\n",
       "173. 1\n",
       "174. 0\n",
       "175. 0\n",
       "176. 1\n",
       "177. 0\n",
       "178. 0\n",
       "179. 0\n",
       "180. 0\n",
       "181. 0\n",
       "182. 0\n",
       "183. 0\n",
       "184. 0\n",
       "185. 0\n",
       "186. 0\n",
       "187. 0\n",
       "188. 1\n",
       "189. 0\n",
       "190. 0\n",
       "191. 1\n",
       "192. 0\n",
       "193. 1\n",
       "194. 0\n",
       "195. 0\n",
       "196. 0\n",
       "197. 1\n",
       "198. 0\n",
       "199. 0\n",
       "200. 1\n",
       "201. 0\n",
       "202. 1\n",
       "203. 0\n",
       "204. 0\n",
       "205. 0\n",
       "206. 0\n",
       "207. 0\n",
       "208. 0\n",
       "209. 0\n",
       "210. 0\n",
       "211. 1\n",
       "212. 0\n",
       "213. 0\n",
       "214. 0\n",
       "215. 1\n",
       "216. 0\n",
       "217. 0\n",
       "218. 0\n",
       "\n",
       "\n"
      ],
      "text/plain": [
       "  [1] 0 0 0 0 1 1 0 0 1 1 1 0 1 1 0 0 0 0 0 0 1 0 0 1 1 1 0 0 0 0 0 0 1 0 0 0 0\n",
       " [38] 0 0 0 0 0 1 0 0 0 0 1 0 0 1 0 0 1 0 1 1 0 0 1 1 1 0 1 0 0 1 1 0 1 0 0 0 0\n",
       " [75] 1 0 0 0 0 0 0 0 0 1 0 0 0 0 0 0 0 0 0 0 1 0 0 1 0 1 0 0 0 0 0 0 0 1 0 0 1\n",
       "[112] 0 0 0 1 1 0 0 0 0 0 0 1 0 0 0 1 0 0 0 0 1 0 1 1 0 0 0 1 0 0 1 0 0 1 0 0 0\n",
       "[149] 0 0 0 1 0 0 0 0 0 0 1 0 0 0 0 0 0 0 1 0 1 1 1 0 1 0 0 1 0 0 0 0 0 0 0 0 0\n",
       "[186] 0 0 1 0 0 1 0 1 0 0 0 1 0 0 1 0 1 0 0 0 0 0 0 0 0 1 0 0 0 1 0 0 0"
      ]
     },
     "metadata": {},
     "output_type": "display_data"
    }
   ],
   "source": [
    "as.numeric(pima_preds == 'pos')"
   ]
  },
  {
   "cell_type": "code",
   "execution_count": 120,
   "metadata": {
    "hidden": true
   },
   "outputs": [
    {
     "data": {
      "text/html": [
       "<ol class=list-inline>\n",
       "\t<li>0</li>\n",
       "\t<li>0</li>\n",
       "\t<li>0</li>\n",
       "\t<li>1</li>\n",
       "\t<li>1</li>\n",
       "\t<li>1</li>\n",
       "\t<li>1</li>\n",
       "\t<li>0</li>\n",
       "\t<li>1</li>\n",
       "\t<li>0</li>\n",
       "\t<li>1</li>\n",
       "\t<li>1</li>\n",
       "\t<li>0</li>\n",
       "\t<li>1</li>\n",
       "\t<li>0</li>\n",
       "\t<li>0</li>\n",
       "\t<li>1</li>\n",
       "\t<li>0</li>\n",
       "\t<li>0</li>\n",
       "\t<li>0</li>\n",
       "\t<li>1</li>\n",
       "\t<li>0</li>\n",
       "\t<li>0</li>\n",
       "\t<li>0</li>\n",
       "\t<li>1</li>\n",
       "\t<li>1</li>\n",
       "\t<li>1</li>\n",
       "\t<li>0</li>\n",
       "\t<li>1</li>\n",
       "\t<li>0</li>\n",
       "\t<li>0</li>\n",
       "\t<li>1</li>\n",
       "\t<li>1</li>\n",
       "\t<li>0</li>\n",
       "\t<li>0</li>\n",
       "\t<li>0</li>\n",
       "\t<li>0</li>\n",
       "\t<li>0</li>\n",
       "\t<li>0</li>\n",
       "\t<li>1</li>\n",
       "\t<li>0</li>\n",
       "\t<li>0</li>\n",
       "\t<li>1</li>\n",
       "\t<li>0</li>\n",
       "\t<li>0</li>\n",
       "\t<li>0</li>\n",
       "\t<li>0</li>\n",
       "\t<li>1</li>\n",
       "\t<li>0</li>\n",
       "\t<li>0</li>\n",
       "\t<li>1</li>\n",
       "\t<li>0</li>\n",
       "\t<li>1</li>\n",
       "\t<li>1</li>\n",
       "\t<li>0</li>\n",
       "\t<li>1</li>\n",
       "\t<li>1</li>\n",
       "\t<li>1</li>\n",
       "\t<li>1</li>\n",
       "\t<li>1</li>\n",
       "\t<li>0</li>\n",
       "\t<li>1</li>\n",
       "\t<li>0</li>\n",
       "\t<li>1</li>\n",
       "\t<li>0</li>\n",
       "\t<li>0</li>\n",
       "\t<li>0</li>\n",
       "\t<li>0</li>\n",
       "\t<li>1</li>\n",
       "\t<li>1</li>\n",
       "\t<li>0</li>\n",
       "\t<li>0</li>\n",
       "\t<li>1</li>\n",
       "\t<li>0</li>\n",
       "\t<li>0</li>\n",
       "\t<li>0</li>\n",
       "\t<li>0</li>\n",
       "\t<li>0</li>\n",
       "\t<li>0</li>\n",
       "\t<li>0</li>\n",
       "\t<li>0</li>\n",
       "\t<li>1</li>\n",
       "\t<li>0</li>\n",
       "\t<li>1</li>\n",
       "\t<li>1</li>\n",
       "\t<li>0</li>\n",
       "\t<li>0</li>\n",
       "\t<li>0</li>\n",
       "\t<li>1</li>\n",
       "\t<li>1</li>\n",
       "\t<li>0</li>\n",
       "\t<li>0</li>\n",
       "\t<li>0</li>\n",
       "\t<li>1</li>\n",
       "\t<li>0</li>\n",
       "\t<li>1</li>\n",
       "\t<li>0</li>\n",
       "\t<li>0</li>\n",
       "\t<li>0</li>\n",
       "\t<li>1</li>\n",
       "\t<li>0</li>\n",
       "\t<li>0</li>\n",
       "\t<li>0</li>\n",
       "\t<li>0</li>\n",
       "\t<li>0</li>\n",
       "\t<li>1</li>\n",
       "\t<li>0</li>\n",
       "\t<li>1</li>\n",
       "\t<li>0</li>\n",
       "\t<li>0</li>\n",
       "\t<li>1</li>\n",
       "\t<li>0</li>\n",
       "\t<li>0</li>\n",
       "\t<li>1</li>\n",
       "\t<li>1</li>\n",
       "\t<li>0</li>\n",
       "\t<li>0</li>\n",
       "\t<li>0</li>\n",
       "\t<li>0</li>\n",
       "\t<li>0</li>\n",
       "\t<li>0</li>\n",
       "\t<li>0</li>\n",
       "\t<li>1</li>\n",
       "\t<li>0</li>\n",
       "\t<li>0</li>\n",
       "\t<li>0</li>\n",
       "\t<li>0</li>\n",
       "\t<li>0</li>\n",
       "\t<li>0</li>\n",
       "\t<li>0</li>\n",
       "\t<li>1</li>\n",
       "\t<li>1</li>\n",
       "\t<li>0</li>\n",
       "\t<li>0</li>\n",
       "\t<li>0</li>\n",
       "\t<li>0</li>\n",
       "\t<li>0</li>\n",
       "\t<li>0</li>\n",
       "\t<li>1</li>\n",
       "\t<li>0</li>\n",
       "\t<li>0</li>\n",
       "\t<li>1</li>\n",
       "\t<li>0</li>\n",
       "\t<li>0</li>\n",
       "\t<li>1</li>\n",
       "\t<li>0</li>\n",
       "\t<li>0</li>\n",
       "\t<li>0</li>\n",
       "\t<li>0</li>\n",
       "\t<li>1</li>\n",
       "\t<li>0</li>\n",
       "\t<li>1</li>\n",
       "\t<li>0</li>\n",
       "\t<li>0</li>\n",
       "\t<li>0</li>\n",
       "\t<li>0</li>\n",
       "\t<li>1</li>\n",
       "\t<li>0</li>\n",
       "\t<li>0</li>\n",
       "\t<li>0</li>\n",
       "\t<li>0</li>\n",
       "\t<li>0</li>\n",
       "\t<li>0</li>\n",
       "\t<li>1</li>\n",
       "\t<li>1</li>\n",
       "\t<li>0</li>\n",
       "\t<li>1</li>\n",
       "\t<li>0</li>\n",
       "\t<li>1</li>\n",
       "\t<li>1</li>\n",
       "\t<li>1</li>\n",
       "\t<li>0</li>\n",
       "\t<li>1</li>\n",
       "\t<li>0</li>\n",
       "\t<li>0</li>\n",
       "\t<li>1</li>\n",
       "\t<li>0</li>\n",
       "\t<li>0</li>\n",
       "\t<li>0</li>\n",
       "\t<li>0</li>\n",
       "\t<li>1</li>\n",
       "\t<li>0</li>\n",
       "\t<li>0</li>\n",
       "\t<li>0</li>\n",
       "\t<li>0</li>\n",
       "\t<li>0</li>\n",
       "\t<li>0</li>\n",
       "\t<li>1</li>\n",
       "\t<li>1</li>\n",
       "\t<li>1</li>\n",
       "\t<li>0</li>\n",
       "\t<li>0</li>\n",
       "\t<li>1</li>\n",
       "\t<li>1</li>\n",
       "\t<li>0</li>\n",
       "\t<li>1</li>\n",
       "\t<li>1</li>\n",
       "\t<li>0</li>\n",
       "\t<li>0</li>\n",
       "\t<li>1</li>\n",
       "\t<li>0</li>\n",
       "\t<li>1</li>\n",
       "\t<li>0</li>\n",
       "\t<li>0</li>\n",
       "\t<li>0</li>\n",
       "\t<li>0</li>\n",
       "\t<li>0</li>\n",
       "\t<li>0</li>\n",
       "\t<li>0</li>\n",
       "\t<li>1</li>\n",
       "\t<li>1</li>\n",
       "\t<li>0</li>\n",
       "\t<li>0</li>\n",
       "\t<li>0</li>\n",
       "\t<li>1</li>\n",
       "\t<li>0</li>\n",
       "\t<li>0</li>\n",
       "\t<li>0</li>\n",
       "</ol>\n"
      ],
      "text/latex": [
       "\\begin{enumerate*}\n",
       "\\item 0\n",
       "\\item 0\n",
       "\\item 0\n",
       "\\item 1\n",
       "\\item 1\n",
       "\\item 1\n",
       "\\item 1\n",
       "\\item 0\n",
       "\\item 1\n",
       "\\item 0\n",
       "\\item 1\n",
       "\\item 1\n",
       "\\item 0\n",
       "\\item 1\n",
       "\\item 0\n",
       "\\item 0\n",
       "\\item 1\n",
       "\\item 0\n",
       "\\item 0\n",
       "\\item 0\n",
       "\\item 1\n",
       "\\item 0\n",
       "\\item 0\n",
       "\\item 0\n",
       "\\item 1\n",
       "\\item 1\n",
       "\\item 1\n",
       "\\item 0\n",
       "\\item 1\n",
       "\\item 0\n",
       "\\item 0\n",
       "\\item 1\n",
       "\\item 1\n",
       "\\item 0\n",
       "\\item 0\n",
       "\\item 0\n",
       "\\item 0\n",
       "\\item 0\n",
       "\\item 0\n",
       "\\item 1\n",
       "\\item 0\n",
       "\\item 0\n",
       "\\item 1\n",
       "\\item 0\n",
       "\\item 0\n",
       "\\item 0\n",
       "\\item 0\n",
       "\\item 1\n",
       "\\item 0\n",
       "\\item 0\n",
       "\\item 1\n",
       "\\item 0\n",
       "\\item 1\n",
       "\\item 1\n",
       "\\item 0\n",
       "\\item 1\n",
       "\\item 1\n",
       "\\item 1\n",
       "\\item 1\n",
       "\\item 1\n",
       "\\item 0\n",
       "\\item 1\n",
       "\\item 0\n",
       "\\item 1\n",
       "\\item 0\n",
       "\\item 0\n",
       "\\item 0\n",
       "\\item 0\n",
       "\\item 1\n",
       "\\item 1\n",
       "\\item 0\n",
       "\\item 0\n",
       "\\item 1\n",
       "\\item 0\n",
       "\\item 0\n",
       "\\item 0\n",
       "\\item 0\n",
       "\\item 0\n",
       "\\item 0\n",
       "\\item 0\n",
       "\\item 0\n",
       "\\item 1\n",
       "\\item 0\n",
       "\\item 1\n",
       "\\item 1\n",
       "\\item 0\n",
       "\\item 0\n",
       "\\item 0\n",
       "\\item 1\n",
       "\\item 1\n",
       "\\item 0\n",
       "\\item 0\n",
       "\\item 0\n",
       "\\item 1\n",
       "\\item 0\n",
       "\\item 1\n",
       "\\item 0\n",
       "\\item 0\n",
       "\\item 0\n",
       "\\item 1\n",
       "\\item 0\n",
       "\\item 0\n",
       "\\item 0\n",
       "\\item 0\n",
       "\\item 0\n",
       "\\item 1\n",
       "\\item 0\n",
       "\\item 1\n",
       "\\item 0\n",
       "\\item 0\n",
       "\\item 1\n",
       "\\item 0\n",
       "\\item 0\n",
       "\\item 1\n",
       "\\item 1\n",
       "\\item 0\n",
       "\\item 0\n",
       "\\item 0\n",
       "\\item 0\n",
       "\\item 0\n",
       "\\item 0\n",
       "\\item 0\n",
       "\\item 1\n",
       "\\item 0\n",
       "\\item 0\n",
       "\\item 0\n",
       "\\item 0\n",
       "\\item 0\n",
       "\\item 0\n",
       "\\item 0\n",
       "\\item 1\n",
       "\\item 1\n",
       "\\item 0\n",
       "\\item 0\n",
       "\\item 0\n",
       "\\item 0\n",
       "\\item 0\n",
       "\\item 0\n",
       "\\item 1\n",
       "\\item 0\n",
       "\\item 0\n",
       "\\item 1\n",
       "\\item 0\n",
       "\\item 0\n",
       "\\item 1\n",
       "\\item 0\n",
       "\\item 0\n",
       "\\item 0\n",
       "\\item 0\n",
       "\\item 1\n",
       "\\item 0\n",
       "\\item 1\n",
       "\\item 0\n",
       "\\item 0\n",
       "\\item 0\n",
       "\\item 0\n",
       "\\item 1\n",
       "\\item 0\n",
       "\\item 0\n",
       "\\item 0\n",
       "\\item 0\n",
       "\\item 0\n",
       "\\item 0\n",
       "\\item 1\n",
       "\\item 1\n",
       "\\item 0\n",
       "\\item 1\n",
       "\\item 0\n",
       "\\item 1\n",
       "\\item 1\n",
       "\\item 1\n",
       "\\item 0\n",
       "\\item 1\n",
       "\\item 0\n",
       "\\item 0\n",
       "\\item 1\n",
       "\\item 0\n",
       "\\item 0\n",
       "\\item 0\n",
       "\\item 0\n",
       "\\item 1\n",
       "\\item 0\n",
       "\\item 0\n",
       "\\item 0\n",
       "\\item 0\n",
       "\\item 0\n",
       "\\item 0\n",
       "\\item 1\n",
       "\\item 1\n",
       "\\item 1\n",
       "\\item 0\n",
       "\\item 0\n",
       "\\item 1\n",
       "\\item 1\n",
       "\\item 0\n",
       "\\item 1\n",
       "\\item 1\n",
       "\\item 0\n",
       "\\item 0\n",
       "\\item 1\n",
       "\\item 0\n",
       "\\item 1\n",
       "\\item 0\n",
       "\\item 0\n",
       "\\item 0\n",
       "\\item 0\n",
       "\\item 0\n",
       "\\item 0\n",
       "\\item 0\n",
       "\\item 1\n",
       "\\item 1\n",
       "\\item 0\n",
       "\\item 0\n",
       "\\item 0\n",
       "\\item 1\n",
       "\\item 0\n",
       "\\item 0\n",
       "\\item 0\n",
       "\\end{enumerate*}\n"
      ],
      "text/markdown": [
       "1. 0\n",
       "2. 0\n",
       "3. 0\n",
       "4. 1\n",
       "5. 1\n",
       "6. 1\n",
       "7. 1\n",
       "8. 0\n",
       "9. 1\n",
       "10. 0\n",
       "11. 1\n",
       "12. 1\n",
       "13. 0\n",
       "14. 1\n",
       "15. 0\n",
       "16. 0\n",
       "17. 1\n",
       "18. 0\n",
       "19. 0\n",
       "20. 0\n",
       "21. 1\n",
       "22. 0\n",
       "23. 0\n",
       "24. 0\n",
       "25. 1\n",
       "26. 1\n",
       "27. 1\n",
       "28. 0\n",
       "29. 1\n",
       "30. 0\n",
       "31. 0\n",
       "32. 1\n",
       "33. 1\n",
       "34. 0\n",
       "35. 0\n",
       "36. 0\n",
       "37. 0\n",
       "38. 0\n",
       "39. 0\n",
       "40. 1\n",
       "41. 0\n",
       "42. 0\n",
       "43. 1\n",
       "44. 0\n",
       "45. 0\n",
       "46. 0\n",
       "47. 0\n",
       "48. 1\n",
       "49. 0\n",
       "50. 0\n",
       "51. 1\n",
       "52. 0\n",
       "53. 1\n",
       "54. 1\n",
       "55. 0\n",
       "56. 1\n",
       "57. 1\n",
       "58. 1\n",
       "59. 1\n",
       "60. 1\n",
       "61. 0\n",
       "62. 1\n",
       "63. 0\n",
       "64. 1\n",
       "65. 0\n",
       "66. 0\n",
       "67. 0\n",
       "68. 0\n",
       "69. 1\n",
       "70. 1\n",
       "71. 0\n",
       "72. 0\n",
       "73. 1\n",
       "74. 0\n",
       "75. 0\n",
       "76. 0\n",
       "77. 0\n",
       "78. 0\n",
       "79. 0\n",
       "80. 0\n",
       "81. 0\n",
       "82. 1\n",
       "83. 0\n",
       "84. 1\n",
       "85. 1\n",
       "86. 0\n",
       "87. 0\n",
       "88. 0\n",
       "89. 1\n",
       "90. 1\n",
       "91. 0\n",
       "92. 0\n",
       "93. 0\n",
       "94. 1\n",
       "95. 0\n",
       "96. 1\n",
       "97. 0\n",
       "98. 0\n",
       "99. 0\n",
       "100. 1\n",
       "101. 0\n",
       "102. 0\n",
       "103. 0\n",
       "104. 0\n",
       "105. 0\n",
       "106. 1\n",
       "107. 0\n",
       "108. 1\n",
       "109. 0\n",
       "110. 0\n",
       "111. 1\n",
       "112. 0\n",
       "113. 0\n",
       "114. 1\n",
       "115. 1\n",
       "116. 0\n",
       "117. 0\n",
       "118. 0\n",
       "119. 0\n",
       "120. 0\n",
       "121. 0\n",
       "122. 0\n",
       "123. 1\n",
       "124. 0\n",
       "125. 0\n",
       "126. 0\n",
       "127. 0\n",
       "128. 0\n",
       "129. 0\n",
       "130. 0\n",
       "131. 1\n",
       "132. 1\n",
       "133. 0\n",
       "134. 0\n",
       "135. 0\n",
       "136. 0\n",
       "137. 0\n",
       "138. 0\n",
       "139. 1\n",
       "140. 0\n",
       "141. 0\n",
       "142. 1\n",
       "143. 0\n",
       "144. 0\n",
       "145. 1\n",
       "146. 0\n",
       "147. 0\n",
       "148. 0\n",
       "149. 0\n",
       "150. 1\n",
       "151. 0\n",
       "152. 1\n",
       "153. 0\n",
       "154. 0\n",
       "155. 0\n",
       "156. 0\n",
       "157. 1\n",
       "158. 0\n",
       "159. 0\n",
       "160. 0\n",
       "161. 0\n",
       "162. 0\n",
       "163. 0\n",
       "164. 1\n",
       "165. 1\n",
       "166. 0\n",
       "167. 1\n",
       "168. 0\n",
       "169. 1\n",
       "170. 1\n",
       "171. 1\n",
       "172. 0\n",
       "173. 1\n",
       "174. 0\n",
       "175. 0\n",
       "176. 1\n",
       "177. 0\n",
       "178. 0\n",
       "179. 0\n",
       "180. 0\n",
       "181. 1\n",
       "182. 0\n",
       "183. 0\n",
       "184. 0\n",
       "185. 0\n",
       "186. 0\n",
       "187. 0\n",
       "188. 1\n",
       "189. 1\n",
       "190. 1\n",
       "191. 0\n",
       "192. 0\n",
       "193. 1\n",
       "194. 1\n",
       "195. 0\n",
       "196. 1\n",
       "197. 1\n",
       "198. 0\n",
       "199. 0\n",
       "200. 1\n",
       "201. 0\n",
       "202. 1\n",
       "203. 0\n",
       "204. 0\n",
       "205. 0\n",
       "206. 0\n",
       "207. 0\n",
       "208. 0\n",
       "209. 0\n",
       "210. 1\n",
       "211. 1\n",
       "212. 0\n",
       "213. 0\n",
       "214. 0\n",
       "215. 1\n",
       "216. 0\n",
       "217. 0\n",
       "218. 0\n",
       "\n",
       "\n"
      ],
      "text/plain": [
       "  [1] 0 0 0 1 1 1 1 0 1 0 1 1 0 1 0 0 1 0 0 0 1 0 0 0 1 1 1 0 1 0 0 1 1 0 0 0 0\n",
       " [38] 0 0 1 0 0 1 0 0 0 0 1 0 0 1 0 1 1 0 1 1 1 1 1 0 1 0 1 0 0 0 0 1 1 0 0 1 0\n",
       " [75] 0 0 0 0 0 0 0 1 0 1 1 0 0 0 1 1 0 0 0 1 0 1 0 0 0 1 0 0 0 0 0 1 0 1 0 0 1\n",
       "[112] 0 0 1 1 0 0 0 0 0 0 0 1 0 0 0 0 0 0 0 1 1 0 0 0 0 0 0 1 0 0 1 0 0 1 0 0 0\n",
       "[149] 0 1 0 1 0 0 0 0 1 0 0 0 0 0 0 1 1 0 1 0 1 1 1 0 1 0 0 1 0 0 0 0 1 0 0 0 0\n",
       "[186] 0 0 1 1 1 0 0 1 1 0 1 1 0 0 1 0 1 0 0 0 0 0 0 0 1 1 0 0 0 1 0 0 0"
      ]
     },
     "metadata": {},
     "output_type": "display_data"
    }
   ],
   "source": [
    "as.numeric(pima_test$diabetes == 'pos')"
   ]
  },
  {
   "cell_type": "code",
   "execution_count": 122,
   "metadata": {
    "hidden": true
   },
   "outputs": [
    {
     "data": {
      "text/html": [
       "0.600558659217877"
      ],
      "text/latex": [
       "0.600558659217877"
      ],
      "text/markdown": [
       "0.600558659217877"
      ],
      "text/plain": [
       "[1] 0.6005587"
      ]
     },
     "metadata": {},
     "output_type": "display_data"
    }
   ],
   "source": [
    "#::GMG::I score the set of all features with metric AUC\n",
    "#::NOTE::I cannot use prima_preds or pima_test$diabetes as factors for metric calculation (!!)\n",
    "Metrics::fbeta_score(predicted = as.numeric(pima_preds == 'pos'), \n",
    "                     actual = as.numeric(pima_test$diabetes == 'pos'), \n",
    "                     beta = 2)"
   ]
  },
  {
   "cell_type": "code",
   "execution_count": 137,
   "metadata": {
    "hidden": true
   },
   "outputs": [
    {
     "data": {
      "text/html": [
       "0.573333333333333"
      ],
      "text/latex": [
       "0.573333333333333"
      ],
      "text/markdown": [
       "0.573333333333333"
      ],
      "text/plain": [
       "[1] 0.5733333"
      ]
     },
     "metadata": {},
     "output_type": "display_data"
    }
   ],
   "source": [
    "Metrics::recall(predicted = as.numeric(pima_preds == 'pos'), \n",
    "                actual = as.numeric(pima_test$diabetes == 'pos'))"
   ]
  },
  {
   "cell_type": "code",
   "execution_count": 124,
   "metadata": {
    "hidden": true
   },
   "outputs": [
    {
     "data": {
      "text/html": [
       "<dl class=dl-horizontal>\n",
       "\t<dt>glucose</dt>\n",
       "\t\t<dd>58.2569763802587</dd>\n",
       "\t<dt>age</dt>\n",
       "\t\t<dd>32.7347006130395</dd>\n",
       "\t<dt>mass</dt>\n",
       "\t\t<dd>32.0648841485174</dd>\n",
       "\t<dt>pedigree</dt>\n",
       "\t\t<dd>27.7333397430287</dd>\n",
       "\t<dt>pressure</dt>\n",
       "\t\t<dd>19.9348022734163</dd>\n",
       "\t<dt>pregnant</dt>\n",
       "\t\t<dd>19.6507139233766</dd>\n",
       "\t<dt>insulin</dt>\n",
       "\t\t<dd>18.8249785202684</dd>\n",
       "\t<dt>triceps</dt>\n",
       "\t\t<dd>17.6531809647894</dd>\n",
       "</dl>\n"
      ],
      "text/latex": [
       "\\begin{description*}\n",
       "\\item[glucose] 58.2569763802587\n",
       "\\item[age] 32.7347006130395\n",
       "\\item[mass] 32.0648841485174\n",
       "\\item[pedigree] 27.7333397430287\n",
       "\\item[pressure] 19.9348022734163\n",
       "\\item[pregnant] 19.6507139233766\n",
       "\\item[insulin] 18.8249785202684\n",
       "\\item[triceps] 17.6531809647894\n",
       "\\end{description*}\n"
      ],
      "text/markdown": [
       "glucose\n",
       ":   58.2569763802587age\n",
       ":   32.7347006130395mass\n",
       ":   32.0648841485174pedigree\n",
       ":   27.7333397430287pressure\n",
       ":   19.9348022734163pregnant\n",
       ":   19.6507139233766insulin\n",
       ":   18.8249785202684triceps\n",
       ":   17.6531809647894\n",
       "\n"
      ],
      "text/plain": [
       " glucose      age     mass pedigree pressure pregnant  insulin  triceps \n",
       "58.25698 32.73470 32.06488 27.73334 19.93480 19.65071 18.82498 17.65318 "
      ]
     },
     "metadata": {},
     "output_type": "display_data"
    }
   ],
   "source": [
    "#::GMG::Let's see the important features (¿relevant?)\n",
    "sort(\n",
    "        x = importance(model_pima_rf)[,'MeanDecreaseGini'], \n",
    "        decreasing = T\n",
    "    )"
   ]
  },
  {
   "cell_type": "code",
   "execution_count": 125,
   "metadata": {
    "hidden": true
   },
   "outputs": [
    {
     "name": "stdout",
     "output_type": "stream",
     "text": [
      " Named num [1:4] 58.3 32.7 32.1 27.7\n",
      " - attr(*, \"names\")= chr [1:4] \"glucose\" \"age\" \"mass\" \"pedigree\"\n"
     ]
    }
   ],
   "source": [
    "#::GMG::Say, Top 4\n",
    "str(head(\n",
    "    x = sort(\n",
    "        x = importance(model_pima_rf)[,'MeanDecreaseGini'], \n",
    "        decreasing = T\n",
    "    ), n = 4\n",
    "))"
   ]
  },
  {
   "cell_type": "code",
   "execution_count": 126,
   "metadata": {
    "hidden": true
   },
   "outputs": [],
   "source": [
    "top4 <- as.character(names(\n",
    "    head(\n",
    "      x = sort(\n",
    "          x = importance(model_pima_rf)[,'MeanDecreaseGini'], \n",
    "          decreasing = T\n",
    "      ), n = 4\n",
    "    )\n",
    "  )\n",
    ")"
   ]
  },
  {
   "cell_type": "code",
   "execution_count": 131,
   "metadata": {
    "hidden": true
   },
   "outputs": [],
   "source": [
    "#::GMG::Then I create a new formula for the model\n",
    "# http://www.cookbook-r.com/Formulas/Creating_a_formula_from_a_string/\n",
    "measurevar <- \"diabetes\"\n",
    "groupvars  <- top4\n",
    "my_formula_pima <- as.formula(\n",
    "    paste(measurevar, paste(groupvars, collapse=\" + \"), sep=\" ~ \")\n",
    ")"
   ]
  },
  {
   "cell_type": "code",
   "execution_count": 132,
   "metadata": {
    "hidden": true
   },
   "outputs": [
    {
     "data": {
      "text/plain": [
       "diabetes ~ glucose + age + mass + pedigree"
      ]
     },
     "metadata": {},
     "output_type": "display_data"
    }
   ],
   "source": [
    "my_formula_pima"
   ]
  },
  {
   "cell_type": "code",
   "execution_count": 133,
   "metadata": {
    "hidden": true
   },
   "outputs": [],
   "source": [
    "#::GMG::Train the model with all the features\n",
    "model_pima_rf_2 <- randomForest(my_formula_pima, data = pima_train, importance = T)"
   ]
  },
  {
   "cell_type": "code",
   "execution_count": 134,
   "metadata": {
    "hidden": true
   },
   "outputs": [
    {
     "data": {
      "text/plain": [
       "\n",
       "Call:\n",
       " randomForest(formula = my_formula_pima, data = pima_train, importance = T) \n",
       "               Type of random forest: classification\n",
       "                     Number of trees: 500\n",
       "No. of variables tried at each split: 2\n",
       "\n",
       "        OOB estimate of  error rate: 25.1%\n",
       "Confusion matrix:\n",
       "    neg pos class.error\n",
       "neg 278  54   0.1626506\n",
       "pos  73 101   0.4195402"
      ]
     },
     "metadata": {},
     "output_type": "display_data"
    }
   ],
   "source": [
    "model_pima_rf_2"
   ]
  },
  {
   "cell_type": "code",
   "execution_count": 135,
   "metadata": {
    "hidden": true
   },
   "outputs": [],
   "source": [
    "#::GMG::I use dplyr select() instead of stock_test[,-101]\n",
    "pima_preds_2 <- predict(model_pima_rf_2, select(pima_test, -diabetes))"
   ]
  },
  {
   "cell_type": "code",
   "execution_count": 136,
   "metadata": {
    "hidden": true
   },
   "outputs": [
    {
     "data": {
      "text/html": [
       "0.606060606060606"
      ],
      "text/latex": [
       "0.606060606060606"
      ],
      "text/markdown": [
       "0.606060606060606"
      ],
      "text/plain": [
       "[1] 0.6060606"
      ]
     },
     "metadata": {},
     "output_type": "display_data"
    }
   ],
   "source": [
    "#::GMG::I score the set of all features with metric AUC\n",
    "#::NOTE::I cannot use prima_preds or pima_test$diabetes as factors for metric calculation (!!)\n",
    "Metrics::fbeta_score(predicted = as.numeric(pima_preds_2 == 'pos'), \n",
    "                     actual = as.numeric(pima_test$diabetes == 'pos'), \n",
    "                     beta = 2)"
   ]
  },
  {
   "cell_type": "code",
   "execution_count": 138,
   "metadata": {
    "hidden": true
   },
   "outputs": [
    {
     "data": {
      "text/html": [
       "0.586666666666667"
      ],
      "text/latex": [
       "0.586666666666667"
      ],
      "text/markdown": [
       "0.586666666666667"
      ],
      "text/plain": [
       "[1] 0.5866667"
      ]
     },
     "metadata": {},
     "output_type": "display_data"
    }
   ],
   "source": [
    "Metrics::recall(predicted = as.numeric(pima_preds_2 == 'pos'), \n",
    "                actual = as.numeric(pima_test$diabetes == 'pos'))"
   ]
  },
  {
   "cell_type": "markdown",
   "metadata": {
    "hidden": true
   },
   "source": [
    "**::GMG::** No significative improvement! What a waste! :("
   ]
  }
 ],
 "metadata": {
  "kernelspec": {
   "display_name": "R",
   "language": "R",
   "name": "ir"
  },
  "language_info": {
   "codemirror_mode": "r",
   "file_extension": ".r",
   "mimetype": "text/x-r-source",
   "name": "R",
   "pygments_lexer": "r",
   "version": "3.6.0"
  }
 },
 "nbformat": 4,
 "nbformat_minor": 2
}
