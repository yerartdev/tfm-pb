{
  "nbformat": 4,
  "nbformat_minor": 0,
  "metadata": {
    "colab": {
      "name": "poc-colab-r-feature-selection.ipynb",
      "version": "0.3.2",
      "provenance": [],
      "collapsed_sections": [
        "MeDzpeKpY9hg",
        "0hCyaUhyaxik",
        "yOgR1yaevxR3",
        "4qYFsjxLwFPh",
        "Wi0SA-U4wWb_",
        "K9KQPCouweo4",
        "MmFXrVxJw6ZF",
        "DGG4MvlA17uU",
        "ic0xoV33uIm9",
        "GQbCK8EDzP1v",
        "N7rGzw-euS11"
      ],
      "include_colab_link": true
    },
    "kernelspec": {
      "display_name": "R",
      "language": "R",
      "name": "ir"
    }
  },
  "cells": [
    {
      "cell_type": "markdown",
      "metadata": {
        "id": "view-in-github",
        "colab_type": "text"
      },
      "source": [
        "<a href=\"https://colab.research.google.com/github/yerartdev/tfm-pb/blob/master/poc_colab_r_feature_selection.ipynb\" target=\"_parent\"><img src=\"https://colab.research.google.com/assets/colab-badge.svg\" alt=\"Open In Colab\"/></a>"
      ]
    },
    {
      "cell_type": "markdown",
      "metadata": {
        "id": "baBkTHBTv9jC",
        "colab_type": "text"
      },
      "source": [
        "# Gerardo de Miguel González"
      ]
    },
    {
      "cell_type": "markdown",
      "metadata": {
        "id": "MeDzpeKpY9hg",
        "colab_type": "text"
      },
      "source": [
        "## irkernel"
      ]
    },
    {
      "cell_type": "markdown",
      "metadata": {
        "id": "cehzu78HFe06",
        "colab_type": "text"
      },
      "source": [
        "Ejemplo de Ejecución de R en Python:\n",
        "\n",
        "https://colab.research.google.com/github/IRkernel/IRkernel/blob/master/example-notebooks/Demo.ipynb#scrollTo=UVye7K3FEnEM\n",
        "\n",
        "que también [se puede encontrar en Github](https://github.com/IRkernel/IRkernel/tree/master/example-notebooks) y [se puede abrir desde Github](https://colab.research.google.com/github/IRkernel/).\n",
        "\n",
        "Obtenido de una entrada en StackExchange:\n",
        "\n",
        "- [How to use R with Google Colaboratory? - Stack Overflow](https://stackoverflow.com/questions/54595285/how-to-use-r-with-google-colaboratory)\n",
        "\n",
        "Aperentemente de momento [no hay soporte oficial](https://research.google.com/colaboratory/faq.html) de R (o Julia) aunque [hay gente que se lo ha currado](https://discourse.mc-stan.org/t/r-jupyter-notebook-rstan-on-google-colab/6101) con [más o menos hacking](https://gist.github.com/simecek/019d87c55fec3839d95bbf8489dde61d).\n",
        "\n",
        "NOTA: no he encontrado manera de ejecutar R creando un nuevo notebook desde cero en Google Drive porque solamente te ofrece el enorno de ejecución Python."
      ]
    },
    {
      "cell_type": "markdown",
      "metadata": {
        "id": "0hCyaUhyaxik",
        "colab_type": "text"
      },
      "source": [
        "## References"
      ]
    },
    {
      "cell_type": "markdown",
      "metadata": {
        "id": "Mwg8ltFHa0_7",
        "colab_type": "text"
      },
      "source": [
        "**::GMG::** I've followed these references:\n",
        "\n",
        "  - [Machine Learning Process](https://machinelearningmastery.com/an-introduction-to-feature-selection/) An Introduction to Feature Selection. By Jason Brownlee on October 6, 2014.\n",
        "  - [R Machine Learning](https://machinelearningmastery.com/feature-selection-with-the-caret-r-package/) Feature Selection with the Caret R Package. By Jason Brownlee on September 22, 2014"
      ]
    },
    {
      "cell_type": "markdown",
      "metadata": {
        "id": "yOgR1yaevxR3",
        "colab_type": "text"
      },
      "source": [
        "## Libraries"
      ]
    },
    {
      "cell_type": "code",
      "metadata": {
        "id": "NJmjS61qv11z",
        "colab_type": "code",
        "colab": {}
      },
      "source": [
        "#::GMG::Helper function to install missing libraries before loading them\n",
        "# https://stackoverflow.com/questions/4090169/elegant-way-to-check-for-missing-packages-and-install-them\n",
        "using<-function(...) {\n",
        "    libs<-unlist(list(...))\n",
        "    req<-unlist(lapply(libs,require,character.only=TRUE))\n",
        "    need<-libs[req==FALSE]\n",
        "    if(length(need)>0){ \n",
        "        install.packages(need)\n",
        "        lapply(need,require,character.only=TRUE)\n",
        "    }\n",
        "}"
      ],
      "execution_count": 0,
      "outputs": []
    },
    {
      "cell_type": "code",
      "metadata": {
        "id": "g3GuyWleavX1",
        "colab_type": "code",
        "colab": {}
      },
      "source": [
        "using('repr','mlbench', 'e1071', 'randomForest','caret')"
      ],
      "execution_count": 0,
      "outputs": []
    },
    {
      "cell_type": "markdown",
      "metadata": {
        "id": "4qYFsjxLwFPh",
        "colab_type": "text"
      },
      "source": [
        "## Dataset"
      ]
    },
    {
      "cell_type": "code",
      "metadata": {
        "id": "bR1JlFL1ciIc",
        "colab_type": "code",
        "colab": {}
      },
      "source": [
        "#::GMG::There are two versions in mlbench\n",
        "# https://www.rdocumentation.org/packages/utils/versions/3.6.1/topics/data\n",
        "#::NOTE::2nd version comes with zero outliers as NAs\n",
        "utils::data(PimaIndiansDiabetes2)"
      ],
      "execution_count": 0,
      "outputs": []
    },
    {
      "cell_type": "code",
      "metadata": {
        "id": "XJltJUNNelNQ",
        "colab_type": "code",
        "colab": {
          "base_uri": "https://localhost:8080/",
          "height": 197
        },
        "outputId": "23a14037-0615-46d5-9a82-4ecc0fd42ec8"
      },
      "source": [
        "#::GMG::See first rows\n",
        "# https://www.rdocumentation.org/packages/utils/versions/3.6.1/topics/head\n",
        "#::NOTE::Some NAs show up!\n",
        "utils::head(PimaIndiansDiabetes2)"
      ],
      "execution_count": 4,
      "outputs": [
        {
          "output_type": "display_data",
          "data": {
            "text/plain": [
              "  pregnant glucose pressure triceps insulin mass pedigree age diabetes\n",
              "1 6        148     72       35       NA     33.6 0.627    50  pos     \n",
              "2 1         85     66       29       NA     26.6 0.351    31  neg     \n",
              "3 8        183     64       NA       NA     23.3 0.672    32  pos     \n",
              "4 1         89     66       23       94     28.1 0.167    21  neg     \n",
              "5 0        137     40       35      168     43.1 2.288    33  pos     \n",
              "6 5        116     74       NA       NA     25.6 0.201    30  neg     "
            ],
            "text/latex": "A data.frame: 6 × 9\n\\begin{tabular}{r|lllllllll}\n pregnant & glucose & pressure & triceps & insulin & mass & pedigree & age & diabetes\\\\\n <dbl> & <dbl> & <dbl> & <dbl> & <dbl> & <dbl> & <dbl> & <dbl> & <fct>\\\\\n\\hline\n\t 6 & 148 & 72 & 35 &  NA & 33.6 & 0.627 & 50 & pos\\\\\n\t 1 &  85 & 66 & 29 &  NA & 26.6 & 0.351 & 31 & neg\\\\\n\t 8 & 183 & 64 & NA &  NA & 23.3 & 0.672 & 32 & pos\\\\\n\t 1 &  89 & 66 & 23 &  94 & 28.1 & 0.167 & 21 & neg\\\\\n\t 0 & 137 & 40 & 35 & 168 & 43.1 & 2.288 & 33 & pos\\\\\n\t 5 & 116 & 74 & NA &  NA & 25.6 & 0.201 & 30 & neg\\\\\n\\end{tabular}\n",
            "text/markdown": "\nA data.frame: 6 × 9\n\n| pregnant &lt;dbl&gt; | glucose &lt;dbl&gt; | pressure &lt;dbl&gt; | triceps &lt;dbl&gt; | insulin &lt;dbl&gt; | mass &lt;dbl&gt; | pedigree &lt;dbl&gt; | age &lt;dbl&gt; | diabetes &lt;fct&gt; |\n|---|---|---|---|---|---|---|---|---|\n| 6 | 148 | 72 | 35 |  NA | 33.6 | 0.627 | 50 | pos |\n| 1 |  85 | 66 | 29 |  NA | 26.6 | 0.351 | 31 | neg |\n| 8 | 183 | 64 | NA |  NA | 23.3 | 0.672 | 32 | pos |\n| 1 |  89 | 66 | 23 |  94 | 28.1 | 0.167 | 21 | neg |\n| 0 | 137 | 40 | 35 | 168 | 43.1 | 2.288 | 33 | pos |\n| 5 | 116 | 74 | NA |  NA | 25.6 | 0.201 | 30 | neg |\n\n",
            "text/html": [
              "<table>\n",
              "<caption>A data.frame: 6 × 9</caption>\n",
              "<thead>\n",
              "\t<tr><th scope=col>pregnant</th><th scope=col>glucose</th><th scope=col>pressure</th><th scope=col>triceps</th><th scope=col>insulin</th><th scope=col>mass</th><th scope=col>pedigree</th><th scope=col>age</th><th scope=col>diabetes</th></tr>\n",
              "\t<tr><th scope=col>&lt;dbl&gt;</th><th scope=col>&lt;dbl&gt;</th><th scope=col>&lt;dbl&gt;</th><th scope=col>&lt;dbl&gt;</th><th scope=col>&lt;dbl&gt;</th><th scope=col>&lt;dbl&gt;</th><th scope=col>&lt;dbl&gt;</th><th scope=col>&lt;dbl&gt;</th><th scope=col>&lt;fct&gt;</th></tr>\n",
              "</thead>\n",
              "<tbody>\n",
              "\t<tr><td>6</td><td>148</td><td>72</td><td>35</td><td> NA</td><td>33.6</td><td>0.627</td><td>50</td><td>pos</td></tr>\n",
              "\t<tr><td>1</td><td> 85</td><td>66</td><td>29</td><td> NA</td><td>26.6</td><td>0.351</td><td>31</td><td>neg</td></tr>\n",
              "\t<tr><td>8</td><td>183</td><td>64</td><td>NA</td><td> NA</td><td>23.3</td><td>0.672</td><td>32</td><td>pos</td></tr>\n",
              "\t<tr><td>1</td><td> 89</td><td>66</td><td>23</td><td> 94</td><td>28.1</td><td>0.167</td><td>21</td><td>neg</td></tr>\n",
              "\t<tr><td>0</td><td>137</td><td>40</td><td>35</td><td>168</td><td>43.1</td><td>2.288</td><td>33</td><td>pos</td></tr>\n",
              "\t<tr><td>5</td><td>116</td><td>74</td><td>NA</td><td> NA</td><td>25.6</td><td>0.201</td><td>30</td><td>neg</td></tr>\n",
              "</tbody>\n",
              "</table>\n"
            ]
          },
          "metadata": {
            "tags": []
          }
        }
      ]
    },
    {
      "cell_type": "markdown",
      "metadata": {
        "id": "Wi0SA-U4wWb_",
        "colab_type": "text"
      },
      "source": [
        "## Exploratory Data Analysis"
      ]
    },
    {
      "cell_type": "code",
      "metadata": {
        "id": "HdwvZzZyetc1",
        "colab_type": "code",
        "colab": {
          "base_uri": "https://localhost:8080/",
          "height": 186
        },
        "outputId": "9c48126d-1d7d-44cf-f933-ce1c7a583be5"
      },
      "source": [
        "#::GMG::PimaIndiansDiabetes2 (say, v2) has the outliers from \n",
        "#       glucose, pressure, triceps, insulin and mass as NAs\n",
        "str(PimaIndiansDiabetes2)"
      ],
      "execution_count": 5,
      "outputs": [
        {
          "output_type": "stream",
          "text": [
            "'data.frame':\t768 obs. of  9 variables:\n",
            " $ pregnant: num  6 1 8 1 0 5 3 10 2 8 ...\n",
            " $ glucose : num  148 85 183 89 137 116 78 115 197 125 ...\n",
            " $ pressure: num  72 66 64 66 40 74 50 NA 70 96 ...\n",
            " $ triceps : num  35 29 NA 23 35 NA 32 NA 45 NA ...\n",
            " $ insulin : num  NA NA NA 94 168 NA 88 NA 543 NA ...\n",
            " $ mass    : num  33.6 26.6 23.3 28.1 43.1 25.6 31 35.3 30.5 NA ...\n",
            " $ pedigree: num  0.627 0.351 0.672 0.167 2.288 ...\n",
            " $ age     : num  50 31 32 21 33 30 26 29 53 54 ...\n",
            " $ diabetes: Factor w/ 2 levels \"neg\",\"pos\": 2 1 2 1 2 1 2 1 2 2 ...\n"
          ],
          "name": "stdout"
        }
      ]
    },
    {
      "cell_type": "code",
      "metadata": {
        "id": "giswgzz_e_D0",
        "colab_type": "code",
        "colab": {
          "base_uri": "https://localhost:8080/",
          "height": 288
        },
        "outputId": "a12e304b-eb76-4a10-fef0-c1337f2bcf68"
      },
      "source": [
        "#::GMG::NA counts yield the outliers (!)\n",
        "#::NOTE::Should I standardize some of the features ('glucose', 'pressure', 'triceps', 'insuline', 'mass')?\n",
        "#::NOTE::Should I do feature engineering on some of the features \n",
        "#        (i.e. age, p.e breaking it into intervals with labels)?\n",
        "summary(PimaIndiansDiabetes2)"
      ],
      "execution_count": 6,
      "outputs": [
        {
          "output_type": "display_data",
          "data": {
            "text/plain": [
              "    pregnant         glucose         pressure         triceps     \n",
              " Min.   : 0.000   Min.   : 44.0   Min.   : 24.00   Min.   : 7.00  \n",
              " 1st Qu.: 1.000   1st Qu.: 99.0   1st Qu.: 64.00   1st Qu.:22.00  \n",
              " Median : 3.000   Median :117.0   Median : 72.00   Median :29.00  \n",
              " Mean   : 3.845   Mean   :121.7   Mean   : 72.41   Mean   :29.15  \n",
              " 3rd Qu.: 6.000   3rd Qu.:141.0   3rd Qu.: 80.00   3rd Qu.:36.00  \n",
              " Max.   :17.000   Max.   :199.0   Max.   :122.00   Max.   :99.00  \n",
              "                  NA's   :5       NA's   :35       NA's   :227    \n",
              "    insulin            mass          pedigree           age        diabetes \n",
              " Min.   : 14.00   Min.   :18.20   Min.   :0.0780   Min.   :21.00   neg:500  \n",
              " 1st Qu.: 76.25   1st Qu.:27.50   1st Qu.:0.2437   1st Qu.:24.00   pos:268  \n",
              " Median :125.00   Median :32.30   Median :0.3725   Median :29.00            \n",
              " Mean   :155.55   Mean   :32.46   Mean   :0.4719   Mean   :33.24            \n",
              " 3rd Qu.:190.00   3rd Qu.:36.60   3rd Qu.:0.6262   3rd Qu.:41.00            \n",
              " Max.   :846.00   Max.   :67.10   Max.   :2.4200   Max.   :81.00            \n",
              " NA's   :374      NA's   :11                                                "
            ]
          },
          "metadata": {
            "tags": []
          }
        }
      ]
    },
    {
      "cell_type": "code",
      "metadata": {
        "id": "H6Zeb7N3fBpE",
        "colab_type": "code",
        "colab": {
          "base_uri": "https://localhost:8080/",
          "height": 85
        },
        "outputId": "f121d65b-87a4-4cae-de8c-89188b615514"
      },
      "source": [
        "#::GMG::Check for missing values ... I know they are marked witn 'NA' in mlbench 2nd dataset\n",
        "print(sapply(PimaIndiansDiabetes2, function(x) sum(is.na(x))))"
      ],
      "execution_count": 11,
      "outputs": [
        {
          "output_type": "stream",
          "text": [
            "pregnant  glucose pressure  triceps  insulin     mass pedigree      age \n",
            "       0        5       35      227      374       11        0        0 \n",
            "diabetes \n",
            "       0 \n"
          ],
          "name": "stdout"
        }
      ]
    },
    {
      "cell_type": "code",
      "metadata": {
        "id": "Keepem1SfEmx",
        "colab_type": "code",
        "colab": {
          "base_uri": "https://localhost:8080/",
          "height": 68
        },
        "outputId": "2f4cf115-5cc2-48cf-c8af-e5396c448e79"
      },
      "source": [
        "#::GMG::Now I test the imbalance of the dataset\n",
        "# http://metadatascience.com/2013/07/03/plotting-the-frequency-distribution-using-r/\n",
        "table(PimaIndiansDiabetes2$diabetes)"
      ],
      "execution_count": 8,
      "outputs": [
        {
          "output_type": "display_data",
          "data": {
            "text/plain": [
              "\n",
              "neg pos \n",
              "500 268 "
            ]
          },
          "metadata": {
            "tags": []
          }
        }
      ]
    },
    {
      "cell_type": "code",
      "metadata": {
        "id": "JXOQgwz-fIol",
        "colab_type": "code",
        "colab": {
          "base_uri": "https://localhost:8080/",
          "height": 68
        },
        "outputId": "27df0c7c-1869-4d04-cbc0-5a110dba0e5b"
      },
      "source": [
        "prop.table(table(PimaIndiansDiabetes2$diabetes))"
      ],
      "execution_count": 9,
      "outputs": [
        {
          "output_type": "display_data",
          "data": {
            "text/plain": [
              "\n",
              "      neg       pos \n",
              "0.6510417 0.3489583 "
            ]
          },
          "metadata": {
            "tags": []
          }
        }
      ]
    },
    {
      "cell_type": "code",
      "metadata": {
        "id": "k5F4xxxjfLE4",
        "colab_type": "code",
        "colab": {
          "base_uri": "https://localhost:8080/",
          "height": 857
        },
        "outputId": "64fef10b-53fa-4e34-bd5b-dc76412d6cfd"
      },
      "source": [
        "#::GMG::Plot the imbalance\n",
        "# https://www.statmethods.net/advgraphs/parameters.html\n",
        "# https://blog.revolutionanalytics.com/2015/09/resizing-plots-in-the-r-kernel-for-jupyter-notebooks.html\n",
        "#options(repr.plot.width=6, repr.plot.height=8)\n",
        "barplot(100*prop.table(table(PimaIndiansDiabetes2$diabetes)), \n",
        "        col = c('blue', 'red'),\n",
        "        ylim = c(0,70),\n",
        "        main = 'Outcome Imbalance')"
      ],
      "execution_count": 10,
      "outputs": [
        {
          "output_type": "display_data",
          "data": {
            "image/png": "[encoded data removed]",
            "text/plain": [
              "Plot with title “Outcome Imbalance”"
            ]
          },
          "metadata": {
            "tags": []
          }
        }
      ]
    },
    {
      "cell_type": "markdown",
      "metadata": {
        "id": "K9KQPCouweo4",
        "colab_type": "text"
      },
      "source": [
        "## Preparing the data"
      ]
    },
    {
      "cell_type": "code",
      "metadata": {
        "colab_type": "code",
        "id": "E14ADNO-hOsi",
        "colab": {}
      },
      "source": [
        "#::GMG::I reach a final decision here: emove NAs\n",
        "#::NOTE::My goal here is feature selection showcase; of course, en tfm o real situation\n",
        "#        I'll have to do imputation or selective removal\n",
        "# https://stat.ethz.ch/R-manual/R-devel/library/stats/html/na.fail.html\n",
        "# https://www.statmethods.net/input/missingdata.html\n",
        "pima_clean <- stats::na.omit(PimaIndiansDiabetes2)"
      ],
      "execution_count": 0,
      "outputs": []
    },
    {
      "cell_type": "code",
      "metadata": {
        "id": "xDN7DuvKgOD8",
        "colab_type": "code",
        "colab": {
          "base_uri": "https://localhost:8080/",
          "height": 169
        },
        "outputId": "70ff1d1c-8a6c-457d-e3ce-c97a3c0fc9ce"
      },
      "source": [
        "#::GMG::Check for missing values ... No NAs after cleaning with na.omit()\n",
        "# https://stackoverflow.com/questions/41621467/print-a-named-vector-in-r\n",
        "outliers <- sapply(pima_clean, function(x) sum(is.na(x)))\n",
        "cat(paste(names(outliers), outliers, sep = \":\", collapse = \"\\n\"))"
      ],
      "execution_count": 36,
      "outputs": [
        {
          "output_type": "stream",
          "text": [
            "pregnant:0\n",
            "glucose:0\n",
            "pressure:0\n",
            "triceps:0\n",
            "insulin:0\n",
            "mass:0\n",
            "pedigree:0\n",
            "age:0\n",
            "diabetes:0"
          ],
          "name": "stdout"
        }
      ]
    },
    {
      "cell_type": "code",
      "metadata": {
        "id": "jH-ZTaYEgSES",
        "colab_type": "code",
        "colab": {
          "base_uri": "https://localhost:8080/",
          "height": 220
        },
        "outputId": "1491c8ec-ce22-4aa1-ffab-b69ef1d6f82d"
      },
      "source": [
        "#::NOTE::Originally 768 Observations!!\n",
        "str(pima_clean)"
      ],
      "execution_count": 14,
      "outputs": [
        {
          "output_type": "stream",
          "text": [
            "'data.frame':\t392 obs. of  9 variables:\n",
            " $ pregnant: num  1 0 3 2 1 5 0 1 1 3 ...\n",
            " $ glucose : num  89 137 78 197 189 166 118 103 115 126 ...\n",
            " $ pressure: num  66 40 50 70 60 72 84 30 70 88 ...\n",
            " $ triceps : num  23 35 32 45 23 19 47 38 30 41 ...\n",
            " $ insulin : num  94 168 88 543 846 175 230 83 96 235 ...\n",
            " $ mass    : num  28.1 43.1 31 30.5 30.1 25.8 45.8 43.3 34.6 39.3 ...\n",
            " $ pedigree: num  0.167 2.288 0.248 0.158 0.398 ...\n",
            " $ age     : num  21 33 26 53 59 51 31 33 32 27 ...\n",
            " $ diabetes: Factor w/ 2 levels \"neg\",\"pos\": 1 2 2 2 2 2 2 1 2 1 ...\n",
            " - attr(*, \"na.action\")= 'omit' Named int  1 2 3 6 8 10 11 12 13 16 ...\n",
            "  ..- attr(*, \"names\")= chr  \"1\" \"2\" \"3\" \"6\" ...\n"
          ],
          "name": "stdout"
        }
      ]
    },
    {
      "cell_type": "code",
      "metadata": {
        "id": "WctZ5AajgWcE",
        "colab_type": "code",
        "colab": {
          "base_uri": "https://localhost:8080/",
          "height": 197
        },
        "outputId": "1adaec3c-bdf4-4696-afea-5f2a8cfc93bc"
      },
      "source": [
        "# Inspect the data\n",
        "# https://www.rdocumentation.org/packages/utils/versions/3.6.1/topics/head\n",
        "utils::head(pima_clean)"
      ],
      "execution_count": 15,
      "outputs": [
        {
          "output_type": "display_data",
          "data": {
            "text/plain": [
              "   pregnant glucose pressure triceps insulin mass pedigree age diabetes\n",
              "4  1         89     66       23       94     28.1 0.167    21  neg     \n",
              "5  0        137     40       35      168     43.1 2.288    33  pos     \n",
              "7  3         78     50       32       88     31.0 0.248    26  pos     \n",
              "9  2        197     70       45      543     30.5 0.158    53  pos     \n",
              "14 1        189     60       23      846     30.1 0.398    59  pos     \n",
              "15 5        166     72       19      175     25.8 0.587    51  pos     "
            ],
            "text/latex": "A data.frame: 6 × 9\n\\begin{tabular}{r|lllllllll}\n  & pregnant & glucose & pressure & triceps & insulin & mass & pedigree & age & diabetes\\\\\n  & <dbl> & <dbl> & <dbl> & <dbl> & <dbl> & <dbl> & <dbl> & <dbl> & <fct>\\\\\n\\hline\n\t4 & 1 &  89 & 66 & 23 &  94 & 28.1 & 0.167 & 21 & neg\\\\\n\t5 & 0 & 137 & 40 & 35 & 168 & 43.1 & 2.288 & 33 & pos\\\\\n\t7 & 3 &  78 & 50 & 32 &  88 & 31.0 & 0.248 & 26 & pos\\\\\n\t9 & 2 & 197 & 70 & 45 & 543 & 30.5 & 0.158 & 53 & pos\\\\\n\t14 & 1 & 189 & 60 & 23 & 846 & 30.1 & 0.398 & 59 & pos\\\\\n\t15 & 5 & 166 & 72 & 19 & 175 & 25.8 & 0.587 & 51 & pos\\\\\n\\end{tabular}\n",
            "text/markdown": "\nA data.frame: 6 × 9\n\n| <!--/--> | pregnant &lt;dbl&gt; | glucose &lt;dbl&gt; | pressure &lt;dbl&gt; | triceps &lt;dbl&gt; | insulin &lt;dbl&gt; | mass &lt;dbl&gt; | pedigree &lt;dbl&gt; | age &lt;dbl&gt; | diabetes &lt;fct&gt; |\n|---|---|---|---|---|---|---|---|---|---|\n| 4 | 1 |  89 | 66 | 23 |  94 | 28.1 | 0.167 | 21 | neg |\n| 5 | 0 | 137 | 40 | 35 | 168 | 43.1 | 2.288 | 33 | pos |\n| 7 | 3 |  78 | 50 | 32 |  88 | 31.0 | 0.248 | 26 | pos |\n| 9 | 2 | 197 | 70 | 45 | 543 | 30.5 | 0.158 | 53 | pos |\n| 14 | 1 | 189 | 60 | 23 | 846 | 30.1 | 0.398 | 59 | pos |\n| 15 | 5 | 166 | 72 | 19 | 175 | 25.8 | 0.587 | 51 | pos |\n\n",
            "text/html": [
              "<table>\n",
              "<caption>A data.frame: 6 × 9</caption>\n",
              "<thead>\n",
              "\t<tr><th></th><th scope=col>pregnant</th><th scope=col>glucose</th><th scope=col>pressure</th><th scope=col>triceps</th><th scope=col>insulin</th><th scope=col>mass</th><th scope=col>pedigree</th><th scope=col>age</th><th scope=col>diabetes</th></tr>\n",
              "\t<tr><th></th><th scope=col>&lt;dbl&gt;</th><th scope=col>&lt;dbl&gt;</th><th scope=col>&lt;dbl&gt;</th><th scope=col>&lt;dbl&gt;</th><th scope=col>&lt;dbl&gt;</th><th scope=col>&lt;dbl&gt;</th><th scope=col>&lt;dbl&gt;</th><th scope=col>&lt;dbl&gt;</th><th scope=col>&lt;fct&gt;</th></tr>\n",
              "</thead>\n",
              "<tbody>\n",
              "\t<tr><th scope=row>4</th><td>1</td><td> 89</td><td>66</td><td>23</td><td> 94</td><td>28.1</td><td>0.167</td><td>21</td><td>neg</td></tr>\n",
              "\t<tr><th scope=row>5</th><td>0</td><td>137</td><td>40</td><td>35</td><td>168</td><td>43.1</td><td>2.288</td><td>33</td><td>pos</td></tr>\n",
              "\t<tr><th scope=row>7</th><td>3</td><td> 78</td><td>50</td><td>32</td><td> 88</td><td>31.0</td><td>0.248</td><td>26</td><td>pos</td></tr>\n",
              "\t<tr><th scope=row>9</th><td>2</td><td>197</td><td>70</td><td>45</td><td>543</td><td>30.5</td><td>0.158</td><td>53</td><td>pos</td></tr>\n",
              "\t<tr><th scope=row>14</th><td>1</td><td>189</td><td>60</td><td>23</td><td>846</td><td>30.1</td><td>0.398</td><td>59</td><td>pos</td></tr>\n",
              "\t<tr><th scope=row>15</th><td>5</td><td>166</td><td>72</td><td>19</td><td>175</td><td>25.8</td><td>0.587</td><td>51</td><td>pos</td></tr>\n",
              "</tbody>\n",
              "</table>\n"
            ]
          },
          "metadata": {
            "tags": []
          }
        }
      ]
    },
    {
      "cell_type": "markdown",
      "metadata": {
        "id": "MmFXrVxJw6ZF",
        "colab_type": "text"
      },
      "source": [
        "## Remove redundant features"
      ]
    },
    {
      "cell_type": "code",
      "metadata": {
        "id": "ArPSkvwY05Y3",
        "colab_type": "code",
        "colab": {}
      },
      "source": [
        "#::GMG::Make it reproducble\n",
        "set.seed(1)"
      ],
      "execution_count": 0,
      "outputs": []
    },
    {
      "cell_type": "code",
      "metadata": {
        "id": "b2QqRf1tiE49",
        "colab_type": "code",
        "colab": {}
      },
      "source": [
        "#::GMG::calculate correlation matrix\n",
        "# https://www.rdocumentation.org/packages/stats/versions/3.6.1/topics/cor\n",
        "# https://www.rdocumentation.org/packages/base/versions/3.6.1/topics/names\n",
        "# https://stackoverflow.com/questions/5234117/how-to-drop-columns-by-name-in-a-data-frame\n",
        "correlationMatrix <- stats::cor(\n",
        "    pima_clean[,!base::names(pima_clean) %in% c('diabetes')]\n",
        ")"
      ],
      "execution_count": 0,
      "outputs": []
    },
    {
      "cell_type": "code",
      "metadata": {
        "id": "S-J0bREMk-aw",
        "colab_type": "code",
        "colab": {
          "base_uri": "https://localhost:8080/",
          "height": 322
        },
        "outputId": "081c5702-18b6-441f-f840-4d002d099ff0"
      },
      "source": [
        "#::GMG::summarize the correlation matrix\n",
        "print(correlationMatrix)"
      ],
      "execution_count": 18,
      "outputs": [
        {
          "output_type": "stream",
          "text": [
            "             pregnant   glucose   pressure   triceps    insulin        mass\n",
            "pregnant  1.000000000 0.1982910  0.2133548 0.0932094 0.07898363 -0.02534728\n",
            "glucose   0.198291043 1.0000000  0.2100266 0.1988558 0.58122301  0.20951592\n",
            "pressure  0.213354775 0.2100266  1.0000000 0.2325712 0.09851150  0.30440337\n",
            "triceps   0.093209397 0.1988558  0.2325712 1.0000000 0.18219906  0.66435487\n",
            "insulin   0.078983625 0.5812230  0.0985115 0.1821991 1.00000000  0.22639652\n",
            "mass     -0.025347276 0.2095159  0.3044034 0.6643549 0.22639652  1.00000000\n",
            "pedigree  0.007562116 0.1401802 -0.0159711 0.1604985 0.13590578  0.15877104\n",
            "age       0.679608470 0.3436415  0.3000389 0.1677611 0.21708199  0.06981380\n",
            "             pedigree        age\n",
            "pregnant  0.007562116 0.67960847\n",
            "glucose   0.140180180 0.34364150\n",
            "pressure -0.015971104 0.30003895\n",
            "triceps   0.160498526 0.16776114\n",
            "insulin   0.135905781 0.21708199\n",
            "mass      0.158771043 0.06981380\n",
            "pedigree  1.000000000 0.08502911\n",
            "age       0.085029106 1.00000000\n"
          ],
          "name": "stdout"
        }
      ]
    },
    {
      "cell_type": "code",
      "metadata": {
        "id": "U71bpvz8hL78",
        "colab_type": "code",
        "colab": {
          "base_uri": "https://localhost:8080/",
          "height": 85
        },
        "outputId": "b5d09408-abc6-4232-9952-38cbda87fb20"
      },
      "source": [
        "#::GMG::Using caret::findCorrelation() function to find that are highly correlated with each other\n",
        "# https://www.rdocumentation.org/packages/caret/versions/6.0-84/topics/findCorrelation\n",
        "# The absolute values of pair-wise correlations are considered. If two variables have a high correlation, \n",
        "# the function looks at the mean absolute correlation of each variable and removes the variable with the \n",
        "# largest mean absolute correlation.\n",
        "#::NOTE::Generally, you want to remove attributes with an absolute correlation of 0.75 or higher\n",
        "highlyCorrelated <- caret::findCorrelation(correlationMatrix, cutoff=0.5, names = FALSE)\n",
        "cat(sep = '\\n', 'Features to remove:', names(pima_clean)[highlyCorrelated])"
      ],
      "execution_count": 24,
      "outputs": [
        {
          "output_type": "stream",
          "text": [
            "Features to remove:\n",
            "glucose\n",
            "age\n",
            "triceps\n"
          ],
          "name": "stdout"
        }
      ]
    },
    {
      "cell_type": "code",
      "metadata": {
        "id": "S63GI1ZHoH99",
        "colab_type": "code",
        "colab": {
          "base_uri": "https://localhost:8080/",
          "height": 135
        },
        "outputId": "816d7e56-1564-4b0b-bc60-dda67f03421e"
      },
      "source": [
        "#::GMG::So if I want to apply this criteria\n",
        "# https://stackoverflow.com/questions/42932663/findcorrelation-function-in-r\n",
        "selected_features <- names(pima_clean)[-highlyCorrelated]\n",
        "cat(sep = '\\n', 'Selected features (and target):', selected_features)"
      ],
      "execution_count": 33,
      "outputs": [
        {
          "output_type": "stream",
          "text": [
            "Selected features (and target):\n",
            "pregnant\n",
            "pressure\n",
            "insulin\n",
            "mass\n",
            "pedigree\n",
            "diabetes\n"
          ],
          "name": "stdout"
        }
      ]
    },
    {
      "cell_type": "markdown",
      "metadata": {
        "id": "DGG4MvlA17uU",
        "colab_type": "text"
      },
      "source": [
        "## Rank Features By Importance"
      ]
    },
    {
      "cell_type": "markdown",
      "metadata": {
        "id": "ic0xoV33uIm9",
        "colab_type": "text"
      },
      "source": [
        "### using LVQ"
      ]
    },
    {
      "cell_type": "code",
      "metadata": {
        "id": "BkcViJqF1JBY",
        "colab_type": "code",
        "colab": {}
      },
      "source": [
        "#::GMG::Make it reproducble\n",
        "set.seed(2)"
      ],
      "execution_count": 0,
      "outputs": []
    },
    {
      "cell_type": "code",
      "metadata": {
        "id": "aWDIWGNtqjPa",
        "colab_type": "code",
        "colab": {}
      },
      "source": [
        "#::GMG::The importance of features can be estimated from data by building a model\n",
        "#::NOTE::Here I use a Learning Vector Quantization (LVQ) model\n",
        "# https://machinelearningmastery.com/learning-vector-quantization-for-machine-learning/\n",
        "#::GMG::prepare training scheme\n",
        "# https://cran.r-project.org/web/packages/caret/vignettes/caret.html\n",
        "# https://www.rdocumentation.org/packages/caret/versions/6.0-84/topics/trainControl\n",
        "control <- caret::trainControl(\n",
        "      method=\"repeatedcv\", \n",
        "      number = 10, \n",
        "      repeats = 3)"
      ],
      "execution_count": 0,
      "outputs": []
    },
    {
      "cell_type": "code",
      "metadata": {
        "id": "S3RNBmharicW",
        "colab_type": "code",
        "colab": {}
      },
      "source": [
        "#::GMG::train the model\n",
        "# https://www.rdocumentation.org/packages/caret/versions/6.0-84/topics/train\n",
        "model <- caret::train(\n",
        "    diabetes~., \n",
        "    data = pima_clean, \n",
        "    method = \"lvq\", \n",
        "    preProcess = \"scale\", \n",
        "    trControl = control\n",
        ")"
      ],
      "execution_count": 0,
      "outputs": []
    },
    {
      "cell_type": "code",
      "metadata": {
        "id": "1WKHqH7QrlNI",
        "colab_type": "code",
        "colab": {
          "base_uri": "https://localhost:8080/",
          "height": 203
        },
        "outputId": "568ab560-e180-4324-b569-7ecf5218c93a"
      },
      "source": [
        "#::GMG::estimate variable importance\n",
        "importance <- caret::varImp(model, scale=FALSE)\n",
        "print(importance)"
      ],
      "execution_count": 42,
      "outputs": [
        {
          "output_type": "stream",
          "text": [
            "ROC curve variable importance\n",
            "\n",
            "         Importance\n",
            "glucose      0.8058\n",
            "age          0.7432\n",
            "insulin      0.7299\n",
            "mass         0.6638\n",
            "triceps      0.6594\n",
            "pedigree     0.6215\n",
            "pregnant     0.6214\n",
            "pressure     0.6213\n"
          ],
          "name": "stdout"
        }
      ]
    },
    {
      "cell_type": "code",
      "metadata": {
        "id": "g76_XAIMtp6d",
        "colab_type": "code",
        "colab": {
          "base_uri": "https://localhost:8080/",
          "height": 135
        },
        "outputId": "62938b62-8a5b-42f3-c435-b9c5ecfa35f2"
      },
      "source": [
        "str(importance)"
      ],
      "execution_count": 43,
      "outputs": [
        {
          "output_type": "stream",
          "text": [
            "List of 3\n",
            " $ importance:'data.frame':\t8 obs. of  2 variables:\n",
            "  ..$ neg: num [1:8] 0.621 0.806 0.621 0.659 0.73 ...\n",
            "  ..$ pos: num [1:8] 0.621 0.806 0.621 0.659 0.73 ...\n",
            " $ model     : chr \"ROC curve\"\n",
            " $ calledFrom: chr \"varImp\"\n",
            " - attr(*, \"class\")= chr \"varImp.train\"\n"
          ],
          "name": "stdout"
        }
      ]
    },
    {
      "cell_type": "code",
      "metadata": {
        "id": "15Bg7FJ-szk7",
        "colab_type": "code",
        "colab": {
          "base_uri": "https://localhost:8080/",
          "height": 857
        },
        "outputId": "be2a04b9-1a96-4035-a254-a5593e5e292c"
      },
      "source": [
        "#::GMG::plot importance\n",
        "plot(importance)"
      ],
      "execution_count": 44,
      "outputs": [
        {
          "output_type": "display_data",
          "data": {
            "image/png": "[encoded data removed]",
            "text/plain": [
              "plot without title"
            ]
          },
          "metadata": {
            "tags": []
          }
        }
      ]
    },
    {
      "cell_type": "markdown",
      "metadata": {
        "id": "GQbCK8EDzP1v",
        "colab_type": "text"
      },
      "source": [
        "## RFE (wrapper approach)"
      ]
    },
    {
      "cell_type": "markdown",
      "metadata": {
        "id": "N7rGzw-euS11",
        "colab_type": "text"
      },
      "source": [
        "### using RandomForest"
      ]
    },
    {
      "cell_type": "markdown",
      "metadata": {
        "id": "3_uiguLiwxln",
        "colab_type": "text"
      },
      "source": [
        "**::NOTE::** Here I think I can use the best model with the selected feature as a baseline model for the data!"
      ]
    },
    {
      "cell_type": "code",
      "metadata": {
        "id": "c_Juumsf1NQM",
        "colab_type": "code",
        "colab": {}
      },
      "source": [
        "#::GMG::Make it reproducble\n",
        "set.seed(3)"
      ],
      "execution_count": 0,
      "outputs": []
    },
    {
      "cell_type": "code",
      "metadata": {
        "id": "ZggaQs4TuV_V",
        "colab_type": "code",
        "colab": {}
      },
      "source": [
        "#::GMG::Now the approach is to build many models with different subsets of a dataset and identify those attributes\n",
        "#       that are and are not required to build an accurate model\n",
        "#::NOTE::I'm going to use RandomForest as the model here, I could have used a plain Logistic Regression model too\n",
        "#::GMG::define the control using a random forest selection function\n",
        "#::NOTE::Then again caret takes care of split 10-fold CV \n",
        "#        Perhaps I should use repeated 10-fold CV here too\n",
        "# https://topepo.github.io/caret/recursive-feature-elimination.html\n",
        "# https://www.rdocumentation.org/packages/caret/versions/6.0-84/topics/rfeControl\n",
        "control_rfe <- caret::rfeControl(\n",
        "    functions = rfFuncs, \n",
        "    method = \"cv\", \n",
        "    number = 10)"
      ],
      "execution_count": 0,
      "outputs": []
    },
    {
      "cell_type": "code",
      "metadata": {
        "id": "-MApbFa-1xPV",
        "colab_type": "code",
        "colab": {}
      },
      "source": [
        "#::GMG::run the RFE algorithm\n",
        "# https://www.rdocumentation.org/packages/caret/versions/6.0-84/topics/rfe\n",
        "#::NOTE::I use CV here, which is best practice, and use the whole dataset, which\n",
        "#        means I will need a test dataset somewhere to test the resulting model\n",
        "#::NOTE::Here instead of the formula I split the features/target; it's reported\n",
        "#        in documentation that the formula approach may put a burden in the\n",
        "#        algorithm when the dataset is big\n",
        "#::NOTE::metric \"Accuracy\" is implied here (this is not correct with this dataset)\n",
        "results <- caret::rfe(\n",
        "    x = pima_clean[,!base::names(pima_clean) %in% c('diabetes')], \n",
        "    y = pima_clean[, 'diabetes'], \n",
        "    sizes = c(1: length(names(pima_clean)) - 1), \n",
        "    rfeControl = control_rfe)"
      ],
      "execution_count": 0,
      "outputs": []
    },
    {
      "cell_type": "code",
      "metadata": {
        "id": "b0-lHV8-5B0v",
        "colab_type": "code",
        "colab": {
          "base_uri": "https://localhost:8080/",
          "height": 372
        },
        "outputId": "55c26f7c-beb1-4208-a822-c8ce0cc06fe1"
      },
      "source": [
        "#::GMG::summarize the results\n",
        "#::NOTE::I can choose the metrics in rfe(), see doc\n",
        "# https://cran.r-project.org/web/packages/caret/vignettes/caret.html\n",
        "# https://topepo.github.io/caret/recursive-feature-elimination.html\n",
        "#::NOTE::I would pick prSummary and metric AUC (PR AUC) to optimize here\n",
        "#        because of the unbalanced dataset!\n",
        "# https://topepo.github.io/caret/measuring-performance.html#measures-for-class-probabilities\n",
        "print(results)"
      ],
      "execution_count": 51,
      "outputs": [
        {
          "output_type": "stream",
          "text": [
            "\n",
            "Recursive feature selection\n",
            "\n",
            "Outer resampling method: Cross-Validated (10 fold) \n",
            "\n",
            "Resampling performance over subset size:\n",
            "\n",
            " Variables Accuracy  Kappa AccuracySD KappaSD Selected\n",
            "         0   0.7372 0.4002    0.07241  0.1515         \n",
            "         1   0.7372 0.4002    0.07241  0.1515         \n",
            "         2   0.7449 0.4060    0.08022  0.1938         \n",
            "         3   0.7732 0.4863    0.08907  0.1981         \n",
            "         4   0.7833 0.5081    0.08577  0.1906        *\n",
            "         5   0.7783 0.4978    0.09367  0.2074         \n",
            "         6   0.7683 0.4740    0.08824  0.1956         \n",
            "         7   0.7656 0.4630    0.06853  0.1468         \n",
            "         8   0.7785 0.4892    0.07557  0.1652         \n",
            "\n",
            "The top 4 variables (out of 4):\n",
            "   glucose, age, insulin, mass\n",
            "\n"
          ],
          "name": "stdout"
        }
      ]
    },
    {
      "cell_type": "code",
      "metadata": {
        "id": "qHTo7rMC7dUl",
        "colab_type": "code",
        "colab": {
          "base_uri": "https://localhost:8080/",
          "height": 857
        },
        "outputId": "25cd1e3b-3ab4-4186-dfbd-b4c302555201"
      },
      "source": [
        "#::GMG::plot the results\n",
        "plot(results, type=c(\"g\", \"o\"))"
      ],
      "execution_count": 52,
      "outputs": [
        {
          "output_type": "display_data",
          "data": {
            "image/png": "[encoded data removed]",
            "text/plain": [
              "plot without title"
            ]
          },
          "metadata": {
            "tags": []
          }
        }
      ]
    },
    {
      "cell_type": "code",
      "metadata": {
        "id": "uMYBITG0A-kT",
        "colab_type": "code",
        "colab": {
          "base_uri": "https://localhost:8080/",
          "height": 857
        },
        "outputId": "e6b892c2-ce02-4a63-b5ac-bd07ffcad127"
      },
      "source": [
        "ggplot(results) + theme_bw()"
      ],
      "execution_count": 54,
      "outputs": [
        {
          "output_type": "display_data",
          "data": {
            "image/png": "[encoded data removed]",
            "text/plain": [
              "plot without title"
            ]
          },
          "metadata": {
            "tags": []
          }
        }
      ]
    }
  ]
}