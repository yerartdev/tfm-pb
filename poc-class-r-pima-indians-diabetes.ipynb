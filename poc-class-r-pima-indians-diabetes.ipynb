{
 "cells": [
  {
   "cell_type": "markdown",
   "metadata": {},
   "source": [
    "# Gerardo de Miguel González"
   ]
  },
  {
   "cell_type": "markdown",
   "metadata": {},
   "source": [
    "# Binary Classification Proof of Concept"
   ]
  },
  {
   "cell_type": "markdown",
   "metadata": {},
   "source": [
    "## Libraries"
   ]
  },
  {
   "cell_type": "code",
   "execution_count": 11,
   "metadata": {},
   "outputs": [
    {
     "data": {
      "text/html": [
       "<ol class=list-inline>\n",
       "\t<li>'base'</li>\n",
       "\t<li>'boot'</li>\n",
       "\t<li>'class'</li>\n",
       "\t<li>'cluster'</li>\n",
       "\t<li>'codetools'</li>\n",
       "\t<li>'compiler'</li>\n",
       "\t<li>'datasets'</li>\n",
       "\t<li>'foreign'</li>\n",
       "\t<li>'graphics'</li>\n",
       "\t<li>'grDevices'</li>\n",
       "\t<li>'grid'</li>\n",
       "\t<li>'KernSmooth'</li>\n",
       "\t<li>'lattice'</li>\n",
       "\t<li>'MASS'</li>\n",
       "\t<li>'Matrix'</li>\n",
       "\t<li>'methods'</li>\n",
       "\t<li>'mgcv'</li>\n",
       "\t<li>'nlme'</li>\n",
       "\t<li>'nnet'</li>\n",
       "\t<li>'parallel'</li>\n",
       "\t<li>'rpart'</li>\n",
       "\t<li>'spatial'</li>\n",
       "\t<li>'splines'</li>\n",
       "\t<li>'stats'</li>\n",
       "\t<li>'stats4'</li>\n",
       "\t<li>'survival'</li>\n",
       "\t<li>'tcltk'</li>\n",
       "\t<li>'tools'</li>\n",
       "\t<li>'translations'</li>\n",
       "\t<li>'utils'</li>\n",
       "</ol>\n"
      ],
      "text/latex": [
       "\\begin{enumerate*}\n",
       "\\item 'base'\n",
       "\\item 'boot'\n",
       "\\item 'class'\n",
       "\\item 'cluster'\n",
       "\\item 'codetools'\n",
       "\\item 'compiler'\n",
       "\\item 'datasets'\n",
       "\\item 'foreign'\n",
       "\\item 'graphics'\n",
       "\\item 'grDevices'\n",
       "\\item 'grid'\n",
       "\\item 'KernSmooth'\n",
       "\\item 'lattice'\n",
       "\\item 'MASS'\n",
       "\\item 'Matrix'\n",
       "\\item 'methods'\n",
       "\\item 'mgcv'\n",
       "\\item 'nlme'\n",
       "\\item 'nnet'\n",
       "\\item 'parallel'\n",
       "\\item 'rpart'\n",
       "\\item 'spatial'\n",
       "\\item 'splines'\n",
       "\\item 'stats'\n",
       "\\item 'stats4'\n",
       "\\item 'survival'\n",
       "\\item 'tcltk'\n",
       "\\item 'tools'\n",
       "\\item 'translations'\n",
       "\\item 'utils'\n",
       "\\end{enumerate*}\n"
      ],
      "text/markdown": [
       "1. 'base'\n",
       "2. 'boot'\n",
       "3. 'class'\n",
       "4. 'cluster'\n",
       "5. 'codetools'\n",
       "6. 'compiler'\n",
       "7. 'datasets'\n",
       "8. 'foreign'\n",
       "9. 'graphics'\n",
       "10. 'grDevices'\n",
       "11. 'grid'\n",
       "12. 'KernSmooth'\n",
       "13. 'lattice'\n",
       "14. 'MASS'\n",
       "15. 'Matrix'\n",
       "16. 'methods'\n",
       "17. 'mgcv'\n",
       "18. 'nlme'\n",
       "19. 'nnet'\n",
       "20. 'parallel'\n",
       "21. 'rpart'\n",
       "22. 'spatial'\n",
       "23. 'splines'\n",
       "24. 'stats'\n",
       "25. 'stats4'\n",
       "26. 'survival'\n",
       "27. 'tcltk'\n",
       "28. 'tools'\n",
       "29. 'translations'\n",
       "30. 'utils'\n",
       "\n",
       "\n"
      ],
      "text/plain": [
       " [1] \"base\"         \"boot\"         \"class\"        \"cluster\"      \"codetools\"   \n",
       " [6] \"compiler\"     \"datasets\"     \"foreign\"      \"graphics\"     \"grDevices\"   \n",
       "[11] \"grid\"         \"KernSmooth\"   \"lattice\"      \"MASS\"         \"Matrix\"      \n",
       "[16] \"methods\"      \"mgcv\"         \"nlme\"         \"nnet\"         \"parallel\"    \n",
       "[21] \"rpart\"        \"spatial\"      \"splines\"      \"stats\"        \"stats4\"      \n",
       "[26] \"survival\"     \"tcltk\"        \"tools\"        \"translations\" \"utils\"       "
      ]
     },
     "metadata": {},
     "output_type": "display_data"
    }
   ],
   "source": [
    "#::GMG::Which libraries are there?\n",
    "list.files(R.home('library'))"
   ]
  },
  {
   "cell_type": "code",
   "execution_count": null,
   "metadata": {},
   "outputs": [],
   "source": [
    "#::GMG::Helper function to install missing libraries before loading them\n",
    "# https://stackoverflow.com/questions/4090169/elegant-way-to-check-for-missing-packages-and-install-them\n",
    "using<-function(...) {\n",
    "    libs<-unlist(list(...))\n",
    "    req<-unlist(lapply(libs,require,character.only=TRUE))\n",
    "    need<-libs[req==FALSE]\n",
    "    n<-length(need)\n",
    "    if(n>0){\n",
    "        libsmsg<-if(n>2) paste(paste(need[1:(n-1)],collapse=\", \"),\",\",sep=\"\") else need[1]\n",
    "        print(libsmsg)\n",
    "        if(n>1){\n",
    "            libsmsg<-paste(libsmsg,\" and \", need[n],sep=\"\")\n",
    "        }\n",
    "        libsmsg<-paste(\"The following packages could not be found: \",libsmsg,\"\\n\\r\\n\\rInstall missing packages?\",collapse=\"\")\n",
    "        if(winDialog(type = c(\"yesno\"), libsmsg)==\"YES\"){       \n",
    "            install.packages(need)\n",
    "            lapply(need,require,character.only=TRUE)\n",
    "        }\n",
    "    }\n",
    "}"
   ]
  },
  {
   "cell_type": "code",
   "execution_count": null,
   "metadata": {},
   "outputs": [],
   "source": [
    "using<-function(...) {\n",
    "    libs<-unlist(list(...))\n",
    "    req<-unlist(lapply(libs,require,character.only=TRUE))\n",
    "    need<-libs[req==FALSE]\n",
    "    if(length(need)>0){ \n",
    "        install.packages(need)\n",
    "        lapply(need,require,character.only=TRUE)\n",
    "    }\n",
    "}"
   ]
  },
  {
   "cell_type": "code",
   "execution_count": 1,
   "metadata": {},
   "outputs": [
    {
     "ename": "ERROR",
     "evalue": "Error in library(corrplot): there is no package called ‘corrplot’\n",
     "output_type": "error",
     "traceback": [
      "Error in library(corrplot): there is no package called ‘corrplot’\nTraceback:\n",
      "1. library(corrplot)"
     ]
    }
   ],
   "source": [
    "#::GMG::I'm going to use correlation plot for EDA visualization\n",
    "# http://www.sthda.com/english/wiki/visualize-correlation-matrix-using-correlogram\n",
    "using('corrplot', 'caret')"
   ]
  },
  {
   "cell_type": "markdown",
   "metadata": {},
   "source": [
    "## Dataset"
   ]
  },
  {
   "cell_type": "markdown",
   "metadata": {},
   "source": [
    "### Load"
   ]
  },
  {
   "cell_type": "code",
   "execution_count": 13,
   "metadata": {},
   "outputs": [
    {
     "data": {
      "text/html": [
       "'/home/jovyan/work/tfm/pub'"
      ],
      "text/latex": [
       "'/home/jovyan/work/tfm/pub'"
      ],
      "text/markdown": [
       "'/home/jovyan/work/tfm/pub'"
      ],
      "text/plain": [
       "[1] \"/home/jovyan/work/tfm/pub\""
      ]
     },
     "metadata": {},
     "output_type": "display_data"
    }
   ],
   "source": [
    "#::GMG::Where am I?\n",
    "# http://rfunction.com/archives/1042\n",
    "getwd()"
   ]
  },
  {
   "cell_type": "code",
   "execution_count": 14,
   "metadata": {},
   "outputs": [
    {
     "data": {
      "text/html": [
       "<ol class=list-inline>\n",
       "\t<li>'data'</li>\n",
       "\t<li>'LICENSE'</li>\n",
       "\t<li>'model'</li>\n",
       "\t<li>'poc-class-pima-indians-diabetes.ipynb'</li>\n",
       "\t<li>'poc-class-r-pima-indians-diabetes.ipynb'</li>\n",
       "\t<li>'poc-class-stratify-pima-indians-diabetes.ipynb'</li>\n",
       "\t<li>'poc-fs-embed-pima-indians-diabetes.ipynb'</li>\n",
       "\t<li>'poc-fs-filter-pima-indians-diabetes.ipynb'</li>\n",
       "\t<li>'poc-fs-wrapper-pima-indians-diabetes.ipynb'</li>\n",
       "\t<li>'poc-model-selection-pima-indians-diabetes.ipynb'</li>\n",
       "\t<li>'README.md'</li>\n",
       "</ol>\n"
      ],
      "text/latex": [
       "\\begin{enumerate*}\n",
       "\\item 'data'\n",
       "\\item 'LICENSE'\n",
       "\\item 'model'\n",
       "\\item 'poc-class-pima-indians-diabetes.ipynb'\n",
       "\\item 'poc-class-r-pima-indians-diabetes.ipynb'\n",
       "\\item 'poc-class-stratify-pima-indians-diabetes.ipynb'\n",
       "\\item 'poc-fs-embed-pima-indians-diabetes.ipynb'\n",
       "\\item 'poc-fs-filter-pima-indians-diabetes.ipynb'\n",
       "\\item 'poc-fs-wrapper-pima-indians-diabetes.ipynb'\n",
       "\\item 'poc-model-selection-pima-indians-diabetes.ipynb'\n",
       "\\item 'README.md'\n",
       "\\end{enumerate*}\n"
      ],
      "text/markdown": [
       "1. 'data'\n",
       "2. 'LICENSE'\n",
       "3. 'model'\n",
       "4. 'poc-class-pima-indians-diabetes.ipynb'\n",
       "5. 'poc-class-r-pima-indians-diabetes.ipynb'\n",
       "6. 'poc-class-stratify-pima-indians-diabetes.ipynb'\n",
       "7. 'poc-fs-embed-pima-indians-diabetes.ipynb'\n",
       "8. 'poc-fs-filter-pima-indians-diabetes.ipynb'\n",
       "9. 'poc-fs-wrapper-pima-indians-diabetes.ipynb'\n",
       "10. 'poc-model-selection-pima-indians-diabetes.ipynb'\n",
       "11. 'README.md'\n",
       "\n",
       "\n"
      ],
      "text/plain": [
       " [1] \"data\"                                           \n",
       " [2] \"LICENSE\"                                        \n",
       " [3] \"model\"                                          \n",
       " [4] \"poc-class-pima-indians-diabetes.ipynb\"          \n",
       " [5] \"poc-class-r-pima-indians-diabetes.ipynb\"        \n",
       " [6] \"poc-class-stratify-pima-indians-diabetes.ipynb\" \n",
       " [7] \"poc-fs-embed-pima-indians-diabetes.ipynb\"       \n",
       " [8] \"poc-fs-filter-pima-indians-diabetes.ipynb\"      \n",
       " [9] \"poc-fs-wrapper-pima-indians-diabetes.ipynb\"     \n",
       "[10] \"poc-model-selection-pima-indians-diabetes.ipynb\"\n",
       "[11] \"README.md\"                                      "
      ]
     },
     "metadata": {},
     "output_type": "display_data"
    }
   ],
   "source": [
    "#::GMG::What's it there?\n",
    "list.files()"
   ]
  },
  {
   "cell_type": "code",
   "execution_count": 12,
   "metadata": {},
   "outputs": [
    {
     "data": {
      "text/html": [
       "'data/pima-indians-diabetes.csv'"
      ],
      "text/latex": [
       "'data/pima-indians-diabetes.csv'"
      ],
      "text/markdown": [
       "'data/pima-indians-diabetes.csv'"
      ],
      "text/plain": [
       "[1] \"data/pima-indians-diabetes.csv\""
      ]
     },
     "metadata": {},
     "output_type": "display_data"
    }
   ],
   "source": [
    "#::GMG::I've already downloaded from kaggle using my account the csv dataset\n",
    "#       that is located in the data folder\n",
    "# https://stat.ethz.ch/R-manual/R-devel/library/base/html/list.files.html\n",
    "dir(\"data\", pattern = \"*.csv\", full.names = TRUE, ignore.case = TRUE)"
   ]
  },
  {
   "cell_type": "code",
   "execution_count": 16,
   "metadata": {},
   "outputs": [],
   "source": [
    "#::GMG::Load the data into a data frame\n",
    "pima <- read.csv('data/pima-indians-diabetes.csv')"
   ]
  },
  {
   "cell_type": "code",
   "execution_count": 17,
   "metadata": {},
   "outputs": [
    {
     "data": {
      "text/html": [
       "<table>\n",
       "<caption>A data.frame: 6 × 9</caption>\n",
       "<thead>\n",
       "\t<tr><th scope=col>Pregnancies</th><th scope=col>Glucose</th><th scope=col>BloodPressure</th><th scope=col>SkinThickness</th><th scope=col>Insulin</th><th scope=col>BMI</th><th scope=col>DiabetesPedigreeFunction</th><th scope=col>Age</th><th scope=col>Outcome</th></tr>\n",
       "\t<tr><th scope=col>&lt;int&gt;</th><th scope=col>&lt;int&gt;</th><th scope=col>&lt;int&gt;</th><th scope=col>&lt;int&gt;</th><th scope=col>&lt;int&gt;</th><th scope=col>&lt;dbl&gt;</th><th scope=col>&lt;dbl&gt;</th><th scope=col>&lt;int&gt;</th><th scope=col>&lt;int&gt;</th></tr>\n",
       "</thead>\n",
       "<tbody>\n",
       "\t<tr><td>6</td><td>148</td><td>72</td><td>35</td><td>  0</td><td>33.6</td><td>0.627</td><td>50</td><td>1</td></tr>\n",
       "\t<tr><td>1</td><td> 85</td><td>66</td><td>29</td><td>  0</td><td>26.6</td><td>0.351</td><td>31</td><td>0</td></tr>\n",
       "\t<tr><td>8</td><td>183</td><td>64</td><td> 0</td><td>  0</td><td>23.3</td><td>0.672</td><td>32</td><td>1</td></tr>\n",
       "\t<tr><td>1</td><td> 89</td><td>66</td><td>23</td><td> 94</td><td>28.1</td><td>0.167</td><td>21</td><td>0</td></tr>\n",
       "\t<tr><td>0</td><td>137</td><td>40</td><td>35</td><td>168</td><td>43.1</td><td>2.288</td><td>33</td><td>1</td></tr>\n",
       "\t<tr><td>5</td><td>116</td><td>74</td><td> 0</td><td>  0</td><td>25.6</td><td>0.201</td><td>30</td><td>0</td></tr>\n",
       "</tbody>\n",
       "</table>\n"
      ],
      "text/latex": [
       "A data.frame: 6 × 9\n",
       "\\begin{tabular}{r|lllllllll}\n",
       " Pregnancies & Glucose & BloodPressure & SkinThickness & Insulin & BMI & DiabetesPedigreeFunction & Age & Outcome\\\\\n",
       " <int> & <int> & <int> & <int> & <int> & <dbl> & <dbl> & <int> & <int>\\\\\n",
       "\\hline\n",
       "\t 6 & 148 & 72 & 35 &   0 & 33.6 & 0.627 & 50 & 1\\\\\n",
       "\t 1 &  85 & 66 & 29 &   0 & 26.6 & 0.351 & 31 & 0\\\\\n",
       "\t 8 & 183 & 64 &  0 &   0 & 23.3 & 0.672 & 32 & 1\\\\\n",
       "\t 1 &  89 & 66 & 23 &  94 & 28.1 & 0.167 & 21 & 0\\\\\n",
       "\t 0 & 137 & 40 & 35 & 168 & 43.1 & 2.288 & 33 & 1\\\\\n",
       "\t 5 & 116 & 74 &  0 &   0 & 25.6 & 0.201 & 30 & 0\\\\\n",
       "\\end{tabular}\n"
      ],
      "text/markdown": [
       "\n",
       "A data.frame: 6 × 9\n",
       "\n",
       "| Pregnancies &lt;int&gt; | Glucose &lt;int&gt; | BloodPressure &lt;int&gt; | SkinThickness &lt;int&gt; | Insulin &lt;int&gt; | BMI &lt;dbl&gt; | DiabetesPedigreeFunction &lt;dbl&gt; | Age &lt;int&gt; | Outcome &lt;int&gt; |\n",
       "|---|---|---|---|---|---|---|---|---|\n",
       "| 6 | 148 | 72 | 35 |   0 | 33.6 | 0.627 | 50 | 1 |\n",
       "| 1 |  85 | 66 | 29 |   0 | 26.6 | 0.351 | 31 | 0 |\n",
       "| 8 | 183 | 64 |  0 |   0 | 23.3 | 0.672 | 32 | 1 |\n",
       "| 1 |  89 | 66 | 23 |  94 | 28.1 | 0.167 | 21 | 0 |\n",
       "| 0 | 137 | 40 | 35 | 168 | 43.1 | 2.288 | 33 | 1 |\n",
       "| 5 | 116 | 74 |  0 |   0 | 25.6 | 0.201 | 30 | 0 |\n",
       "\n"
      ],
      "text/plain": [
       "  Pregnancies Glucose BloodPressure SkinThickness Insulin BMI \n",
       "1 6           148     72            35              0     33.6\n",
       "2 1            85     66            29              0     26.6\n",
       "3 8           183     64             0              0     23.3\n",
       "4 1            89     66            23             94     28.1\n",
       "5 0           137     40            35            168     43.1\n",
       "6 5           116     74             0              0     25.6\n",
       "  DiabetesPedigreeFunction Age Outcome\n",
       "1 0.627                    50  1      \n",
       "2 0.351                    31  0      \n",
       "3 0.672                    32  1      \n",
       "4 0.167                    21  0      \n",
       "5 2.288                    33  1      \n",
       "6 0.201                    30  0      "
      ]
     },
     "metadata": {},
     "output_type": "display_data"
    }
   ],
   "source": [
    "head(pima)"
   ]
  },
  {
   "cell_type": "code",
   "execution_count": 18,
   "metadata": {},
   "outputs": [
    {
     "data": {
      "text/html": [
       "'data.frame'"
      ],
      "text/latex": [
       "'data.frame'"
      ],
      "text/markdown": [
       "'data.frame'"
      ],
      "text/plain": [
       "[1] \"data.frame\""
      ]
     },
     "metadata": {},
     "output_type": "display_data"
    }
   ],
   "source": [
    "class(pima)"
   ]
  },
  {
   "cell_type": "code",
   "execution_count": null,
   "metadata": {},
   "outputs": [],
   "source": []
  }
 ],
 "metadata": {
  "kernelspec": {
   "display_name": "R",
   "language": "R",
   "name": "ir"
  },
  "language_info": {
   "codemirror_mode": "r",
   "file_extension": ".r",
   "mimetype": "text/x-r-source",
   "name": "R",
   "pygments_lexer": "r",
   "version": "3.6.0"
  }
 },
 "nbformat": 4,
 "nbformat_minor": 2
}
