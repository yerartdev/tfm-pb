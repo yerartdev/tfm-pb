{
 "cells": [
  {
   "cell_type": "markdown",
   "metadata": {},
   "source": [
    "# Gerardo de Miguel González"
   ]
  },
  {
   "cell_type": "markdown",
   "metadata": {},
   "source": [
    "# Binary Classification Proof of Concept"
   ]
  },
  {
   "cell_type": "markdown",
   "metadata": {
    "heading_collapsed": true
   },
   "source": [
    "## Libraries"
   ]
  },
  {
   "cell_type": "code",
   "execution_count": 1,
   "metadata": {
    "hidden": true
   },
   "outputs": [
    {
     "data": {
      "text/html": [
       "<ol class=list-inline>\n",
       "\t<li>'base'</li>\n",
       "\t<li>'boot'</li>\n",
       "\t<li>'class'</li>\n",
       "\t<li>'cluster'</li>\n",
       "\t<li>'codetools'</li>\n",
       "\t<li>'compiler'</li>\n",
       "\t<li>'datasets'</li>\n",
       "\t<li>'foreign'</li>\n",
       "\t<li>'graphics'</li>\n",
       "\t<li>'grDevices'</li>\n",
       "\t<li>'grid'</li>\n",
       "\t<li>'KernSmooth'</li>\n",
       "\t<li>'lattice'</li>\n",
       "\t<li>'MASS'</li>\n",
       "\t<li>'Matrix'</li>\n",
       "\t<li>'methods'</li>\n",
       "\t<li>'mgcv'</li>\n",
       "\t<li>'nlme'</li>\n",
       "\t<li>'nnet'</li>\n",
       "\t<li>'parallel'</li>\n",
       "\t<li>'rpart'</li>\n",
       "\t<li>'spatial'</li>\n",
       "\t<li>'splines'</li>\n",
       "\t<li>'stats'</li>\n",
       "\t<li>'stats4'</li>\n",
       "\t<li>'survival'</li>\n",
       "\t<li>'tcltk'</li>\n",
       "\t<li>'tools'</li>\n",
       "\t<li>'translations'</li>\n",
       "\t<li>'utils'</li>\n",
       "</ol>\n"
      ],
      "text/latex": [
       "\\begin{enumerate*}\n",
       "\\item 'base'\n",
       "\\item 'boot'\n",
       "\\item 'class'\n",
       "\\item 'cluster'\n",
       "\\item 'codetools'\n",
       "\\item 'compiler'\n",
       "\\item 'datasets'\n",
       "\\item 'foreign'\n",
       "\\item 'graphics'\n",
       "\\item 'grDevices'\n",
       "\\item 'grid'\n",
       "\\item 'KernSmooth'\n",
       "\\item 'lattice'\n",
       "\\item 'MASS'\n",
       "\\item 'Matrix'\n",
       "\\item 'methods'\n",
       "\\item 'mgcv'\n",
       "\\item 'nlme'\n",
       "\\item 'nnet'\n",
       "\\item 'parallel'\n",
       "\\item 'rpart'\n",
       "\\item 'spatial'\n",
       "\\item 'splines'\n",
       "\\item 'stats'\n",
       "\\item 'stats4'\n",
       "\\item 'survival'\n",
       "\\item 'tcltk'\n",
       "\\item 'tools'\n",
       "\\item 'translations'\n",
       "\\item 'utils'\n",
       "\\end{enumerate*}\n"
      ],
      "text/markdown": [
       "1. 'base'\n",
       "2. 'boot'\n",
       "3. 'class'\n",
       "4. 'cluster'\n",
       "5. 'codetools'\n",
       "6. 'compiler'\n",
       "7. 'datasets'\n",
       "8. 'foreign'\n",
       "9. 'graphics'\n",
       "10. 'grDevices'\n",
       "11. 'grid'\n",
       "12. 'KernSmooth'\n",
       "13. 'lattice'\n",
       "14. 'MASS'\n",
       "15. 'Matrix'\n",
       "16. 'methods'\n",
       "17. 'mgcv'\n",
       "18. 'nlme'\n",
       "19. 'nnet'\n",
       "20. 'parallel'\n",
       "21. 'rpart'\n",
       "22. 'spatial'\n",
       "23. 'splines'\n",
       "24. 'stats'\n",
       "25. 'stats4'\n",
       "26. 'survival'\n",
       "27. 'tcltk'\n",
       "28. 'tools'\n",
       "29. 'translations'\n",
       "30. 'utils'\n",
       "\n",
       "\n"
      ],
      "text/plain": [
       " [1] \"base\"         \"boot\"         \"class\"        \"cluster\"      \"codetools\"   \n",
       " [6] \"compiler\"     \"datasets\"     \"foreign\"      \"graphics\"     \"grDevices\"   \n",
       "[11] \"grid\"         \"KernSmooth\"   \"lattice\"      \"MASS\"         \"Matrix\"      \n",
       "[16] \"methods\"      \"mgcv\"         \"nlme\"         \"nnet\"         \"parallel\"    \n",
       "[21] \"rpart\"        \"spatial\"      \"splines\"      \"stats\"        \"stats4\"      \n",
       "[26] \"survival\"     \"tcltk\"        \"tools\"        \"translations\" \"utils\"       "
      ]
     },
     "metadata": {},
     "output_type": "display_data"
    }
   ],
   "source": [
    "#::GMG::Which libraries are there?\n",
    "list.files(R.home('library'))"
   ]
  },
  {
   "cell_type": "markdown",
   "metadata": {
    "hidden": true
   },
   "source": [
    "**::GMG::** Original `stdout`:\n",
    "\n",
    "```shell\n",
    "     'base' 'boot' 'class' 'cluster' 'codetools' 'compiler' 'datasets' 'foreign' 'graphics' 'grDevices' 'grid' 'KernSmooth' 'lattice' 'MASS' 'Matrix' 'methods' 'mgcv' 'nlme' 'nnet' 'parallel' 'rpart' 'spatial' 'splines' 'stats' 'stats4' 'survival' 'tcltk' 'tools' 'translations' 'utils' \n",
    "```"
   ]
  },
  {
   "cell_type": "code",
   "execution_count": 2,
   "metadata": {
    "hidden": true
   },
   "outputs": [],
   "source": [
    "#::GMG::Helper function to install missing libraries before loading them\n",
    "# https://stackoverflow.com/questions/4090169/elegant-way-to-check-for-missing-packages-and-install-them\n",
    "using_w<-function(...) {\n",
    "    libs<-unlist(list(...))\n",
    "    req<-unlist(lapply(libs,require,character.only=TRUE))\n",
    "    need<-libs[req==FALSE]\n",
    "    n<-length(need)\n",
    "    if(n>0){\n",
    "        libsmsg<-if(n>2) paste(paste(need[1:(n-1)],collapse=\", \"),\",\",sep=\"\") else need[1]\n",
    "        print(libsmsg)\n",
    "        if(n>1){\n",
    "            libsmsg<-paste(libsmsg,\" and \", need[n],sep=\"\")\n",
    "        }\n",
    "        libsmsg<-paste(\"The following packages could not be found: \",libsmsg,\"\\n\\r\\n\\rInstall missing packages?\",collapse=\"\")\n",
    "        if(winDialog(type = c(\"yesno\"), libsmsg)==\"YES\"){       \n",
    "            install.packages(need)\n",
    "            lapply(need,require,character.only=TRUE)\n",
    "        }\n",
    "    }\n",
    "}"
   ]
  },
  {
   "cell_type": "code",
   "execution_count": 3,
   "metadata": {
    "hidden": true
   },
   "outputs": [],
   "source": [
    "#::GMG::Helper function to install missing libraries before loading them\n",
    "# https://stackoverflow.com/questions/4090169/elegant-way-to-check-for-missing-packages-and-install-them\n",
    "using<-function(...) {\n",
    "    libs<-unlist(list(...))\n",
    "    req<-unlist(lapply(libs,require,character.only=TRUE))\n",
    "    need<-libs[req==FALSE]\n",
    "    if(length(need)>0){ \n",
    "        install.packages(need)\n",
    "        lapply(need,require,character.only=TRUE)\n",
    "    }\n",
    "}"
   ]
  },
  {
   "cell_type": "code",
   "execution_count": 4,
   "metadata": {
    "hidden": true
   },
   "outputs": [
    {
     "name": "stderr",
     "output_type": "stream",
     "text": [
      "Loading required package: mlbench\n",
      "Loading required package: caTools\n",
      "Loading required package: dataPreparation\n",
      "Loading required package: lubridate\n",
      "\n",
      "Attaching package: ‘lubridate’\n",
      "\n",
      "The following object is masked from ‘package:base’:\n",
      "\n",
      "    date\n",
      "\n",
      "Loading required package: stringr\n",
      "Loading required package: Matrix\n",
      "Loading required package: progress\n",
      "dataPreparation 0.4.0\n",
      "Type dataPrepNews() to see new features/changes/bug fixes.\n",
      "Loading required package: corrplot\n",
      "corrplot 0.84 loaded\n",
      "Loading required package: mlr\n",
      "Loading required package: ParamHelpers\n"
     ]
    }
   ],
   "source": [
    "#::GMG::I'm going to use ... \n",
    "# ... mlbench for getting pima indians dataset ...\n",
    "# https://cran.r-project.org/web/packages/mlbench/index.html\n",
    "# https://cran.r-project.org/web/packages/mlbench/mlbench.pdf\n",
    "# ... caTools for train/test splitting datasets ...\n",
    "# https://cran.r-project.org/web/packages/caTools/index.html\n",
    "# https://cran.r-project.org/web/packages/caTools/caTools.pdf\n",
    "# ... dataPreparation: Automated Data Preparation ...\n",
    "# https://cran.r-project.org/web/packages/dataPreparation/index.html\n",
    "# https://cran.r-project.org/web/packages/dataPreparation/vignettes/train_test_prep.html\n",
    "# ... correlation plot (corrplot) for EDA visualization ...\n",
    "# http://www.sthda.com/english/wiki/visualize-correlation-matrix-using-correlogram\n",
    "# https://cran.r-project.org/web/packages/corrplot/index.html\n",
    "# ... Machine Learning in R (most of things I'll need)\n",
    "# https://cran.r-project.org/web/packages/mlr/index.html\n",
    "# https://cran.r-project.org/web/packages/mlr/mlr.pdf\n",
    "#::NOTE::What about tidyverse?\n",
    "# https://cran.r-project.org/web/packages/tidyverse/index.html\n",
    "# https://www.tidyverse.org/ \n",
    "using('mlbench', 'caTools', 'dataPreparation', 'corrplot', 'mlr')"
   ]
  },
  {
   "cell_type": "markdown",
   "metadata": {
    "hidden": true
   },
   "source": [
    "**::GMG::** stdout of installation (first time, a 5 min process!)\n",
    "\n",
    "```shell\n",
    "Loading required package: mlbench\n",
    "Warning message in library(package, lib.loc = lib.loc, character.only = TRUE, logical.return = TRUE, :\n",
    "“there is no package called ‘mlbench’”Loading required package: caTools\n",
    "Warning message in library(package, lib.loc = lib.loc, character.only = TRUE, logical.return = TRUE, :\n",
    "“there is no package called ‘caTools’”Loading required package: dataPreparation\n",
    "Warning message in library(package, lib.loc = lib.loc, character.only = TRUE, logical.return = TRUE, :\n",
    "“there is no package called ‘dataPreparation’”Loading required package: corrplot\n",
    "Warning message in library(package, lib.loc = lib.loc, character.only = TRUE, logical.return = TRUE, :\n",
    "“there is no package called ‘corrplot’”Loading required package: mlr\n",
    "Warning message in library(package, lib.loc = lib.loc, character.only = TRUE, logical.return = TRUE, :\n",
    "“there is no package called ‘mlr’”Installing packages into ‘/home/jovyan/R/x86_64-pc-linux-gnu-library/3.6’\n",
    "(as ‘lib’ is unspecified)\n",
    "also installing the dependencies ‘ellipsis’, ‘rlang’, ‘vctrs’, ‘hms’, ‘fastmatch’, ‘lubridate’, ‘progress’, ‘ParamHelpers’, ‘BBmisc’, ‘parallelMap’\n",
    "\n",
    "Loading required package: mlbench\n",
    "Loading required package: caTools\n",
    "Loading required package: dataPreparation\n",
    "Loading required package: lubridate\n",
    "\n",
    "Attaching package: ‘lubridate’\n",
    "\n",
    "The following object is masked from ‘package:base’:\n",
    "\n",
    "    date\n",
    "\n",
    "Loading required package: stringr\n",
    "Loading required package: Matrix\n",
    "Loading required package: progress\n",
    "Error: package or namespace load failed for ‘progress’ in loadNamespace(i, c(lib.loc, .libPaths()), versionCheck = vI[[i]]):\n",
    " namespace ‘rlang’ 0.3.4 is already loaded, but >= 0.4.0 is required\n",
    "Loading required package: corrplot\n",
    "corrplot 0.84 loaded\n",
    "Loading required package: mlr\n",
    "Loading required package: ParamHelpers\n",
    "Registered S3 methods overwritten by 'ggplot2':\n",
    "  method         from \n",
    "  [.quosures     rlang\n",
    "  c.quosures     rlang\n",
    "  print.quosures rlang\n",
    "```\n",
    "\n",
    "and yields TRUE, TRUE, **FALSE**, TRUE, TRUE which suggests some *trouble* with `dataPreparation` ([\\*]()) ... Besides there's been an **error** on yhe `progress` ([\\*](https://cran.r-project.org/web/packages/progress/index.html)) package. In fact, `dataPreparation` depends on that package, among others: R (≥ 3.3.0), lubridate, stringr, Matrix, **progress**."
   ]
  },
  {
   "cell_type": "markdown",
   "metadata": {
    "hidden": true
   },
   "source": [
    "**::GMG::** There's a problem with [`rlang`](https://cran.r-project.org/web/packages/rlang/index.html) because if I try to [see the installed packages]() I get an error:\n",
    "\n",
    "```R\n",
    "> old.packages()\n",
    "\n",
    "> ERROR while rich displaying an object: Error in loadNamespace(i, c(lib.loc, .libPaths()), versionCheck = vI[[i]]): namespace ‘rlang’ 0.3.4 is already loaded, but >= 0.4.0 is required\n",
    "\n",
    "Traceback:\n",
    "1. FUN(X[[i]], ...)\n",
    "2. tryCatch(withCallingHandlers({\n",
    " .     if (!mime %in% names(repr::mime2repr)) \n",
    " .         stop(\"No repr_* for mimetype \", mime, \" in repr::mime2repr\")\n",
    " .     rpr <- repr::mime2repr[[mime]](obj)\n",
    " .     if (is.null(rpr)) \n",
    " .         return(NULL)\n",
    " .     prepare_content(is.raw(rpr), rpr)\n",
    " . }, error = error_handler), error = outer_handler)\n",
    "\n",
    "[...]\n",
    "```\n",
    "\n",
    "In order to fix that I decided to [update the installed packages](https://www.neonscience.org/packages-in-r) which takes *15 minutes*.\n",
    "\n",
    "```R\n",
    "# update all available packages\n",
    "> update.packages(ask = FALSE)\n",
    "\n",
    "> also installing the dependencies ‘brew’, ‘commonmark’, ‘xml2’, ‘praise’, ‘roxygen2’, ‘testthat’\n",
    "Error in install.packages(update[instlib == l, \"Package\"], l, contriburl = contriburl, : unable to install packages\n",
    "Traceback:\n",
    "\n",
    "1. update.packages(ask = FALSE)\n",
    "2. install.packages(update[instlib == l, \"Package\"], l, contriburl = contriburl, \n",
    " .     method = method, available = available, ..., type = type)\n",
    "3. stop(\"unable to install packages\")\n",
    "```\n",
    "\n",
    "**Another error**. So I'm lost here."
   ]
  },
  {
   "cell_type": "markdown",
   "metadata": {
    "hidden": true
   },
   "source": [
    "**GMG::** I fix the issue on command line updating the packages\n",
    "\n",
    "```R\n",
    "> old.packages()\n",
    "         Package    LibPath              Installed  Built   ReposVer\n",
    "boot     \"boot\"     \"/usr/lib/R/library\" \"1.3-20\"   \"3.5.0\" \"1.3-23\"\n",
    "cluster  \"cluster\"  \"/usr/lib/R/library\" \"2.0.8\"    \"3.5.3\" \"2.1.0\"\n",
    "foreign  \"foreign\"  \"/usr/lib/R/library\" \"0.8-70\"   \"3.5.0\" \"0.8-71\"\n",
    "MASS     \"MASS\"     \"/usr/lib/R/library\" \"7.3-51.1\" \"3.5.1\" \"7.3-51.4\"\n",
    "survival \"survival\" \"/usr/lib/R/library\" \"2.43-3\"   \"3.5.1\" \"2.44-1.1\"\n",
    "         Repository\n",
    "boot     \"https://cloud.r-project.org/src/contrib\"\n",
    "cluster  \"https://cloud.r-project.org/src/contrib\"\n",
    "foreign  \"https://cloud.r-project.org/src/contrib\"\n",
    "MASS     \"https://cloud.r-project.org/src/contrib\"\n",
    "survival \"https://cloud.r-project.org/src/contrib\"\n",
    "\n",
    "> update.packages()\n",
    "boot :\n",
    " Version 1.3-20 installed in /usr/lib/R/library\n",
    " Version 1.3-23 available at https://cloud.r-project.org\n",
    "Update? (Yes/no/cancel)\n",
    "\n",
    "[...]\n",
    "\n",
    "survival :\n",
    " Version 2.43-3 installed in /usr/lib/R/library\n",
    " Version 2.44-1.1 available at https://cloud.r-project.org\n",
    "Update? (Yes/no/cancel) yes\n",
    "Warning in install.packages(update[instlib == l, \"Package\"], l, contriburl = contriburl,  :\n",
    "  'lib = \"/usr/lib/R/library\"' is not writable\n",
    "\n",
    "Would you like to use a personal library instead? (yes/No/cancel) yes\n",
    "\n",
    "[...]\n",
    "\n",
    "** R\n",
    "** data\n",
    "*** moving datasets to lazyload DB\n",
    "** inst\n",
    "** byte-compile and prepare package for lazy loading\n",
    "** help\n",
    "*** installing help indices\n",
    "*** copying figures\n",
    "** building package indices\n",
    "** installing vignettes\n",
    "** testing if installed package can be loaded from temporary location\n",
    "** checking absolute paths in shared objects and dynamic libraries\n",
    "** testing if installed package can be loaded from final location\n",
    "** testing if installed package keeps a record of temporary installation path\n",
    "* DONE (survival)\n",
    "\n",
    "The downloaded source packages are in\n",
    "        ‘/tmp/RtmpH5XaDg/downloaded_packages’\n",
    "```\n",
    "\n",
    "and installing `dataPreparation`:\n",
    "\n",
    "```R\n",
    "`> install.packages('dataPreparation')\n",
    "Installing package into ‘/home/jovyan/R/x86_64-pc-linux-gnu-library/3.6’\n",
    "(as ‘lib’ is unspecified)\n",
    "trying URL 'https://cloud.r-project.org/src/contrib/dataPreparation_0.4.0.tar.gz'\n",
    "Content type 'application/x-gzip' length 1286671 bytes (1.2 MB)\n",
    "==================================================\n",
    "downloaded 1.2 MB\n",
    "\n",
    "* installing *source* package ‘dataPreparation’ ...\n",
    "** package ‘dataPreparation’ successfully unpacked and MD5 sums checked\n",
    "** using staged installation\n",
    "** R\n",
    "** data\n",
    "*** moving datasets to lazyload DB\n",
    "** inst\n",
    "** byte-compile and prepare package for lazy loading\n",
    "** help\n",
    "*** installing help indices\n",
    "** building package indices\n",
    "** installing vignettes\n",
    "** testing if installed package can be loaded from temporary location\n",
    "** testing if installed package can be loaded from final location\n",
    "** testing if installed package keeps a record of temporary installation path\n",
    "* DONE (dataPreparation)\n",
    "\n",
    "The downloaded source packages are in\n",
    "        ‘/tmp/RtmpH5XaDg/downloaded_packages’\n",
    "\n",
    "``` \n",
    "\n"
   ]
  },
  {
   "cell_type": "markdown",
   "metadata": {
    "heading_collapsed": true
   },
   "source": [
    "## Dataset"
   ]
  },
  {
   "cell_type": "markdown",
   "metadata": {
    "heading_collapsed": true,
    "hidden": true
   },
   "source": [
    "### load"
   ]
  },
  {
   "cell_type": "code",
   "execution_count": 5,
   "metadata": {
    "hidden": true
   },
   "outputs": [
    {
     "data": {
      "text/html": [
       "'/home/jovyan/work/tfm/pub'"
      ],
      "text/latex": [
       "'/home/jovyan/work/tfm/pub'"
      ],
      "text/markdown": [
       "'/home/jovyan/work/tfm/pub'"
      ],
      "text/plain": [
       "[1] \"/home/jovyan/work/tfm/pub\""
      ]
     },
     "metadata": {},
     "output_type": "display_data"
    }
   ],
   "source": [
    "#::GMG::Where am I?\n",
    "# http://rfunction.com/archives/1042\n",
    "getwd()"
   ]
  },
  {
   "cell_type": "code",
   "execution_count": 6,
   "metadata": {
    "hidden": true
   },
   "outputs": [
    {
     "data": {
      "text/html": [
       "<ol class=list-inline>\n",
       "\t<li>'data'</li>\n",
       "\t<li>'LICENSE'</li>\n",
       "\t<li>'model'</li>\n",
       "\t<li>'poc-class-pima-indians-diabetes.ipynb'</li>\n",
       "\t<li>'poc-class-r-pima-indians-diabetes.ipynb'</li>\n",
       "\t<li>'poc-class-stratify-pima-indians-diabetes.ipynb'</li>\n",
       "\t<li>'poc-fs-embed-pima-indians-diabetes.ipynb'</li>\n",
       "\t<li>'poc-fs-filter-pima-indians-diabetes.ipynb'</li>\n",
       "\t<li>'poc-fs-wrapper-pima-indians-diabetes.ipynb'</li>\n",
       "\t<li>'poc-model-selection-pima-indians-diabetes.ipynb'</li>\n",
       "\t<li>'README.md'</li>\n",
       "</ol>\n"
      ],
      "text/latex": [
       "\\begin{enumerate*}\n",
       "\\item 'data'\n",
       "\\item 'LICENSE'\n",
       "\\item 'model'\n",
       "\\item 'poc-class-pima-indians-diabetes.ipynb'\n",
       "\\item 'poc-class-r-pima-indians-diabetes.ipynb'\n",
       "\\item 'poc-class-stratify-pima-indians-diabetes.ipynb'\n",
       "\\item 'poc-fs-embed-pima-indians-diabetes.ipynb'\n",
       "\\item 'poc-fs-filter-pima-indians-diabetes.ipynb'\n",
       "\\item 'poc-fs-wrapper-pima-indians-diabetes.ipynb'\n",
       "\\item 'poc-model-selection-pima-indians-diabetes.ipynb'\n",
       "\\item 'README.md'\n",
       "\\end{enumerate*}\n"
      ],
      "text/markdown": [
       "1. 'data'\n",
       "2. 'LICENSE'\n",
       "3. 'model'\n",
       "4. 'poc-class-pima-indians-diabetes.ipynb'\n",
       "5. 'poc-class-r-pima-indians-diabetes.ipynb'\n",
       "6. 'poc-class-stratify-pima-indians-diabetes.ipynb'\n",
       "7. 'poc-fs-embed-pima-indians-diabetes.ipynb'\n",
       "8. 'poc-fs-filter-pima-indians-diabetes.ipynb'\n",
       "9. 'poc-fs-wrapper-pima-indians-diabetes.ipynb'\n",
       "10. 'poc-model-selection-pima-indians-diabetes.ipynb'\n",
       "11. 'README.md'\n",
       "\n",
       "\n"
      ],
      "text/plain": [
       " [1] \"data\"                                           \n",
       " [2] \"LICENSE\"                                        \n",
       " [3] \"model\"                                          \n",
       " [4] \"poc-class-pima-indians-diabetes.ipynb\"          \n",
       " [5] \"poc-class-r-pima-indians-diabetes.ipynb\"        \n",
       " [6] \"poc-class-stratify-pima-indians-diabetes.ipynb\" \n",
       " [7] \"poc-fs-embed-pima-indians-diabetes.ipynb\"       \n",
       " [8] \"poc-fs-filter-pima-indians-diabetes.ipynb\"      \n",
       " [9] \"poc-fs-wrapper-pima-indians-diabetes.ipynb\"     \n",
       "[10] \"poc-model-selection-pima-indians-diabetes.ipynb\"\n",
       "[11] \"README.md\"                                      "
      ]
     },
     "metadata": {},
     "output_type": "display_data"
    }
   ],
   "source": [
    "#::GMG::What's it there?\n",
    "list.files()"
   ]
  },
  {
   "cell_type": "code",
   "execution_count": 7,
   "metadata": {
    "hidden": true
   },
   "outputs": [
    {
     "data": {
      "text/html": [
       "'data/pima-indians-diabetes.csv'"
      ],
      "text/latex": [
       "'data/pima-indians-diabetes.csv'"
      ],
      "text/markdown": [
       "'data/pima-indians-diabetes.csv'"
      ],
      "text/plain": [
       "[1] \"data/pima-indians-diabetes.csv\""
      ]
     },
     "metadata": {},
     "output_type": "display_data"
    }
   ],
   "source": [
    "#::GMG::I've already downloaded from kaggle using my account the csv dataset\n",
    "#       that is located in the data folder\n",
    "# https://stat.ethz.ch/R-manual/R-devel/library/base/html/list.files.html\n",
    "dir(\"data\", pattern = \"*.csv\", full.names = TRUE, ignore.case = TRUE)"
   ]
  },
  {
   "cell_type": "code",
   "execution_count": 8,
   "metadata": {
    "hidden": true
   },
   "outputs": [],
   "source": [
    "#::GMG::Load the data into a data frame\n",
    "pima <- read.csv('data/pima-indians-diabetes.csv')"
   ]
  },
  {
   "cell_type": "code",
   "execution_count": 9,
   "metadata": {
    "hidden": true
   },
   "outputs": [
    {
     "data": {
      "text/html": [
       "<table>\n",
       "<caption>A data.frame: 6 × 9</caption>\n",
       "<thead>\n",
       "\t<tr><th scope=col>Pregnancies</th><th scope=col>Glucose</th><th scope=col>BloodPressure</th><th scope=col>SkinThickness</th><th scope=col>Insulin</th><th scope=col>BMI</th><th scope=col>DiabetesPedigreeFunction</th><th scope=col>Age</th><th scope=col>Outcome</th></tr>\n",
       "\t<tr><th scope=col>&lt;int&gt;</th><th scope=col>&lt;int&gt;</th><th scope=col>&lt;int&gt;</th><th scope=col>&lt;int&gt;</th><th scope=col>&lt;int&gt;</th><th scope=col>&lt;dbl&gt;</th><th scope=col>&lt;dbl&gt;</th><th scope=col>&lt;int&gt;</th><th scope=col>&lt;int&gt;</th></tr>\n",
       "</thead>\n",
       "<tbody>\n",
       "\t<tr><td>6</td><td>148</td><td>72</td><td>35</td><td>  0</td><td>33.6</td><td>0.627</td><td>50</td><td>1</td></tr>\n",
       "\t<tr><td>1</td><td> 85</td><td>66</td><td>29</td><td>  0</td><td>26.6</td><td>0.351</td><td>31</td><td>0</td></tr>\n",
       "\t<tr><td>8</td><td>183</td><td>64</td><td> 0</td><td>  0</td><td>23.3</td><td>0.672</td><td>32</td><td>1</td></tr>\n",
       "\t<tr><td>1</td><td> 89</td><td>66</td><td>23</td><td> 94</td><td>28.1</td><td>0.167</td><td>21</td><td>0</td></tr>\n",
       "\t<tr><td>0</td><td>137</td><td>40</td><td>35</td><td>168</td><td>43.1</td><td>2.288</td><td>33</td><td>1</td></tr>\n",
       "\t<tr><td>5</td><td>116</td><td>74</td><td> 0</td><td>  0</td><td>25.6</td><td>0.201</td><td>30</td><td>0</td></tr>\n",
       "</tbody>\n",
       "</table>\n"
      ],
      "text/latex": [
       "A data.frame: 6 × 9\n",
       "\\begin{tabular}{r|lllllllll}\n",
       " Pregnancies & Glucose & BloodPressure & SkinThickness & Insulin & BMI & DiabetesPedigreeFunction & Age & Outcome\\\\\n",
       " <int> & <int> & <int> & <int> & <int> & <dbl> & <dbl> & <int> & <int>\\\\\n",
       "\\hline\n",
       "\t 6 & 148 & 72 & 35 &   0 & 33.6 & 0.627 & 50 & 1\\\\\n",
       "\t 1 &  85 & 66 & 29 &   0 & 26.6 & 0.351 & 31 & 0\\\\\n",
       "\t 8 & 183 & 64 &  0 &   0 & 23.3 & 0.672 & 32 & 1\\\\\n",
       "\t 1 &  89 & 66 & 23 &  94 & 28.1 & 0.167 & 21 & 0\\\\\n",
       "\t 0 & 137 & 40 & 35 & 168 & 43.1 & 2.288 & 33 & 1\\\\\n",
       "\t 5 & 116 & 74 &  0 &   0 & 25.6 & 0.201 & 30 & 0\\\\\n",
       "\\end{tabular}\n"
      ],
      "text/markdown": [
       "\n",
       "A data.frame: 6 × 9\n",
       "\n",
       "| Pregnancies &lt;int&gt; | Glucose &lt;int&gt; | BloodPressure &lt;int&gt; | SkinThickness &lt;int&gt; | Insulin &lt;int&gt; | BMI &lt;dbl&gt; | DiabetesPedigreeFunction &lt;dbl&gt; | Age &lt;int&gt; | Outcome &lt;int&gt; |\n",
       "|---|---|---|---|---|---|---|---|---|\n",
       "| 6 | 148 | 72 | 35 |   0 | 33.6 | 0.627 | 50 | 1 |\n",
       "| 1 |  85 | 66 | 29 |   0 | 26.6 | 0.351 | 31 | 0 |\n",
       "| 8 | 183 | 64 |  0 |   0 | 23.3 | 0.672 | 32 | 1 |\n",
       "| 1 |  89 | 66 | 23 |  94 | 28.1 | 0.167 | 21 | 0 |\n",
       "| 0 | 137 | 40 | 35 | 168 | 43.1 | 2.288 | 33 | 1 |\n",
       "| 5 | 116 | 74 |  0 |   0 | 25.6 | 0.201 | 30 | 0 |\n",
       "\n"
      ],
      "text/plain": [
       "  Pregnancies Glucose BloodPressure SkinThickness Insulin BMI \n",
       "1 6           148     72            35              0     33.6\n",
       "2 1            85     66            29              0     26.6\n",
       "3 8           183     64             0              0     23.3\n",
       "4 1            89     66            23             94     28.1\n",
       "5 0           137     40            35            168     43.1\n",
       "6 5           116     74             0              0     25.6\n",
       "  DiabetesPedigreeFunction Age Outcome\n",
       "1 0.627                    50  1      \n",
       "2 0.351                    31  0      \n",
       "3 0.672                    32  1      \n",
       "4 0.167                    21  0      \n",
       "5 2.288                    33  1      \n",
       "6 0.201                    30  0      "
      ]
     },
     "metadata": {},
     "output_type": "display_data"
    }
   ],
   "source": [
    "head(pima)"
   ]
  },
  {
   "cell_type": "code",
   "execution_count": 10,
   "metadata": {
    "hidden": true
   },
   "outputs": [
    {
     "name": "stdout",
     "output_type": "stream",
     "text": [
      "pima class and type:  data.frame list"
     ]
    }
   ],
   "source": [
    "#::GMG::I try to get to know the R object\n",
    "# https://swcarpentry.github.io/r-novice-inflammation/13-supp-data-structures/\n",
    "#    class() - what kind of object is it (high-level)?\n",
    "#    typeof() - what is the object’s data type (low-level)?\n",
    "#    length() - how long is it? What about two dimensional objects?\n",
    "#    attributes() - does it have any metadata?\n",
    "# http://www.studytrails.com/r/core/r_print_format/\n",
    "# http://www.studytrails.com/r/core/r_console_printing/\n",
    "# https://www.rdocumentation.org/packages/R.utils/versions/2.8.0/topics/printf\n",
    "# \n",
    "cat('pima class and type: ', class(pima), typeof(pima))"
   ]
  },
  {
   "cell_type": "code",
   "execution_count": 11,
   "metadata": {
    "hidden": true
   },
   "outputs": [],
   "source": [
    "#attributes(pima)"
   ]
  },
  {
   "cell_type": "markdown",
   "metadata": {
    "hidden": true
   },
   "source": [
    "**::GMG::** Attributes:\n",
    "\n",
    "```R\n",
    "$names\n",
    "   'Pregnancies' 'Glucose' 'BloodPressure' 'SkinThickness' 'Insulin' 'BMI' 'DiabetesPedigreeFunction' 'Age' 'Outcome' \n",
    "\n",
    "$class\n",
    "   'data.frame'\n",
    "\n",
    "$row.names\n",
    "   1 2 3 4 5 6 7 8 9 10 11 12 13 14 15 16 17 18 19 20 21 22 23 24 25 26 27 28 29 30 31 32 33 34 35 36 37 38 39 40 41  ... 765 766 767 768\n",
    "```"
   ]
  },
  {
   "cell_type": "code",
   "execution_count": 12,
   "metadata": {
    "hidden": true
   },
   "outputs": [
    {
     "name": "stdout",
     "output_type": "stream",
     "text": [
      "pima shape (rows, cols):  768 9"
     ]
    }
   ],
   "source": [
    "cat('pima shape (rows, cols): ', nrow(pima), ncol(pima))"
   ]
  },
  {
   "cell_type": "code",
   "execution_count": 13,
   "metadata": {
    "hidden": true
   },
   "outputs": [
    {
     "name": "stdout",
     "output_type": "stream",
     "text": [
      "pima features: \n",
      " \n",
      "Pregnancies \n",
      "Glucose \n",
      "BloodPressure \n",
      "SkinThickness \n",
      "Insulin \n",
      "BMI \n",
      "DiabetesPedigreeFunction \n",
      "Age \n",
      "Outcome\n"
     ]
    }
   ],
   "source": [
    "cat('pima features: \\n', \n",
    "    format(attributes(pima)$names, justify = \"none\"), \n",
    "    fill = 10\n",
    "   )"
   ]
  },
  {
   "cell_type": "code",
   "execution_count": 14,
   "metadata": {
    "hidden": true
   },
   "outputs": [],
   "source": [
    "#::GMG::With mlbench there's an aalternative to get the pima indians diabetes dataset\n",
    "# https://cran.r-project.org/web/packages/mlbench/mlbench.pdf\n",
    "data(PimaIndiansDiabetes)"
   ]
  },
  {
   "cell_type": "code",
   "execution_count": 15,
   "metadata": {
    "hidden": true
   },
   "outputs": [
    {
     "data": {
      "text/html": [
       "<table>\n",
       "<caption>A data.frame: 6 × 9</caption>\n",
       "<thead>\n",
       "\t<tr><th scope=col>pregnant</th><th scope=col>glucose</th><th scope=col>pressure</th><th scope=col>triceps</th><th scope=col>insulin</th><th scope=col>mass</th><th scope=col>pedigree</th><th scope=col>age</th><th scope=col>diabetes</th></tr>\n",
       "\t<tr><th scope=col>&lt;dbl&gt;</th><th scope=col>&lt;dbl&gt;</th><th scope=col>&lt;dbl&gt;</th><th scope=col>&lt;dbl&gt;</th><th scope=col>&lt;dbl&gt;</th><th scope=col>&lt;dbl&gt;</th><th scope=col>&lt;dbl&gt;</th><th scope=col>&lt;dbl&gt;</th><th scope=col>&lt;fct&gt;</th></tr>\n",
       "</thead>\n",
       "<tbody>\n",
       "\t<tr><td>6</td><td>148</td><td>72</td><td>35</td><td>  0</td><td>33.6</td><td>0.627</td><td>50</td><td>pos</td></tr>\n",
       "\t<tr><td>1</td><td> 85</td><td>66</td><td>29</td><td>  0</td><td>26.6</td><td>0.351</td><td>31</td><td>neg</td></tr>\n",
       "\t<tr><td>8</td><td>183</td><td>64</td><td> 0</td><td>  0</td><td>23.3</td><td>0.672</td><td>32</td><td>pos</td></tr>\n",
       "\t<tr><td>1</td><td> 89</td><td>66</td><td>23</td><td> 94</td><td>28.1</td><td>0.167</td><td>21</td><td>neg</td></tr>\n",
       "\t<tr><td>0</td><td>137</td><td>40</td><td>35</td><td>168</td><td>43.1</td><td>2.288</td><td>33</td><td>pos</td></tr>\n",
       "\t<tr><td>5</td><td>116</td><td>74</td><td> 0</td><td>  0</td><td>25.6</td><td>0.201</td><td>30</td><td>neg</td></tr>\n",
       "</tbody>\n",
       "</table>\n"
      ],
      "text/latex": [
       "A data.frame: 6 × 9\n",
       "\\begin{tabular}{r|lllllllll}\n",
       " pregnant & glucose & pressure & triceps & insulin & mass & pedigree & age & diabetes\\\\\n",
       " <dbl> & <dbl> & <dbl> & <dbl> & <dbl> & <dbl> & <dbl> & <dbl> & <fct>\\\\\n",
       "\\hline\n",
       "\t 6 & 148 & 72 & 35 &   0 & 33.6 & 0.627 & 50 & pos\\\\\n",
       "\t 1 &  85 & 66 & 29 &   0 & 26.6 & 0.351 & 31 & neg\\\\\n",
       "\t 8 & 183 & 64 &  0 &   0 & 23.3 & 0.672 & 32 & pos\\\\\n",
       "\t 1 &  89 & 66 & 23 &  94 & 28.1 & 0.167 & 21 & neg\\\\\n",
       "\t 0 & 137 & 40 & 35 & 168 & 43.1 & 2.288 & 33 & pos\\\\\n",
       "\t 5 & 116 & 74 &  0 &   0 & 25.6 & 0.201 & 30 & neg\\\\\n",
       "\\end{tabular}\n"
      ],
      "text/markdown": [
       "\n",
       "A data.frame: 6 × 9\n",
       "\n",
       "| pregnant &lt;dbl&gt; | glucose &lt;dbl&gt; | pressure &lt;dbl&gt; | triceps &lt;dbl&gt; | insulin &lt;dbl&gt; | mass &lt;dbl&gt; | pedigree &lt;dbl&gt; | age &lt;dbl&gt; | diabetes &lt;fct&gt; |\n",
       "|---|---|---|---|---|---|---|---|---|\n",
       "| 6 | 148 | 72 | 35 |   0 | 33.6 | 0.627 | 50 | pos |\n",
       "| 1 |  85 | 66 | 29 |   0 | 26.6 | 0.351 | 31 | neg |\n",
       "| 8 | 183 | 64 |  0 |   0 | 23.3 | 0.672 | 32 | pos |\n",
       "| 1 |  89 | 66 | 23 |  94 | 28.1 | 0.167 | 21 | neg |\n",
       "| 0 | 137 | 40 | 35 | 168 | 43.1 | 2.288 | 33 | pos |\n",
       "| 5 | 116 | 74 |  0 |   0 | 25.6 | 0.201 | 30 | neg |\n",
       "\n"
      ],
      "text/plain": [
       "  pregnant glucose pressure triceps insulin mass pedigree age diabetes\n",
       "1 6        148     72       35        0     33.6 0.627    50  pos     \n",
       "2 1         85     66       29        0     26.6 0.351    31  neg     \n",
       "3 8        183     64        0        0     23.3 0.672    32  pos     \n",
       "4 1         89     66       23       94     28.1 0.167    21  neg     \n",
       "5 0        137     40       35      168     43.1 2.288    33  pos     \n",
       "6 5        116     74        0        0     25.6 0.201    30  neg     "
      ]
     },
     "metadata": {},
     "output_type": "display_data"
    }
   ],
   "source": [
    "head(PimaIndiansDiabetes)"
   ]
  },
  {
   "cell_type": "code",
   "execution_count": 16,
   "metadata": {
    "hidden": true
   },
   "outputs": [],
   "source": [
    "#::GMG::There are two versions in mlbench (!)\n",
    "#::NOTE::What is the difference?\n",
    "data(PimaIndiansDiabetes2)"
   ]
  },
  {
   "cell_type": "code",
   "execution_count": 17,
   "metadata": {
    "hidden": true
   },
   "outputs": [
    {
     "data": {
      "text/html": [
       "<table>\n",
       "<caption>A data.frame: 6 × 9</caption>\n",
       "<thead>\n",
       "\t<tr><th scope=col>pregnant</th><th scope=col>glucose</th><th scope=col>pressure</th><th scope=col>triceps</th><th scope=col>insulin</th><th scope=col>mass</th><th scope=col>pedigree</th><th scope=col>age</th><th scope=col>diabetes</th></tr>\n",
       "\t<tr><th scope=col>&lt;dbl&gt;</th><th scope=col>&lt;dbl&gt;</th><th scope=col>&lt;dbl&gt;</th><th scope=col>&lt;dbl&gt;</th><th scope=col>&lt;dbl&gt;</th><th scope=col>&lt;dbl&gt;</th><th scope=col>&lt;dbl&gt;</th><th scope=col>&lt;dbl&gt;</th><th scope=col>&lt;fct&gt;</th></tr>\n",
       "</thead>\n",
       "<tbody>\n",
       "\t<tr><td>6</td><td>148</td><td>72</td><td>35</td><td> NA</td><td>33.6</td><td>0.627</td><td>50</td><td>pos</td></tr>\n",
       "\t<tr><td>1</td><td> 85</td><td>66</td><td>29</td><td> NA</td><td>26.6</td><td>0.351</td><td>31</td><td>neg</td></tr>\n",
       "\t<tr><td>8</td><td>183</td><td>64</td><td>NA</td><td> NA</td><td>23.3</td><td>0.672</td><td>32</td><td>pos</td></tr>\n",
       "\t<tr><td>1</td><td> 89</td><td>66</td><td>23</td><td> 94</td><td>28.1</td><td>0.167</td><td>21</td><td>neg</td></tr>\n",
       "\t<tr><td>0</td><td>137</td><td>40</td><td>35</td><td>168</td><td>43.1</td><td>2.288</td><td>33</td><td>pos</td></tr>\n",
       "\t<tr><td>5</td><td>116</td><td>74</td><td>NA</td><td> NA</td><td>25.6</td><td>0.201</td><td>30</td><td>neg</td></tr>\n",
       "</tbody>\n",
       "</table>\n"
      ],
      "text/latex": [
       "A data.frame: 6 × 9\n",
       "\\begin{tabular}{r|lllllllll}\n",
       " pregnant & glucose & pressure & triceps & insulin & mass & pedigree & age & diabetes\\\\\n",
       " <dbl> & <dbl> & <dbl> & <dbl> & <dbl> & <dbl> & <dbl> & <dbl> & <fct>\\\\\n",
       "\\hline\n",
       "\t 6 & 148 & 72 & 35 &  NA & 33.6 & 0.627 & 50 & pos\\\\\n",
       "\t 1 &  85 & 66 & 29 &  NA & 26.6 & 0.351 & 31 & neg\\\\\n",
       "\t 8 & 183 & 64 & NA &  NA & 23.3 & 0.672 & 32 & pos\\\\\n",
       "\t 1 &  89 & 66 & 23 &  94 & 28.1 & 0.167 & 21 & neg\\\\\n",
       "\t 0 & 137 & 40 & 35 & 168 & 43.1 & 2.288 & 33 & pos\\\\\n",
       "\t 5 & 116 & 74 & NA &  NA & 25.6 & 0.201 & 30 & neg\\\\\n",
       "\\end{tabular}\n"
      ],
      "text/markdown": [
       "\n",
       "A data.frame: 6 × 9\n",
       "\n",
       "| pregnant &lt;dbl&gt; | glucose &lt;dbl&gt; | pressure &lt;dbl&gt; | triceps &lt;dbl&gt; | insulin &lt;dbl&gt; | mass &lt;dbl&gt; | pedigree &lt;dbl&gt; | age &lt;dbl&gt; | diabetes &lt;fct&gt; |\n",
       "|---|---|---|---|---|---|---|---|---|\n",
       "| 6 | 148 | 72 | 35 |  NA | 33.6 | 0.627 | 50 | pos |\n",
       "| 1 |  85 | 66 | 29 |  NA | 26.6 | 0.351 | 31 | neg |\n",
       "| 8 | 183 | 64 | NA |  NA | 23.3 | 0.672 | 32 | pos |\n",
       "| 1 |  89 | 66 | 23 |  94 | 28.1 | 0.167 | 21 | neg |\n",
       "| 0 | 137 | 40 | 35 | 168 | 43.1 | 2.288 | 33 | pos |\n",
       "| 5 | 116 | 74 | NA |  NA | 25.6 | 0.201 | 30 | neg |\n",
       "\n"
      ],
      "text/plain": [
       "  pregnant glucose pressure triceps insulin mass pedigree age diabetes\n",
       "1 6        148     72       35       NA     33.6 0.627    50  pos     \n",
       "2 1         85     66       29       NA     26.6 0.351    31  neg     \n",
       "3 8        183     64       NA       NA     23.3 0.672    32  pos     \n",
       "4 1         89     66       23       94     28.1 0.167    21  neg     \n",
       "5 0        137     40       35      168     43.1 2.288    33  pos     \n",
       "6 5        116     74       NA       NA     25.6 0.201    30  neg     "
      ]
     },
     "metadata": {},
     "output_type": "display_data"
    }
   ],
   "source": [
    "head(PimaIndiansDiabetes2)"
   ]
  },
  {
   "cell_type": "markdown",
   "metadata": {
    "heading_collapsed": true,
    "hidden": true
   },
   "source": [
    "### exploratory data analysis"
   ]
  },
  {
   "cell_type": "code",
   "execution_count": 18,
   "metadata": {
    "hidden": true
   },
   "outputs": [
    {
     "data": {
      "text/html": [
       "<ol class=list-inline>\n",
       "\t<li>'pima'</li>\n",
       "\t<li>'PimaIndiansDiabetes'</li>\n",
       "\t<li>'PimaIndiansDiabetes2'</li>\n",
       "\t<li>'using'</li>\n",
       "\t<li>'using_w'</li>\n",
       "</ol>\n"
      ],
      "text/latex": [
       "\\begin{enumerate*}\n",
       "\\item 'pima'\n",
       "\\item 'PimaIndiansDiabetes'\n",
       "\\item 'PimaIndiansDiabetes2'\n",
       "\\item 'using'\n",
       "\\item 'using\\_w'\n",
       "\\end{enumerate*}\n"
      ],
      "text/markdown": [
       "1. 'pima'\n",
       "2. 'PimaIndiansDiabetes'\n",
       "3. 'PimaIndiansDiabetes2'\n",
       "4. 'using'\n",
       "5. 'using_w'\n",
       "\n",
       "\n"
      ],
      "text/plain": [
       "[1] \"pima\"                 \"PimaIndiansDiabetes\"  \"PimaIndiansDiabetes2\"\n",
       "[4] \"using\"                \"using_w\"             "
      ]
     },
     "metadata": {},
     "output_type": "display_data"
    }
   ],
   "source": [
    "#::GMG::Here I can see the variables (datasets and functions in memory)\n",
    "ls()"
   ]
  },
  {
   "cell_type": "markdown",
   "metadata": {
    "hidden": true
   },
   "source": [
    "**::GMG::** This dataset consists of 768 observations of 9 variables: 8 variables which will be used as model predictors (number of times pregnant, plasma glucose concentration, diastolic blood pressure (mm Hg), triceps skin fold thickness (in mm), 2-hr serum insulin measure, body mass index, a diabetes pedigree function, and age) and 1 outcome variable (whether or not the patient has diabetes)"
   ]
  },
  {
   "cell_type": "code",
   "execution_count": 19,
   "metadata": {
    "hidden": true
   },
   "outputs": [
    {
     "name": "stdout",
     "output_type": "stream",
     "text": [
      "'data.frame':\t768 obs. of  9 variables:\n",
      " $ pregnant: num  6 1 8 1 0 5 3 10 2 8 ...\n",
      " $ glucose : num  148 85 183 89 137 116 78 115 197 125 ...\n",
      " $ pressure: num  72 66 64 66 40 74 50 0 70 96 ...\n",
      " $ triceps : num  35 29 0 23 35 0 32 0 45 0 ...\n",
      " $ insulin : num  0 0 0 94 168 0 88 0 543 0 ...\n",
      " $ mass    : num  33.6 26.6 23.3 28.1 43.1 25.6 31 35.3 30.5 0 ...\n",
      " $ pedigree: num  0.627 0.351 0.672 0.167 2.288 ...\n",
      " $ age     : num  50 31 32 21 33 30 26 29 53 54 ...\n",
      " $ diabetes: Factor w/ 2 levels \"neg\",\"pos\": 2 1 2 1 2 1 2 1 2 2 ...\n"
     ]
    }
   ],
   "source": [
    "#::GMG::There are subtle differences between the kaggle and mlbench datasets\n",
    "#       i.e. PimaIndiansDiabetes (say, v1) has the class as a factor (R compliant)\n",
    "str(PimaIndiansDiabetes)"
   ]
  },
  {
   "cell_type": "code",
   "execution_count": 20,
   "metadata": {
    "hidden": true
   },
   "outputs": [
    {
     "data": {
      "text/plain": [
       "    pregnant         glucose         pressure         triceps     \n",
       " Min.   : 0.000   Min.   :  0.0   Min.   :  0.00   Min.   : 0.00  \n",
       " 1st Qu.: 1.000   1st Qu.: 99.0   1st Qu.: 62.00   1st Qu.: 0.00  \n",
       " Median : 3.000   Median :117.0   Median : 72.00   Median :23.00  \n",
       " Mean   : 3.845   Mean   :120.9   Mean   : 69.11   Mean   :20.54  \n",
       " 3rd Qu.: 6.000   3rd Qu.:140.2   3rd Qu.: 80.00   3rd Qu.:32.00  \n",
       " Max.   :17.000   Max.   :199.0   Max.   :122.00   Max.   :99.00  \n",
       "    insulin           mass          pedigree           age        diabetes \n",
       " Min.   :  0.0   Min.   : 0.00   Min.   :0.0780   Min.   :21.00   neg:500  \n",
       " 1st Qu.:  0.0   1st Qu.:27.30   1st Qu.:0.2437   1st Qu.:24.00   pos:268  \n",
       " Median : 30.5   Median :32.00   Median :0.3725   Median :29.00            \n",
       " Mean   : 79.8   Mean   :31.99   Mean   :0.4719   Mean   :33.24            \n",
       " 3rd Qu.:127.2   3rd Qu.:36.60   3rd Qu.:0.6262   3rd Qu.:41.00            \n",
       " Max.   :846.0   Max.   :67.10   Max.   :2.4200   Max.   :81.00            "
      ]
     },
     "metadata": {},
     "output_type": "display_data"
    }
   ],
   "source": [
    "summary(PimaIndiansDiabetes)"
   ]
  },
  {
   "cell_type": "markdown",
   "metadata": {
    "hidden": true
   },
   "source": [
    "**::GMG::** It's explained in the [mlbench documentation](https://cran.r-project.org/web/packages/mlbench/mlbench.pdf) (pp. 29):\n",
    "\n",
    "> The data set `PimaIndiansDiabetes2` contains a corrected version of the original data set.  While the UCI repository index claims that there are no missing values, closer inspection of the data shows **several physical impossibilities**, e.g., blood pressure or body mass index of 0. In `PimaIndiansDiabetes2`, all *zero values* of glucose, pressure, triceps, insulin and mass have been **set to NA**."
   ]
  },
  {
   "cell_type": "code",
   "execution_count": 21,
   "metadata": {
    "hidden": true
   },
   "outputs": [
    {
     "name": "stdout",
     "output_type": "stream",
     "text": [
      "'data.frame':\t768 obs. of  9 variables:\n",
      " $ pregnant: num  6 1 8 1 0 5 3 10 2 8 ...\n",
      " $ glucose : num  148 85 183 89 137 116 78 115 197 125 ...\n",
      " $ pressure: num  72 66 64 66 40 74 50 NA 70 96 ...\n",
      " $ triceps : num  35 29 NA 23 35 NA 32 NA 45 NA ...\n",
      " $ insulin : num  NA NA NA 94 168 NA 88 NA 543 NA ...\n",
      " $ mass    : num  33.6 26.6 23.3 28.1 43.1 25.6 31 35.3 30.5 NA ...\n",
      " $ pedigree: num  0.627 0.351 0.672 0.167 2.288 ...\n",
      " $ age     : num  50 31 32 21 33 30 26 29 53 54 ...\n",
      " $ diabetes: Factor w/ 2 levels \"neg\",\"pos\": 2 1 2 1 2 1 2 1 2 2 ...\n"
     ]
    }
   ],
   "source": [
    "#::GMG::PimaIndiansDiabetes2 (say, v2) has the outliers from \n",
    "#       glucose, pressure, triceps, insulin and mass as NAs\n",
    "str(PimaIndiansDiabetes2)"
   ]
  },
  {
   "cell_type": "code",
   "execution_count": 22,
   "metadata": {
    "hidden": true
   },
   "outputs": [
    {
     "data": {
      "text/plain": [
       "    pregnant         glucose         pressure         triceps     \n",
       " Min.   : 0.000   Min.   : 44.0   Min.   : 24.00   Min.   : 7.00  \n",
       " 1st Qu.: 1.000   1st Qu.: 99.0   1st Qu.: 64.00   1st Qu.:22.00  \n",
       " Median : 3.000   Median :117.0   Median : 72.00   Median :29.00  \n",
       " Mean   : 3.845   Mean   :121.7   Mean   : 72.41   Mean   :29.15  \n",
       " 3rd Qu.: 6.000   3rd Qu.:141.0   3rd Qu.: 80.00   3rd Qu.:36.00  \n",
       " Max.   :17.000   Max.   :199.0   Max.   :122.00   Max.   :99.00  \n",
       "                  NA's   :5       NA's   :35       NA's   :227    \n",
       "    insulin            mass          pedigree           age        diabetes \n",
       " Min.   : 14.00   Min.   :18.20   Min.   :0.0780   Min.   :21.00   neg:500  \n",
       " 1st Qu.: 76.25   1st Qu.:27.50   1st Qu.:0.2437   1st Qu.:24.00   pos:268  \n",
       " Median :125.00   Median :32.30   Median :0.3725   Median :29.00            \n",
       " Mean   :155.55   Mean   :32.46   Mean   :0.4719   Mean   :33.24            \n",
       " 3rd Qu.:190.00   3rd Qu.:36.60   3rd Qu.:0.6262   3rd Qu.:41.00            \n",
       " Max.   :846.00   Max.   :67.10   Max.   :2.4200   Max.   :81.00            \n",
       " NA's   :374      NA's   :11                                                "
      ]
     },
     "metadata": {},
     "output_type": "display_data"
    }
   ],
   "source": [
    "#::GMG::NA counts yield the outliers (!)\n",
    "summary(PimaIndiansDiabetes2)"
   ]
  },
  {
   "cell_type": "code",
   "execution_count": 23,
   "metadata": {
    "hidden": true
   },
   "outputs": [
    {
     "name": "stdout",
     "output_type": "stream",
     "text": [
      "'data.frame':\t768 obs. of  9 variables:\n",
      " $ Pregnancies             : int  6 1 8 1 0 5 3 10 2 8 ...\n",
      " $ Glucose                 : int  148 85 183 89 137 116 78 115 197 125 ...\n",
      " $ BloodPressure           : int  72 66 64 66 40 74 50 0 70 96 ...\n",
      " $ SkinThickness           : int  35 29 0 23 35 0 32 0 45 0 ...\n",
      " $ Insulin                 : int  0 0 0 94 168 0 88 0 543 0 ...\n",
      " $ BMI                     : num  33.6 26.6 23.3 28.1 43.1 25.6 31 35.3 30.5 0 ...\n",
      " $ DiabetesPedigreeFunction: num  0.627 0.351 0.672 0.167 2.288 ...\n",
      " $ Age                     : int  50 31 32 21 33 30 26 29 53 54 ...\n",
      " $ Outcome                 : int  1 0 1 0 1 0 1 0 1 1 ...\n"
     ]
    }
   ],
   "source": [
    "#::GMG::The kaggle version has different names for the features and class\n",
    "#       Outcome is not a factor but a 'binary' integer type\n",
    "#       Outliers (zeros in Glucose, BloodPressure, SkinThickness, Insulin and BMI) are kept\n",
    "#       but not marked as NA\n",
    "str(pima)"
   ]
  },
  {
   "cell_type": "code",
   "execution_count": 24,
   "metadata": {
    "hidden": true
   },
   "outputs": [
    {
     "data": {
      "text/plain": [
       "  Pregnancies        Glucose      BloodPressure    SkinThickness  \n",
       " Min.   : 0.000   Min.   :  0.0   Min.   :  0.00   Min.   : 0.00  \n",
       " 1st Qu.: 1.000   1st Qu.: 99.0   1st Qu.: 62.00   1st Qu.: 0.00  \n",
       " Median : 3.000   Median :117.0   Median : 72.00   Median :23.00  \n",
       " Mean   : 3.845   Mean   :120.9   Mean   : 69.11   Mean   :20.54  \n",
       " 3rd Qu.: 6.000   3rd Qu.:140.2   3rd Qu.: 80.00   3rd Qu.:32.00  \n",
       " Max.   :17.000   Max.   :199.0   Max.   :122.00   Max.   :99.00  \n",
       "    Insulin           BMI        DiabetesPedigreeFunction      Age       \n",
       " Min.   :  0.0   Min.   : 0.00   Min.   :0.0780           Min.   :21.00  \n",
       " 1st Qu.:  0.0   1st Qu.:27.30   1st Qu.:0.2437           1st Qu.:24.00  \n",
       " Median : 30.5   Median :32.00   Median :0.3725           Median :29.00  \n",
       " Mean   : 79.8   Mean   :31.99   Mean   :0.4719           Mean   :33.24  \n",
       " 3rd Qu.:127.2   3rd Qu.:36.60   3rd Qu.:0.6262           3rd Qu.:41.00  \n",
       " Max.   :846.0   Max.   :67.10   Max.   :2.4200           Max.   :81.00  \n",
       "    Outcome     \n",
       " Min.   :0.000  \n",
       " 1st Qu.:0.000  \n",
       " Median :0.000  \n",
       " Mean   :0.349  \n",
       " 3rd Qu.:1.000  \n",
       " Max.   :1.000  "
      ]
     },
     "metadata": {},
     "output_type": "display_data"
    }
   ],
   "source": [
    "summary(pima)"
   ]
  },
  {
   "cell_type": "code",
   "execution_count": 25,
   "metadata": {
    "hidden": true
   },
   "outputs": [
    {
     "data": {
      "text/html": [
       "<dl class=dl-horizontal>\n",
       "\t<dt>Glucose</dt>\n",
       "\t\t<dd>5</dd>\n",
       "\t<dt>BloodPressure</dt>\n",
       "\t\t<dd>35</dd>\n",
       "\t<dt>SkinThickness</dt>\n",
       "\t\t<dd>227</dd>\n",
       "\t<dt>Insulin</dt>\n",
       "\t\t<dd>374</dd>\n",
       "\t<dt>BMI</dt>\n",
       "\t\t<dd>11</dd>\n",
       "</dl>\n"
      ],
      "text/latex": [
       "\\begin{description*}\n",
       "\\item[Glucose] 5\n",
       "\\item[BloodPressure] 35\n",
       "\\item[SkinThickness] 227\n",
       "\\item[Insulin] 374\n",
       "\\item[BMI] 11\n",
       "\\end{description*}\n"
      ],
      "text/markdown": [
       "Glucose\n",
       ":   5BloodPressure\n",
       ":   35SkinThickness\n",
       ":   227Insulin\n",
       ":   374BMI\n",
       ":   11\n",
       "\n"
      ],
      "text/plain": [
       "      Glucose BloodPressure SkinThickness       Insulin           BMI \n",
       "            5            35           227           374            11 "
      ]
     },
     "metadata": {},
     "output_type": "display_data"
    }
   ],
   "source": [
    "#::GMG::Counting 'Outliers' a.k.a \"physical impossibilities\" (Zeros)\n",
    "# https://stackoverflow.com/questions/22286957/count-the-number-of-non-zero-elements-of-each-column\n",
    "apply(X = pima[c(\"Glucose\", \"BloodPressure\", \"SkinThickness\", \"Insulin\", \"BMI\")], \n",
    "      MARGIN = 2, \n",
    "      FUN = function(c) sum(c == 0))"
   ]
  },
  {
   "cell_type": "code",
   "execution_count": 26,
   "metadata": {
    "hidden": true
   },
   "outputs": [],
   "source": [
    "#::GMG::What do I do with the outliers?\n",
    "#       Glucose, Insulin, BloodPressure, SkinThickness, and BMI \n",
    "#       Options: remove, impute, leave them untouched (lto)\n",
    "#       Chosen: remove (Glucose, BloodPressure, BMI) + lto (SkinThickness, Insulin)\n",
    "# https://stackoverflow.com/questions/9977686/how-to-remove-rows-with-a-zero-value-in-r\n",
    "#::NOTE::I cannot remove the outliers from SkinThickness and Insuline \n",
    "#        because they're a big slice of the dataset (!)\n",
    "row_sub <- apply(\n",
    "             X = pima[c(\"Glucose\", \"BloodPressure\", \"BMI\")], \n",
    "             MARGIN = 1, \n",
    "             FUN = function(row) all(row != 0)\n",
    ")"
   ]
  },
  {
   "cell_type": "markdown",
   "metadata": {
    "hidden": true
   },
   "source": [
    "***::NOTE::** I've [searched](https://www.google.com/search?client=firefox-b-d&q=a+person+can+have+zero+insulin%3F) about this *zero insulin issue*. So [it turns out](https://www.yourhormones.info/hormones/insulin/) that:\n",
    "\n",
    "> People with type 1 diabetes produce very little or no insulin at all. This condition is caused when the beta cells that make insulin have been destroyed by antibodies (these are usually substances released by the body to fight against infections), hence they are unable to produce insulin.\n",
    "\n",
    "So it remains only the `SkinThickness` zero physical impossibility *unresolved* and left it be."
   ]
  },
  {
   "cell_type": "code",
   "execution_count": 27,
   "metadata": {
    "hidden": true
   },
   "outputs": [],
   "source": [
    "#::GMG::I remove some of the outliers\n",
    "pima_mod <- pima[row_sub,]"
   ]
  },
  {
   "cell_type": "code",
   "execution_count": 28,
   "metadata": {
    "hidden": true
   },
   "outputs": [
    {
     "name": "stdout",
     "output_type": "stream",
     "text": [
      "'data.frame':\t724 obs. of  9 variables:\n",
      " $ Pregnancies             : int  6 1 8 1 0 5 3 2 4 10 ...\n",
      " $ Glucose                 : int  148 85 183 89 137 116 78 197 110 168 ...\n",
      " $ BloodPressure           : int  72 66 64 66 40 74 50 70 92 74 ...\n",
      " $ SkinThickness           : int  35 29 0 23 35 0 32 45 0 0 ...\n",
      " $ Insulin                 : int  0 0 0 94 168 0 88 543 0 0 ...\n",
      " $ BMI                     : num  33.6 26.6 23.3 28.1 43.1 25.6 31 30.5 37.6 38 ...\n",
      " $ DiabetesPedigreeFunction: num  0.627 0.351 0.672 0.167 2.288 ...\n",
      " $ Age                     : int  50 31 32 21 33 30 26 53 30 34 ...\n",
      " $ Outcome                 : int  1 0 1 0 1 0 1 1 0 1 ...\n"
     ]
    }
   ],
   "source": [
    "#::GMG::The somewhat cleaned dataset ...\n",
    "str(pima_mod)"
   ]
  },
  {
   "cell_type": "code",
   "execution_count": 29,
   "metadata": {
    "hidden": true
   },
   "outputs": [
    {
     "data": {
      "image/png": "[encoded data removed]",
      "text/plain": [
       "plot without title"
      ]
     },
     "metadata": {},
     "output_type": "display_data"
    }
   ],
   "source": [
    "#::GMG::pair plot to see correlations between pairs of features\n",
    "#::NOTE::See also:\n",
    "# https://www.statmethods.net/advgraphs/trellis.html\n",
    "# https://www.statmethods.net/graphs/scatterplot.html\n",
    "# https://www.statmethods.net/advgraphs/layout.html\n",
    "# https://www.r-bloggers.com/scatterplot-matrices-pair-plots-with-cdata-and-ggplot2/\n",
    "pairs(pima_mod[1:8], pch = 21, main = 'Data Feature Scatterplot matrix')"
   ]
  },
  {
   "cell_type": "code",
   "execution_count": 30,
   "metadata": {
    "hidden": true
   },
   "outputs": [],
   "source": [
    "#::GMG::Another way to see correlations with corrplot\n",
    "# http://www.sthda.com/english/wiki/visualize-correlation-matrix-using-correlogram\n",
    "# https://stat.ethz.ch/R-manual/R-devel/library/stats/html/cor.html\n",
    "# https://www.statmethods.net/stats/correlations.html\n",
    "#::NOTE::Se also https://www.statmethods.net/advgraphs/correlograms.html\n",
    "M <- cor(pima_mod)"
   ]
  },
  {
   "cell_type": "code",
   "execution_count": 31,
   "metadata": {
    "hidden": true
   },
   "outputs": [
    {
     "data": {
      "image/png": "[encoded data removed]",
      "text/plain": [
       "Plot with title “”"
      ]
     },
     "metadata": {},
     "output_type": "display_data"
    }
   ],
   "source": [
    "#::GMG::Plpot correlation plot\n",
    "# http://www.sthda.com/english/wiki/visualize-correlation-matrix-using-correlogram\n",
    "col<- colorRampPalette(c(\"red\", \"white\", \"blue\"))(20)\n",
    "corrplot(M, method=\"number\", type=\"upper\", order=\"hclust\", col = col)"
   ]
  },
  {
   "cell_type": "code",
   "execution_count": 32,
   "metadata": {
    "hidden": true
   },
   "outputs": [
    {
     "data": {
      "text/html": [
       "<ol class=list-inline>\n",
       "\t<li>'col'</li>\n",
       "\t<li>'M'</li>\n",
       "\t<li>'pima'</li>\n",
       "\t<li>'pima_mod'</li>\n",
       "\t<li>'PimaIndiansDiabetes'</li>\n",
       "\t<li>'PimaIndiansDiabetes2'</li>\n",
       "\t<li>'row_sub'</li>\n",
       "\t<li>'using'</li>\n",
       "\t<li>'using_w'</li>\n",
       "</ol>\n"
      ],
      "text/latex": [
       "\\begin{enumerate*}\n",
       "\\item 'col'\n",
       "\\item 'M'\n",
       "\\item 'pima'\n",
       "\\item 'pima\\_mod'\n",
       "\\item 'PimaIndiansDiabetes'\n",
       "\\item 'PimaIndiansDiabetes2'\n",
       "\\item 'row\\_sub'\n",
       "\\item 'using'\n",
       "\\item 'using\\_w'\n",
       "\\end{enumerate*}\n"
      ],
      "text/markdown": [
       "1. 'col'\n",
       "2. 'M'\n",
       "3. 'pima'\n",
       "4. 'pima_mod'\n",
       "5. 'PimaIndiansDiabetes'\n",
       "6. 'PimaIndiansDiabetes2'\n",
       "7. 'row_sub'\n",
       "8. 'using'\n",
       "9. 'using_w'\n",
       "\n",
       "\n"
      ],
      "text/plain": [
       "[1] \"col\"                  \"M\"                    \"pima\"                \n",
       "[4] \"pima_mod\"             \"PimaIndiansDiabetes\"  \"PimaIndiansDiabetes2\"\n",
       "[7] \"row_sub\"              \"using\"                \"using_w\"             "
      ]
     },
     "metadata": {},
     "output_type": "display_data"
    }
   ],
   "source": [
    "#::GMG::Variables created so far :)\n",
    "ls()"
   ]
  },
  {
   "cell_type": "code",
   "execution_count": 33,
   "metadata": {
    "hidden": true
   },
   "outputs": [],
   "source": [
    "#::GMG::I change the Outcome variable into a 2 factor\n",
    "# https://swcarpentry.github.io/r-novice-inflammation/12-supp-factors/\n",
    "# https://www.stat.berkeley.edu/~s133/factors.html\n",
    "# https://stackoverflow.com/questions/13613913/how-do-i-convert-certain-columns-of-a-data-frame-to-become-factors\n",
    "pima_mod$Outcome <- as.factor(x = pima_mod$Outcome)\n",
    "levels(pima_mod$Outcome) <- c('healthy', 'diabetes')"
   ]
  },
  {
   "cell_type": "code",
   "execution_count": 34,
   "metadata": {
    "hidden": true
   },
   "outputs": [
    {
     "name": "stdout",
     "output_type": "stream",
     "text": [
      "'data.frame':\t724 obs. of  9 variables:\n",
      " $ Pregnancies             : int  6 1 8 1 0 5 3 2 4 10 ...\n",
      " $ Glucose                 : int  148 85 183 89 137 116 78 197 110 168 ...\n",
      " $ BloodPressure           : int  72 66 64 66 40 74 50 70 92 74 ...\n",
      " $ SkinThickness           : int  35 29 0 23 35 0 32 45 0 0 ...\n",
      " $ Insulin                 : int  0 0 0 94 168 0 88 543 0 0 ...\n",
      " $ BMI                     : num  33.6 26.6 23.3 28.1 43.1 25.6 31 30.5 37.6 38 ...\n",
      " $ DiabetesPedigreeFunction: num  0.627 0.351 0.672 0.167 2.288 ...\n",
      " $ Age                     : int  50 31 32 21 33 30 26 53 30 34 ...\n",
      " $ Outcome                 : Factor w/ 2 levels \"healthy\",\"diabetes\": 2 1 2 1 2 1 2 2 1 2 ...\n"
     ]
    }
   ],
   "source": [
    "str(pima_mod)"
   ]
  },
  {
   "cell_type": "code",
   "execution_count": 35,
   "metadata": {
    "hidden": true
   },
   "outputs": [
    {
     "data": {
      "text/plain": [
       "\n",
       " healthy diabetes \n",
       "     475      249 "
      ]
     },
     "metadata": {},
     "output_type": "display_data"
    }
   ],
   "source": [
    "#::GMG::Now I test the imbalance of the dataset\n",
    "# http://metadatascience.com/2013/07/03/plotting-the-frequency-distribution-using-r/\n",
    "table(pima_mod$Outcome)"
   ]
  },
  {
   "cell_type": "code",
   "execution_count": 36,
   "metadata": {
    "hidden": true
   },
   "outputs": [
    {
     "data": {
      "text/plain": [
       "\n",
       "  healthy  diabetes \n",
       "0.6560773 0.3439227 "
      ]
     },
     "metadata": {},
     "output_type": "display_data"
    }
   ],
   "source": [
    "prop.table(table(pima_mod$Outcome))"
   ]
  },
  {
   "cell_type": "code",
   "execution_count": 38,
   "metadata": {
    "hidden": true
   },
   "outputs": [
    {
     "data": {
      "image/png": "[encoded data removed]",
      "text/plain": [
       "Plot with title “Outcome Imbalance”"
      ]
     },
     "metadata": {},
     "output_type": "display_data"
    }
   ],
   "source": [
    "#::GMG::Plot the imbalance\n",
    "# https://www.statmethods.net/advgraphs/parameters.html\n",
    "# http://www.programmingr.com/content/positioning-charts-fig-and-fin/\n",
    "#::NOTE::I don't know how to make the fig smaller and the margins tight (!?)\n",
    "par(pin = c(4,3))\n",
    "barplot(100*prop.table(table(pima_mod$Outcome)), \n",
    "        col = c('blue', 'red'),\n",
    "        ylim = c(0,70),\n",
    "        main = 'Outcome Imbalance')"
   ]
  },
  {
   "cell_type": "markdown",
   "metadata": {},
   "source": [
    "## Train/Test Split"
   ]
  },
  {
   "cell_type": "code",
   "execution_count": 39,
   "metadata": {},
   "outputs": [],
   "source": [
    "#::GMG::Let's make it reproducible\n",
    "set.seed(1)"
   ]
  },
  {
   "cell_type": "code",
   "execution_count": 40,
   "metadata": {},
   "outputs": [],
   "source": [
    "#::GMG::I do the customary train/test split BUT stratifiying (?) because of the imbalance\n",
    "#       to make sure the percentages of healthy/diabetes hold in the train and test sets\n",
    "#::NOTE::caTools has sample.split( Y, SplitRatio = 2/3, group = NULL )\n",
    "# https://www.rdocumentation.org/packages/caTools/versions/1.17.1/topics/sample.split\n",
    "# https://cran.r-project.org/web/packages/caTools/caTools.pdf\n",
    "# Split data from vector Y into two sets in predefined ratio while preserving relative ratios of \n",
    "# differentlabels in Y. Used to split the data used during classification into train and test subsets.\n",
    "#::NOTE::So it seems this does whay I want it to do ...\n",
    "msk <- sample.split(Y = pima_mod$Outcome, SplitRatio = 0.7)"
   ]
  },
  {
   "cell_type": "code",
   "execution_count": 42,
   "metadata": {},
   "outputs": [],
   "source": [
    "pima_train <- pima_mod[msk,]  # use output of sample.split to ...\n",
    "pima_test  <- pima_mod[!msk,] # create train and test subse"
   ]
  },
  {
   "cell_type": "code",
   "execution_count": 43,
   "metadata": {},
   "outputs": [
    {
     "name": "stdout",
     "output_type": "stream",
     "text": [
      "'data.frame':\t506 obs. of  9 variables:\n",
      " $ Pregnancies             : int  6 8 0 2 4 10 5 0 7 1 ...\n",
      " $ Glucose                 : int  148 183 137 197 110 139 166 118 107 103 ...\n",
      " $ BloodPressure           : int  72 64 40 70 92 80 72 84 74 30 ...\n",
      " $ SkinThickness           : int  35 0 35 45 0 0 19 47 0 38 ...\n",
      " $ Insulin                 : int  0 0 168 543 0 0 175 230 0 83 ...\n",
      " $ BMI                     : num  33.6 23.3 43.1 30.5 37.6 27.1 25.8 45.8 29.6 43.3 ...\n",
      " $ DiabetesPedigreeFunction: num  0.627 0.672 2.288 0.158 0.191 ...\n",
      " $ Age                     : int  50 32 33 53 30 57 51 31 31 33 ...\n",
      " $ Outcome                 : Factor w/ 2 levels \"healthy\",\"diabetes\": 2 2 2 2 1 1 2 2 2 1 ...\n"
     ]
    }
   ],
   "source": [
    "str(pima_train)"
   ]
  },
  {
   "cell_type": "code",
   "execution_count": 44,
   "metadata": {},
   "outputs": [
    {
     "data": {
      "text/plain": [
       "\n",
       "  healthy  diabetes \n",
       "0.6561265 0.3438735 "
      ]
     },
     "metadata": {},
     "output_type": "display_data"
    }
   ],
   "source": [
    "prop.table(table(pima_train$Outcome))"
   ]
  },
  {
   "cell_type": "code",
   "execution_count": 47,
   "metadata": {},
   "outputs": [
    {
     "data": {
      "image/png": "[encoded data removed]",
      "text/plain": [
       "Plot with title “Train Outcome Imbalance”"
      ]
     },
     "metadata": {},
     "output_type": "display_data"
    }
   ],
   "source": [
    "#::GMG::Plot the imbalance, see wether percentage is kept\n",
    "#::NOTE::I don't know how to make the fig smaller and the margins tight (!?)\n",
    "par(pin = c(4,3))\n",
    "barplot(100*prop.table(table(pima_train$Outcome)), \n",
    "        col = c('green', 'orange'),\n",
    "        ylim = c(0,70),\n",
    "        main = 'Train Outcome Imbalance')"
   ]
  },
  {
   "cell_type": "code",
   "execution_count": 48,
   "metadata": {},
   "outputs": [
    {
     "name": "stdout",
     "output_type": "stream",
     "text": [
      "'data.frame':\t218 obs. of  9 variables:\n",
      " $ Pregnancies             : int  1 1 5 3 10 1 10 5 3 10 ...\n",
      " $ Glucose                 : int  85 89 116 78 168 189 125 117 158 122 ...\n",
      " $ BloodPressure           : int  66 66 74 50 74 60 70 92 76 78 ...\n",
      " $ SkinThickness           : int  29 23 0 32 0 23 26 0 36 31 ...\n",
      " $ Insulin                 : int  0 94 0 88 0 846 115 0 245 0 ...\n",
      " $ BMI                     : num  26.6 28.1 25.6 31 38 30.1 31.1 34.1 31.6 27.6 ...\n",
      " $ DiabetesPedigreeFunction: num  0.351 0.167 0.201 0.248 0.537 0.398 0.205 0.337 0.851 0.512 ...\n",
      " $ Age                     : int  31 21 30 26 34 59 41 38 28 45 ...\n",
      " $ Outcome                 : Factor w/ 2 levels \"healthy\",\"diabetes\": 1 1 1 2 2 2 2 1 2 1 ...\n"
     ]
    }
   ],
   "source": [
    "str(pima_test)"
   ]
  },
  {
   "cell_type": "code",
   "execution_count": 49,
   "metadata": {},
   "outputs": [
    {
     "data": {
      "text/plain": [
       "\n",
       "  healthy  diabetes \n",
       "0.6559633 0.3440367 "
      ]
     },
     "metadata": {},
     "output_type": "display_data"
    }
   ],
   "source": [
    "prop.table(table(pima_test$Outcome))"
   ]
  },
  {
   "cell_type": "code",
   "execution_count": 50,
   "metadata": {},
   "outputs": [
    {
     "data": {
      "image/png": "[encoded data removed]",
      "text/plain": [
       "Plot with title “Test Outcome Imbalance”"
      ]
     },
     "metadata": {},
     "output_type": "display_data"
    }
   ],
   "source": [
    "#::GMG::Plot the imbalance, see wether percentage is kept\n",
    "#::NOTE::I don't know how to make the fig smaller and the margins tight (!?)\n",
    "par(pin = c(4,3))\n",
    "barplot(100*prop.table(table(pima_test$Outcome)), \n",
    "        col = c('green', 'orange'),\n",
    "        ylim = c(0,70),\n",
    "        main = 'Test Outcome Imbalance')"
   ]
  },
  {
   "cell_type": "markdown",
   "metadata": {
    "heading_collapsed": true
   },
   "source": [
    "## Models"
   ]
  },
  {
   "cell_type": "markdown",
   "metadata": {
    "hidden": true
   },
   "source": [
    "### knn"
   ]
  },
  {
   "cell_type": "code",
   "execution_count": null,
   "metadata": {
    "hidden": true
   },
   "outputs": [],
   "source": []
  },
  {
   "cell_type": "markdown",
   "metadata": {
    "hidden": true
   },
   "source": [
    "### decision tree"
   ]
  },
  {
   "cell_type": "code",
   "execution_count": null,
   "metadata": {
    "hidden": true
   },
   "outputs": [],
   "source": []
  },
  {
   "cell_type": "markdown",
   "metadata": {
    "hidden": true
   },
   "source": [
    "### logit"
   ]
  },
  {
   "cell_type": "code",
   "execution_count": null,
   "metadata": {
    "hidden": true
   },
   "outputs": [],
   "source": []
  },
  {
   "cell_type": "markdown",
   "metadata": {
    "hidden": true
   },
   "source": [
    "### random forest"
   ]
  },
  {
   "cell_type": "code",
   "execution_count": null,
   "metadata": {
    "hidden": true
   },
   "outputs": [],
   "source": []
  },
  {
   "cell_type": "markdown",
   "metadata": {
    "hidden": true
   },
   "source": [
    "### gradient boosting"
   ]
  },
  {
   "cell_type": "code",
   "execution_count": null,
   "metadata": {
    "hidden": true
   },
   "outputs": [],
   "source": []
  }
 ],
 "metadata": {
  "kernelspec": {
   "display_name": "R",
   "language": "R",
   "name": "ir"
  },
  "language_info": {
   "codemirror_mode": "r",
   "file_extension": ".r",
   "mimetype": "text/x-r-source",
   "name": "R",
   "pygments_lexer": "r",
   "version": "3.6.0"
  }
 },
 "nbformat": 4,
 "nbformat_minor": 2
}
