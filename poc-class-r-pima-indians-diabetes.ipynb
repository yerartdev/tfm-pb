{
 "cells": [
  {
   "cell_type": "markdown",
   "metadata": {},
   "source": [
    "# Gerardo de Miguel González"
   ]
  },
  {
   "cell_type": "markdown",
   "metadata": {},
   "source": [
    "# Binary Classification Proof of Concept"
   ]
  },
  {
   "cell_type": "markdown",
   "metadata": {
    "heading_collapsed": true
   },
   "source": [
    "## Libraries"
   ]
  },
  {
   "cell_type": "code",
   "execution_count": 1,
   "metadata": {
    "hidden": true
   },
   "outputs": [
    {
     "data": {
      "text/html": [
       "<ol class=list-inline>\n",
       "\t<li>'base'</li>\n",
       "\t<li>'boot'</li>\n",
       "\t<li>'class'</li>\n",
       "\t<li>'cluster'</li>\n",
       "\t<li>'codetools'</li>\n",
       "\t<li>'compiler'</li>\n",
       "\t<li>'datasets'</li>\n",
       "\t<li>'foreign'</li>\n",
       "\t<li>'graphics'</li>\n",
       "\t<li>'grDevices'</li>\n",
       "\t<li>'grid'</li>\n",
       "\t<li>'KernSmooth'</li>\n",
       "\t<li>'lattice'</li>\n",
       "\t<li>'MASS'</li>\n",
       "\t<li>'Matrix'</li>\n",
       "\t<li>'methods'</li>\n",
       "\t<li>'mgcv'</li>\n",
       "\t<li>'nlme'</li>\n",
       "\t<li>'nnet'</li>\n",
       "\t<li>'parallel'</li>\n",
       "\t<li>'rpart'</li>\n",
       "\t<li>'spatial'</li>\n",
       "\t<li>'splines'</li>\n",
       "\t<li>'stats'</li>\n",
       "\t<li>'stats4'</li>\n",
       "\t<li>'survival'</li>\n",
       "\t<li>'tcltk'</li>\n",
       "\t<li>'tools'</li>\n",
       "\t<li>'translations'</li>\n",
       "\t<li>'utils'</li>\n",
       "</ol>\n"
      ],
      "text/latex": [
       "\\begin{enumerate*}\n",
       "\\item 'base'\n",
       "\\item 'boot'\n",
       "\\item 'class'\n",
       "\\item 'cluster'\n",
       "\\item 'codetools'\n",
       "\\item 'compiler'\n",
       "\\item 'datasets'\n",
       "\\item 'foreign'\n",
       "\\item 'graphics'\n",
       "\\item 'grDevices'\n",
       "\\item 'grid'\n",
       "\\item 'KernSmooth'\n",
       "\\item 'lattice'\n",
       "\\item 'MASS'\n",
       "\\item 'Matrix'\n",
       "\\item 'methods'\n",
       "\\item 'mgcv'\n",
       "\\item 'nlme'\n",
       "\\item 'nnet'\n",
       "\\item 'parallel'\n",
       "\\item 'rpart'\n",
       "\\item 'spatial'\n",
       "\\item 'splines'\n",
       "\\item 'stats'\n",
       "\\item 'stats4'\n",
       "\\item 'survival'\n",
       "\\item 'tcltk'\n",
       "\\item 'tools'\n",
       "\\item 'translations'\n",
       "\\item 'utils'\n",
       "\\end{enumerate*}\n"
      ],
      "text/markdown": [
       "1. 'base'\n",
       "2. 'boot'\n",
       "3. 'class'\n",
       "4. 'cluster'\n",
       "5. 'codetools'\n",
       "6. 'compiler'\n",
       "7. 'datasets'\n",
       "8. 'foreign'\n",
       "9. 'graphics'\n",
       "10. 'grDevices'\n",
       "11. 'grid'\n",
       "12. 'KernSmooth'\n",
       "13. 'lattice'\n",
       "14. 'MASS'\n",
       "15. 'Matrix'\n",
       "16. 'methods'\n",
       "17. 'mgcv'\n",
       "18. 'nlme'\n",
       "19. 'nnet'\n",
       "20. 'parallel'\n",
       "21. 'rpart'\n",
       "22. 'spatial'\n",
       "23. 'splines'\n",
       "24. 'stats'\n",
       "25. 'stats4'\n",
       "26. 'survival'\n",
       "27. 'tcltk'\n",
       "28. 'tools'\n",
       "29. 'translations'\n",
       "30. 'utils'\n",
       "\n",
       "\n"
      ],
      "text/plain": [
       " [1] \"base\"         \"boot\"         \"class\"        \"cluster\"      \"codetools\"   \n",
       " [6] \"compiler\"     \"datasets\"     \"foreign\"      \"graphics\"     \"grDevices\"   \n",
       "[11] \"grid\"         \"KernSmooth\"   \"lattice\"      \"MASS\"         \"Matrix\"      \n",
       "[16] \"methods\"      \"mgcv\"         \"nlme\"         \"nnet\"         \"parallel\"    \n",
       "[21] \"rpart\"        \"spatial\"      \"splines\"      \"stats\"        \"stats4\"      \n",
       "[26] \"survival\"     \"tcltk\"        \"tools\"        \"translations\" \"utils\"       "
      ]
     },
     "metadata": {},
     "output_type": "display_data"
    }
   ],
   "source": [
    "#::GMG::Which libraries are there?\n",
    "list.files(R.home('library'))"
   ]
  },
  {
   "cell_type": "markdown",
   "metadata": {
    "hidden": true
   },
   "source": [
    "**::GMG::** Original `stdout`:\n",
    "\n",
    "```shell\n",
    "     'base' 'boot' 'class' 'cluster' 'codetools' 'compiler' 'datasets' 'foreign' 'graphics' 'grDevices' 'grid' 'KernSmooth' 'lattice' 'MASS' 'Matrix' 'methods' 'mgcv' 'nlme' 'nnet' 'parallel' 'rpart' 'spatial' 'splines' 'stats' 'stats4' 'survival' 'tcltk' 'tools' 'translations' 'utils' \n",
    "```"
   ]
  },
  {
   "cell_type": "code",
   "execution_count": 2,
   "metadata": {
    "hidden": true
   },
   "outputs": [],
   "source": [
    "#::GMG::Helper function to install missing libraries before loading them\n",
    "# https://stackoverflow.com/questions/4090169/elegant-way-to-check-for-missing-packages-and-install-them\n",
    "using_w<-function(...) {\n",
    "    libs<-unlist(list(...))\n",
    "    req<-unlist(lapply(libs,require,character.only=TRUE))\n",
    "    need<-libs[req==FALSE]\n",
    "    n<-length(need)\n",
    "    if(n>0){\n",
    "        libsmsg<-if(n>2) paste(paste(need[1:(n-1)],collapse=\", \"),\",\",sep=\"\") else need[1]\n",
    "        print(libsmsg)\n",
    "        if(n>1){\n",
    "            libsmsg<-paste(libsmsg,\" and \", need[n],sep=\"\")\n",
    "        }\n",
    "        libsmsg<-paste(\"The following packages could not be found: \",libsmsg,\"\\n\\r\\n\\rInstall missing packages?\",collapse=\"\")\n",
    "        if(winDialog(type = c(\"yesno\"), libsmsg)==\"YES\"){       \n",
    "            install.packages(need)\n",
    "            lapply(need,require,character.only=TRUE)\n",
    "        }\n",
    "    }\n",
    "}"
   ]
  },
  {
   "cell_type": "code",
   "execution_count": 3,
   "metadata": {
    "hidden": true
   },
   "outputs": [],
   "source": [
    "#::GMG::Helper function to install missing libraries before loading them\n",
    "# https://stackoverflow.com/questions/4090169/elegant-way-to-check-for-missing-packages-and-install-them\n",
    "using<-function(...) {\n",
    "    libs<-unlist(list(...))\n",
    "    req<-unlist(lapply(libs,require,character.only=TRUE))\n",
    "    need<-libs[req==FALSE]\n",
    "    if(length(need)>0){ \n",
    "        install.packages(need)\n",
    "        lapply(need,require,character.only=TRUE)\n",
    "    }\n",
    "}"
   ]
  },
  {
   "cell_type": "code",
   "execution_count": 4,
   "metadata": {
    "hidden": true
   },
   "outputs": [
    {
     "name": "stderr",
     "output_type": "stream",
     "text": [
      "Loading required package: mlbench\n",
      "Loading required package: caTools\n",
      "Loading required package: dataPreparation\n",
      "Loading required package: lubridate\n",
      "\n",
      "Attaching package: ‘lubridate’\n",
      "\n",
      "The following object is masked from ‘package:base’:\n",
      "\n",
      "    date\n",
      "\n",
      "Loading required package: stringr\n",
      "Loading required package: Matrix\n",
      "Loading required package: progress\n",
      "dataPreparation 0.4.0\n",
      "Type dataPrepNews() to see new features/changes/bug fixes.\n",
      "Loading required package: corrplot\n",
      "corrplot 0.84 loaded\n",
      "Loading required package: mlr\n",
      "Loading required package: ParamHelpers\n"
     ]
    }
   ],
   "source": [
    "#::GMG::I'm going to use ... \n",
    "# ... mlbench for getting pima indians dataset ...\n",
    "# https://cran.r-project.org/web/packages/mlbench/index.html\n",
    "# https://cran.r-project.org/web/packages/mlbench/mlbench.pdf\n",
    "# ... caTools for train/test splitting datasets ...\n",
    "# https://cran.r-project.org/web/packages/caTools/index.html\n",
    "# https://cran.r-project.org/web/packages/caTools/caTools.pdf\n",
    "# ... dataPreparation: Automated Data Preparation ...\n",
    "# https://cran.r-project.org/web/packages/dataPreparation/index.html\n",
    "# https://cran.r-project.org/web/packages/dataPreparation/vignettes/train_test_prep.html\n",
    "# ... correlation plot (corrplot) for EDA visualization ...\n",
    "# http://www.sthda.com/english/wiki/visualize-correlation-matrix-using-correlogram\n",
    "# https://cran.r-project.org/web/packages/corrplot/index.html\n",
    "# ... Machine Learning in R (most of things I'll need)\n",
    "# https://cran.r-project.org/web/packages/mlr/index.html\n",
    "# https://cran.r-project.org/web/packages/mlr/mlr.pdf\n",
    "#::NOTE::What about tidyverse?\n",
    "# https://cran.r-project.org/web/packages/tidyverse/index.html\n",
    "# https://www.tidyverse.org/ \n",
    "using('mlbench', 'caTools', 'dataPreparation', 'corrplot', 'mlr')"
   ]
  },
  {
   "cell_type": "markdown",
   "metadata": {
    "hidden": true
   },
   "source": [
    "**::GMG::** stdout of installation (first time, a 5 min process!)\n",
    "\n",
    "```shell\n",
    "Loading required package: mlbench\n",
    "Warning message in library(package, lib.loc = lib.loc, character.only = TRUE, logical.return = TRUE, :\n",
    "“there is no package called ‘mlbench’”Loading required package: caTools\n",
    "Warning message in library(package, lib.loc = lib.loc, character.only = TRUE, logical.return = TRUE, :\n",
    "“there is no package called ‘caTools’”Loading required package: dataPreparation\n",
    "Warning message in library(package, lib.loc = lib.loc, character.only = TRUE, logical.return = TRUE, :\n",
    "“there is no package called ‘dataPreparation’”Loading required package: corrplot\n",
    "Warning message in library(package, lib.loc = lib.loc, character.only = TRUE, logical.return = TRUE, :\n",
    "“there is no package called ‘corrplot’”Loading required package: mlr\n",
    "Warning message in library(package, lib.loc = lib.loc, character.only = TRUE, logical.return = TRUE, :\n",
    "“there is no package called ‘mlr’”Installing packages into ‘/home/jovyan/R/x86_64-pc-linux-gnu-library/3.6’\n",
    "(as ‘lib’ is unspecified)\n",
    "also installing the dependencies ‘ellipsis’, ‘rlang’, ‘vctrs’, ‘hms’, ‘fastmatch’, ‘lubridate’, ‘progress’, ‘ParamHelpers’, ‘BBmisc’, ‘parallelMap’\n",
    "\n",
    "Loading required package: mlbench\n",
    "Loading required package: caTools\n",
    "Loading required package: dataPreparation\n",
    "Loading required package: lubridate\n",
    "\n",
    "Attaching package: ‘lubridate’\n",
    "\n",
    "The following object is masked from ‘package:base’:\n",
    "\n",
    "    date\n",
    "\n",
    "Loading required package: stringr\n",
    "Loading required package: Matrix\n",
    "Loading required package: progress\n",
    "Error: package or namespace load failed for ‘progress’ in loadNamespace(i, c(lib.loc, .libPaths()), versionCheck = vI[[i]]):\n",
    " namespace ‘rlang’ 0.3.4 is already loaded, but >= 0.4.0 is required\n",
    "Loading required package: corrplot\n",
    "corrplot 0.84 loaded\n",
    "Loading required package: mlr\n",
    "Loading required package: ParamHelpers\n",
    "Registered S3 methods overwritten by 'ggplot2':\n",
    "  method         from \n",
    "  [.quosures     rlang\n",
    "  c.quosures     rlang\n",
    "  print.quosures rlang\n",
    "```\n",
    "\n",
    "and yields TRUE, TRUE, **FALSE**, TRUE, TRUE which suggests some *trouble* with `dataPreparation` ([\\*]()) ... Besides there's been an **error** on yhe `progress` ([\\*](https://cran.r-project.org/web/packages/progress/index.html)) package. In fact, `dataPreparation` depends on that package, among others: R (≥ 3.3.0), lubridate, stringr, Matrix, **progress**."
   ]
  },
  {
   "cell_type": "markdown",
   "metadata": {
    "hidden": true
   },
   "source": [
    "**::GMG::** There's a problem with [`rlang`](https://cran.r-project.org/web/packages/rlang/index.html) because if I try to [see the installed packages]() I get an error:\n",
    "\n",
    "```R\n",
    "> old.packages()\n",
    "\n",
    "> ERROR while rich displaying an object: Error in loadNamespace(i, c(lib.loc, .libPaths()), versionCheck = vI[[i]]): namespace ‘rlang’ 0.3.4 is already loaded, but >= 0.4.0 is required\n",
    "\n",
    "Traceback:\n",
    "1. FUN(X[[i]], ...)\n",
    "2. tryCatch(withCallingHandlers({\n",
    " .     if (!mime %in% names(repr::mime2repr)) \n",
    " .         stop(\"No repr_* for mimetype \", mime, \" in repr::mime2repr\")\n",
    " .     rpr <- repr::mime2repr[[mime]](obj)\n",
    " .     if (is.null(rpr)) \n",
    " .         return(NULL)\n",
    " .     prepare_content(is.raw(rpr), rpr)\n",
    " . }, error = error_handler), error = outer_handler)\n",
    "\n",
    "[...]\n",
    "```\n",
    "\n",
    "In order to fix that I decided to [update the installed packages](https://www.neonscience.org/packages-in-r) which takes *15 minutes*.\n",
    "\n",
    "```R\n",
    "# update all available packages\n",
    "> update.packages(ask = FALSE)\n",
    "\n",
    "> also installing the dependencies ‘brew’, ‘commonmark’, ‘xml2’, ‘praise’, ‘roxygen2’, ‘testthat’\n",
    "Error in install.packages(update[instlib == l, \"Package\"], l, contriburl = contriburl, : unable to install packages\n",
    "Traceback:\n",
    "\n",
    "1. update.packages(ask = FALSE)\n",
    "2. install.packages(update[instlib == l, \"Package\"], l, contriburl = contriburl, \n",
    " .     method = method, available = available, ..., type = type)\n",
    "3. stop(\"unable to install packages\")\n",
    "```\n",
    "\n",
    "**Another error**. So I'm lost here."
   ]
  },
  {
   "cell_type": "markdown",
   "metadata": {
    "hidden": true
   },
   "source": [
    "**GMG::** I fix the issue on command line updating the packages\n",
    "\n",
    "```R\n",
    "> old.packages()\n",
    "         Package    LibPath              Installed  Built   ReposVer\n",
    "boot     \"boot\"     \"/usr/lib/R/library\" \"1.3-20\"   \"3.5.0\" \"1.3-23\"\n",
    "cluster  \"cluster\"  \"/usr/lib/R/library\" \"2.0.8\"    \"3.5.3\" \"2.1.0\"\n",
    "foreign  \"foreign\"  \"/usr/lib/R/library\" \"0.8-70\"   \"3.5.0\" \"0.8-71\"\n",
    "MASS     \"MASS\"     \"/usr/lib/R/library\" \"7.3-51.1\" \"3.5.1\" \"7.3-51.4\"\n",
    "survival \"survival\" \"/usr/lib/R/library\" \"2.43-3\"   \"3.5.1\" \"2.44-1.1\"\n",
    "         Repository\n",
    "boot     \"https://cloud.r-project.org/src/contrib\"\n",
    "cluster  \"https://cloud.r-project.org/src/contrib\"\n",
    "foreign  \"https://cloud.r-project.org/src/contrib\"\n",
    "MASS     \"https://cloud.r-project.org/src/contrib\"\n",
    "survival \"https://cloud.r-project.org/src/contrib\"\n",
    "\n",
    "> update.packages()\n",
    "boot :\n",
    " Version 1.3-20 installed in /usr/lib/R/library\n",
    " Version 1.3-23 available at https://cloud.r-project.org\n",
    "Update? (Yes/no/cancel)\n",
    "\n",
    "[...]\n",
    "\n",
    "survival :\n",
    " Version 2.43-3 installed in /usr/lib/R/library\n",
    " Version 2.44-1.1 available at https://cloud.r-project.org\n",
    "Update? (Yes/no/cancel) yes\n",
    "Warning in install.packages(update[instlib == l, \"Package\"], l, contriburl = contriburl,  :\n",
    "  'lib = \"/usr/lib/R/library\"' is not writable\n",
    "\n",
    "Would you like to use a personal library instead? (yes/No/cancel) yes\n",
    "\n",
    "[...]\n",
    "\n",
    "** R\n",
    "** data\n",
    "*** moving datasets to lazyload DB\n",
    "** inst\n",
    "** byte-compile and prepare package for lazy loading\n",
    "** help\n",
    "*** installing help indices\n",
    "*** copying figures\n",
    "** building package indices\n",
    "** installing vignettes\n",
    "** testing if installed package can be loaded from temporary location\n",
    "** checking absolute paths in shared objects and dynamic libraries\n",
    "** testing if installed package can be loaded from final location\n",
    "** testing if installed package keeps a record of temporary installation path\n",
    "* DONE (survival)\n",
    "\n",
    "The downloaded source packages are in\n",
    "        ‘/tmp/RtmpH5XaDg/downloaded_packages’\n",
    "```\n",
    "\n",
    "and installing `dataPreparation`:\n",
    "\n",
    "```R\n",
    "`> install.packages('dataPreparation')\n",
    "Installing package into ‘/home/jovyan/R/x86_64-pc-linux-gnu-library/3.6’\n",
    "(as ‘lib’ is unspecified)\n",
    "trying URL 'https://cloud.r-project.org/src/contrib/dataPreparation_0.4.0.tar.gz'\n",
    "Content type 'application/x-gzip' length 1286671 bytes (1.2 MB)\n",
    "==================================================\n",
    "downloaded 1.2 MB\n",
    "\n",
    "* installing *source* package ‘dataPreparation’ ...\n",
    "** package ‘dataPreparation’ successfully unpacked and MD5 sums checked\n",
    "** using staged installation\n",
    "** R\n",
    "** data\n",
    "*** moving datasets to lazyload DB\n",
    "** inst\n",
    "** byte-compile and prepare package for lazy loading\n",
    "** help\n",
    "*** installing help indices\n",
    "** building package indices\n",
    "** installing vignettes\n",
    "** testing if installed package can be loaded from temporary location\n",
    "** testing if installed package can be loaded from final location\n",
    "** testing if installed package keeps a record of temporary installation path\n",
    "* DONE (dataPreparation)\n",
    "\n",
    "The downloaded source packages are in\n",
    "        ‘/tmp/RtmpH5XaDg/downloaded_packages’\n",
    "\n",
    "``` \n",
    "\n"
   ]
  },
  {
   "cell_type": "markdown",
   "metadata": {},
   "source": [
    "## Dataset"
   ]
  },
  {
   "cell_type": "markdown",
   "metadata": {
    "heading_collapsed": true
   },
   "source": [
    "### load"
   ]
  },
  {
   "cell_type": "code",
   "execution_count": 5,
   "metadata": {
    "hidden": true
   },
   "outputs": [
    {
     "data": {
      "text/html": [
       "'/home/jovyan/work/tfm/pub'"
      ],
      "text/latex": [
       "'/home/jovyan/work/tfm/pub'"
      ],
      "text/markdown": [
       "'/home/jovyan/work/tfm/pub'"
      ],
      "text/plain": [
       "[1] \"/home/jovyan/work/tfm/pub\""
      ]
     },
     "metadata": {},
     "output_type": "display_data"
    }
   ],
   "source": [
    "#::GMG::Where am I?\n",
    "# http://rfunction.com/archives/1042\n",
    "getwd()"
   ]
  },
  {
   "cell_type": "code",
   "execution_count": 6,
   "metadata": {
    "hidden": true
   },
   "outputs": [
    {
     "data": {
      "text/html": [
       "<ol class=list-inline>\n",
       "\t<li>'data'</li>\n",
       "\t<li>'LICENSE'</li>\n",
       "\t<li>'model'</li>\n",
       "\t<li>'poc-class-pima-indians-diabetes.ipynb'</li>\n",
       "\t<li>'poc-class-r-pima-indians-diabetes.ipynb'</li>\n",
       "\t<li>'poc-class-stratify-pima-indians-diabetes.ipynb'</li>\n",
       "\t<li>'poc-fs-embed-pima-indians-diabetes.ipynb'</li>\n",
       "\t<li>'poc-fs-filter-pima-indians-diabetes.ipynb'</li>\n",
       "\t<li>'poc-fs-wrapper-pima-indians-diabetes.ipynb'</li>\n",
       "\t<li>'poc-model-selection-pima-indians-diabetes.ipynb'</li>\n",
       "\t<li>'README.md'</li>\n",
       "</ol>\n"
      ],
      "text/latex": [
       "\\begin{enumerate*}\n",
       "\\item 'data'\n",
       "\\item 'LICENSE'\n",
       "\\item 'model'\n",
       "\\item 'poc-class-pima-indians-diabetes.ipynb'\n",
       "\\item 'poc-class-r-pima-indians-diabetes.ipynb'\n",
       "\\item 'poc-class-stratify-pima-indians-diabetes.ipynb'\n",
       "\\item 'poc-fs-embed-pima-indians-diabetes.ipynb'\n",
       "\\item 'poc-fs-filter-pima-indians-diabetes.ipynb'\n",
       "\\item 'poc-fs-wrapper-pima-indians-diabetes.ipynb'\n",
       "\\item 'poc-model-selection-pima-indians-diabetes.ipynb'\n",
       "\\item 'README.md'\n",
       "\\end{enumerate*}\n"
      ],
      "text/markdown": [
       "1. 'data'\n",
       "2. 'LICENSE'\n",
       "3. 'model'\n",
       "4. 'poc-class-pima-indians-diabetes.ipynb'\n",
       "5. 'poc-class-r-pima-indians-diabetes.ipynb'\n",
       "6. 'poc-class-stratify-pima-indians-diabetes.ipynb'\n",
       "7. 'poc-fs-embed-pima-indians-diabetes.ipynb'\n",
       "8. 'poc-fs-filter-pima-indians-diabetes.ipynb'\n",
       "9. 'poc-fs-wrapper-pima-indians-diabetes.ipynb'\n",
       "10. 'poc-model-selection-pima-indians-diabetes.ipynb'\n",
       "11. 'README.md'\n",
       "\n",
       "\n"
      ],
      "text/plain": [
       " [1] \"data\"                                           \n",
       " [2] \"LICENSE\"                                        \n",
       " [3] \"model\"                                          \n",
       " [4] \"poc-class-pima-indians-diabetes.ipynb\"          \n",
       " [5] \"poc-class-r-pima-indians-diabetes.ipynb\"        \n",
       " [6] \"poc-class-stratify-pima-indians-diabetes.ipynb\" \n",
       " [7] \"poc-fs-embed-pima-indians-diabetes.ipynb\"       \n",
       " [8] \"poc-fs-filter-pima-indians-diabetes.ipynb\"      \n",
       " [9] \"poc-fs-wrapper-pima-indians-diabetes.ipynb\"     \n",
       "[10] \"poc-model-selection-pima-indians-diabetes.ipynb\"\n",
       "[11] \"README.md\"                                      "
      ]
     },
     "metadata": {},
     "output_type": "display_data"
    }
   ],
   "source": [
    "#::GMG::What's it there?\n",
    "list.files()"
   ]
  },
  {
   "cell_type": "code",
   "execution_count": 7,
   "metadata": {
    "hidden": true
   },
   "outputs": [
    {
     "data": {
      "text/html": [
       "'data/pima-indians-diabetes.csv'"
      ],
      "text/latex": [
       "'data/pima-indians-diabetes.csv'"
      ],
      "text/markdown": [
       "'data/pima-indians-diabetes.csv'"
      ],
      "text/plain": [
       "[1] \"data/pima-indians-diabetes.csv\""
      ]
     },
     "metadata": {},
     "output_type": "display_data"
    }
   ],
   "source": [
    "#::GMG::I've already downloaded from kaggle using my account the csv dataset\n",
    "#       that is located in the data folder\n",
    "# https://stat.ethz.ch/R-manual/R-devel/library/base/html/list.files.html\n",
    "dir(\"data\", pattern = \"*.csv\", full.names = TRUE, ignore.case = TRUE)"
   ]
  },
  {
   "cell_type": "code",
   "execution_count": 8,
   "metadata": {
    "hidden": true
   },
   "outputs": [],
   "source": [
    "#::GMG::Load the data into a data frame\n",
    "pima <- read.csv('data/pima-indians-diabetes.csv')"
   ]
  },
  {
   "cell_type": "code",
   "execution_count": 9,
   "metadata": {
    "hidden": true
   },
   "outputs": [
    {
     "data": {
      "text/html": [
       "<table>\n",
       "<caption>A data.frame: 6 × 9</caption>\n",
       "<thead>\n",
       "\t<tr><th scope=col>Pregnancies</th><th scope=col>Glucose</th><th scope=col>BloodPressure</th><th scope=col>SkinThickness</th><th scope=col>Insulin</th><th scope=col>BMI</th><th scope=col>DiabetesPedigreeFunction</th><th scope=col>Age</th><th scope=col>Outcome</th></tr>\n",
       "\t<tr><th scope=col>&lt;int&gt;</th><th scope=col>&lt;int&gt;</th><th scope=col>&lt;int&gt;</th><th scope=col>&lt;int&gt;</th><th scope=col>&lt;int&gt;</th><th scope=col>&lt;dbl&gt;</th><th scope=col>&lt;dbl&gt;</th><th scope=col>&lt;int&gt;</th><th scope=col>&lt;int&gt;</th></tr>\n",
       "</thead>\n",
       "<tbody>\n",
       "\t<tr><td>6</td><td>148</td><td>72</td><td>35</td><td>  0</td><td>33.6</td><td>0.627</td><td>50</td><td>1</td></tr>\n",
       "\t<tr><td>1</td><td> 85</td><td>66</td><td>29</td><td>  0</td><td>26.6</td><td>0.351</td><td>31</td><td>0</td></tr>\n",
       "\t<tr><td>8</td><td>183</td><td>64</td><td> 0</td><td>  0</td><td>23.3</td><td>0.672</td><td>32</td><td>1</td></tr>\n",
       "\t<tr><td>1</td><td> 89</td><td>66</td><td>23</td><td> 94</td><td>28.1</td><td>0.167</td><td>21</td><td>0</td></tr>\n",
       "\t<tr><td>0</td><td>137</td><td>40</td><td>35</td><td>168</td><td>43.1</td><td>2.288</td><td>33</td><td>1</td></tr>\n",
       "\t<tr><td>5</td><td>116</td><td>74</td><td> 0</td><td>  0</td><td>25.6</td><td>0.201</td><td>30</td><td>0</td></tr>\n",
       "</tbody>\n",
       "</table>\n"
      ],
      "text/latex": [
       "A data.frame: 6 × 9\n",
       "\\begin{tabular}{r|lllllllll}\n",
       " Pregnancies & Glucose & BloodPressure & SkinThickness & Insulin & BMI & DiabetesPedigreeFunction & Age & Outcome\\\\\n",
       " <int> & <int> & <int> & <int> & <int> & <dbl> & <dbl> & <int> & <int>\\\\\n",
       "\\hline\n",
       "\t 6 & 148 & 72 & 35 &   0 & 33.6 & 0.627 & 50 & 1\\\\\n",
       "\t 1 &  85 & 66 & 29 &   0 & 26.6 & 0.351 & 31 & 0\\\\\n",
       "\t 8 & 183 & 64 &  0 &   0 & 23.3 & 0.672 & 32 & 1\\\\\n",
       "\t 1 &  89 & 66 & 23 &  94 & 28.1 & 0.167 & 21 & 0\\\\\n",
       "\t 0 & 137 & 40 & 35 & 168 & 43.1 & 2.288 & 33 & 1\\\\\n",
       "\t 5 & 116 & 74 &  0 &   0 & 25.6 & 0.201 & 30 & 0\\\\\n",
       "\\end{tabular}\n"
      ],
      "text/markdown": [
       "\n",
       "A data.frame: 6 × 9\n",
       "\n",
       "| Pregnancies &lt;int&gt; | Glucose &lt;int&gt; | BloodPressure &lt;int&gt; | SkinThickness &lt;int&gt; | Insulin &lt;int&gt; | BMI &lt;dbl&gt; | DiabetesPedigreeFunction &lt;dbl&gt; | Age &lt;int&gt; | Outcome &lt;int&gt; |\n",
       "|---|---|---|---|---|---|---|---|---|\n",
       "| 6 | 148 | 72 | 35 |   0 | 33.6 | 0.627 | 50 | 1 |\n",
       "| 1 |  85 | 66 | 29 |   0 | 26.6 | 0.351 | 31 | 0 |\n",
       "| 8 | 183 | 64 |  0 |   0 | 23.3 | 0.672 | 32 | 1 |\n",
       "| 1 |  89 | 66 | 23 |  94 | 28.1 | 0.167 | 21 | 0 |\n",
       "| 0 | 137 | 40 | 35 | 168 | 43.1 | 2.288 | 33 | 1 |\n",
       "| 5 | 116 | 74 |  0 |   0 | 25.6 | 0.201 | 30 | 0 |\n",
       "\n"
      ],
      "text/plain": [
       "  Pregnancies Glucose BloodPressure SkinThickness Insulin BMI \n",
       "1 6           148     72            35              0     33.6\n",
       "2 1            85     66            29              0     26.6\n",
       "3 8           183     64             0              0     23.3\n",
       "4 1            89     66            23             94     28.1\n",
       "5 0           137     40            35            168     43.1\n",
       "6 5           116     74             0              0     25.6\n",
       "  DiabetesPedigreeFunction Age Outcome\n",
       "1 0.627                    50  1      \n",
       "2 0.351                    31  0      \n",
       "3 0.672                    32  1      \n",
       "4 0.167                    21  0      \n",
       "5 2.288                    33  1      \n",
       "6 0.201                    30  0      "
      ]
     },
     "metadata": {},
     "output_type": "display_data"
    }
   ],
   "source": [
    "head(pima)"
   ]
  },
  {
   "cell_type": "code",
   "execution_count": 10,
   "metadata": {
    "hidden": true
   },
   "outputs": [
    {
     "name": "stdout",
     "output_type": "stream",
     "text": [
      "pima class and type:  data.frame list"
     ]
    }
   ],
   "source": [
    "#::GMG::I try to get to know the R object\n",
    "# https://swcarpentry.github.io/r-novice-inflammation/13-supp-data-structures/\n",
    "#    class() - what kind of object is it (high-level)?\n",
    "#    typeof() - what is the object’s data type (low-level)?\n",
    "#    length() - how long is it? What about two dimensional objects?\n",
    "#    attributes() - does it have any metadata?\n",
    "# http://www.studytrails.com/r/core/r_print_format/\n",
    "# http://www.studytrails.com/r/core/r_console_printing/\n",
    "# https://www.rdocumentation.org/packages/R.utils/versions/2.8.0/topics/printf\n",
    "# \n",
    "cat('pima class and type: ', class(pima), typeof(pima))"
   ]
  },
  {
   "cell_type": "code",
   "execution_count": 11,
   "metadata": {
    "hidden": true
   },
   "outputs": [],
   "source": [
    "#attributes(pima)"
   ]
  },
  {
   "cell_type": "markdown",
   "metadata": {
    "hidden": true
   },
   "source": [
    "**::GMG::** Attributes:\n",
    "\n",
    "```R\n",
    "$names\n",
    "   'Pregnancies' 'Glucose' 'BloodPressure' 'SkinThickness' 'Insulin' 'BMI' 'DiabetesPedigreeFunction' 'Age' 'Outcome' \n",
    "\n",
    "$class\n",
    "   'data.frame'\n",
    "\n",
    "$row.names\n",
    "   1 2 3 4 5 6 7 8 9 10 11 12 13 14 15 16 17 18 19 20 21 22 23 24 25 26 27 28 29 30 31 32 33 34 35 36 37 38 39 40 41  ... 765 766 767 768\n",
    "```"
   ]
  },
  {
   "cell_type": "code",
   "execution_count": 12,
   "metadata": {
    "hidden": true
   },
   "outputs": [
    {
     "name": "stdout",
     "output_type": "stream",
     "text": [
      "pima shape (rows, cols):  768 9"
     ]
    }
   ],
   "source": [
    "cat('pima shape (rows, cols): ', nrow(pima), ncol(pima))"
   ]
  },
  {
   "cell_type": "code",
   "execution_count": 13,
   "metadata": {
    "hidden": true
   },
   "outputs": [
    {
     "name": "stdout",
     "output_type": "stream",
     "text": [
      "pima features: \n",
      " \n",
      "Pregnancies \n",
      "Glucose \n",
      "BloodPressure \n",
      "SkinThickness \n",
      "Insulin \n",
      "BMI \n",
      "DiabetesPedigreeFunction \n",
      "Age \n",
      "Outcome\n"
     ]
    }
   ],
   "source": [
    "cat('pima features: \\n', \n",
    "    format(attributes(pima)$names, justify = \"none\"), \n",
    "    fill = 10\n",
    "   )"
   ]
  },
  {
   "cell_type": "markdown",
   "metadata": {},
   "source": [
    "### exploratory data analysis"
   ]
  },
  {
   "cell_type": "markdown",
   "metadata": {},
   "source": [
    "**::GMG::** This dataset consists of 768 observations of 9 variables: 8 variables which will be used as model predictors (number of times pregnant, plasma glucose concentration, diastolic blood pressure (mm Hg), triceps skin fold thickness (in mm), 2-hr serum insulin measure, body mass index, a diabetes pedigree function, and age) and 1 outcome variable (whether or not the patient has diabetes)"
   ]
  },
  {
   "cell_type": "code",
   "execution_count": 14,
   "metadata": {},
   "outputs": [
    {
     "name": "stdout",
     "output_type": "stream",
     "text": [
      "'data.frame':\t768 obs. of  9 variables:\n",
      " $ Pregnancies             : int  6 1 8 1 0 5 3 10 2 8 ...\n",
      " $ Glucose                 : int  148 85 183 89 137 116 78 115 197 125 ...\n",
      " $ BloodPressure           : int  72 66 64 66 40 74 50 0 70 96 ...\n",
      " $ SkinThickness           : int  35 29 0 23 35 0 32 0 45 0 ...\n",
      " $ Insulin                 : int  0 0 0 94 168 0 88 0 543 0 ...\n",
      " $ BMI                     : num  33.6 26.6 23.3 28.1 43.1 25.6 31 35.3 30.5 0 ...\n",
      " $ DiabetesPedigreeFunction: num  0.627 0.351 0.672 0.167 2.288 ...\n",
      " $ Age                     : int  50 31 32 21 33 30 26 29 53 54 ...\n",
      " $ Outcome                 : int  1 0 1 0 1 0 1 0 1 1 ...\n"
     ]
    }
   ],
   "source": [
    "str(pima)"
   ]
  },
  {
   "cell_type": "code",
   "execution_count": 16,
   "metadata": {},
   "outputs": [
    {
     "data": {
      "text/plain": [
       "  Pregnancies        Glucose      BloodPressure    SkinThickness  \n",
       " Min.   : 0.000   Min.   :  0.0   Min.   :  0.00   Min.   : 0.00  \n",
       " 1st Qu.: 1.000   1st Qu.: 99.0   1st Qu.: 62.00   1st Qu.: 0.00  \n",
       " Median : 3.000   Median :117.0   Median : 72.00   Median :23.00  \n",
       " Mean   : 3.845   Mean   :120.9   Mean   : 69.11   Mean   :20.54  \n",
       " 3rd Qu.: 6.000   3rd Qu.:140.2   3rd Qu.: 80.00   3rd Qu.:32.00  \n",
       " Max.   :17.000   Max.   :199.0   Max.   :122.00   Max.   :99.00  \n",
       "    Insulin           BMI        DiabetesPedigreeFunction      Age       \n",
       " Min.   :  0.0   Min.   : 0.00   Min.   :0.0780           Min.   :21.00  \n",
       " 1st Qu.:  0.0   1st Qu.:27.30   1st Qu.:0.2437           1st Qu.:24.00  \n",
       " Median : 30.5   Median :32.00   Median :0.3725           Median :29.00  \n",
       " Mean   : 79.8   Mean   :31.99   Mean   :0.4719           Mean   :33.24  \n",
       " 3rd Qu.:127.2   3rd Qu.:36.60   3rd Qu.:0.6262           3rd Qu.:41.00  \n",
       " Max.   :846.0   Max.   :67.10   Max.   :2.4200           Max.   :81.00  \n",
       "    Outcome     \n",
       " Min.   :0.000  \n",
       " 1st Qu.:0.000  \n",
       " Median :0.000  \n",
       " Mean   :0.349  \n",
       " 3rd Qu.:1.000  \n",
       " Max.   :1.000  "
      ]
     },
     "metadata": {},
     "output_type": "display_data"
    }
   ],
   "source": [
    "summary(pima)"
   ]
  },
  {
   "cell_type": "code",
   "execution_count": 17,
   "metadata": {},
   "outputs": [
    {
     "data": {
      "text/html": [
       "<ol class=list-inline>\n",
       "\t<li>0</li>\n",
       "\t<li>27.3</li>\n",
       "\t<li>32</li>\n",
       "\t<li>36.6</li>\n",
       "\t<li>67.1</li>\n",
       "</ol>\n"
      ],
      "text/latex": [
       "\\begin{enumerate*}\n",
       "\\item 0\n",
       "\\item 27.3\n",
       "\\item 32\n",
       "\\item 36.6\n",
       "\\item 67.1\n",
       "\\end{enumerate*}\n"
      ],
      "text/markdown": [
       "1. 0\n",
       "2. 27.3\n",
       "3. 32\n",
       "4. 36.6\n",
       "5. 67.1\n",
       "\n",
       "\n"
      ],
      "text/plain": [
       "[1]  0.0 27.3 32.0 36.6 67.1"
      ]
     },
     "metadata": {},
     "output_type": "display_data"
    }
   ],
   "source": [
    "fivenum(x = pima$BMI)"
   ]
  },
  {
   "cell_type": "code",
   "execution_count": 28,
   "metadata": {},
   "outputs": [
    {
     "data": {
      "image/png": "[encoded data removed]",
      "text/plain": [
       "plot without title"
      ]
     },
     "metadata": {},
     "output_type": "display_data"
    }
   ],
   "source": [
    "#::GMG::pair plot to see correlations between pairs of features\n",
    "#::NOTE::See also:\n",
    "# https://www.statmethods.net/advgraphs/trellis.html\n",
    "# https://www.statmethods.net/graphs/scatterplot.html\n",
    "# https://www.statmethods.net/advgraphs/layout.html\n",
    "# https://www.r-bloggers.com/scatterplot-matrices-pair-plots-with-cdata-and-ggplot2/\n",
    "pairs(pima[1:8], pch = 21, main = 'Data Feature Scatterplot matrix')"
   ]
  },
  {
   "cell_type": "markdown",
   "metadata": {},
   "source": [
    "## Train/Test Split"
   ]
  },
  {
   "cell_type": "code",
   "execution_count": null,
   "metadata": {},
   "outputs": [],
   "source": []
  },
  {
   "cell_type": "markdown",
   "metadata": {},
   "source": [
    "## Models"
   ]
  },
  {
   "cell_type": "markdown",
   "metadata": {},
   "source": [
    "### knn"
   ]
  },
  {
   "cell_type": "code",
   "execution_count": null,
   "metadata": {},
   "outputs": [],
   "source": []
  },
  {
   "cell_type": "markdown",
   "metadata": {},
   "source": [
    "### decision tree"
   ]
  },
  {
   "cell_type": "code",
   "execution_count": null,
   "metadata": {},
   "outputs": [],
   "source": []
  },
  {
   "cell_type": "markdown",
   "metadata": {},
   "source": [
    "### logit"
   ]
  },
  {
   "cell_type": "code",
   "execution_count": null,
   "metadata": {},
   "outputs": [],
   "source": []
  },
  {
   "cell_type": "markdown",
   "metadata": {},
   "source": [
    "### random forest"
   ]
  },
  {
   "cell_type": "code",
   "execution_count": null,
   "metadata": {},
   "outputs": [],
   "source": []
  },
  {
   "cell_type": "markdown",
   "metadata": {},
   "source": [
    "### gradient boosting"
   ]
  },
  {
   "cell_type": "code",
   "execution_count": null,
   "metadata": {},
   "outputs": [],
   "source": []
  }
 ],
 "metadata": {
  "kernelspec": {
   "display_name": "R",
   "language": "R",
   "name": "ir"
  },
  "language_info": {
   "codemirror_mode": "r",
   "file_extension": ".r",
   "mimetype": "text/x-r-source",
   "name": "R",
   "pygments_lexer": "r",
   "version": "3.6.0"
  }
 },
 "nbformat": 4,
 "nbformat_minor": 2
}
