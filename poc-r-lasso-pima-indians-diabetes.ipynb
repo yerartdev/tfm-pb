{
 "cells": [
  {
   "cell_type": "markdown",
   "metadata": {
    "heading_collapsed": true
   },
   "source": [
    "# Gerardo de Miguel González"
   ]
  },
  {
   "cell_type": "markdown",
   "metadata": {
    "hidden": true
   },
   "source": [
    "**::GMG::** The aim of this notebook is to find a basic workflow for doing machine learning classification of an imbalanced dataset using best practices taken from other people's examples."
   ]
  },
  {
   "cell_type": "markdown",
   "metadata": {},
   "source": [
    "# Binary Classification Proof of Concept"
   ]
  },
  {
   "cell_type": "markdown",
   "metadata": {
    "heading_collapsed": true
   },
   "source": [
    "## References"
   ]
  },
  {
   "cell_type": "markdown",
   "metadata": {
    "hidden": true
   },
   "source": [
    "**::GMG::** These ones:\n",
    "\n",
    "  - [STHDA](http://www.sthda.com/english/articles/36-classification-methods-essentials/149-penalized-logistic-regression-essentials-in-r-ridge-lasso-and-elastic-net/) Penalized Logistic Regression Essentials in R: Ridge, Lasso and Elastic Net by kassambara -- 11/03/2018 from  [Articles](http://www.sthda.com/english/articles/36-classification-methods-essentials/) - Classification Methods Essentials\n",
    "  - [Stanford](https://web.stanford.edu/~hastie/glmnet/glmnet_alpha.html#log) Glmnet Vignette: Logistic Regression by [Trevor Hastie](https://web.stanford.edu/~hastie/) and Junyang Qian, Stanford June 26, 2014\n",
    "  - [Lab Notebook](http://homepages.uc.edu/~lis6/Teaching/DM18Spring/Lab/lab5_logit.html) in [Data Mining I (BANA7046) 2018 Spring](http://homepages.uc.edu/~lis6/DM-18Spring.html) by [Shaobo Li](http://homepages.uc.edu/~lis6/), see [Variable Selection section](http://homepages.uc.edu/~lis6/Teaching/DM18Spring/Lab/lab5_logit.html#variable-selection).\n",
    "  \n",
    "**::NOTE::** The LASSO is not very good at handling variables which show correlation between them and thus can sometimes show very wild behaviors. (From [rstatisticsblog](https://www.rstatisticsblog.com/data-science-in-action/lasso-regression/))"
   ]
  },
  {
   "cell_type": "markdown",
   "metadata": {
    "heading_collapsed": true
   },
   "source": [
    "## Libraries"
   ]
  },
  {
   "cell_type": "code",
   "execution_count": 1,
   "metadata": {
    "hidden": true
   },
   "outputs": [],
   "source": [
    "#::GMG::Helper function to install missing libraries before loading them\n",
    "# https://stackoverflow.com/questions/4090169/elegant-way-to-check-for-missing-packages-and-install-them\n",
    "using<-function(...) {\n",
    "    libs<-unlist(list(...))\n",
    "    req<-unlist(lapply(libs,require,character.only=TRUE))\n",
    "    need<-libs[req==FALSE]\n",
    "    if(length(need)>0){ \n",
    "        install.packages(need)\n",
    "        lapply(need,require,character.only=TRUE)\n",
    "    }\n",
    "}"
   ]
  },
  {
   "cell_type": "code",
   "execution_count": 2,
   "metadata": {
    "hidden": true,
    "scrolled": true
   },
   "outputs": [
    {
     "name": "stderr",
     "output_type": "stream",
     "text": [
      "Loading required package: repr\n",
      "Loading required package: mlbench\n",
      "Loading required package: caTools\n",
      "Loading required package: glmnet\n",
      "Loading required package: Matrix\n",
      "Loading required package: foreach\n",
      "Loaded glmnet 2.0-18\n",
      "\n",
      "Loading required package: plotmo\n",
      "Loading required package: Formula\n",
      "Loading required package: plotrix\n",
      "Loading required package: TeachingDemos\n",
      "Loading required package: MLmetrics\n",
      "\n",
      "Attaching package: ‘MLmetrics’\n",
      "\n",
      "The following object is masked from ‘package:base’:\n",
      "\n",
      "    Recall\n",
      "\n"
     ]
    }
   ],
   "source": [
    "#::NOTE::Downsizing to simpler packages\n",
    "#using('tidyverse','caret','glmnet', 'mlbench')\n",
    "# ... repr to fix size of graphics within jupyter noteboook  ...\n",
    "# https://blog.revolutionanalytics.com/2015/09/resizing-plots-in-the-r-kernel-for-jupyter-notebooks.html\n",
    "# ... [NO] crossval: Generic Functions for Cross Validation ...\n",
    "#     Contains generic functions for performing cross validation and for computing diagnostic errors ...\n",
    "# https://cran.r-project.org/web/packages/crossval/\n",
    "# https://cran.r-project.org/web/packages/crossval/crossval.pdf\n",
    "# ... plotmo: Plot a Model's Residuals, Response, and Partial Dependence Plots ...\n",
    "#       Plot model surfaces for a wide variety of models using partial dependence plots and other techniques. \n",
    "#       Also plot model residuals and other information on the model.\n",
    "# https://cran.r-project.org/web/packages/plotmo/index.html\n",
    "# https://cran.r-project.org/web/packages/plotmo/plotmo.pdf\n",
    "# ... MLmetrics: Machine Learning Evaluation Metrics\n",
    "#     A collection of evaluation metrics, including loss, score and utility functions, that measure regression, \n",
    "#     classification and ranking performance.\n",
    "using('repr', 'mlbench', 'caTools', 'glmnet', 'plotmo', 'MLmetrics')"
   ]
  },
  {
   "cell_type": "markdown",
   "metadata": {
    "hidden": true
   },
   "source": [
    "**::GMG::** `crossval` package first install output here:\n",
    "\n",
    "```R\n",
    "Loading required package: mlbench\n",
    "Loading required package: caTools\n",
    "Loading required package: glmnet\n",
    "Loading required package: Matrix\n",
    "Loading required package: foreach\n",
    "Loaded glmnet 2.0-18\n",
    "\n",
    "Loading required package: crossval\n",
    "Warning message in library(package, lib.loc = lib.loc, character.only = TRUE, logical.return = TRUE, :\n",
    "“there is no package called ‘crossval’”Installing package into ‘/home/jovyan/R/x86_64-pc-linux-gnu-library/3.6’\n",
    "(as ‘lib’ is unspecified)\n",
    "Loading required package: crossval\n",
    "  1. TRUE\n",
    "```"
   ]
  },
  {
   "cell_type": "markdown",
   "metadata": {
    "hidden": true
   },
   "source": [
    "**::GMG::** `tidyverse` output first install here:\n",
    "\n",
    "```R\n",
    "Loading required package: tidyverse\n",
    "Warning message in library(package, lib.loc = lib.loc, character.only = TRUE, logical.return = TRUE, :\n",
    "“there is no package called ‘tidyverse’”Loading required package: caret\n",
    "Loading required package: lattice\n",
    "Loading required package: ggplot2\n",
    "Loading required package: glmnet\n",
    "Loading required package: Matrix\n",
    "Loading required package: foreach\n",
    "Loaded glmnet 2.0-18\n",
    "\n",
    "Installing package into ‘/home/jovyan/R/x86_64-pc-linux-gnu-library/3.6’\n",
    "(as ‘lib’ is unspecified)\n",
    "also installing the dependencies ‘tinytex’, ‘rmarkdown’, ‘selectr’, ‘broom’, ‘dbplyr’, ‘modelr’, ‘reprex’, ‘rvest’\n",
    "\n",
    "Loading required package: tidyverse\n",
    "── Attaching packages ─────────────────────────────────────── tidyverse 1.2.1 ──\n",
    "✔ tibble  2.1.3     ✔ purrr   0.3.2\n",
    "✔ tidyr   0.8.3     ✔ dplyr   0.8.3\n",
    "✔ readr   1.3.1     ✔ stringr 1.4.0\n",
    "✔ tibble  2.1.3     ✔ forcats 0.4.0\n",
    "── Conflicts ────────────────────────────────────────── tidyverse_conflicts() ──\n",
    "✖ purrr::accumulate() masks foreach::accumulate()\n",
    "✖ tidyr::expand()     masks Matrix::expand()\n",
    "✖ dplyr::filter()     masks stats::filter()\n",
    "✖ dplyr::lag()        masks stats::lag()\n",
    "✖ purrr::lift()       masks caret::lift()\n",
    "✖ purrr::when()       masks foreach::when()\n",
    "                           \n",
    "    1. TRUE\n",
    "``` "
   ]
  },
  {
   "cell_type": "markdown",
   "metadata": {
    "hidden": true
   },
   "source": [
    "**::GMG::** First installation of plotmo:\n",
    "\n",
    "```R\n",
    "Loading required package: plotmo\n",
    "Warning message in library(package, lib.loc = lib.loc, character.only = TRUE, logical.return = TRUE, :\n",
    "“there is no package called ‘plotmo’”Installing package into ‘/home/jovyan/R/x86_64-pc-linux-gnu-library/3.6’\n",
    "(as ‘lib’ is unspecified)\n",
    "also installing the dependencies ‘plotrix’, ‘TeachingDemos’\n",
    "\n",
    "Loading required package: plotmo\n",
    "Loading required package: Formula\n",
    "Loading required package: plotrix\n",
    "Loading required package: TeachingDemos\n",
    "\n",
    "    1. TRUE\n",
    "\n",
    "```"
   ]
  },
  {
   "cell_type": "markdown",
   "metadata": {
    "heading_collapsed": true
   },
   "source": [
    "## Dataset"
   ]
  },
  {
   "cell_type": "code",
   "execution_count": 3,
   "metadata": {
    "hidden": true
   },
   "outputs": [],
   "source": [
    "#::GMG::There are two versions in mlbench\n",
    "# https://www.rdocumentation.org/packages/utils/versions/3.6.1/topics/data\n",
    "#::NOTE::2nd version comes with zero outliers as NAs\n",
    "utils::data(PimaIndiansDiabetes2)"
   ]
  },
  {
   "cell_type": "code",
   "execution_count": 4,
   "metadata": {
    "hidden": true
   },
   "outputs": [
    {
     "data": {
      "text/html": [
       "<table>\n",
       "<caption>A data.frame: 6 × 9</caption>\n",
       "<thead>\n",
       "\t<tr><th scope=col>pregnant</th><th scope=col>glucose</th><th scope=col>pressure</th><th scope=col>triceps</th><th scope=col>insulin</th><th scope=col>mass</th><th scope=col>pedigree</th><th scope=col>age</th><th scope=col>diabetes</th></tr>\n",
       "\t<tr><th scope=col>&lt;dbl&gt;</th><th scope=col>&lt;dbl&gt;</th><th scope=col>&lt;dbl&gt;</th><th scope=col>&lt;dbl&gt;</th><th scope=col>&lt;dbl&gt;</th><th scope=col>&lt;dbl&gt;</th><th scope=col>&lt;dbl&gt;</th><th scope=col>&lt;dbl&gt;</th><th scope=col>&lt;fct&gt;</th></tr>\n",
       "</thead>\n",
       "<tbody>\n",
       "\t<tr><td>6</td><td>148</td><td>72</td><td>35</td><td> NA</td><td>33.6</td><td>0.627</td><td>50</td><td>pos</td></tr>\n",
       "\t<tr><td>1</td><td> 85</td><td>66</td><td>29</td><td> NA</td><td>26.6</td><td>0.351</td><td>31</td><td>neg</td></tr>\n",
       "\t<tr><td>8</td><td>183</td><td>64</td><td>NA</td><td> NA</td><td>23.3</td><td>0.672</td><td>32</td><td>pos</td></tr>\n",
       "\t<tr><td>1</td><td> 89</td><td>66</td><td>23</td><td> 94</td><td>28.1</td><td>0.167</td><td>21</td><td>neg</td></tr>\n",
       "\t<tr><td>0</td><td>137</td><td>40</td><td>35</td><td>168</td><td>43.1</td><td>2.288</td><td>33</td><td>pos</td></tr>\n",
       "\t<tr><td>5</td><td>116</td><td>74</td><td>NA</td><td> NA</td><td>25.6</td><td>0.201</td><td>30</td><td>neg</td></tr>\n",
       "</tbody>\n",
       "</table>\n"
      ],
      "text/latex": [
       "A data.frame: 6 × 9\n",
       "\\begin{tabular}{r|lllllllll}\n",
       " pregnant & glucose & pressure & triceps & insulin & mass & pedigree & age & diabetes\\\\\n",
       " <dbl> & <dbl> & <dbl> & <dbl> & <dbl> & <dbl> & <dbl> & <dbl> & <fct>\\\\\n",
       "\\hline\n",
       "\t 6 & 148 & 72 & 35 &  NA & 33.6 & 0.627 & 50 & pos\\\\\n",
       "\t 1 &  85 & 66 & 29 &  NA & 26.6 & 0.351 & 31 & neg\\\\\n",
       "\t 8 & 183 & 64 & NA &  NA & 23.3 & 0.672 & 32 & pos\\\\\n",
       "\t 1 &  89 & 66 & 23 &  94 & 28.1 & 0.167 & 21 & neg\\\\\n",
       "\t 0 & 137 & 40 & 35 & 168 & 43.1 & 2.288 & 33 & pos\\\\\n",
       "\t 5 & 116 & 74 & NA &  NA & 25.6 & 0.201 & 30 & neg\\\\\n",
       "\\end{tabular}\n"
      ],
      "text/markdown": [
       "\n",
       "A data.frame: 6 × 9\n",
       "\n",
       "| pregnant &lt;dbl&gt; | glucose &lt;dbl&gt; | pressure &lt;dbl&gt; | triceps &lt;dbl&gt; | insulin &lt;dbl&gt; | mass &lt;dbl&gt; | pedigree &lt;dbl&gt; | age &lt;dbl&gt; | diabetes &lt;fct&gt; |\n",
       "|---|---|---|---|---|---|---|---|---|\n",
       "| 6 | 148 | 72 | 35 |  NA | 33.6 | 0.627 | 50 | pos |\n",
       "| 1 |  85 | 66 | 29 |  NA | 26.6 | 0.351 | 31 | neg |\n",
       "| 8 | 183 | 64 | NA |  NA | 23.3 | 0.672 | 32 | pos |\n",
       "| 1 |  89 | 66 | 23 |  94 | 28.1 | 0.167 | 21 | neg |\n",
       "| 0 | 137 | 40 | 35 | 168 | 43.1 | 2.288 | 33 | pos |\n",
       "| 5 | 116 | 74 | NA |  NA | 25.6 | 0.201 | 30 | neg |\n",
       "\n"
      ],
      "text/plain": [
       "  pregnant glucose pressure triceps insulin mass pedigree age diabetes\n",
       "1 6        148     72       35       NA     33.6 0.627    50  pos     \n",
       "2 1         85     66       29       NA     26.6 0.351    31  neg     \n",
       "3 8        183     64       NA       NA     23.3 0.672    32  pos     \n",
       "4 1         89     66       23       94     28.1 0.167    21  neg     \n",
       "5 0        137     40       35      168     43.1 2.288    33  pos     \n",
       "6 5        116     74       NA       NA     25.6 0.201    30  neg     "
      ]
     },
     "metadata": {},
     "output_type": "display_data"
    }
   ],
   "source": [
    "#::GMG::See first rows\n",
    "# https://www.rdocumentation.org/packages/utils/versions/3.6.1/topics/head\n",
    "#::NOTE::Some NAs show up!\n",
    "utils::head(PimaIndiansDiabetes2)"
   ]
  },
  {
   "cell_type": "markdown",
   "metadata": {
    "heading_collapsed": true
   },
   "source": [
    "## Exploratory Data Analysis"
   ]
  },
  {
   "cell_type": "markdown",
   "metadata": {
    "hidden": true
   },
   "source": [
    "**::GMG::** The goal of this stage of our study is to get to know the data, their flaws and perhaps some clues to improve them."
   ]
  },
  {
   "cell_type": "code",
   "execution_count": 5,
   "metadata": {
    "hidden": true,
    "scrolled": true
   },
   "outputs": [
    {
     "name": "stdout",
     "output_type": "stream",
     "text": [
      "'data.frame':\t768 obs. of  9 variables:\n",
      " $ pregnant: num  6 1 8 1 0 5 3 10 2 8 ...\n",
      " $ glucose : num  148 85 183 89 137 116 78 115 197 125 ...\n",
      " $ pressure: num  72 66 64 66 40 74 50 NA 70 96 ...\n",
      " $ triceps : num  35 29 NA 23 35 NA 32 NA 45 NA ...\n",
      " $ insulin : num  NA NA NA 94 168 NA 88 NA 543 NA ...\n",
      " $ mass    : num  33.6 26.6 23.3 28.1 43.1 25.6 31 35.3 30.5 NA ...\n",
      " $ pedigree: num  0.627 0.351 0.672 0.167 2.288 ...\n",
      " $ age     : num  50 31 32 21 33 30 26 29 53 54 ...\n",
      " $ diabetes: Factor w/ 2 levels \"neg\",\"pos\": 2 1 2 1 2 1 2 1 2 2 ...\n"
     ]
    }
   ],
   "source": [
    "#::GMG::PimaIndiansDiabetes2 (say, v2) has the outliers from \n",
    "#       glucose, pressure, triceps, insulin and mass as NAs\n",
    "str(PimaIndiansDiabetes2)"
   ]
  },
  {
   "cell_type": "code",
   "execution_count": 6,
   "metadata": {
    "hidden": true
   },
   "outputs": [
    {
     "data": {
      "text/plain": [
       "    pregnant         glucose         pressure         triceps     \n",
       " Min.   : 0.000   Min.   : 44.0   Min.   : 24.00   Min.   : 7.00  \n",
       " 1st Qu.: 1.000   1st Qu.: 99.0   1st Qu.: 64.00   1st Qu.:22.00  \n",
       " Median : 3.000   Median :117.0   Median : 72.00   Median :29.00  \n",
       " Mean   : 3.845   Mean   :121.7   Mean   : 72.41   Mean   :29.15  \n",
       " 3rd Qu.: 6.000   3rd Qu.:141.0   3rd Qu.: 80.00   3rd Qu.:36.00  \n",
       " Max.   :17.000   Max.   :199.0   Max.   :122.00   Max.   :99.00  \n",
       "                  NA's   :5       NA's   :35       NA's   :227    \n",
       "    insulin            mass          pedigree           age        diabetes \n",
       " Min.   : 14.00   Min.   :18.20   Min.   :0.0780   Min.   :21.00   neg:500  \n",
       " 1st Qu.: 76.25   1st Qu.:27.50   1st Qu.:0.2437   1st Qu.:24.00   pos:268  \n",
       " Median :125.00   Median :32.30   Median :0.3725   Median :29.00            \n",
       " Mean   :155.55   Mean   :32.46   Mean   :0.4719   Mean   :33.24            \n",
       " 3rd Qu.:190.00   3rd Qu.:36.60   3rd Qu.:0.6262   3rd Qu.:41.00            \n",
       " Max.   :846.00   Max.   :67.10   Max.   :2.4200   Max.   :81.00            \n",
       " NA's   :374      NA's   :11                                                "
      ]
     },
     "metadata": {},
     "output_type": "display_data"
    }
   ],
   "source": [
    "#::GMG::NA counts yield the outliers (!)\n",
    "#::NOTE::Should I standardize some of the features ('glucose', 'pressure', 'triceps', 'insuline', 'mass')?\n",
    "#::NOTE::Should I do feature engineering on some of the features \n",
    "#        (i.e. age, p.e breaking it into intervals with labels)?\n",
    "summary(PimaIndiansDiabetes2)"
   ]
  },
  {
   "cell_type": "code",
   "execution_count": 7,
   "metadata": {
    "hidden": true,
    "scrolled": false
   },
   "outputs": [
    {
     "data": {
      "text/html": [
       "<dl class=dl-horizontal>\n",
       "\t<dt>pregnant</dt>\n",
       "\t\t<dd>0</dd>\n",
       "\t<dt>glucose</dt>\n",
       "\t\t<dd>5</dd>\n",
       "\t<dt>pressure</dt>\n",
       "\t\t<dd>35</dd>\n",
       "\t<dt>triceps</dt>\n",
       "\t\t<dd>227</dd>\n",
       "\t<dt>insulin</dt>\n",
       "\t\t<dd>374</dd>\n",
       "\t<dt>mass</dt>\n",
       "\t\t<dd>11</dd>\n",
       "\t<dt>pedigree</dt>\n",
       "\t\t<dd>0</dd>\n",
       "\t<dt>age</dt>\n",
       "\t\t<dd>0</dd>\n",
       "\t<dt>diabetes</dt>\n",
       "\t\t<dd>0</dd>\n",
       "</dl>\n"
      ],
      "text/latex": [
       "\\begin{description*}\n",
       "\\item[pregnant] 0\n",
       "\\item[glucose] 5\n",
       "\\item[pressure] 35\n",
       "\\item[triceps] 227\n",
       "\\item[insulin] 374\n",
       "\\item[mass] 11\n",
       "\\item[pedigree] 0\n",
       "\\item[age] 0\n",
       "\\item[diabetes] 0\n",
       "\\end{description*}\n"
      ],
      "text/markdown": [
       "pregnant\n",
       ":   0glucose\n",
       ":   5pressure\n",
       ":   35triceps\n",
       ":   227insulin\n",
       ":   374mass\n",
       ":   11pedigree\n",
       ":   0age\n",
       ":   0diabetes\n",
       ":   0\n",
       "\n"
      ],
      "text/plain": [
       "pregnant  glucose pressure  triceps  insulin     mass pedigree      age \n",
       "       0        5       35      227      374       11        0        0 \n",
       "diabetes \n",
       "       0 "
      ]
     },
     "metadata": {},
     "output_type": "display_data"
    }
   ],
   "source": [
    "#::GMG::Check for missing values ... I know they are marked witn 'NA' in mlbench 2nd dataset\n",
    "sapply(PimaIndiansDiabetes2, function(x) sum(is.na(x)))"
   ]
  },
  {
   "cell_type": "code",
   "execution_count": 8,
   "metadata": {
    "hidden": true
   },
   "outputs": [
    {
     "data": {
      "text/plain": [
       "\n",
       "neg pos \n",
       "500 268 "
      ]
     },
     "metadata": {},
     "output_type": "display_data"
    }
   ],
   "source": [
    "#::GMG::Now I test the imbalance of the dataset\n",
    "# http://metadatascience.com/2013/07/03/plotting-the-frequency-distribution-using-r/\n",
    "table(PimaIndiansDiabetes2$diabetes)"
   ]
  },
  {
   "cell_type": "code",
   "execution_count": 9,
   "metadata": {
    "hidden": true
   },
   "outputs": [
    {
     "data": {
      "text/plain": [
       "\n",
       "      neg       pos \n",
       "0.6510417 0.3489583 "
      ]
     },
     "metadata": {},
     "output_type": "display_data"
    }
   ],
   "source": [
    "prop.table(table(PimaIndiansDiabetes2$diabetes))"
   ]
  },
  {
   "cell_type": "code",
   "execution_count": 10,
   "metadata": {
    "hidden": true,
    "scrolled": false
   },
   "outputs": [
    {
     "data": {
      "image/png": "[encoded data removed]",
      "text/plain": [
       "Plot with title “Outcome Imbalance”"
      ]
     },
     "metadata": {},
     "output_type": "display_data"
    }
   ],
   "source": [
    "#::GMG::Plot the imbalance\n",
    "# https://www.statmethods.net/advgraphs/parameters.html\n",
    "# http://www.programmingr.com/content/positioning-charts-fig-and-fin/\n",
    "#::NOTE::I don't know how to make the fig smaller and the margins tight (!?)\n",
    "# https://blog.revolutionanalytics.com/2015/09/resizing-plots-in-the-r-kernel-for-jupyter-notebooks.html\n",
    "options(repr.plot.width=4, repr.plot.height=3)\n",
    "barplot(100*prop.table(table(PimaIndiansDiabetes2$diabetes)), \n",
    "        col = c('blue', 'red'),\n",
    "        ylim = c(0,70),\n",
    "        main = 'Outcome Imbalance')"
   ]
  },
  {
   "cell_type": "markdown",
   "metadata": {
    "heading_collapsed": true
   },
   "source": [
    "## Preparing the data"
   ]
  },
  {
   "cell_type": "code",
   "execution_count": 11,
   "metadata": {
    "hidden": true
   },
   "outputs": [],
   "source": [
    "#::GMG:: (STHDA) Load the data and remove NAs\n",
    "#::NOTE::I've already attached that dataset earlier\n",
    "# data(\"PimaIndiansDiabetes2\", package = \"mlbench\")\n",
    "# https://stat.ethz.ch/R-manual/R-devel/library/stats/html/na.fail.html\n",
    "# https://www.statmethods.net/input/missingdata.html\n",
    "pima_clean <- stats::na.omit(PimaIndiansDiabetes2)"
   ]
  },
  {
   "cell_type": "code",
   "execution_count": 12,
   "metadata": {
    "hidden": true
   },
   "outputs": [
    {
     "data": {
      "text/html": [
       "<dl class=dl-horizontal>\n",
       "\t<dt>pregnant</dt>\n",
       "\t\t<dd>0</dd>\n",
       "\t<dt>glucose</dt>\n",
       "\t\t<dd>0</dd>\n",
       "\t<dt>pressure</dt>\n",
       "\t\t<dd>0</dd>\n",
       "\t<dt>triceps</dt>\n",
       "\t\t<dd>0</dd>\n",
       "\t<dt>insulin</dt>\n",
       "\t\t<dd>0</dd>\n",
       "\t<dt>mass</dt>\n",
       "\t\t<dd>0</dd>\n",
       "\t<dt>pedigree</dt>\n",
       "\t\t<dd>0</dd>\n",
       "\t<dt>age</dt>\n",
       "\t\t<dd>0</dd>\n",
       "\t<dt>diabetes</dt>\n",
       "\t\t<dd>0</dd>\n",
       "</dl>\n"
      ],
      "text/latex": [
       "\\begin{description*}\n",
       "\\item[pregnant] 0\n",
       "\\item[glucose] 0\n",
       "\\item[pressure] 0\n",
       "\\item[triceps] 0\n",
       "\\item[insulin] 0\n",
       "\\item[mass] 0\n",
       "\\item[pedigree] 0\n",
       "\\item[age] 0\n",
       "\\item[diabetes] 0\n",
       "\\end{description*}\n"
      ],
      "text/markdown": [
       "pregnant\n",
       ":   0glucose\n",
       ":   0pressure\n",
       ":   0triceps\n",
       ":   0insulin\n",
       ":   0mass\n",
       ":   0pedigree\n",
       ":   0age\n",
       ":   0diabetes\n",
       ":   0\n",
       "\n"
      ],
      "text/plain": [
       "pregnant  glucose pressure  triceps  insulin     mass pedigree      age \n",
       "       0        0        0        0        0        0        0        0 \n",
       "diabetes \n",
       "       0 "
      ]
     },
     "metadata": {},
     "output_type": "display_data"
    }
   ],
   "source": [
    "#::GMG::Check for missing values ... No NAs after cleaning with na.omit()\n",
    "sapply(pima_clean, function(x) sum(is.na(x)))"
   ]
  },
  {
   "cell_type": "code",
   "execution_count": 13,
   "metadata": {
    "hidden": true
   },
   "outputs": [
    {
     "data": {
      "text/html": [
       "<table>\n",
       "<caption>A data.frame: 6 × 9</caption>\n",
       "<thead>\n",
       "\t<tr><th></th><th scope=col>pregnant</th><th scope=col>glucose</th><th scope=col>pressure</th><th scope=col>triceps</th><th scope=col>insulin</th><th scope=col>mass</th><th scope=col>pedigree</th><th scope=col>age</th><th scope=col>diabetes</th></tr>\n",
       "\t<tr><th></th><th scope=col>&lt;dbl&gt;</th><th scope=col>&lt;dbl&gt;</th><th scope=col>&lt;dbl&gt;</th><th scope=col>&lt;dbl&gt;</th><th scope=col>&lt;dbl&gt;</th><th scope=col>&lt;dbl&gt;</th><th scope=col>&lt;dbl&gt;</th><th scope=col>&lt;dbl&gt;</th><th scope=col>&lt;fct&gt;</th></tr>\n",
       "</thead>\n",
       "<tbody>\n",
       "\t<tr><th scope=row>4</th><td>1</td><td> 89</td><td>66</td><td>23</td><td> 94</td><td>28.1</td><td>0.167</td><td>21</td><td>neg</td></tr>\n",
       "\t<tr><th scope=row>5</th><td>0</td><td>137</td><td>40</td><td>35</td><td>168</td><td>43.1</td><td>2.288</td><td>33</td><td>pos</td></tr>\n",
       "\t<tr><th scope=row>7</th><td>3</td><td> 78</td><td>50</td><td>32</td><td> 88</td><td>31.0</td><td>0.248</td><td>26</td><td>pos</td></tr>\n",
       "\t<tr><th scope=row>9</th><td>2</td><td>197</td><td>70</td><td>45</td><td>543</td><td>30.5</td><td>0.158</td><td>53</td><td>pos</td></tr>\n",
       "\t<tr><th scope=row>14</th><td>1</td><td>189</td><td>60</td><td>23</td><td>846</td><td>30.1</td><td>0.398</td><td>59</td><td>pos</td></tr>\n",
       "\t<tr><th scope=row>15</th><td>5</td><td>166</td><td>72</td><td>19</td><td>175</td><td>25.8</td><td>0.587</td><td>51</td><td>pos</td></tr>\n",
       "</tbody>\n",
       "</table>\n"
      ],
      "text/latex": [
       "A data.frame: 6 × 9\n",
       "\\begin{tabular}{r|lllllllll}\n",
       "  & pregnant & glucose & pressure & triceps & insulin & mass & pedigree & age & diabetes\\\\\n",
       "  & <dbl> & <dbl> & <dbl> & <dbl> & <dbl> & <dbl> & <dbl> & <dbl> & <fct>\\\\\n",
       "\\hline\n",
       "\t4 & 1 &  89 & 66 & 23 &  94 & 28.1 & 0.167 & 21 & neg\\\\\n",
       "\t5 & 0 & 137 & 40 & 35 & 168 & 43.1 & 2.288 & 33 & pos\\\\\n",
       "\t7 & 3 &  78 & 50 & 32 &  88 & 31.0 & 0.248 & 26 & pos\\\\\n",
       "\t9 & 2 & 197 & 70 & 45 & 543 & 30.5 & 0.158 & 53 & pos\\\\\n",
       "\t14 & 1 & 189 & 60 & 23 & 846 & 30.1 & 0.398 & 59 & pos\\\\\n",
       "\t15 & 5 & 166 & 72 & 19 & 175 & 25.8 & 0.587 & 51 & pos\\\\\n",
       "\\end{tabular}\n"
      ],
      "text/markdown": [
       "\n",
       "A data.frame: 6 × 9\n",
       "\n",
       "| <!--/--> | pregnant &lt;dbl&gt; | glucose &lt;dbl&gt; | pressure &lt;dbl&gt; | triceps &lt;dbl&gt; | insulin &lt;dbl&gt; | mass &lt;dbl&gt; | pedigree &lt;dbl&gt; | age &lt;dbl&gt; | diabetes &lt;fct&gt; |\n",
       "|---|---|---|---|---|---|---|---|---|---|\n",
       "| 4 | 1 |  89 | 66 | 23 |  94 | 28.1 | 0.167 | 21 | neg |\n",
       "| 5 | 0 | 137 | 40 | 35 | 168 | 43.1 | 2.288 | 33 | pos |\n",
       "| 7 | 3 |  78 | 50 | 32 |  88 | 31.0 | 0.248 | 26 | pos |\n",
       "| 9 | 2 | 197 | 70 | 45 | 543 | 30.5 | 0.158 | 53 | pos |\n",
       "| 14 | 1 | 189 | 60 | 23 | 846 | 30.1 | 0.398 | 59 | pos |\n",
       "| 15 | 5 | 166 | 72 | 19 | 175 | 25.8 | 0.587 | 51 | pos |\n",
       "\n"
      ],
      "text/plain": [
       "   pregnant glucose pressure triceps insulin mass pedigree age diabetes\n",
       "4  1         89     66       23       94     28.1 0.167    21  neg     \n",
       "5  0        137     40       35      168     43.1 2.288    33  pos     \n",
       "7  3         78     50       32       88     31.0 0.248    26  pos     \n",
       "9  2        197     70       45      543     30.5 0.158    53  pos     \n",
       "14 1        189     60       23      846     30.1 0.398    59  pos     \n",
       "15 5        166     72       19      175     25.8 0.587    51  pos     "
      ]
     },
     "metadata": {},
     "output_type": "display_data"
    }
   ],
   "source": [
    "# Inspect the data\n",
    "# https://dplyr.tidyverse.org/reference/sample.html\n",
    "#dplyr::sample_n(pima_clean, 3)\n",
    "#::NOTE::Downsize use of tidyverse to R core functions\n",
    "# https://www.rdocumentation.org/packages/utils/versions/3.6.1/topics/head\n",
    "utils::head(pima_clean)"
   ]
  },
  {
   "cell_type": "code",
   "execution_count": 14,
   "metadata": {
    "hidden": true
   },
   "outputs": [
    {
     "name": "stdout",
     "output_type": "stream",
     "text": [
      "'data.frame':\t392 obs. of  9 variables:\n",
      " $ pregnant: num  1 0 3 2 1 5 0 1 1 3 ...\n",
      " $ glucose : num  89 137 78 197 189 166 118 103 115 126 ...\n",
      " $ pressure: num  66 40 50 70 60 72 84 30 70 88 ...\n",
      " $ triceps : num  23 35 32 45 23 19 47 38 30 41 ...\n",
      " $ insulin : num  94 168 88 543 846 175 230 83 96 235 ...\n",
      " $ mass    : num  28.1 43.1 31 30.5 30.1 25.8 45.8 43.3 34.6 39.3 ...\n",
      " $ pedigree: num  0.167 2.288 0.248 0.158 0.398 ...\n",
      " $ age     : num  21 33 26 53 59 51 31 33 32 27 ...\n",
      " $ diabetes: Factor w/ 2 levels \"neg\",\"pos\": 1 2 2 2 2 2 2 1 2 1 ...\n",
      " - attr(*, \"na.action\")= 'omit' Named int  1 2 3 6 8 10 11 12 13 16 ...\n",
      "  ..- attr(*, \"names\")= chr  \"1\" \"2\" \"3\" \"6\" ...\n"
     ]
    }
   ],
   "source": [
    "#::NOTE::Originally 768 Observations!!\n",
    "str(pima_clean)"
   ]
  },
  {
   "cell_type": "markdown",
   "metadata": {
    "heading_collapsed": true
   },
   "source": [
    "## Stratified Train/Test split"
   ]
  },
  {
   "cell_type": "code",
   "execution_count": 15,
   "metadata": {
    "hidden": true
   },
   "outputs": [],
   "source": [
    "#::NOTE::Make it reproducible\n",
    "set.seed(123)"
   ]
  },
  {
   "cell_type": "code",
   "execution_count": 16,
   "metadata": {
    "hidden": true
   },
   "outputs": [],
   "source": [
    "# Split the data into training and test set\n",
    "#::NOTE::STHDA uses caret to do the stratified split and dplyr %>% notation\n",
    "#        and I think It's a bit of overdoing it ...\n",
    "# https://topepo.github.io/caret/data-splitting.html\n",
    "# https://github.com/tidyverse/dplyr\n",
    "#training_samples <- pima_clean$diabetes %>% \n",
    "#  caret::createDataPartition(p = 0.8, list = FALSE)\n",
    "#::NOTE::... downsizing to caTools (that does a pretty good job, I think)\n",
    "msk <- caTools::sample.split(Y = pima_clean$diabetes, SplitRatio = 0.7)"
   ]
  },
  {
   "cell_type": "code",
   "execution_count": 17,
   "metadata": {
    "hidden": true
   },
   "outputs": [],
   "source": [
    "#::NOTE::Do the actual split with the indices just computed\n",
    "#train_data  <- pima_clean[training_samples, ]\n",
    "#test_data <- pima_clean[-training_samples, ]\n",
    "#::NOTE::downsizing to caTools\n",
    "train_data <- pima_clean[msk,]  # use output of sample.split to ...\n",
    "test_data  <- pima_clean[!msk,] # create train and test subse"
   ]
  },
  {
   "cell_type": "code",
   "execution_count": 18,
   "metadata": {
    "hidden": true
   },
   "outputs": [
    {
     "name": "stdout",
     "output_type": "stream",
     "text": [
      "'data.frame':\t274 obs. of  9 variables:\n",
      " $ pregnant: num  1 0 2 1 5 0 1 3 11 3 ...\n",
      " $ glucose : num  89 137 197 189 166 118 115 126 143 158 ...\n",
      " $ pressure: num  66 40 70 60 72 84 70 88 94 76 ...\n",
      " $ triceps : num  23 35 45 23 19 47 30 41 33 36 ...\n",
      " $ insulin : num  94 168 543 846 175 230 96 235 146 245 ...\n",
      " $ mass    : num  28.1 43.1 30.5 30.1 25.8 45.8 34.6 39.3 36.6 31.6 ...\n",
      " $ pedigree: num  0.167 2.288 0.158 0.398 0.587 ...\n",
      " $ age     : num  21 33 53 59 51 31 32 27 51 28 ...\n",
      " $ diabetes: Factor w/ 2 levels \"neg\",\"pos\": 1 2 2 2 2 2 2 1 2 2 ...\n",
      " - attr(*, \"na.action\")= 'omit' Named int  1 2 3 6 8 10 11 12 13 16 ...\n",
      "  ..- attr(*, \"names\")= chr  \"1\" \"2\" \"3\" \"6\" ...\n"
     ]
    }
   ],
   "source": [
    "#::NOTE::See the split datasets\n",
    "str(train_data)"
   ]
  },
  {
   "cell_type": "code",
   "execution_count": 19,
   "metadata": {
    "hidden": true
   },
   "outputs": [
    {
     "data": {
      "text/plain": [
       "\n",
       "neg pos \n",
       "183  91 "
      ]
     },
     "metadata": {},
     "output_type": "display_data"
    }
   ],
   "source": [
    "#::GMG::Now I test the imbalance of the dataset\n",
    "# http://metadatascience.com/2013/07/03/plotting-the-frequency-distribution-using-r/\n",
    "table(train_data$diabetes)"
   ]
  },
  {
   "cell_type": "code",
   "execution_count": 20,
   "metadata": {
    "hidden": true
   },
   "outputs": [
    {
     "data": {
      "text/plain": [
       "\n",
       "      neg       pos \n",
       "0.6678832 0.3321168 "
      ]
     },
     "metadata": {},
     "output_type": "display_data"
    }
   ],
   "source": [
    "#::GMG::Just to be sure proportions are kept ...\n",
    "prop.table(table(train_data$diabetes))"
   ]
  },
  {
   "cell_type": "code",
   "execution_count": 21,
   "metadata": {
    "hidden": true
   },
   "outputs": [
    {
     "name": "stdout",
     "output_type": "stream",
     "text": [
      "'data.frame':\t118 obs. of  9 variables:\n",
      " $ pregnant: num  3 1 10 1 13 3 5 8 7 0 ...\n",
      " $ glucose : num  78 103 125 97 145 180 88 176 187 100 ...\n",
      " $ pressure: num  50 30 70 66 82 64 66 90 68 88 ...\n",
      " $ triceps : num  32 38 26 15 19 25 21 34 39 60 ...\n",
      " $ insulin : num  88 83 115 140 110 70 23 300 304 110 ...\n",
      " $ mass    : num  31 43.3 31.1 23.2 22.2 34 24.4 33.7 37.7 46.8 ...\n",
      " $ pedigree: num  0.248 0.183 0.205 0.487 0.245 0.271 0.342 0.467 0.254 0.962 ...\n",
      " $ age     : num  26 33 41 22 57 26 30 58 41 31 ...\n",
      " $ diabetes: Factor w/ 2 levels \"neg\",\"pos\": 2 1 2 1 1 1 1 2 2 1 ...\n",
      " - attr(*, \"na.action\")= 'omit' Named int  1 2 3 6 8 10 11 12 13 16 ...\n",
      "  ..- attr(*, \"names\")= chr  \"1\" \"2\" \"3\" \"6\" ...\n"
     ]
    }
   ],
   "source": [
    "str(test_data)"
   ]
  },
  {
   "cell_type": "code",
   "execution_count": 22,
   "metadata": {
    "hidden": true
   },
   "outputs": [
    {
     "data": {
      "text/plain": [
       "\n",
       "neg pos \n",
       " 79  39 "
      ]
     },
     "metadata": {},
     "output_type": "display_data"
    }
   ],
   "source": [
    "#::GMG::Now I test the imbalance of the dataset\n",
    "# http://metadatascience.com/2013/07/03/plotting-the-frequency-distribution-using-r/\n",
    "table(test_data$diabetes)"
   ]
  },
  {
   "cell_type": "code",
   "execution_count": 23,
   "metadata": {
    "hidden": true
   },
   "outputs": [
    {
     "data": {
      "text/plain": [
       "\n",
       "      neg       pos \n",
       "0.6694915 0.3305085 "
      ]
     },
     "metadata": {},
     "output_type": "display_data"
    }
   ],
   "source": [
    "#::GMG::Just to be sure proportions are kept ...\n",
    "prop.table(table(test_data$diabetes))"
   ]
  },
  {
   "cell_type": "markdown",
   "metadata": {
    "heading_collapsed": true
   },
   "source": [
    "## Logistic regression model"
   ]
  },
  {
   "cell_type": "markdown",
   "metadata": {
    "heading_collapsed": true,
    "hidden": true
   },
   "source": [
    "### model"
   ]
  },
  {
   "cell_type": "code",
   "execution_count": 24,
   "metadata": {
    "hidden": true
   },
   "outputs": [],
   "source": [
    "#::GMG::First off, I use stats:glm() to fit a baseline Logistic Regression Model\n",
    "# https://www.rdocumentation.org/packages/stats/versions/3.6.1/topics/glm\n",
    "full_model <- stats::glm(\n",
    "    formula = diabetes ~., \n",
    "    data = train_data, \n",
    "    family = binomial(link = 'logit')\n",
    ")"
   ]
  },
  {
   "cell_type": "code",
   "execution_count": 25,
   "metadata": {
    "hidden": true,
    "scrolled": false
   },
   "outputs": [
    {
     "data": {
      "text/plain": [
       "\n",
       "Call:\n",
       "stats::glm(formula = diabetes ~ ., family = binomial(link = \"logit\"), \n",
       "    data = train_data)\n",
       "\n",
       "Deviance Residuals: \n",
       "    Min       1Q   Median       3Q      Max  \n",
       "-3.0102  -0.6115  -0.3240   0.5692   2.3546  \n",
       "\n",
       "Coefficients:\n",
       "              Estimate Std. Error z value Pr(>|z|)    \n",
       "(Intercept) -1.197e+01  1.654e+00  -7.237 4.60e-13 ***\n",
       "pregnant     9.257e-02  6.656e-02   1.391  0.16428    \n",
       "glucose      3.786e-02  7.377e-03   5.132 2.86e-07 ***\n",
       "pressure     1.775e-03  1.566e-02   0.113  0.90976    \n",
       "triceps     -5.802e-03  2.176e-02  -0.267  0.78976    \n",
       "insulin      4.154e-04  1.710e-03   0.243  0.80804    \n",
       "mass         1.027e-01  3.682e-02   2.790  0.00527 ** \n",
       "pedigree     1.328e+00  5.655e-01   2.348  0.01887 *  \n",
       "age          6.135e-02  2.624e-02   2.338  0.01936 *  \n",
       "---\n",
       "Signif. codes:  0 ‘***’ 0.001 ‘**’ 0.01 ‘*’ 0.05 ‘.’ 0.1 ‘ ’ 1\n",
       "\n",
       "(Dispersion parameter for binomial family taken to be 1)\n",
       "\n",
       "    Null deviance: 348.35  on 273  degrees of freedom\n",
       "Residual deviance: 224.03  on 265  degrees of freedom\n",
       "AIC: 242.03\n",
       "\n",
       "Number of Fisher Scoring iterations: 5\n"
      ]
     },
     "metadata": {},
     "output_type": "display_data"
    }
   ],
   "source": [
    "#::GMG::Let's see a summary of the model I've just got\n",
    "# https://www.rdocumentation.org/packages/stats/versions/3.6.1/topics/summary.glm\n",
    "# https://www.youtube.com/watch?v=xl5dZo_BSJk\n",
    "# \n",
    "summary(full_model)"
   ]
  },
  {
   "cell_type": "code",
   "execution_count": 26,
   "metadata": {
    "hidden": true
   },
   "outputs": [
    {
     "name": "stdout",
     "output_type": "stream",
     "text": [
      "Relevant:  glucose mass pedigree age \n",
      "diabetes ~ glucose + mass + pedigree + age\n"
     ]
    }
   ],
   "source": [
    "#::GMG::Selecting the statistically significant variables in an R glm model\n",
    "# https://stackoverflow.com/questions/16153497/selecting-the-statistically-significant-variables-in-an-r-glm-model\n",
    "toselect.x <- summary(full_model)$coeff[-1,4] < 0.05 # credit to kith\n",
    "# select sig. variables\n",
    "relevant.x <- names(toselect.x)[toselect.x == TRUE] \n",
    "# formula with only sig variables\n",
    "sig.formula <- as.formula(paste(\"diabetes ~\",paste(relevant.x, collapse= \"+\")))\n",
    "cat('Relevant: ', relevant.x, '\\n')\n",
    "print (sig.formula)"
   ]
  },
  {
   "cell_type": "markdown",
   "metadata": {
    "hidden": true
   },
   "source": [
    "**::PENDING::** <span style=\"color:red\">Discussion here</span>\n",
    "\n",
    "**::GMG::** Help ...\n",
    "\n",
    "  - [Jeff Harmrick](https://www.youtube.com/watch?v=xl5dZo_BSJk) Understanding the Summary Output for a Logistic Regression in R, Published on Nov 14, 2012.\n",
    "  - [Cross-Validated](https://stats.stackexchange.com/questions/232548/r-how-are-the-significance-codes-determined-when-summarizing-a-logistic-regres) R - How are the significance codes determined when summarizing a logistic regression model?, Apr 13 2017 at 12:44\n",
    "  - [Cross-Validated](https://stats.stackexchange.com/questions/72258/how-to-interpret-the-significance-code) How to interpret the significance code?, Oct 9 2013 at 2:26\n",
    "  - [Cross_validated](https://stats.stackexchange.com/questions/60074/wald-test-for-logistic-regression) Wald test for logistic regression, May 26 2013 at 20:40 (Check out the [answer](https://stats.stackexchange.com/a/60083))\n",
    "  - [R Tutorial](http://www.r-tutor.com/elementary-statistics/logistic-regression/significance-test-logistic-regression) Significance Test for Logistic Regression\n",
    "  - [StatQuest](https://www.youtube.com/watch?v=yIYKR4sgzI8) Logistic Regression, by Josh Starmer Published on 5 Mar 2018\n",
    "  - [StatQuest](https://www.youtube.com/watch?v=vN5cNN2-HWE) Logistic Regression Details Pt1: Coefficients, by Josh Starmer, Published on Jun 4, 2018\n",
    "  "
   ]
  },
  {
   "cell_type": "code",
   "execution_count": 27,
   "metadata": {
    "hidden": true
   },
   "outputs": [],
   "source": [
    "simpler_model <- stats::glm(\n",
    "    formula = diabetes ~ glucose + mass + pedigree + age, \n",
    "    data = train_data, \n",
    "    family = binomial(link = 'logit')\n",
    ")"
   ]
  },
  {
   "cell_type": "code",
   "execution_count": 28,
   "metadata": {
    "hidden": true
   },
   "outputs": [
    {
     "data": {
      "text/plain": [
       "\n",
       "Call:\n",
       "stats::glm(formula = diabetes ~ glucose + mass + pedigree + age, \n",
       "    family = binomial(link = \"logit\"), data = train_data)\n",
       "\n",
       "Deviance Residuals: \n",
       "    Min       1Q   Median       3Q      Max  \n",
       "-3.2444  -0.6066  -0.3246   0.5644   2.2921  \n",
       "\n",
       "Coefficients:\n",
       "              Estimate Std. Error z value Pr(>|z|)    \n",
       "(Intercept) -12.033503   1.498942  -8.028 9.91e-16 ***\n",
       "glucose       0.038316   0.006299   6.083 1.18e-09 ***\n",
       "mass          0.094153   0.026905   3.499 0.000466 ***\n",
       "pedigree      1.204507   0.551618   2.184 0.028993 *  \n",
       "age           0.084284   0.020097   4.194 2.74e-05 ***\n",
       "---\n",
       "Signif. codes:  0 ‘***’ 0.001 ‘**’ 0.01 ‘*’ 0.05 ‘.’ 0.1 ‘ ’ 1\n",
       "\n",
       "(Dispersion parameter for binomial family taken to be 1)\n",
       "\n",
       "    Null deviance: 348.35  on 273  degrees of freedom\n",
       "Residual deviance: 226.13  on 269  degrees of freedom\n",
       "AIC: 236.13\n",
       "\n",
       "Number of Fisher Scoring iterations: 5\n"
      ]
     },
     "metadata": {},
     "output_type": "display_data"
    }
   ],
   "source": [
    "summary(simpler_model)"
   ]
  },
  {
   "cell_type": "markdown",
   "metadata": {
    "hidden": true
   },
   "source": [
    "**::PENDING::** <span style=\"color:red\">Discussion here</span>"
   ]
  },
  {
   "cell_type": "markdown",
   "metadata": {
    "heading_collapsed": true,
    "hidden": true
   },
   "source": [
    "### out-of-sample prediction"
   ]
  },
  {
   "cell_type": "code",
   "execution_count": 29,
   "metadata": {
    "hidden": true
   },
   "outputs": [
    {
     "name": "stdout",
     "output_type": "stream",
     "text": [
      " Named num [1:118] 0.0244 0.1991 0.4243 0.0233 0.713 ...\n",
      " - attr(*, \"names\")= chr [1:118] \"7\" \"19\" \"26\" \"28\" ...\n"
     ]
    }
   ],
   "source": [
    "#::GMG::Make predictions (from STHDA)\n",
    "# https://www.rdocumentation.org/packages/stats/versions/3.6.1/topics/predict.glm\n",
    "probabilities_full <- predict(\n",
    "    object = full_model, \n",
    "    newdata = test_data, \n",
    "    type = \"response\"\n",
    ")\n",
    "str(probabilities_full)"
   ]
  },
  {
   "cell_type": "code",
   "execution_count": 33,
   "metadata": {
    "hidden": true
   },
   "outputs": [
    {
     "name": "stdout",
     "output_type": "stream",
     "text": [
      " Named num [1:118] 0.0257 0.2673 0.3513 0.0243 0.6708 ...\n",
      " - attr(*, \"names\")= chr [1:118] \"7\" \"19\" \"26\" \"28\" ...\n"
     ]
    }
   ],
   "source": [
    "#::GMG::Check the simpler model (I don't expect mmuch ;)\n",
    "probabilities_simpler <- predict(\n",
    "    object = simpler_model, \n",
    "    newdata = test_data, \n",
    "    type = \"response\"\n",
    ")\n",
    "str(probabilities_simpler)"
   ]
  },
  {
   "cell_type": "markdown",
   "metadata": {
    "heading_collapsed": true,
    "hidden": true
   },
   "source": [
    "### out-of-sample P/R Curve"
   ]
  },
  {
   "cell_type": "code",
   "execution_count": 49,
   "metadata": {
    "hidden": true
   },
   "outputs": [],
   "source": [
    "#::GMG::Compute the curve\n",
    "# https://cran.r-project.org/web/packages/PRROC/PRROC.pdf pp. 7\n",
    "# Soft-labeled classification problems:\n",
    "# Each data point belongs to both of the two classes with a certain probability, where for each datapoint, these \n",
    "# two probabilities add up to 1.  In this case, the classification scores for all data points need to be provided \n",
    "# only once as scores.class0 and only the positive/foreground weights for each data point need to be provided in\n",
    "# weights.class0, while the converse probability for the negative class is automatically set to \n",
    "# weights.class1 = 1.0 - weights.class0.\n",
    "pr_curve_full <- PRROC::pr.curve(\n",
    "                scores.class0 = probabilities_full[test_data$diabetes == 'pos'], \n",
    "                scores.class1 = probabilities_full[test_data$diabetes == 'neg'],\n",
    "                min.compute = T, \n",
    "                max.compute = T,\n",
    "                rand.compute = T,\n",
    "                curve = T\n",
    ")"
   ]
  },
  {
   "cell_type": "code",
   "execution_count": 50,
   "metadata": {
    "hidden": true
   },
   "outputs": [
    {
     "name": "stdout",
     "output_type": "stream",
     "text": [
      "\n",
      "  Precision-recall curve\n",
      "\n",
      "    Area under curve (Integral):\n",
      "     0.6497258 \n",
      "\n",
      "    Relative area under curve (Integral):\n",
      "     0.5690321 \n",
      "\n",
      "    Area under curve (Davis & Goadrich):\n",
      "     0.6477119 \n",
      "\n",
      "    Relative area under curves (Davis & Goadrich):\n",
      "     0.5665622 \n",
      "\n",
      "    Curve for scores from  0.007455057  to  0.9921034 \n",
      "    ( can be plotted with plot(x) )\n",
      "\n",
      "\n",
      "\n",
      "    Maximum AUC:\n",
      "     1   1 \n",
      "\n",
      "\n",
      "    Minimum AUC:\n",
      "     0.1872383   0.1872234 \n",
      "\n",
      "\n",
      "    AUC of a random classifier:\n",
      "     0.3305085   0.3305085 \n"
     ]
    }
   ],
   "source": [
    "#::GMG::See all the computed AUCs\n",
    "print(pr_curve_full)"
   ]
  },
  {
   "cell_type": "code",
   "execution_count": 52,
   "metadata": {
    "hidden": true
   },
   "outputs": [],
   "source": [
    "#::GMG::Fix figure size\n",
    "options(repr.plot.width = 8, repr.plot.height = 6)"
   ]
  },
  {
   "cell_type": "code",
   "execution_count": 53,
   "metadata": {
    "hidden": true
   },
   "outputs": [
    {
     "data": {
      "image/png": "[encoded data removed]",
      "text/plain": [
       "Plot with title “PR curve\n",
       "AUC = 0.6497258”"
      ]
     },
     "metadata": {},
     "output_type": "display_data"
    }
   ],
   "source": [
    "#::GMG::Plot the curve\n",
    "# https://cran.r-project.org/web/packages/PRROC/PRROC.pdf pp 3-4\n",
    "plot(pr_curve_full, \n",
    "     rand.plot = T,\n",
    "     fill.area = TRUE, \n",
    "     fill.color = rgb(0.8,1,0.8),\n",
    "     maxminrand.col = \"blue\"\n",
    ")"
   ]
  },
  {
   "cell_type": "code",
   "execution_count": 54,
   "metadata": {
    "hidden": true
   },
   "outputs": [],
   "source": [
    "pr_curve_simpler <- PRROC::pr.curve(\n",
    "                scores.class0 = probabilities_simpler[test_data$diabetes == 'pos'], \n",
    "                scores.class1 = probabilities_simpler[test_data$diabetes == 'neg'],\n",
    "                min.compute = T, \n",
    "                max.compute = T,\n",
    "                rand.compute = T,\n",
    "                curve = T\n",
    ")"
   ]
  },
  {
   "cell_type": "code",
   "execution_count": 55,
   "metadata": {
    "hidden": true
   },
   "outputs": [
    {
     "name": "stdout",
     "output_type": "stream",
     "text": [
      "\n",
      "  Precision-recall curve\n",
      "\n",
      "    Area under curve (Integral):\n",
      "     0.6749048 \n",
      "\n",
      "    Relative area under curve (Integral):\n",
      "     0.6000117 \n",
      "\n",
      "    Area under curve (Davis & Goadrich):\n",
      "     0.6746313 \n",
      "\n",
      "    Relative area under curves (Davis & Goadrich):\n",
      "     0.5996825 \n",
      "\n",
      "    Curve for scores from  0.00864713  to  0.9929608 \n",
      "    ( can be plotted with plot(x) )\n",
      "\n",
      "\n",
      "\n",
      "    Maximum AUC:\n",
      "     1   1 \n",
      "\n",
      "\n",
      "    Minimum AUC:\n",
      "     0.1872383   0.1872234 \n",
      "\n",
      "\n",
      "    AUC of a random classifier:\n",
      "     0.3305085   0.3305085 \n"
     ]
    }
   ],
   "source": [
    "#::GMG::See all the computed AUCs\n",
    "print(pr_curve_simpler)"
   ]
  },
  {
   "cell_type": "code",
   "execution_count": 56,
   "metadata": {
    "hidden": true
   },
   "outputs": [
    {
     "data": {
      "image/png": "[encoded data removed]",
      "text/plain": [
       "Plot with title “PR curve\n",
       "AUC = 0.6749048”"
      ]
     },
     "metadata": {},
     "output_type": "display_data"
    }
   ],
   "source": [
    "#::GMG::Plot the curve\n",
    "# https://cran.r-project.org/web/packages/PRROC/PRROC.pdf pp 3-4\n",
    "plot(pr_curve_simpler, \n",
    "     rand.plot = T,\n",
    "     fill.area = TRUE, \n",
    "     fill.color = rgb(0.8,1,0.8),\n",
    "     maxminrand.col = \"blue\"\n",
    ")"
   ]
  },
  {
   "cell_type": "markdown",
   "metadata": {
    "heading_collapsed": true,
    "hidden": true
   },
   "source": [
    "### binary classification"
   ]
  },
  {
   "cell_type": "code",
   "execution_count": 30,
   "metadata": {
    "hidden": true
   },
   "outputs": [
    {
     "name": "stdout",
     "output_type": "stream",
     "text": [
      " Factor w/ 2 levels \"neg\",\"pos\": 1 1 1 1 2 2 1 2 2 1 ...\n",
      " - attr(*, \"names\")= chr [1:118] \"7\" \"19\" \"26\" \"28\" ...\n"
     ]
    }
   ],
   "source": [
    "#::GMG::Make class predictions (from STHDA)\n",
    "#predicted_class_full <- ifelse(probabilities_full > 0.5, \"pos\", \"neg\")\n",
    "#::NOTE::I make the result a factor with levels that match the taget variable\n",
    "#::NOTE::This is claasificatin with the default cut-off ...\n",
    "predicted_class_full <- as.factor(ifelse(probabilities_full > 0.5, 2, 1))\n",
    "levels(predicted_class_full) <- c('neg', 'pos')\n",
    "str(predicted_class_full)"
   ]
  },
  {
   "cell_type": "code",
   "execution_count": 31,
   "metadata": {
    "hidden": true
   },
   "outputs": [
    {
     "data": {
      "text/html": [
       "<dl class=dl-horizontal>\n",
       "\t<dt>7</dt>\n",
       "\t\t<dd>neg</dd>\n",
       "\t<dt>19</dt>\n",
       "\t\t<dd>neg</dd>\n",
       "\t<dt>26</dt>\n",
       "\t\t<dd>neg</dd>\n",
       "\t<dt>28</dt>\n",
       "\t\t<dd>neg</dd>\n",
       "\t<dt>29</dt>\n",
       "\t\t<dd>pos</dd>\n",
       "\t<dt>41</dt>\n",
       "\t\t<dd>pos</dd>\n",
       "</dl>\n",
       "\n",
       "<details>\n",
       "\t<summary style=display:list-item;cursor:pointer>\n",
       "\t\t<strong>Levels</strong>:\n",
       "\t</summary>\n",
       "\t<ol class=list-inline>\n",
       "\t\t<li>'neg'</li>\n",
       "\t\t<li>'pos'</li>\n",
       "\t</ol>\n",
       "</details>"
      ],
      "text/latex": [
       "\\begin{description*}\n",
       "\\item[7] neg\n",
       "\\item[19] neg\n",
       "\\item[26] neg\n",
       "\\item[28] neg\n",
       "\\item[29] pos\n",
       "\\item[41] pos\n",
       "\\end{description*}\n",
       "\n",
       "\\emph{Levels}: \\begin{enumerate*}\n",
       "\\item 'neg'\n",
       "\\item 'pos'\n",
       "\\end{enumerate*}\n"
      ],
      "text/markdown": [
       "7\n",
       ":   neg19\n",
       ":   neg26\n",
       ":   neg28\n",
       ":   neg29\n",
       ":   pos41\n",
       ":   pos\n",
       "\n",
       "\n",
       "**Levels**: 1. 'neg'\n",
       "2. 'pos'\n",
       "\n",
       "\n"
      ],
      "text/plain": [
       "  7  19  26  28  29  41 \n",
       "neg neg neg neg pos pos \n",
       "Levels: neg pos"
      ]
     },
     "metadata": {},
     "output_type": "display_data"
    }
   ],
   "source": [
    "head(predicted_class_full)"
   ]
  },
  {
   "cell_type": "code",
   "execution_count": 34,
   "metadata": {
    "hidden": true
   },
   "outputs": [
    {
     "name": "stdout",
     "output_type": "stream",
     "text": [
      " Factor w/ 2 levels \"neg\",\"pos\": 1 1 1 1 2 2 1 2 2 1 ...\n",
      " - attr(*, \"names\")= chr [1:118] \"7\" \"19\" \"26\" \"28\" ...\n"
     ]
    }
   ],
   "source": [
    "# predicted_class_num <- ifelse(probabilities_full > 0.5, 1, 0)\n",
    "#::NOTE::I make the result a factor with levels that match the taget variable\n",
    "#predicted_class_simpler <- ifelse(probabilities_simpler > 0.5, \"pos\", \"neg\")\n",
    "predicted_class_simpler <- as.factor(ifelse(probabilities_simpler > 0.5, 2, 1))\n",
    "levels(predicted_class_simpler) <- c('neg', 'pos')\n",
    "str(predicted_class_simpler)"
   ]
  },
  {
   "cell_type": "code",
   "execution_count": 35,
   "metadata": {
    "hidden": true
   },
   "outputs": [
    {
     "data": {
      "text/html": [
       "<dl class=dl-horizontal>\n",
       "\t<dt>7</dt>\n",
       "\t\t<dd>neg</dd>\n",
       "\t<dt>19</dt>\n",
       "\t\t<dd>neg</dd>\n",
       "\t<dt>26</dt>\n",
       "\t\t<dd>neg</dd>\n",
       "\t<dt>28</dt>\n",
       "\t\t<dd>neg</dd>\n",
       "\t<dt>29</dt>\n",
       "\t\t<dd>pos</dd>\n",
       "\t<dt>41</dt>\n",
       "\t\t<dd>pos</dd>\n",
       "</dl>\n",
       "\n",
       "<details>\n",
       "\t<summary style=display:list-item;cursor:pointer>\n",
       "\t\t<strong>Levels</strong>:\n",
       "\t</summary>\n",
       "\t<ol class=list-inline>\n",
       "\t\t<li>'neg'</li>\n",
       "\t\t<li>'pos'</li>\n",
       "\t</ol>\n",
       "</details>"
      ],
      "text/latex": [
       "\\begin{description*}\n",
       "\\item[7] neg\n",
       "\\item[19] neg\n",
       "\\item[26] neg\n",
       "\\item[28] neg\n",
       "\\item[29] pos\n",
       "\\item[41] pos\n",
       "\\end{description*}\n",
       "\n",
       "\\emph{Levels}: \\begin{enumerate*}\n",
       "\\item 'neg'\n",
       "\\item 'pos'\n",
       "\\end{enumerate*}\n"
      ],
      "text/markdown": [
       "7\n",
       ":   neg19\n",
       ":   neg26\n",
       ":   neg28\n",
       ":   neg29\n",
       ":   pos41\n",
       ":   pos\n",
       "\n",
       "\n",
       "**Levels**: 1. 'neg'\n",
       "2. 'pos'\n",
       "\n",
       "\n"
      ],
      "text/plain": [
       "  7  19  26  28  29  41 \n",
       "neg neg neg neg pos pos \n",
       "Levels: neg pos"
      ]
     },
     "metadata": {},
     "output_type": "display_data"
    }
   ],
   "source": [
    "head(predicted_class_simpler)"
   ]
  },
  {
   "cell_type": "markdown",
   "metadata": {
    "heading_collapsed": true,
    "hidden": true
   },
   "source": [
    "### evaluation: confusion matrix and metrics"
   ]
  },
  {
   "cell_type": "code",
   "execution_count": 36,
   "metadata": {
    "hidden": true
   },
   "outputs": [
    {
     "name": "stdout",
     "output_type": "stream",
     "text": [
      " Factor w/ 2 levels \"neg\",\"pos\": 2 1 2 1 1 1 1 2 2 1 ...\n"
     ]
    }
   ],
   "source": [
    "#::GMG::'Raw' Model accuracy\n",
    "observed_classes <- test_data$diabetes\n",
    "str(observed_classes)"
   ]
  },
  {
   "cell_type": "code",
   "execution_count": 37,
   "metadata": {
    "hidden": true
   },
   "outputs": [
    {
     "data": {
      "text/html": [
       "<ol class=list-inline>\n",
       "\t<li>pos</li>\n",
       "\t<li>neg</li>\n",
       "\t<li>pos</li>\n",
       "\t<li>neg</li>\n",
       "\t<li>neg</li>\n",
       "\t<li>neg</li>\n",
       "</ol>\n",
       "\n",
       "<details>\n",
       "\t<summary style=display:list-item;cursor:pointer>\n",
       "\t\t<strong>Levels</strong>:\n",
       "\t</summary>\n",
       "\t<ol class=list-inline>\n",
       "\t\t<li>'neg'</li>\n",
       "\t\t<li>'pos'</li>\n",
       "\t</ol>\n",
       "</details>"
      ],
      "text/latex": [
       "\\begin{enumerate*}\n",
       "\\item pos\n",
       "\\item neg\n",
       "\\item pos\n",
       "\\item neg\n",
       "\\item neg\n",
       "\\item neg\n",
       "\\end{enumerate*}\n",
       "\n",
       "\\emph{Levels}: \\begin{enumerate*}\n",
       "\\item 'neg'\n",
       "\\item 'pos'\n",
       "\\end{enumerate*}\n"
      ],
      "text/markdown": [
       "1. pos\n",
       "2. neg\n",
       "3. pos\n",
       "4. neg\n",
       "5. neg\n",
       "6. neg\n",
       "\n",
       "\n",
       "\n",
       "**Levels**: 1. 'neg'\n",
       "2. 'pos'\n",
       "\n",
       "\n"
      ],
      "text/plain": [
       "[1] pos neg pos neg neg neg\n",
       "Levels: neg pos"
      ]
     },
     "metadata": {},
     "output_type": "display_data"
    }
   ],
   "source": [
    "head(observed_classes)"
   ]
  },
  {
   "cell_type": "code",
   "execution_count": 38,
   "metadata": {
    "hidden": true
   },
   "outputs": [
    {
     "name": "stdout",
     "output_type": "stream",
     "text": [
      "Accuracy Full Model:  0.7288136 \n",
      "Accuracy Simpler Model:  0.7457627"
     ]
    }
   ],
   "source": [
    "cat('Accuracy Full Model: ', \n",
    "    mean(predicted_class_full == observed_classes),\n",
    "   '\\nAccuracy Simpler Model: ', \n",
    "    mean(predicted_class_simpler == observed_classes))"
   ]
  },
  {
   "cell_type": "code",
   "execution_count": 39,
   "metadata": {
    "hidden": true
   },
   "outputs": [],
   "source": [
    "#::GMG::Confusion Matrix AND metrics\n",
    "# https://www.rdocumentation.org/packages/base/versions/3.6.1/topics/table\n",
    "# https://www.dataschool.io/simple-guide-to-confusion-matrix-terminology/\n",
    "# https://stackoverflow.com/questions/33621592/sum-of-antidiagonal-of-a-matrix\n",
    "# https://stackoverflow.com/questions/14577412/how-to-convert-variable-object-name-into-string\n",
    "confusion_matrix <- function (true, pred, beta = 1) {\n",
    "    t <- table(true, pred)\n",
    "    p <- t[2,2]/sum(t[,2])  #::NOTE::I assume 'positive class' is class2 (whatever it is)\n",
    "    r <- t[2,2]/sum(t[2,])  #::NOTE::I assume 'positive class' is class2 (whatever it is)\n",
    "    s <- t[1,1]/sum(t[1,])\n",
    "    list(cm = t,\n",
    "         accuracy = sum(diag(t))/sum(t), \n",
    "         precision = p,     #::NOTE::Precision of 'positive class'    \n",
    "         recall = r,        #::NOTE::it's also called sensitivity ('positive class again')\n",
    "         f1 = (1 + beta^2) * p * r/((beta^2 * p) + r),  #::NOTA::beta = 1 -> equal importance (class1, class2)\n",
    "         specificity = s,   #::NOTE::proportion of actual 'negative class' that are detected as such\n",
    "         balanced_accuracy = (r + s) / 2\n",
    "        )\n",
    "}"
   ]
  },
  {
   "cell_type": "code",
   "execution_count": 40,
   "metadata": {
    "hidden": true
   },
   "outputs": [
    {
     "name": "stdout",
     "output_type": "stream",
     "text": [
      "     pred\n",
      "true  neg pos\n",
      "  neg  63  16\n",
      "  pos  16  23\n"
     ]
    }
   ],
   "source": [
    "#::GMG::Confusion Matrix\n",
    "cf_full <- confusion_matrix(true = test_data$diabetes, pred = predicted_class_full)\n",
    "print(cf_full$cm)"
   ]
  },
  {
   "cell_type": "code",
   "execution_count": 41,
   "metadata": {
    "hidden": true
   },
   "outputs": [
    {
     "name": "stdout",
     "output_type": "stream",
     "text": [
      "     pred\n",
      "true  neg pos\n",
      "  neg  63  16\n",
      "  pos  14  25\n"
     ]
    }
   ],
   "source": [
    "#::GMG::Confusion Matrix of the 'simpler' model ... no difference!\n",
    "cf_simpler <- confusion_matrix(true = test_data$diabetes, pred = predicted_class_simpler)\n",
    "print(cf_simpler$cm)"
   ]
  },
  {
   "cell_type": "code",
   "execution_count": 42,
   "metadata": {
    "hidden": true
   },
   "outputs": [
    {
     "name": "stdout",
     "output_type": "stream",
     "text": [
      "              accuracy precision recall    f1 specificity balanced_accuracy\n",
      "full_model       0.729      0.59   0.59  0.59       0.797             0.694\n",
      "simpler_model    0.746      0.61  0.641 0.625       0.797             0.719\n"
     ]
    }
   ],
   "source": [
    "#::GMG:Pretty print the model metrics as a table/data frame/...\n",
    "# https://cran.r-project.org/web/packages/tibble/vignettes/tibble.html\n",
    "# tibble::tibble(metric = names(cf[-1]), pima_logit = cf[-1])\n",
    "# https://www.r-bloggers.com/converting-a-list-to-a-data-frame/\n",
    "#as.data.frame.list(x = cf[-1], row.names = c('pima_logit'))\n",
    "# https://stackoverflow.com/questions/32059798/list-of-named-lists-to-data-frame\n",
    "# https://stackoverflow.com/questions/10432993/named-list-to-from-data-frame\n",
    "# https://www.rdocumentation.org/packages/base/versions/3.6.1/topics/as.data.frame\n",
    "# https://www.rdocumentation.org/packages/base/versions/3.6.1/topics/names\n",
    "#::NOTE::sensitivity (pos class) is recall\n",
    "results <- as.data.frame(t(sapply(list(cf_full[-1], cf_simpler[-1]), rbind)),\n",
    "                         row.names = c('full_model', 'simpler_model')\n",
    ")\n",
    "colnames(results) <- names(cf_full[-1])\n",
    "# https://stackoverflow.com/questions/23217520/limiting-the-number-of-decimals-in-a-dataframe-r\n",
    "print(results, digits = 3)"
   ]
  },
  {
   "cell_type": "markdown",
   "metadata": {
    "hidden": true
   },
   "source": [
    "**::PENDING::** <span style=\"color:red\">Thresholding here here</span>"
   ]
  },
  {
   "cell_type": "markdown",
   "metadata": {},
   "source": [
    "## Model with Lasso (L1 regularization)"
   ]
  },
  {
   "cell_type": "code",
   "execution_count": 57,
   "metadata": {},
   "outputs": [
    {
     "data": {
      "text/html": [
       "<ol class=list-inline>\n",
       "\t<li>'cf_full'</li>\n",
       "\t<li>'cf_simpler'</li>\n",
       "\t<li>'confusion_matrix'</li>\n",
       "\t<li>'full_model'</li>\n",
       "\t<li>'msk'</li>\n",
       "\t<li>'observed_classes'</li>\n",
       "\t<li>'pima_clean'</li>\n",
       "\t<li>'PimaIndiansDiabetes2'</li>\n",
       "\t<li>'pr_curve_full'</li>\n",
       "\t<li>'pr_curve_simpler'</li>\n",
       "\t<li>'predicted_class_full'</li>\n",
       "\t<li>'predicted_class_simpler'</li>\n",
       "\t<li>'probabilities_full'</li>\n",
       "\t<li>'probabilities_simpler'</li>\n",
       "\t<li>'relevant.x'</li>\n",
       "\t<li>'results'</li>\n",
       "\t<li>'sig.formula'</li>\n",
       "\t<li>'simpler_model'</li>\n",
       "\t<li>'test_data'</li>\n",
       "\t<li>'toselect.x'</li>\n",
       "\t<li>'train_data'</li>\n",
       "\t<li>'using'</li>\n",
       "</ol>\n"
      ],
      "text/latex": [
       "\\begin{enumerate*}\n",
       "\\item 'cf\\_full'\n",
       "\\item 'cf\\_simpler'\n",
       "\\item 'confusion\\_matrix'\n",
       "\\item 'full\\_model'\n",
       "\\item 'msk'\n",
       "\\item 'observed\\_classes'\n",
       "\\item 'pima\\_clean'\n",
       "\\item 'PimaIndiansDiabetes2'\n",
       "\\item 'pr\\_curve\\_full'\n",
       "\\item 'pr\\_curve\\_simpler'\n",
       "\\item 'predicted\\_class\\_full'\n",
       "\\item 'predicted\\_class\\_simpler'\n",
       "\\item 'probabilities\\_full'\n",
       "\\item 'probabilities\\_simpler'\n",
       "\\item 'relevant.x'\n",
       "\\item 'results'\n",
       "\\item 'sig.formula'\n",
       "\\item 'simpler\\_model'\n",
       "\\item 'test\\_data'\n",
       "\\item 'toselect.x'\n",
       "\\item 'train\\_data'\n",
       "\\item 'using'\n",
       "\\end{enumerate*}\n"
      ],
      "text/markdown": [
       "1. 'cf_full'\n",
       "2. 'cf_simpler'\n",
       "3. 'confusion_matrix'\n",
       "4. 'full_model'\n",
       "5. 'msk'\n",
       "6. 'observed_classes'\n",
       "7. 'pima_clean'\n",
       "8. 'PimaIndiansDiabetes2'\n",
       "9. 'pr_curve_full'\n",
       "10. 'pr_curve_simpler'\n",
       "11. 'predicted_class_full'\n",
       "12. 'predicted_class_simpler'\n",
       "13. 'probabilities_full'\n",
       "14. 'probabilities_simpler'\n",
       "15. 'relevant.x'\n",
       "16. 'results'\n",
       "17. 'sig.formula'\n",
       "18. 'simpler_model'\n",
       "19. 'test_data'\n",
       "20. 'toselect.x'\n",
       "21. 'train_data'\n",
       "22. 'using'\n",
       "\n",
       "\n"
      ],
      "text/plain": [
       " [1] \"cf_full\"                 \"cf_simpler\"             \n",
       " [3] \"confusion_matrix\"        \"full_model\"             \n",
       " [5] \"msk\"                     \"observed_classes\"       \n",
       " [7] \"pima_clean\"              \"PimaIndiansDiabetes2\"   \n",
       " [9] \"pr_curve_full\"           \"pr_curve_simpler\"       \n",
       "[11] \"predicted_class_full\"    \"predicted_class_simpler\"\n",
       "[13] \"probabilities_full\"      \"probabilities_simpler\"  \n",
       "[15] \"relevant.x\"              \"results\"                \n",
       "[17] \"sig.formula\"             \"simpler_model\"          \n",
       "[19] \"test_data\"               \"toselect.x\"             \n",
       "[21] \"train_data\"              \"using\"                  "
      ]
     },
     "metadata": {},
     "output_type": "display_data"
    }
   ],
   "source": [
    "ls()"
   ]
  },
  {
   "cell_type": "markdown",
   "metadata": {
    "heading_collapsed": true
   },
   "source": [
    "### features/target split"
   ]
  },
  {
   "cell_type": "code",
   "execution_count": 58,
   "metadata": {
    "hidden": true
   },
   "outputs": [],
   "source": [
    "#::NOTE::The R function model.matrix() helps to create the matrix of predictors and also automatically \n",
    "#        converts categorical predictors to appropriate dummy variables, which is required for the glmnet() \n",
    "#        function.\n",
    "# https://www.rdocumentation.org/packages/stats/versions/3.6.1/topics/model.matrix\n",
    "# Dumy code categorical predictor variables\n",
    "X_train <- stats::model.matrix(diabetes~., train_data)[,-1]"
   ]
  },
  {
   "cell_type": "code",
   "execution_count": 59,
   "metadata": {
    "hidden": true
   },
   "outputs": [],
   "source": [
    "# Convert the outcome (class) to a numerical variable\n",
    "y_train <- ifelse(train_data$diabetes == \"pos\", 1, 0)"
   ]
  },
  {
   "cell_type": "code",
   "execution_count": 60,
   "metadata": {
    "hidden": true
   },
   "outputs": [
    {
     "name": "stdout",
     "output_type": "stream",
     "text": [
      " num [1:274, 1:8] 1 0 2 1 5 0 1 3 11 3 ...\n",
      " - attr(*, \"dimnames\")=List of 2\n",
      "  ..$ : chr [1:274] \"4\" \"5\" \"9\" \"14\" ...\n",
      "  ..$ : chr [1:8] \"pregnant\" \"glucose\" \"pressure\" \"triceps\" ...\n"
     ]
    }
   ],
   "source": [
    "#::NOTE::Check the results (a named 2D matrix of features)\n",
    "str(X_train)"
   ]
  },
  {
   "cell_type": "code",
   "execution_count": 61,
   "metadata": {
    "hidden": true,
    "scrolled": true
   },
   "outputs": [
    {
     "name": "stdout",
     "output_type": "stream",
     "text": [
      " num [1:274] 0 1 1 1 1 1 1 0 1 1 ...\n"
     ]
    }
   ],
   "source": [
    "#::NOTE::Check the results (a numeric 1/0 vector)\n",
    "str(y_train)"
   ]
  },
  {
   "cell_type": "code",
   "execution_count": 62,
   "metadata": {
    "hidden": true
   },
   "outputs": [],
   "source": [
    "#::GMG::Do the same with test, of course\n",
    "X_test <- model.matrix(diabetes ~., test_data)[,-1]"
   ]
  },
  {
   "cell_type": "code",
   "execution_count": 63,
   "metadata": {
    "hidden": true
   },
   "outputs": [
    {
     "name": "stdout",
     "output_type": "stream",
     "text": [
      " num [1:118, 1:8] 3 1 10 1 13 3 5 8 7 0 ...\n",
      " - attr(*, \"dimnames\")=List of 2\n",
      "  ..$ : chr [1:118] \"7\" \"19\" \"26\" \"28\" ...\n",
      "  ..$ : chr [1:8] \"pregnant\" \"glucose\" \"pressure\" \"triceps\" ...\n"
     ]
    }
   ],
   "source": [
    "str(X_test)"
   ]
  },
  {
   "cell_type": "code",
   "execution_count": 64,
   "metadata": {
    "hidden": true
   },
   "outputs": [],
   "source": [
    "y_test <- ifelse(test_data$diabetes == \"pos\", 1, 0)"
   ]
  },
  {
   "cell_type": "code",
   "execution_count": 65,
   "metadata": {
    "hidden": true
   },
   "outputs": [
    {
     "name": "stdout",
     "output_type": "stream",
     "text": [
      " num [1:118] 1 0 1 0 0 0 0 1 1 0 ...\n"
     ]
    }
   ],
   "source": [
    "str(y_test)"
   ]
  },
  {
   "cell_type": "markdown",
   "metadata": {
    "heading_collapsed": true
   },
   "source": [
    "### computing best lambda with cv"
   ]
  },
  {
   "cell_type": "code",
   "execution_count": 66,
   "metadata": {
    "hidden": true
   },
   "outputs": [],
   "source": [
    "#::GMG::Make it reproducible\n",
    "#::NOTE::Not sure if necessary but CV in involved ...\n",
    "set.seed(123) "
   ]
  },
  {
   "cell_type": "code",
   "execution_count": 67,
   "metadata": {
    "hidden": true
   },
   "outputs": [],
   "source": [
    "#::GMG::In penalized regression, you need to specify a constant lambda to adjust the amount of \n",
    "#       the coefficient shrinkage. The best lambda for your data, can be defined as the lambda \n",
    "#       that minimize the cross-validation prediction error rate. This can be determined automatically \n",
    "#       using the function cv.glmnet()\n",
    "# https://www.rdocumentation.org/packages/glmnet/versions/2.0-18/topics/cv.glmnet\n",
    "#::NOTE::compute lasso regression by specifying the option alpha = 1\n",
    "# Find the optimal value of lambda that minimizes the cross-validation error:\n",
    "cv_lasso <- glmnet::cv.glmnet(x = X_train, \n",
    "                              y = y_train, \n",
    "                              alpha = 1,\n",
    "                              type.measure = 'class', #::NOTE::misclassification error\n",
    "                              family = 'binomial')"
   ]
  },
  {
   "cell_type": "code",
   "execution_count": 68,
   "metadata": {
    "hidden": true
   },
   "outputs": [
    {
     "data": {
      "image/png": "[encoded data removed]",
      "text/plain": [
       "plot without title"
      ]
     },
     "metadata": {},
     "output_type": "display_data"
    }
   ],
   "source": [
    "#::GMG::See graphically the best lambda\n",
    "plot(cv_lasso)"
   ]
  },
  {
   "cell_type": "markdown",
   "metadata": {
    "hidden": true
   },
   "source": [
    "The plot displays the cross-validation *misclassification error* according to the log of lambda. The *left dashed vertical line* indicates that the log of the optimal value of lambda `lambda.min` is approximately -3, which is the one that minimizes the prediction error. This lambda value will give the most accurate model. The exact value of lambda can be viewed as follow:"
   ]
  },
  {
   "cell_type": "code",
   "execution_count": 69,
   "metadata": {
    "hidden": true
   },
   "outputs": [
    {
     "name": "stdout",
     "output_type": "stream",
     "text": [
      "Optimum lambda:  0.0660483"
     ]
    }
   ],
   "source": [
    "cat('Optimum lambda: ', cv_lasso$lambda.min)"
   ]
  },
  {
   "cell_type": "markdown",
   "metadata": {
    "hidden": true
   },
   "source": [
    "Generally, the purpose of regularization is to balance accuracy and simplicity. This means, a model with the smallest number of predictors that also gives a good accuracy. To this end, the function `cv.glmnet()` finds also the value of lambda that gives the simplest model but also lies within one standard error of the optimal value of lambda. This value is called `lambda.1se`."
   ]
  },
  {
   "cell_type": "code",
   "execution_count": 70,
   "metadata": {
    "hidden": true
   },
   "outputs": [
    {
     "name": "stdout",
     "output_type": "stream",
     "text": [
      "Simplest model within one sd of lambda optimum:  0.08731196"
     ]
    }
   ],
   "source": [
    "cat('Simplest model within one sd of lambda optimum: ', cv_lasso$lambda.1se)"
   ]
  },
  {
   "cell_type": "markdown",
   "metadata": {
    "heading_collapsed": true
   },
   "source": [
    "### shrinked coefficients"
   ]
  },
  {
   "cell_type": "markdown",
   "metadata": {
    "hidden": true
   },
   "source": [
    "Using lambda.min as the best lambda, gives the following regression coefficients:"
   ]
  },
  {
   "cell_type": "code",
   "execution_count": 71,
   "metadata": {
    "hidden": true
   },
   "outputs": [
    {
     "data": {
      "text/plain": [
       "9 x 1 sparse Matrix of class \"dgCMatrix\"\n",
       "                      1\n",
       "(Intercept) -6.01175423\n",
       "pregnant     .         \n",
       "glucose      0.02358263\n",
       "pressure     .         \n",
       "triceps      .         \n",
       "insulin      .         \n",
       "mass         0.02949961\n",
       "pedigree     0.04111407\n",
       "age          0.04315104"
      ]
     },
     "metadata": {},
     "output_type": "display_data"
    }
   ],
   "source": [
    "# https://www.rdocumentation.org/packages/stats/versions/3.6.1/topics/coef (?)\n",
    "stats::coef(cv_lasso, cv_lasso$lambda.min)"
   ]
  },
  {
   "cell_type": "code",
   "execution_count": 72,
   "metadata": {
    "hidden": true
   },
   "outputs": [
    {
     "data": {
      "text/plain": [
       "9 x 1 sparse Matrix of class \"dgCMatrix\"\n",
       "                      1\n",
       "(Intercept) -6.01175423\n",
       "pregnant     .         \n",
       "glucose      0.02358263\n",
       "pressure     .         \n",
       "triceps      .         \n",
       "insulin      .         \n",
       "mass         0.02949961\n",
       "pedigree     0.04111407\n",
       "age          0.04315104"
      ]
     },
     "metadata": {},
     "output_type": "display_data"
    }
   ],
   "source": [
    "#::NOTE:the \"native\" glmnet packaage coef() (same result)\n",
    "glmnet::coef.cv.glmnet(cv_lasso, cv_lasso$lambda.min)"
   ]
  },
  {
   "cell_type": "markdown",
   "metadata": {
    "hidden": true
   },
   "source": [
    "Using `lambda.1se` as the best lambda, gives the following regression coefficients:"
   ]
  },
  {
   "cell_type": "code",
   "execution_count": 73,
   "metadata": {
    "hidden": true
   },
   "outputs": [
    {
     "data": {
      "text/plain": [
       "9 x 1 sparse Matrix of class \"dgCMatrix\"\n",
       "                      1\n",
       "(Intercept) -4.85014301\n",
       "pregnant     .         \n",
       "glucose      0.02070629\n",
       "pressure     .         \n",
       "triceps      .         \n",
       "insulin      .         \n",
       "mass         0.01526296\n",
       "pedigree     .         \n",
       "age          0.03382121"
      ]
     },
     "metadata": {},
     "output_type": "display_data"
    }
   ],
   "source": [
    "coef(cv_lasso, cv_lasso$lambda.1se)"
   ]
  },
  {
   "cell_type": "code",
   "execution_count": 74,
   "metadata": {
    "hidden": true
   },
   "outputs": [
    {
     "data": {
      "image/png": "[encoded data removed]",
      "text/plain": [
       "plot without title"
      ]
     },
     "metadata": {},
     "output_type": "display_data"
    }
   ],
   "source": [
    "#::GMG::Plot the shrinkage of the coefficients\n",
    "# https://stackoverflow.com/questions/36656752/plotting-cv-glmnet-in-r~\n",
    "#::NOTE::How do I put the feature names on that plot?\n",
    "# https://stats.stackexchange.com/questions/133873/lasso-plot-label-lines-with-names-using-glmnet\n",
    "# https://www.rdocumentation.org/packages/glmnet/versions/2.0-18/topics/plot.glmnet\n",
    "plot(cv_lasso$glmnet.fit, \"lambda\", label = TRUE)"
   ]
  },
  {
   "cell_type": "markdown",
   "metadata": {
    "hidden": true
   },
   "source": [
    "**::PENDING::** <span style=\"color:red\">Discussion here</span>"
   ]
  },
  {
   "cell_type": "markdown",
   "metadata": {},
   "source": [
    "### better coeff shrinkage plot"
   ]
  },
  {
   "cell_type": "code",
   "execution_count": null,
   "metadata": {},
   "outputs": [],
   "source": [
    "#::GMG::Adhoc function intermediate fix\n",
    "#::NOTE::Adapted from\n",
    "# https://stackoverflow.com/a/43327018\n",
    "lbs_fun <- function(lra, ...) {\n",
    "  fit <- lra$glmnet.fit\n",
    "\n",
    "  L=which(fit$lambda==lra$lambda.min)\n",
    "\n",
    "  ystart <- sort(fit$beta[abs(fit$beta[,L])>0,L])\n",
    "  labs <- names(ystart)\n",
    "  #::NOTE:: max gap between biggest and smallest coefs at smallest lambda\n",
    "  #         i.e., 64th (more than that yields an error ... given 100th lambda\n",
    "  #         in original!)\n",
    "  r <- range(fit$beta[,64]) \n",
    "  yfin <- seq(r[1],r[2],length=length(ystart))\n",
    "\n",
    "  xstart<- log(lra$lambda.min)\n",
    "  xfin <- xstart+1\n",
    "\n",
    "  text(xfin+0.3,yfin,labels=labs,...)\n",
    "  segments(xstart,ystart,xfin,yfin)\n",
    "  # https://www.r-bloggers.com/r-add-vertical-line-to-a-plot/\n",
    "  # https://www.statmethods.net/advgraphs/parameters.html\n",
    "  abline(v = log(lra$lambda.min), col = 'darkgreen', lty = 3, lwd = 2) \n",
    "  text(log(lra$lambda.min) - 1, r[2], col = 'darkgreen', 'chosen lambda')\n",
    "  segments(log(lra$lambda.min), r[2] - 0.3 , log(lra$lambda.min) - 1, r[2], col = 'darkgreen')\n",
    "}"
   ]
  },
  {
   "cell_type": "code",
   "execution_count": null,
   "metadata": {},
   "outputs": [],
   "source": [
    "#::GMG::Let's what it looks like ...\n",
    "options(repr.plot.width = 8, repr.plot.height = 6)\n",
    "plot(cv_lasso$glmnet.fit, label=FALSE, xvar=\"lambda\")\n",
    "lbs_fun(cv_lasso)"
   ]
  },
  {
   "cell_type": "markdown",
   "metadata": {
    "heading_collapsed": true
   },
   "source": [
    "### better coeff shrinkage plot with plotmo"
   ]
  },
  {
   "cell_type": "code",
   "execution_count": null,
   "metadata": {
    "hidden": true
   },
   "outputs": [],
   "source": [
    "#::GMG::It's weird with those numeric labels (plot.glmnet)ç\n",
    "#::NOTE::It seems there's an alternative with adhoc plotmo package\n",
    "# https://stackoverflow.com/questions/30560689/adding-labels-on-curves-in-glmnet-plot-in-r\n",
    "# https://stats.stackexchange.com/questions/133873/lasso-plot-label-lines-with-names-using-glmnet\n",
    "# https://cran.r-project.org/web/packages/plotmo/plotmo.pdf#page=17\n",
    "# plot_glmnet: Plot a glmnet model (Plot the coefficient paths of a glmnet model.)\n",
    "# http://www.milbo.org/doc/plotres-notes.pdf#page=7\n",
    "options(repr.plot.width = 8, repr.plot.height = 6)\n",
    "plotmo::plot_glmnet(x = cv_lasso$glmnet.fit, xvar = 'lambda', label = TRUE)"
   ]
  },
  {
   "cell_type": "markdown",
   "metadata": {
    "heading_collapsed": true
   },
   "source": [
    "### model"
   ]
  },
  {
   "cell_type": "markdown",
   "metadata": {
    "hidden": true
   },
   "source": [
    "**::GMG::** In STHDA a new model is trained with the best lambdas found out with the CV approach. Is it really necessary to do that? Does not `cv.glmnet()` already have provided such a model?"
   ]
  },
  {
   "cell_type": "code",
   "execution_count": null,
   "metadata": {
    "hidden": true
   },
   "outputs": [],
   "source": [
    "#::GMG::Cross-validated model with ... lambda.min or lambda.1se?\n",
    "# https://www.rdocumentation.org/packages/glmnet/versions/2.0-18/topics/cv.glmnet\n",
    "# https://cran.r-project.org/web/packages/glmnet/glmnet.pdf pp. 6, \n",
    "# glmnet.fit: a fitted glmnet object for the full data.\n",
    "str(cv_lasso$glmnet.fit)"
   ]
  },
  {
   "cell_type": "code",
   "execution_count": null,
   "metadata": {
    "hidden": true
   },
   "outputs": [],
   "source": [
    "#::GMG::Let's see the regression coefficients\n",
    "coef(cv_lasso)"
   ]
  },
  {
   "cell_type": "code",
   "execution_count": null,
   "metadata": {
    "hidden": true
   },
   "outputs": [],
   "source": [
    "#::GMG:: (STHDA) Fit the final model on the training data and lambda.min\n",
    "model_lambda_min <- glmnet(\n",
    "    X_train, \n",
    "    y_train, \n",
    "    alpha = 1,                     #::NOTE:: L1 LASSO regularization\n",
    "    family = \"binomial\",\n",
    "    lambda = cv_lasso$lambda.min   #::NOTE::Lambda min for L1\n",
    ")"
   ]
  },
  {
   "cell_type": "code",
   "execution_count": null,
   "metadata": {
    "hidden": true
   },
   "outputs": [],
   "source": [
    "# Display regression coefficients\n",
    "coef(model_lambda_min)"
   ]
  },
  {
   "cell_type": "code",
   "execution_count": null,
   "metadata": {
    "hidden": true
   },
   "outputs": [],
   "source": [
    "#::GMG::Final model with lambda.1se (this is the only way to get it this time)\n",
    "model_lambda_1se <- glmnet(\n",
    "    X_train, \n",
    "    y_train, \n",
    "    alpha = 1, \n",
    "    family = \"binomial\",\n",
    "    lambda = cv_lasso$lambda.1se\n",
    ")"
   ]
  },
  {
   "cell_type": "code",
   "execution_count": null,
   "metadata": {
    "hidden": true
   },
   "outputs": [],
   "source": [
    "# Display regression coefficients\n",
    "coef(model_lambda_1se)"
   ]
  },
  {
   "cell_type": "markdown",
   "metadata": {
    "hidden": true
   },
   "source": [
    "**::GMG::** Looking at the `coef()` from `cv_lasso` and `model_lambda_1se` I conclude that the model returned as value (`cv_lasso$glmnet.fit` reported in the documentation) is the simpler regularized L1 model indeed! "
   ]
  },
  {
   "cell_type": "markdown",
   "metadata": {
    "heading_collapsed": true
   },
   "source": [
    "### predict"
   ]
  },
  {
   "cell_type": "code",
   "execution_count": null,
   "metadata": {
    "hidden": true
   },
   "outputs": [],
   "source": [
    "#::GMG::Make predictions on the test data using the new trained model (STHDA)\n",
    "probabilities_lambda_min <- predict(model_lambda_min, newx = X_test)\n",
    "predicted_classes_lambda_min <- ifelse(probabilities_lambda_min > 0.5, \"pos\", \"neg\")\n",
    "#::NOTE::For the P/R Curve function\n",
    "predicted_classes_lambda_min_num <- ifelse(probabilities_lambda_min > 0.5, 1, 0)"
   ]
  },
  {
   "cell_type": "code",
   "execution_count": null,
   "metadata": {
    "hidden": true
   },
   "outputs": [],
   "source": [
    "#::GMG::Make prediction on test data on the test data using the lambda 1se model\n",
    "probabilities_1se <- predict(model_lambda_1se, newx = X_test)\n",
    "predicted_classes_1se <- ifelse(probabilities_1se > 0.5, \"pos\", \"neg\")\n",
    "predicted_classes_1se_num <- ifelse(probabilities_1se > 0.5, 1, 0)"
   ]
  },
  {
   "cell_type": "code",
   "execution_count": null,
   "metadata": {
    "hidden": true
   },
   "outputs": [],
   "source": [
    "#::GMG::Predict using the cross-validated model\n",
    "# https://cran.r-project.org/web/packages/glmnet/glmnet.pdf pp. 18\n",
    "# https://www.rdocumentation.org/packages/glmnet/versions/2.0-18/topics/predict.cv.glmnet\n",
    "# This function makes predictions from a cross-validated glmnet model, using the stored \"glmnet.fit\" object, \n",
    "# and the optimal value chosen for lambda.\n",
    "#::NOTE::So as long as I don't want the simpler model with lambda.1se I can predict with this!\n",
    "probabilities_cv_lasso <- predict(cv_lasso, newx = X_test)\n",
    "predicted_classes_cv_lasso <- ifelse(probabilities_cv_lasso > 0.5, \"pos\", \"neg\")\n",
    "#::NOTE::For the P/R Curve function\n",
    "predicted_classes_cv_lasso_num <- ifelse(probabilities_cv_lasso > 0.5, 1, 0)"
   ]
  },
  {
   "cell_type": "code",
   "execution_count": null,
   "metadata": {
    "hidden": true
   },
   "outputs": [],
   "source": [
    "probabilities_lambda_min"
   ]
  },
  {
   "cell_type": "markdown",
   "metadata": {
    "heading_collapsed": true
   },
   "source": [
    "### evaluation: confusion matrix and metrics"
   ]
  },
  {
   "cell_type": "code",
   "execution_count": null,
   "metadata": {
    "hidden": true
   },
   "outputs": [],
   "source": [
    "#::GMG::'Raw' Model accuracy\n",
    "#::NOTE::observed_classes <- test_data$diabetes\n",
    "cat('Accuracy L1 Lambda Min Model: ', \n",
    "    mean(predicted_classes_lambda_min == observed_classes),\n",
    "   '\\nAccuracy L1 Lambda 1se (Simpler) Model: ', \n",
    "    mean(predicted_classes_1se == observed_classes),\n",
    "   '\\nAccuracy CV Lasso Model: ', \n",
    "    mean(predicted_classes_cv_lasso == observed_classes)\n",
    ")"
   ]
  },
  {
   "cell_type": "code",
   "execution_count": null,
   "metadata": {
    "hidden": true
   },
   "outputs": [],
   "source": [
    "#::GMG::Confusion Matrix\n",
    "cf_lambda_min <- confusion_matrix(true = test_data$diabetes, pred = predicted_classes_lambda_min)\n",
    "#cf_lambda_min <- MLmetrics::ConfusionMatrix(y_true = test_data$diabetes, \n",
    "#                                            y_pred = predicted_classes_lambda_min)\n",
    "#print(cf_lambda_min)\n",
    "print(cf_lambda_min$cm)"
   ]
  },
  {
   "cell_type": "code",
   "execution_count": null,
   "metadata": {
    "hidden": true
   },
   "outputs": [],
   "source": [
    "#::GMG::Confusion Matrix\n",
    "cf_lambda_1se <- confusion_matrix(true = test_data$diabetes, pred = predicted_classes_1se)\n",
    "print(cf_lambda_1se$cm)"
   ]
  },
  {
   "cell_type": "code",
   "execution_count": null,
   "metadata": {
    "hidden": true
   },
   "outputs": [],
   "source": [
    "#::GMG::Confusion Matrix\n",
    "cf_cv_lasso <- confusion_matrix(true = test_data$diabetes, pred = predicted_classes_cv_lasso)\n",
    "print(cf_cv_lasso$cm)"
   ]
  },
  {
   "cell_type": "code",
   "execution_count": null,
   "metadata": {
    "hidden": true
   },
   "outputs": [],
   "source": [
    "#::GMG::Metrics\n",
    "# https://stackoverflow.com/questions/3443687/formatting-decimal-places-in-r\n",
    "cat(sep='', \"Accuracy: \", format(round(cf_full$accuracy, 2), nsmall = 2), \n",
    "    \", Balanced Accuracy \", format(round(cf_full$balanced_accuracy, 2), nsmall = 2))"
   ]
  },
  {
   "cell_type": "code",
   "execution_count": null,
   "metadata": {
    "hidden": true
   },
   "outputs": [],
   "source": [
    "cat(sep = '', \"Precision: \", format(round(cf_full$precision, 2), nsmall = 2), \n",
    "    \", Recall: \", format(round(cf_full$recall, 2), nsmall = 2),\n",
    "    \", Fl: \", format(round(cf_full$f1, 2), nsmall = 2)\n",
    "   )"
   ]
  },
  {
   "cell_type": "code",
   "execution_count": null,
   "metadata": {
    "hidden": true
   },
   "outputs": [],
   "source": [
    "cat(sep='', \"Specificity: \", format(round(cf_full$specificity, 2), nsmall = 2), \n",
    "    \", Sensitivity \", format(round(cf_full$recall, 2), nsmall = 2))"
   ]
  },
  {
   "cell_type": "code",
   "execution_count": null,
   "metadata": {
    "hidden": true
   },
   "outputs": [],
   "source": [
    "#::GMG::Confusion Matrix of the 'simpler' model ... no difference!\n",
    "cf_simpler <- confusion_matrix(true = test_data$diabetes, pred = predicted_class_simpler)\n",
    "print(cf_simpler$cm)"
   ]
  },
  {
   "cell_type": "markdown",
   "metadata": {
    "heading_collapsed": true
   },
   "source": [
    "### evaluation: P/R Curve"
   ]
  },
  {
   "cell_type": "code",
   "execution_count": null,
   "metadata": {
    "hidden": true
   },
   "outputs": [],
   "source": [
    "#::GMG::Compute the curve\n",
    "# https://cran.r-project.org/web/packages/PRROC/PRROC.pdf pp. 7\n",
    "# Soft-labeled classification problems:\n",
    "# Each data point belongs to both of the two classes with a certain probability, where for each datapoint, these \n",
    "# two probabilities add up to 1.  In this case, the classification scores for all data points need to be provided \n",
    "# only once as scores.class0 and only the positive/foreground weights for each data point need to be provided in\n",
    "# weights.class0, while the converse probability for the negative class is automatically set to \n",
    "# weights.class1 = 1.0 - weights.class0.\n",
    "pr_curve_full <- PRROC::pr.curve(\n",
    "                scores.class0 = predicted_class_num, \n",
    "                weights.class0 = probabilities_full,\n",
    "                min.compute = T, \n",
    "                max.compute = T,\n",
    "                rand.compute = T,\n",
    "                curve = T\n",
    ")"
   ]
  },
  {
   "cell_type": "code",
   "execution_count": null,
   "metadata": {
    "hidden": true
   },
   "outputs": [],
   "source": [
    "#::GMG::See all things within the pr_1 object\n",
    "print(pr_curve_full)"
   ]
  },
  {
   "cell_type": "code",
   "execution_count": null,
   "metadata": {
    "hidden": true
   },
   "outputs": [],
   "source": [
    "#::GMG::Plot the curve\n",
    "# https://cran.r-project.org/web/packages/PRROC/PRROC.pdf pp 3-4\n",
    "options(repr.plot.width = 8, repr.plot.height = 6)\n",
    "plot(pr_curve_full, rand.plot = T)"
   ]
  },
  {
   "cell_type": "markdown",
   "metadata": {
    "hidden": true
   },
   "source": [
    "**::PENDING::** <span style=\"color:red\">Discussion here</span>\n",
    "\n",
    "**::NOTE::** Is this right?"
   ]
  },
  {
   "cell_type": "code",
   "execution_count": null,
   "metadata": {
    "hidden": true
   },
   "outputs": [],
   "source": [
    "ls()"
   ]
  }
 ],
 "metadata": {
  "kernelspec": {
   "display_name": "R",
   "language": "R",
   "name": "ir"
  },
  "language_info": {
   "codemirror_mode": "r",
   "file_extension": ".r",
   "mimetype": "text/x-r-source",
   "name": "R",
   "pygments_lexer": "r",
   "version": "3.6.0"
  }
 },
 "nbformat": 4,
 "nbformat_minor": 2
}
