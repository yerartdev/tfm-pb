{
 "cells": [
  {
   "cell_type": "markdown",
   "metadata": {},
   "source": [
    "# Gerardo de Miguel González"
   ]
  },
  {
   "cell_type": "markdown",
   "metadata": {},
   "source": [
    "# Binary Classification Proof of Concept"
   ]
  },
  {
   "cell_type": "markdown",
   "metadata": {
    "heading_collapsed": true
   },
   "source": [
    "## Libraries"
   ]
  },
  {
   "cell_type": "markdown",
   "metadata": {
    "heading_collapsed": true,
    "hidden": true
   },
   "source": [
    "### general"
   ]
  },
  {
   "cell_type": "code",
   "execution_count": 1,
   "metadata": {
    "hidden": true
   },
   "outputs": [],
   "source": [
    "import pandas as pd\n",
    "import numpy as np"
   ]
  },
  {
   "cell_type": "code",
   "execution_count": 2,
   "metadata": {
    "hidden": true
   },
   "outputs": [],
   "source": [
    "#::GMG::seaborn: statistical data visualization for a heatmap of pandas.corr()\n",
    "#::NOTE::There's a lot of fuss for 'heatmapping' with matplotlib only\n",
    "# https://matplotlib.org/3.1.0/gallery/images_contours_and_fields/image_annotated_heatmap.html\n",
    "%matplotlib inline\n",
    "import matplotlib.pyplot as plt\n",
    "import seaborn as sns"
   ]
  },
  {
   "cell_type": "code",
   "execution_count": 3,
   "metadata": {
    "hidden": true
   },
   "outputs": [],
   "source": [
    "#::GMG::Helpers\n",
    "# https://stackabuse.com/how-to-format-dates-in-python/\n",
    "import datetime"
   ]
  },
  {
   "cell_type": "markdown",
   "metadata": {
    "heading_collapsed": true,
    "hidden": true
   },
   "source": [
    "### training and testing"
   ]
  },
  {
   "cell_type": "code",
   "execution_count": 4,
   "metadata": {
    "hidden": true
   },
   "outputs": [],
   "source": [
    "#::GMG::Split train and test: Provides a high-variance estimate of out-of-sample accuracy\n",
    "# It is a general practice to avoid training and testing on the same data.\n",
    "# https://scikit-learn.org/stable/modules/classes.html#module-sklearn.model_selection\n",
    "from sklearn.model_selection import train_test_split"
   ]
  },
  {
   "cell_type": "code",
   "execution_count": 5,
   "metadata": {
    "hidden": true
   },
   "outputs": [],
   "source": [
    "#::GMG::k-fold split and CV score\n",
    "# https://scikit-learn.org/stable/modules/cross_validation.html\n",
    "# https://scikit-learn.org/stable/modules/generated/sklearn.model_selection.KFold.html\n",
    "# https://scikit-learn.org/stable/modules/generated/sklearn.model_selection.cross_val_score.html\n",
    "# https://scikit-learn.org/stable/modules/generated/sklearn.model_selection.cross_validate.html\n",
    "from sklearn.model_selection import KFold, cross_val_score, cross_validate"
   ]
  },
  {
   "cell_type": "code",
   "execution_count": 6,
   "metadata": {
    "hidden": true
   },
   "outputs": [],
   "source": [
    "#::GMG::Hyperparameter model optimization strategy\n",
    "from sklearn.model_selection import GridSearchCV, StratifiedKFold"
   ]
  },
  {
   "cell_type": "markdown",
   "metadata": {
    "heading_collapsed": true,
    "hidden": true
   },
   "source": [
    "### model"
   ]
  },
  {
   "cell_type": "code",
   "execution_count": 7,
   "metadata": {
    "hidden": true
   },
   "outputs": [],
   "source": [
    "#::GMG::Logistic Regression (aka logit) for classification\n",
    "# https://scikit-learn.org/stable/modules/generated/sklearn.linear_model.LogisticRegression.html\n",
    "from sklearn.linear_model import LogisticRegression"
   ]
  },
  {
   "cell_type": "markdown",
   "metadata": {
    "heading_collapsed": true,
    "hidden": true
   },
   "source": [
    "### persistence"
   ]
  },
  {
   "cell_type": "code",
   "execution_count": 8,
   "metadata": {
    "hidden": true
   },
   "outputs": [],
   "source": [
    "#::GMG::Persistence of the models\n",
    "# https://docs.python.org/3.6/library/pickle.html\n",
    "# https://scikit-learn.org/stable/modules/model_persistence.html\n",
    "# https://machinelearningmastery.com/save-load-machine-learning-models-python-scikit-learn/\n",
    "import pickle as pk"
   ]
  },
  {
   "cell_type": "markdown",
   "metadata": {
    "heading_collapsed": true,
    "hidden": true
   },
   "source": [
    "### metrics"
   ]
  },
  {
   "cell_type": "code",
   "execution_count": 9,
   "metadata": {
    "hidden": true
   },
   "outputs": [],
   "source": [
    "#::GMG::Accuracy and Balanced Accuracy for taking into account the dataset (im)balance\n",
    "# https://scikit-learn.org/stable/modules/model_evaluation.html#balanced-accuracy-score\n",
    "# https://scikit-learn.org/stable/modules/generated/sklearn.metrics.balanced_accuracy_score.html#sklearn.metrics.balanced_accuracy_score\n",
    "from sklearn.metrics import accuracy_score, balanced_accuracy_score"
   ]
  },
  {
   "cell_type": "code",
   "execution_count": 10,
   "metadata": {
    "hidden": true
   },
   "outputs": [],
   "source": [
    "#::GMG::ROC/AUC\n",
    "# https://en.wikipedia.org/wiki/Receiver_operating_characteristic\n",
    "# https://scikit-learn.org/stable/modules/generated/sklearn.metrics.roc_curve.html\n",
    "# https://scikit-learn.org/stable/modules/generated/sklearn.metrics.roc_auc_score.html\n",
    "# https://scikit-learn.org/stable/modules/generated/sklearn.metrics.precision_recall_curve.html\n",
    "# https://scikit-learn.org/stable/modules/generated/sklearn.metrics.auc.html\n",
    "# https://scikit-learn.org/stable/modules/generated/sklearn.metrics.average_precision_score.html\n",
    "from sklearn.metrics import roc_curve, roc_auc_score \n",
    "from sklearn.metrics import precision_recall_curve, auc, average_precision_score"
   ]
  },
  {
   "cell_type": "code",
   "execution_count": 11,
   "metadata": {
    "hidden": true
   },
   "outputs": [],
   "source": [
    "#::GMG::More metrics\n",
    "# https://scikit-learn.org/stable/modules/generated/sklearn.metrics.precision_score.html\n",
    "# https://scikit-learn.org/stable/modules/generated/sklearn.metrics.recall_score.html\n",
    "# https://scikit-learn.org/stable/modules/generated/sklearn.metrics.f1_score.html\n",
    "from sklearn.metrics import precision_score, recall_score, f1_score"
   ]
  },
  {
   "cell_type": "code",
   "execution_count": 12,
   "metadata": {
    "hidden": true
   },
   "outputs": [],
   "source": [
    "#::GMG::NOTE::one report for all metrics and confusion matrix\n",
    "# https://scikit-learn.org/stable/modules/generated/sklearn.metrics.confusion_matrix.html\n",
    "# https://scikit-learn.org/stable/modules/model_evaluation.html#classification-report\n",
    "# https://scikit-learn.org/stable/modules/generated/sklearn.metrics.classification_report.html\n",
    "from sklearn.metrics import confusion_matrix\n",
    "from sklearn.metrics import classification_report"
   ]
  },
  {
   "cell_type": "markdown",
   "metadata": {
    "heading_collapsed": true
   },
   "source": [
    "## Dataset"
   ]
  },
  {
   "cell_type": "markdown",
   "metadata": {
    "heading_collapsed": true,
    "hidden": true
   },
   "source": [
    "### load"
   ]
  },
  {
   "cell_type": "markdown",
   "metadata": {
    "hidden": true
   },
   "source": [
    "**::GMG::** You may [download the data from kaggle](https://www.kaggle.com/uciml/pima-indians-diabetes-database/downloads/pima-indians-diabetes-database.zip/1) in zipped csv format (which *includes a header* with the column names by the way) using [the reference provided](https://www.kaggle.com/uciml/pima-indians-diabetes-database) in the Datacamp article *if you have an account in kaggle*. I haven't checked it but you should be able [to use the kaggle API](https://medium.com/@yvettewu.dw/tutorial-kaggle-api-google-colaboratory-1a054a382de0) to automate the download from code *with an API key* created with your account. "
   ]
  },
  {
   "cell_type": "markdown",
   "metadata": {
    "hidden": true
   },
   "source": [
    "**::GMG::** I've already downloaded the csv dataset *manually from kaggle* (with my account  and placed it in a data folder."
   ]
  },
  {
   "cell_type": "code",
   "execution_count": 13,
   "metadata": {
    "hidden": true
   },
   "outputs": [
    {
     "name": "stdout",
     "output_type": "stream",
     "text": [
      "pima-indians-diabetes.csv\r\n"
     ]
    }
   ],
   "source": [
    "!ls data"
   ]
  },
  {
   "cell_type": "code",
   "execution_count": 14,
   "metadata": {
    "hidden": true
   },
   "outputs": [],
   "source": [
    "#::GMG::Dataframe\n",
    "data = pd.read_csv(\"data/pima-indians-diabetes.csv\")"
   ]
  },
  {
   "cell_type": "code",
   "execution_count": 15,
   "metadata": {
    "hidden": true
   },
   "outputs": [
    {
     "data": {
      "text/html": [
       "<div>\n",
       "<style scoped>\n",
       "    .dataframe tbody tr th:only-of-type {\n",
       "        vertical-align: middle;\n",
       "    }\n",
       "\n",
       "    .dataframe tbody tr th {\n",
       "        vertical-align: top;\n",
       "    }\n",
       "\n",
       "    .dataframe thead th {\n",
       "        text-align: right;\n",
       "    }\n",
       "</style>\n",
       "<table border=\"1\" class=\"dataframe\">\n",
       "  <thead>\n",
       "    <tr style=\"text-align: right;\">\n",
       "      <th></th>\n",
       "      <th>Pregnancies</th>\n",
       "      <th>Glucose</th>\n",
       "      <th>BloodPressure</th>\n",
       "      <th>SkinThickness</th>\n",
       "      <th>Insulin</th>\n",
       "      <th>BMI</th>\n",
       "      <th>DiabetesPedigreeFunction</th>\n",
       "      <th>Age</th>\n",
       "      <th>Outcome</th>\n",
       "    </tr>\n",
       "  </thead>\n",
       "  <tbody>\n",
       "    <tr>\n",
       "      <th>763</th>\n",
       "      <td>10</td>\n",
       "      <td>101</td>\n",
       "      <td>76</td>\n",
       "      <td>48</td>\n",
       "      <td>180</td>\n",
       "      <td>32.9</td>\n",
       "      <td>0.171</td>\n",
       "      <td>63</td>\n",
       "      <td>0</td>\n",
       "    </tr>\n",
       "    <tr>\n",
       "      <th>764</th>\n",
       "      <td>2</td>\n",
       "      <td>122</td>\n",
       "      <td>70</td>\n",
       "      <td>27</td>\n",
       "      <td>0</td>\n",
       "      <td>36.8</td>\n",
       "      <td>0.340</td>\n",
       "      <td>27</td>\n",
       "      <td>0</td>\n",
       "    </tr>\n",
       "    <tr>\n",
       "      <th>765</th>\n",
       "      <td>5</td>\n",
       "      <td>121</td>\n",
       "      <td>72</td>\n",
       "      <td>23</td>\n",
       "      <td>112</td>\n",
       "      <td>26.2</td>\n",
       "      <td>0.245</td>\n",
       "      <td>30</td>\n",
       "      <td>0</td>\n",
       "    </tr>\n",
       "    <tr>\n",
       "      <th>766</th>\n",
       "      <td>1</td>\n",
       "      <td>126</td>\n",
       "      <td>60</td>\n",
       "      <td>0</td>\n",
       "      <td>0</td>\n",
       "      <td>30.1</td>\n",
       "      <td>0.349</td>\n",
       "      <td>47</td>\n",
       "      <td>1</td>\n",
       "    </tr>\n",
       "    <tr>\n",
       "      <th>767</th>\n",
       "      <td>1</td>\n",
       "      <td>93</td>\n",
       "      <td>70</td>\n",
       "      <td>31</td>\n",
       "      <td>0</td>\n",
       "      <td>30.4</td>\n",
       "      <td>0.315</td>\n",
       "      <td>23</td>\n",
       "      <td>0</td>\n",
       "    </tr>\n",
       "  </tbody>\n",
       "</table>\n",
       "</div>"
      ],
      "text/plain": [
       "     Pregnancies  Glucose  BloodPressure  SkinThickness  Insulin   BMI  \\\n",
       "763           10      101             76             48      180  32.9   \n",
       "764            2      122             70             27        0  36.8   \n",
       "765            5      121             72             23      112  26.2   \n",
       "766            1      126             60              0        0  30.1   \n",
       "767            1       93             70             31        0  30.4   \n",
       "\n",
       "     DiabetesPedigreeFunction  Age  Outcome  \n",
       "763                     0.171   63        0  \n",
       "764                     0.340   27        0  \n",
       "765                     0.245   30        0  \n",
       "766                     0.349   47        1  \n",
       "767                     0.315   23        0  "
      ]
     },
     "execution_count": 15,
     "metadata": {},
     "output_type": "execute_result"
    }
   ],
   "source": [
    "data.tail()"
   ]
  },
  {
   "cell_type": "markdown",
   "metadata": {
    "hidden": true
   },
   "source": [
    "**::GMG::** There are 8 different integer and real features and the categorical (binary) *Outcome* (i.e. classification) where 1 stands for having diabetes, and 0 denotes not havving diabetes. The dataset is known to have missing values. Specifically, there are missing observations for some columns that are marked as a zero value. A zero value will be invalid for for body mass index or blood pressure, for example."
   ]
  },
  {
   "cell_type": "code",
   "execution_count": 16,
   "metadata": {
    "hidden": true
   },
   "outputs": [
    {
     "name": "stdout",
     "output_type": "stream",
     "text": [
      "Diabetes data set dimensions : (768, 9)\n"
     ]
    }
   ],
   "source": [
    "print(\"Diabetes data set dimensions : {}\".format(data.shape))"
   ]
  },
  {
   "cell_type": "markdown",
   "metadata": {
    "hidden": true
   },
   "source": [
    "**::GMG::** To be honest I can't see any difference whatsoever. I'm going to stick with the kaggle dataset I've downloaded."
   ]
  },
  {
   "cell_type": "markdown",
   "metadata": {
    "heading_collapsed": true,
    "hidden": true
   },
   "source": [
    "### exploratory data analysis"
   ]
  },
  {
   "cell_type": "code",
   "execution_count": 17,
   "metadata": {
    "hidden": true
   },
   "outputs": [
    {
     "name": "stdout",
     "output_type": "stream",
     "text": [
      "<class 'pandas.core.frame.DataFrame'>\n",
      "RangeIndex: 768 entries, 0 to 767\n",
      "Data columns (total 9 columns):\n",
      "Pregnancies                 768 non-null int64\n",
      "Glucose                     768 non-null int64\n",
      "BloodPressure               768 non-null int64\n",
      "SkinThickness               768 non-null int64\n",
      "Insulin                     768 non-null int64\n",
      "BMI                         768 non-null float64\n",
      "DiabetesPedigreeFunction    768 non-null float64\n",
      "Age                         768 non-null int64\n",
      "Outcome                     768 non-null int64\n",
      "dtypes: float64(2), int64(7)\n",
      "memory usage: 54.1 KB\n"
     ]
    }
   ],
   "source": [
    "#::GMG::Do the cleaning if need be\n",
    "# https://towardsdatascience.com/machine-learning-workflow-on-diabetes-data-part-01-573864fcc6b8\n",
    "data.info()"
   ]
  },
  {
   "cell_type": "code",
   "execution_count": 18,
   "metadata": {
    "hidden": true
   },
   "outputs": [
    {
     "data": {
      "text/plain": [
       "Pregnancies                 0\n",
       "Glucose                     0\n",
       "BloodPressure               0\n",
       "SkinThickness               0\n",
       "Insulin                     0\n",
       "BMI                         0\n",
       "DiabetesPedigreeFunction    0\n",
       "Age                         0\n",
       "Outcome                     0\n",
       "dtype: int64"
      ]
     },
     "execution_count": 18,
     "metadata": {},
     "output_type": "execute_result"
    }
   ],
   "source": [
    "data.isnull().sum()"
   ]
  },
  {
   "cell_type": "code",
   "execution_count": 19,
   "metadata": {
    "hidden": true
   },
   "outputs": [
    {
     "data": {
      "text/plain": [
       "Pregnancies                 0\n",
       "Glucose                     0\n",
       "BloodPressure               0\n",
       "SkinThickness               0\n",
       "Insulin                     0\n",
       "BMI                         0\n",
       "DiabetesPedigreeFunction    0\n",
       "Age                         0\n",
       "Outcome                     0\n",
       "dtype: int64"
      ]
     },
     "execution_count": 19,
     "metadata": {},
     "output_type": "execute_result"
    }
   ],
   "source": [
    "data.isna().sum()"
   ]
  },
  {
   "cell_type": "code",
   "execution_count": 20,
   "metadata": {
    "hidden": true
   },
   "outputs": [
    {
     "data": {
      "text/html": [
       "<div>\n",
       "<style scoped>\n",
       "    .dataframe tbody tr th:only-of-type {\n",
       "        vertical-align: middle;\n",
       "    }\n",
       "\n",
       "    .dataframe tbody tr th {\n",
       "        vertical-align: top;\n",
       "    }\n",
       "\n",
       "    .dataframe thead th {\n",
       "        text-align: right;\n",
       "    }\n",
       "</style>\n",
       "<table border=\"1\" class=\"dataframe\">\n",
       "  <thead>\n",
       "    <tr style=\"text-align: right;\">\n",
       "      <th></th>\n",
       "      <th>Pregnancies</th>\n",
       "      <th>Glucose</th>\n",
       "      <th>BloodPressure</th>\n",
       "      <th>SkinThickness</th>\n",
       "      <th>Insulin</th>\n",
       "      <th>BMI</th>\n",
       "      <th>DiabetesPedigreeFunction</th>\n",
       "      <th>Age</th>\n",
       "      <th>Outcome</th>\n",
       "    </tr>\n",
       "  </thead>\n",
       "  <tbody>\n",
       "    <tr>\n",
       "      <th>count</th>\n",
       "      <td>768.000000</td>\n",
       "      <td>768.000000</td>\n",
       "      <td>768.000000</td>\n",
       "      <td>768.000000</td>\n",
       "      <td>768.000000</td>\n",
       "      <td>768.000000</td>\n",
       "      <td>768.000000</td>\n",
       "      <td>768.000000</td>\n",
       "      <td>768.000000</td>\n",
       "    </tr>\n",
       "    <tr>\n",
       "      <th>mean</th>\n",
       "      <td>3.845052</td>\n",
       "      <td>120.894531</td>\n",
       "      <td>69.105469</td>\n",
       "      <td>20.536458</td>\n",
       "      <td>79.799479</td>\n",
       "      <td>31.992578</td>\n",
       "      <td>0.471876</td>\n",
       "      <td>33.240885</td>\n",
       "      <td>0.348958</td>\n",
       "    </tr>\n",
       "    <tr>\n",
       "      <th>std</th>\n",
       "      <td>3.369578</td>\n",
       "      <td>31.972618</td>\n",
       "      <td>19.355807</td>\n",
       "      <td>15.952218</td>\n",
       "      <td>115.244002</td>\n",
       "      <td>7.884160</td>\n",
       "      <td>0.331329</td>\n",
       "      <td>11.760232</td>\n",
       "      <td>0.476951</td>\n",
       "    </tr>\n",
       "    <tr>\n",
       "      <th>min</th>\n",
       "      <td>0.000000</td>\n",
       "      <td>0.000000</td>\n",
       "      <td>0.000000</td>\n",
       "      <td>0.000000</td>\n",
       "      <td>0.000000</td>\n",
       "      <td>0.000000</td>\n",
       "      <td>0.078000</td>\n",
       "      <td>21.000000</td>\n",
       "      <td>0.000000</td>\n",
       "    </tr>\n",
       "    <tr>\n",
       "      <th>25%</th>\n",
       "      <td>1.000000</td>\n",
       "      <td>99.000000</td>\n",
       "      <td>62.000000</td>\n",
       "      <td>0.000000</td>\n",
       "      <td>0.000000</td>\n",
       "      <td>27.300000</td>\n",
       "      <td>0.243750</td>\n",
       "      <td>24.000000</td>\n",
       "      <td>0.000000</td>\n",
       "    </tr>\n",
       "    <tr>\n",
       "      <th>50%</th>\n",
       "      <td>3.000000</td>\n",
       "      <td>117.000000</td>\n",
       "      <td>72.000000</td>\n",
       "      <td>23.000000</td>\n",
       "      <td>30.500000</td>\n",
       "      <td>32.000000</td>\n",
       "      <td>0.372500</td>\n",
       "      <td>29.000000</td>\n",
       "      <td>0.000000</td>\n",
       "    </tr>\n",
       "    <tr>\n",
       "      <th>75%</th>\n",
       "      <td>6.000000</td>\n",
       "      <td>140.250000</td>\n",
       "      <td>80.000000</td>\n",
       "      <td>32.000000</td>\n",
       "      <td>127.250000</td>\n",
       "      <td>36.600000</td>\n",
       "      <td>0.626250</td>\n",
       "      <td>41.000000</td>\n",
       "      <td>1.000000</td>\n",
       "    </tr>\n",
       "    <tr>\n",
       "      <th>max</th>\n",
       "      <td>17.000000</td>\n",
       "      <td>199.000000</td>\n",
       "      <td>122.000000</td>\n",
       "      <td>99.000000</td>\n",
       "      <td>846.000000</td>\n",
       "      <td>67.100000</td>\n",
       "      <td>2.420000</td>\n",
       "      <td>81.000000</td>\n",
       "      <td>1.000000</td>\n",
       "    </tr>\n",
       "  </tbody>\n",
       "</table>\n",
       "</div>"
      ],
      "text/plain": [
       "       Pregnancies     Glucose  BloodPressure  SkinThickness     Insulin  \\\n",
       "count   768.000000  768.000000     768.000000     768.000000  768.000000   \n",
       "mean      3.845052  120.894531      69.105469      20.536458   79.799479   \n",
       "std       3.369578   31.972618      19.355807      15.952218  115.244002   \n",
       "min       0.000000    0.000000       0.000000       0.000000    0.000000   \n",
       "25%       1.000000   99.000000      62.000000       0.000000    0.000000   \n",
       "50%       3.000000  117.000000      72.000000      23.000000   30.500000   \n",
       "75%       6.000000  140.250000      80.000000      32.000000  127.250000   \n",
       "max      17.000000  199.000000     122.000000      99.000000  846.000000   \n",
       "\n",
       "              BMI  DiabetesPedigreeFunction         Age     Outcome  \n",
       "count  768.000000                768.000000  768.000000  768.000000  \n",
       "mean    31.992578                  0.471876   33.240885    0.348958  \n",
       "std      7.884160                  0.331329   11.760232    0.476951  \n",
       "min      0.000000                  0.078000   21.000000    0.000000  \n",
       "25%     27.300000                  0.243750   24.000000    0.000000  \n",
       "50%     32.000000                  0.372500   29.000000    0.000000  \n",
       "75%     36.600000                  0.626250   41.000000    1.000000  \n",
       "max     67.100000                  2.420000   81.000000    1.000000  "
      ]
     },
     "execution_count": 20,
     "metadata": {},
     "output_type": "execute_result"
    }
   ],
   "source": [
    "#::GMG::Statistics reveal some issues related to invalid values on some features, \n",
    "#       i.e. Glucose, BloodPressure, SkinThickness, Insulin and BMI \n",
    "#       which have ZEROS (min statistic) in their values!\n",
    "#::NOTE::Do I need to standarize (scale) the features too?\n",
    "data.describe()"
   ]
  },
  {
   "cell_type": "code",
   "execution_count": 21,
   "metadata": {
    "hidden": true
   },
   "outputs": [
    {
     "data": {
      "text/plain": [
       "Outcome\n",
       "0    [[AxesSubplot(0.125,0.670278;0.215278x0.209722...\n",
       "1    [[AxesSubplot(0.125,0.670278;0.215278x0.209722...\n",
       "dtype: object"
      ]
     },
     "execution_count": 21,
     "metadata": {},
     "output_type": "execute_result"
    },
    {
     "data": {
      "image/png": "[encoded data removed]",
      "text/plain": [
       "<Figure size 648x648 with 9 Axes>"
      ]
     },
     "metadata": {
      "needs_background": "light"
     },
     "output_type": "display_data"
    },
    {
     "data": {
      "image/png": "[encoded data removed]",
      "text/plain": [
       "<Figure size 648x648 with 9 Axes>"
      ]
     },
     "metadata": {
      "needs_background": "light"
     },
     "output_type": "display_data"
    }
   ],
   "source": [
    "#::GMG::Histograms of the features grouped by Outcome\n",
    "# https://towardsdatascience.com/machine-learning-workflow-on-diabetes-data-part-01-573864fcc6b8\n",
    "#::NOTE::I can see the zeros in BMI, BloodPressure, Glucose, Insulin and SkinThickness!\n",
    "data.groupby('Outcome').hist(figsize=(9, 9))"
   ]
  },
  {
   "cell_type": "code",
   "execution_count": 22,
   "metadata": {
    "hidden": true
   },
   "outputs": [
    {
     "name": "stdout",
     "output_type": "stream",
     "text": [
      "Zero Plasma Glucose  Total :  5\n",
      "Zero Insulin level   Total :  374\n",
      "Zero Blood Pressure  Total :  35\n",
      "Zero Skin Thickness  Total :  227\n",
      "Zero Body Mass Index Total :  11\n"
     ]
    }
   ],
   "source": [
    "#::GMG::Unexpected outliers, as I've just said from data.describe() ...\n",
    "#       Glucose, Insulin, BloodPressure, SkinThickness, and BMI \n",
    "#       which have zeros (min) in their values\n",
    "# https://towardsdatascience.com/machine-learning-workflow-on-diabetes-data-part-01-573864fcc6b8\n",
    "print(\"Zero Plasma Glucose  Total : \", data[data.Glucose == 0].shape[0])\n",
    "print(\"Zero Insulin level   Total : \", data[data.Insulin == 0].shape[0])\n",
    "print(\"Zero Blood Pressure  Total : \", data[data.BloodPressure == 0].shape[0])\n",
    "print(\"Zero Skin Thickness  Total : \", data[data.SkinThickness == 0].shape[0])\n",
    "print(\"Zero Body Mass Index Total : \", data[data.BMI == 0].shape[0])"
   ]
  },
  {
   "cell_type": "code",
   "execution_count": 23,
   "metadata": {
    "hidden": true
   },
   "outputs": [],
   "source": [
    "#::GMG::Hard choice to make ... remove the rows where the “BloodPressure”, \n",
    "#       “BMI” and “Glucose” are zero (small number of rows, low impact)\n",
    "data_mod = data[(data.BloodPressure != 0) & \n",
    "                (data.BMI != 0) & \n",
    "                (data.Glucose != 0)\n",
    "               ]"
   ]
  },
  {
   "cell_type": "code",
   "execution_count": 24,
   "metadata": {
    "hidden": true
   },
   "outputs": [
    {
     "name": "stdout",
     "output_type": "stream",
     "text": [
      "(724, 9)\n"
     ]
    }
   ],
   "source": [
    "print(data_mod.shape)"
   ]
  },
  {
   "cell_type": "markdown",
   "metadata": {
    "hidden": true
   },
   "source": [
    "**::GMG::** The problem with `Insulin` and `Skin Thickness` is that they are a significant part of the dataset. They cannot be removed. I may use **an imputation method** to fill in the zeros, i.e. put *average/mean values*, but in this case putting a mean value to the blood pressure column *would send a wrong signal to the model*. I may also **avoid using the features** involved. Feature selection by filtering might come in handy and help with that. But the filter is going to use the *outliered* feature ... so I'm in doubt here!"
   ]
  },
  {
   "cell_type": "code",
   "execution_count": 25,
   "metadata": {
    "hidden": true
   },
   "outputs": [
    {
     "data": {
      "text/plain": [
       "Outcome                     1.000000\n",
       "Glucose                     0.488384\n",
       "BMI                         0.299375\n",
       "Age                         0.245741\n",
       "Pregnancies                 0.224417\n",
       "DiabetesPedigreeFunction    0.184947\n",
       "BloodPressure               0.166703\n",
       "Insulin                     0.145488\n",
       "SkinThickness               0.092030\n",
       "Name: Outcome, dtype: float64"
      ]
     },
     "execution_count": 25,
     "metadata": {},
     "output_type": "execute_result"
    }
   ],
   "source": [
    "#::GMG::Some basic (Pearson) correlations with Outcome\n",
    "# https://pandas.pydata.org/pandas-docs/stable/reference/api/pandas.DataFrame.corr.html\n",
    "correlation_matrix = data_mod.corr()\n",
    "correlation_matrix['Outcome'].sort_values(ascending=False)"
   ]
  },
  {
   "cell_type": "markdown",
   "metadata": {
    "hidden": true
   },
   "source": [
    "**::GMG::** Based on this basic analysis I might avoid using `Skin Thickness` but not `Insulin` .\n",
    "\n",
    "**::NOTE::** I've [searched](https://www.google.com/search?client=firefox-b-d&q=a+person+can+have+zero+insulin%3F) about this *zero insulin issue*. So [it turns out](https://www.yourhormones.info/hormones/insulin/) that\n",
    "\n",
    "> People with type 1 diabetes produce very little or no insulin at all. This condition is caused when the beta cells that make insulin have been destroyed by antibodies (these are usually substances released by the body to fight against infections), hence they are unable to produce insulin."
   ]
  },
  {
   "cell_type": "code",
   "execution_count": 26,
   "metadata": {
    "hidden": true
   },
   "outputs": [
    {
     "name": "stdout",
     "output_type": "stream",
     "text": [
      "(724, 8)\n"
     ]
    }
   ],
   "source": [
    "#::GMG::I make a bold choice ...\n",
    "# https://pandas.pydata.org/pandas-docs/stable/reference/api/pandas.DataFrame.drop.html\n",
    "data_final = data_mod.drop(columns = ['SkinThickness'])\n",
    "print(data_final.shape)"
   ]
  },
  {
   "cell_type": "code",
   "execution_count": 27,
   "metadata": {
    "hidden": true
   },
   "outputs": [
    {
     "data": {
      "text/plain": [
       "<matplotlib.axes._subplots.AxesSubplot at 0x7f74f76a66a0>"
      ]
     },
     "execution_count": 27,
     "metadata": {},
     "output_type": "execute_result"
    },
    {
     "data": {
      "image/png": "[encoded data removed]",
      "text/plain": [
       "<Figure size 576x432 with 2 Axes>"
      ]
     },
     "metadata": {},
     "output_type": "display_data"
    }
   ],
   "source": [
    "#::GMG::Not much insight from these corr() numbers\n",
    "color = sns.color_palette()\n",
    "sns.set_style('darkgrid')\n",
    "plt.subplots(figsize=(8,6))\n",
    "sns.heatmap(data_final.corr(), center=0, annot=True, linewidths=.3)"
   ]
  },
  {
   "cell_type": "code",
   "execution_count": 28,
   "metadata": {
    "hidden": true
   },
   "outputs": [
    {
     "data": {
      "text/plain": [
       "Outcome\n",
       "0    475\n",
       "1    249\n",
       "dtype: int64"
      ]
     },
     "execution_count": 28,
     "metadata": {},
     "output_type": "execute_result"
    }
   ],
   "source": [
    "#::GMG::Beware of the imbalance dataset ...\n",
    "#       https://www.quora.com/What-is-an-imbalanced-dataset\n",
    "#       https://www.datacamp.com/community/tutorials/diving-deep-imbalanced-data\n",
    "#       https://towardsdatascience.com/methods-for-dealing-with-imbalanced-data-5b761be45a18\n",
    "#       How do I check?\n",
    "# https://towardsdatascience.com/machine-learning-workflow-on-diabetes-data-part-01-573864fcc6b8\n",
    "data_final.groupby('Outcome').size()"
   ]
  },
  {
   "cell_type": "code",
   "execution_count": 29,
   "metadata": {
    "hidden": true
   },
   "outputs": [
    {
     "data": {
      "text/plain": [
       "Text(0, 0.5, 'Frequency %')"
      ]
     },
     "execution_count": 29,
     "metadata": {},
     "output_type": "execute_result"
    },
    {
     "data": {
      "image/png": "[encoded data removed]",
      "text/plain": [
       "<Figure size 432x288 with 1 Axes>"
      ]
     },
     "metadata": {},
     "output_type": "display_data"
    }
   ],
   "source": [
    "#::GMG::Say, 0 healthy, 1 diabetes\n",
    "# https://docs.scipy.org/doc/numpy-1.13.0/reference/generated/numpy.chararray.astype.html\n",
    "# https://matplotlib.org/gallery/lines_bars_and_markers/categorical_variables.html\n",
    "classes = data_final.Outcome.values\n",
    "unique, counts = np.unique(classes, return_counts=True)\n",
    "plt.bar(unique.astype(np.character),100*counts/classes.size)\n",
    "plt.title('Class Frequency')\n",
    "plt.xlabel('Class')\n",
    "plt.ylabel('Frequency %')"
   ]
  },
  {
   "cell_type": "markdown",
   "metadata": {
    "heading_collapsed": true
   },
   "source": [
    "## Stratified Split"
   ]
  },
  {
   "cell_type": "code",
   "execution_count": 30,
   "metadata": {
    "hidden": true
   },
   "outputs": [],
   "source": [
    "#::GMG::Let`s try something different\n",
    "#       I'm going to preserve the proportions of classes with stratify parameter\n",
    "# https://stackoverflow.com/questions/34842405/parameter-stratify-from-method-train-test-split-scikit-learn\n",
    "x_train, x_test, y_train, y_test = train_test_split(\n",
    "    data_final.iloc[:,:data_final.shape[1] - 1], data_final['Outcome'],\n",
    "    test_size = 0.3,\n",
    "    random_state = 70,\n",
    "    stratify = data_final['Outcome']\n",
    ")"
   ]
  },
  {
   "cell_type": "code",
   "execution_count": 31,
   "metadata": {
    "hidden": true
   },
   "outputs": [],
   "source": [
    "classes_train = y_train.values\n",
    "unique, counts = np.unique(classes_train, return_counts = True)"
   ]
  },
  {
   "cell_type": "code",
   "execution_count": 32,
   "metadata": {
    "hidden": true
   },
   "outputs": [
    {
     "data": {
      "text/plain": [
       "Text(0, 0.5, 'Frequency %')"
      ]
     },
     "execution_count": 32,
     "metadata": {},
     "output_type": "execute_result"
    },
    {
     "data": {
      "image/png": "[encoded data removed]",
      "text/plain": [
       "<Figure size 432x288 with 1 Axes>"
      ]
     },
     "metadata": {},
     "output_type": "display_data"
    }
   ],
   "source": [
    "plt.bar(unique.astype(np.character),100*counts/classes_train.size)\n",
    "plt.title('Class Frequency')\n",
    "plt.xlabel('Class')\n",
    "plt.ylabel('Frequency %')"
   ]
  },
  {
   "cell_type": "code",
   "execution_count": 33,
   "metadata": {
    "hidden": true
   },
   "outputs": [],
   "source": [
    "classes_test = y_test.values\n",
    "unique, counts = np.unique(classes_test, return_counts = True)"
   ]
  },
  {
   "cell_type": "code",
   "execution_count": 34,
   "metadata": {
    "hidden": true
   },
   "outputs": [
    {
     "data": {
      "text/plain": [
       "Text(0, 0.5, 'Frequency %')"
      ]
     },
     "execution_count": 34,
     "metadata": {},
     "output_type": "execute_result"
    },
    {
     "data": {
      "image/png": "[encoded data removed]",
      "text/plain": [
       "<Figure size 432x288 with 1 Axes>"
      ]
     },
     "metadata": {},
     "output_type": "display_data"
    }
   ],
   "source": [
    "plt.bar(unique.astype(np.character),100*counts/classes_test.size)\n",
    "plt.title('Class Frequency')\n",
    "plt.xlabel('Class')\n",
    "plt.ylabel('Frequency %')"
   ]
  },
  {
   "cell_type": "code",
   "execution_count": 35,
   "metadata": {
    "hidden": true
   },
   "outputs": [
    {
     "data": {
      "text/plain": [
       "((506, 7), (506,))"
      ]
     },
     "execution_count": 35,
     "metadata": {},
     "output_type": "execute_result"
    }
   ],
   "source": [
    "x_train.shape, y_train.shape"
   ]
  },
  {
   "cell_type": "code",
   "execution_count": 36,
   "metadata": {
    "hidden": true
   },
   "outputs": [
    {
     "data": {
      "text/plain": [
       "((218, 7), (218,))"
      ]
     },
     "execution_count": 36,
     "metadata": {},
     "output_type": "execute_result"
    }
   ],
   "source": [
    "x_test.shape, y_test.shape"
   ]
  },
  {
   "cell_type": "markdown",
   "metadata": {
    "heading_collapsed": true
   },
   "source": [
    "## Logit Classifier"
   ]
  },
  {
   "cell_type": "markdown",
   "metadata": {
    "heading_collapsed": true,
    "hidden": true
   },
   "source": [
    "### model"
   ]
  },
  {
   "cell_type": "code",
   "execution_count": 37,
   "metadata": {
    "hidden": true
   },
   "outputs": [],
   "source": [
    "#::GMG::I must tell the solver I want, otherwise it yields:\n",
    "#\n",
    "#        'FutureWarning: Default solver will be changed to 'lbfgs' in 0.22. \n",
    "#         Specify a solver to silence this warning. FutureWarning)'\n",
    "#\n",
    "# when doing model.fit()\n",
    "# https://scikit-learn.org/stable/modules/generated/sklearn.linear_model.LogisticRegression.html\n",
    "# 'For small datasets, ‘liblinear’ is a good choice, whereas ‘sag’ and ‘saga’ are faster \n",
    "#  for large ones.'\n",
    "lr = LogisticRegression(solver = 'liblinear', random_state = 1)"
   ]
  },
  {
   "cell_type": "markdown",
   "metadata": {
    "heading_collapsed": true,
    "hidden": true
   },
   "source": [
    "### fit and predict"
   ]
  },
  {
   "cell_type": "code",
   "execution_count": 38,
   "metadata": {
    "hidden": true
   },
   "outputs": [],
   "source": [
    "lr = LogisticRegression(solver = 'liblinear')"
   ]
  },
  {
   "cell_type": "code",
   "execution_count": 39,
   "metadata": {
    "hidden": true
   },
   "outputs": [
    {
     "data": {
      "text/plain": [
       "LogisticRegression(C=1.0, class_weight=None, dual=False, fit_intercept=True,\n",
       "          intercept_scaling=1, max_iter=100, multi_class='warn',\n",
       "          n_jobs=None, penalty='l2', random_state=None, solver='liblinear',\n",
       "          tol=0.0001, verbose=0, warm_start=False)"
      ]
     },
     "execution_count": 39,
     "metadata": {},
     "output_type": "execute_result"
    }
   ],
   "source": [
    "lr.fit(X = x_train, y = y_train)"
   ]
  },
  {
   "cell_type": "code",
   "execution_count": 40,
   "metadata": {
    "hidden": true
   },
   "outputs": [],
   "source": [
    "pred_s = lr.predict(X = x_test)"
   ]
  },
  {
   "cell_type": "code",
   "execution_count": 41,
   "metadata": {
    "hidden": true
   },
   "outputs": [
    {
     "name": "stdout",
     "output_type": "stream",
     "text": [
      "Train Score: 0.759 \n",
      "Test Score: 0.803\n"
     ]
    }
   ],
   "source": [
    "print('Train Score: {:4.3f} \\nTest Score: {:4.3f}'.format(\n",
    "    lr.score(X = x_train, y = y_train), \n",
    "    lr.score(X = x_test, y = y_test)\n",
    "  )\n",
    ")"
   ]
  },
  {
   "cell_type": "markdown",
   "metadata": {
    "heading_collapsed": true,
    "hidden": true
   },
   "source": [
    "### evaluation"
   ]
  },
  {
   "cell_type": "code",
   "execution_count": 42,
   "metadata": {
    "hidden": true
   },
   "outputs": [
    {
     "name": "stdout",
     "output_type": "stream",
     "text": [
      "Classification Report:\n",
      "\n",
      "              precision    recall  f1-score   support\n",
      "\n",
      "     healthy      0.801     0.930     0.861       143\n",
      "    diabetes      0.808     0.560     0.661        75\n",
      "\n",
      "   micro avg      0.803     0.803     0.803       218\n",
      "   macro avg      0.804     0.745     0.761       218\n",
      "weighted avg      0.803     0.803     0.792       218\n",
      "\n"
     ]
    }
   ],
   "source": [
    "#::GMG::Report with all the metrics and averages per class related to precision and recall\n",
    "target_names = ['healthy', 'diabetes']\n",
    "print('Classification Report:\\n')\n",
    "print(classification_report(y_true = y_test, y_pred = pred_s, \n",
    "                            target_names = target_names, digits = 3))"
   ]
  },
  {
   "cell_type": "code",
   "execution_count": 43,
   "metadata": {
    "hidden": true
   },
   "outputs": [
    {
     "name": "stdout",
     "output_type": "stream",
     "text": [
      "[[133  10]\n",
      " [ 33  42]]\n"
     ]
    }
   ],
   "source": [
    "#::GMG::Confusion matrix (I can campute all the metrics from it)\n",
    "cm_s = confusion_matrix(y_true = y_test, y_pred = pred_s)\n",
    "print (cm_s)"
   ]
  },
  {
   "cell_type": "code",
   "execution_count": 44,
   "metadata": {
    "hidden": true
   },
   "outputs": [
    {
     "name": "stdout",
     "output_type": "stream",
     "text": [
      "Specificity: 0.930 \n",
      "Sensitivity: 0.560\n"
     ]
    }
   ],
   "source": [
    "#::GMG::Unfolding of confusion matrix: True Negatives, False Positives, False Negatives\n",
    "#       and True positives where Negative = Healthy and Positive = Diabetes\n",
    "tn, fp, fn, tp = cm_s.ravel()\n",
    "specificity = tn / (tn + fp)\n",
    "sensitivity = tp / (tp + fn)\n",
    "print('Specificity: {:4.3f} \\nSensitivity: {:4.3f}'.format(specificity, sensitivity))"
   ]
  },
  {
   "cell_type": "code",
   "execution_count": 45,
   "metadata": {
    "hidden": true
   },
   "outputs": [
    {
     "name": "stdout",
     "output_type": "stream",
     "text": [
      "Accuracy: 0.803 \n",
      "Balanced Accuracy: 0.745\n"
     ]
    }
   ],
   "source": [
    "#::GMG::Accuracy versus Balanced Accuracy\n",
    "print('Accuracy: {:4.3f} \\nBalanced Accuracy: {:4.3f}'.format(\n",
    "    accuracy_score(y_true = y_test, y_pred = pred_s), \n",
    "    balanced_accuracy_score(y_true = y_test, y_pred = pred_s)\n",
    "  )\n",
    ")"
   ]
  },
  {
   "cell_type": "code",
   "execution_count": 46,
   "metadata": {
    "hidden": true
   },
   "outputs": [
    {
     "name": "stdout",
     "output_type": "stream",
     "text": [
      "AUC diabetes: 0.866\n"
     ]
    }
   ],
   "source": [
    "#::GMG::AUC (imbalanced dataset -> average = 'weighted')\n",
    "# https://scikit-learn.org/stable/modules/generated/sklearn.linear_model.LogisticRegression.html#sklearn.linear_model.LogisticRegression.predict_proba\n",
    "# https://scikit-learn.org/stable/modules/generated/sklearn.metrics.roc_auc_score.html\n",
    "# 'weighted': Calculate metrics for each label, and find their average, weighted by \n",
    "#             support (the number of true instances for each label)\n",
    "probs = lr.predict_proba(X = x_test)\n",
    "prob = probs[:, 1] \n",
    "auc_roc = roc_auc_score(y_true = y_test, y_score = prob, average = 'weighted')\n",
    "print('AUC diabetes: {:4.3f}'.format(auc_roc))"
   ]
  },
  {
   "cell_type": "code",
   "execution_count": 47,
   "metadata": {
    "hidden": true
   },
   "outputs": [
    {
     "name": "stdout",
     "output_type": "stream",
     "text": [
      "fpr: [0.    0.007 0.007 0.014 0.014 0.021 0.021 0.028 0.028 0.035 0.035 0.042\n",
      " 0.042 0.049 0.049 0.056 0.056 0.07  0.07  0.077 0.077 0.105 0.105 0.112\n",
      " 0.112 0.133 0.133 0.154 0.154 0.168 0.168 0.182 0.182 0.301 0.301 0.315\n",
      " 0.315 0.322 0.322 0.357 0.357 0.385 0.385 0.42  0.42  0.517 0.517 0.552\n",
      " 0.552 0.678 0.678 1.   ] \n",
      "tpr: [0.    0.    0.027 0.027 0.093 0.093 0.16  0.16  0.36  0.36  0.493 0.493\n",
      " 0.507 0.507 0.533 0.533 0.56  0.56  0.587 0.587 0.653 0.653 0.667 0.667\n",
      " 0.693 0.693 0.747 0.747 0.76  0.76  0.8   0.8   0.813 0.813 0.827 0.827\n",
      " 0.84  0.84  0.853 0.853 0.867 0.867 0.88  0.88  0.907 0.907 0.92  0.92\n",
      " 0.973 0.973 1.    1.   ] \n",
      "therholds: [1.935 0.935 0.876 0.87  0.809 0.789 0.754 0.747 0.667 0.651 0.56  0.557\n",
      " 0.546 0.532 0.53  0.528 0.513 0.509 0.486 0.477 0.46  0.447 0.444 0.434\n",
      " 0.425 0.415 0.405 0.383 0.378 0.361 0.351 0.34  0.332 0.297 0.287 0.286\n",
      " 0.286 0.284 0.282 0.276 0.276 0.27  0.265 0.254 0.252 0.22  0.216 0.209\n",
      " 0.201 0.173 0.169 0.047]\n"
     ]
    }
   ],
   "source": [
    "#::GMG::ROC\n",
    "# https://stackabuse.com/understanding-roc-curves-with-python/\n",
    "# https://scikit-learn.org/stable/modules/model_evaluation.html#roc-metrics\n",
    "# https://stackoverflow.com/questions/2891790/how-to-pretty-print-a-numpy-array-without-scientific-notation-and-with-given-pre\n",
    "fpr, tpr, thresholds = roc_curve(\n",
    "    y_true = y_test, \n",
    "    y_score = prob, \n",
    "    pos_label = 1\n",
    ")\n",
    "print('fpr: {} \\ntpr: {} \\ntherholds: {}'.format(\n",
    "    np.array_str(a = fpr, precision = 3), \n",
    "    np.array_str(a = tpr, precision = 3), \n",
    "    np.array_str(a = thresholds, precision = 3)\n",
    "    )\n",
    ")"
   ]
  },
  {
   "cell_type": "code",
   "execution_count": 48,
   "metadata": {
    "hidden": true
   },
   "outputs": [
    {
     "data": {
      "text/plain": [
       "<matplotlib.legend.Legend at 0x7f74f4bb49e8>"
      ]
     },
     "execution_count": 48,
     "metadata": {},
     "output_type": "execute_result"
    },
    {
     "data": {
      "image/png": "[encoded data removed]",
      "text/plain": [
       "<Figure size 720x648 with 1 Axes>"
      ]
     },
     "metadata": {},
     "output_type": "display_data"
    }
   ],
   "source": [
    "#::GMG::Plot ROC\n",
    "# https://stackoverflow.com/questions/25009284/how-to-plot-roc-curve-in-python\n",
    "# https://stackoverflow.com/questions/332289/how-do-you-change-the-size-of-figures-drawn-with-matplotlib\n",
    "plt.figure(figsize = (10,9))\n",
    "plt.plot(fpr, tpr, color='orange', label='ROC')\n",
    "plt.plot([0, 1], [0, 1], color='darkblue', linestyle='--')\n",
    "plt.xlabel('False Positive Rate')\n",
    "plt.ylabel('True Positive Rate')\n",
    "plt.title(\n",
    "    'Receiver Operating Characteristic (ROC) Curve: AUC={0:0.2f}'.format(auc_roc)\n",
    ")\n",
    "plt.legend()"
   ]
  },
  {
   "cell_type": "code",
   "execution_count": 49,
   "metadata": {
    "hidden": true
   },
   "outputs": [
    {
     "name": "stdout",
     "output_type": "stream",
     "text": [
      "Average Precision Weighted: 0.740\n"
     ]
    }
   ],
   "source": [
    "#::GMG::Precision-Recall Curve and AUC, and average precision are better metrics \n",
    "#       with an imbalanced dataset\n",
    "# https://machinelearningmastery.com/roc-curves-and-precision-recall-curves-for-classification-in-python/\n",
    "# https://scikit-learn.org/stable/modules/generated/sklearn.metrics.average_precision_score.html\n",
    "apc = average_precision_score(y_true = y_test, \n",
    "                              y_score = prob, \n",
    "                              pos_label = 1, \n",
    "                              average = 'weighted')\n",
    "print('Average Precision Weighted: {:4.3f}'.format(apc))"
   ]
  },
  {
   "cell_type": "code",
   "execution_count": 50,
   "metadata": {
    "hidden": true
   },
   "outputs": [],
   "source": [
    "#::GMG::Precision-Reacall Curve\n",
    "precision, recall, _ = precision_recall_curve(\n",
    "    y_true = y_test, \n",
    "    probas_pred = prob, \n",
    "    pos_label = 1\n",
    ")"
   ]
  },
  {
   "cell_type": "code",
   "execution_count": 51,
   "metadata": {
    "hidden": true
   },
   "outputs": [
    {
     "name": "stdout",
     "output_type": "stream",
     "text": [
      "AUC Precision/Recall: 0.731\n"
     ]
    }
   ],
   "source": [
    "#::GMG::AUC (recall, precision)\n",
    "auc_pr = auc(x = recall, y = precision)\n",
    "print('AUC Precision/Recall: {:4.3f}'.format(auc_pr))"
   ]
  },
  {
   "cell_type": "code",
   "execution_count": 52,
   "metadata": {
    "hidden": true
   },
   "outputs": [
    {
     "data": {
      "text/plain": [
       "Text(0.5, 1.0, '2-class Precision-Recall curve: AP=0.74')"
      ]
     },
     "execution_count": 52,
     "metadata": {},
     "output_type": "execute_result"
    },
    {
     "data": {
      "image/png": "[encoded data removed]",
      "text/plain": [
       "<Figure size 720x648 with 1 Axes>"
      ]
     },
     "metadata": {},
     "output_type": "display_data"
    }
   ],
   "source": [
    "#::GMG::Precision-Recall plot \n",
    "# https://scikit-learn.org/stable/auto_examples/model_selection/plot_precision_recall.html#sphx-glr-auto-examples-model-selection-plot-precision-recall-py\n",
    "from inspect import signature\n",
    "step_kwargs = ({'step': 'post'}\n",
    "               if 'step' in signature(plt.fill_between).parameters\n",
    "               else {})\n",
    "plt.figure(figsize = (10,9))\n",
    "# plot no skill\n",
    "plt.plot([0, 1], [0.5, 0.5], linestyle='--', color = 'C1')\n",
    "plt.step(recall, precision, color='b', alpha=0.2, where='post')\n",
    "plt.fill_between(recall, precision, alpha=0.2, color='b', **step_kwargs)\n",
    "plt.xlabel('Recall')\n",
    "plt.ylabel('Precision')\n",
    "plt.ylim([0.0, 1.05])\n",
    "plt.xlim([0.0, 1.0])\n",
    "plt.title('2-class Precision-Recall curve: AP={0:0.2f}'.format(apc))"
   ]
  },
  {
   "cell_type": "markdown",
   "metadata": {
    "heading_collapsed": true,
    "hidden": true
   },
   "source": [
    "### balanced model"
   ]
  },
  {
   "cell_type": "code",
   "execution_count": 53,
   "metadata": {
    "hidden": true
   },
   "outputs": [],
   "source": [
    "#::GMG::class_weight : dict or ‘balanced’, optional (default=None)\n",
    "#       The “balanced” mode uses the values of y to automatically adjust weights inversely \n",
    "#       proportional to class frequencies in the input data as \n",
    "#       n_samples / (n_classes * np.bincount(y))\n",
    "#\n",
    "# https://scikit-learn.org/stable/modules/generated/sklearn.linear_model.LogisticRegression.html\n",
    "lr_bm = LogisticRegression(solver = 'liblinear', class_weight = 'balanced', random_state = 2)"
   ]
  },
  {
   "cell_type": "markdown",
   "metadata": {
    "heading_collapsed": true,
    "hidden": true
   },
   "source": [
    "### fit and predict"
   ]
  },
  {
   "cell_type": "code",
   "execution_count": 54,
   "metadata": {
    "hidden": true
   },
   "outputs": [
    {
     "data": {
      "text/plain": [
       "LogisticRegression(C=1.0, class_weight='balanced', dual=False,\n",
       "          fit_intercept=True, intercept_scaling=1, max_iter=100,\n",
       "          multi_class='warn', n_jobs=None, penalty='l2', random_state=2,\n",
       "          solver='liblinear', tol=0.0001, verbose=0, warm_start=False)"
      ]
     },
     "execution_count": 54,
     "metadata": {},
     "output_type": "execute_result"
    }
   ],
   "source": [
    "#::GMG::Train the model\n",
    "# https://scikit-learn.org/stable/modules/generated/sklearn.linear_model.LogisticRegression.html#sklearn.linear_model.LogisticRegression.fit\n",
    "#\n",
    "# sample_weight : array-like, shape (n_samples,) optional\n",
    "lr_bm.fit(X = x_train, y = y_train)"
   ]
  },
  {
   "cell_type": "code",
   "execution_count": 55,
   "metadata": {
    "hidden": true
   },
   "outputs": [],
   "source": [
    "#::GMG::Now it's time to predict\n",
    "pred_bm = lr_bm.predict(X = x_test)"
   ]
  },
  {
   "cell_type": "code",
   "execution_count": 56,
   "metadata": {
    "hidden": true
   },
   "outputs": [
    {
     "name": "stdout",
     "output_type": "stream",
     "text": [
      "Score Train: 0.745 \n",
      "Score Test: 0.817\n"
     ]
    }
   ],
   "source": [
    "#::GMG::Scores\n",
    "print('Score Train: {:4.3f} \\nScore Test: {:4.3f}'.format(\n",
    "    lr_bm.score(X = x_train, y = y_train),\n",
    "    lr_bm.score(X = x_test, y = y_test)\n",
    "    )\n",
    ")"
   ]
  },
  {
   "cell_type": "markdown",
   "metadata": {
    "heading_collapsed": true,
    "hidden": true
   },
   "source": [
    "### evaluation"
   ]
  },
  {
   "cell_type": "code",
   "execution_count": 57,
   "metadata": {
    "hidden": true
   },
   "outputs": [
    {
     "name": "stdout",
     "output_type": "stream",
     "text": [
      "              precision    recall  f1-score   support\n",
      "\n",
      "     healthy      0.881     0.832     0.856       143\n",
      "    diabetes      0.711     0.787     0.747        75\n",
      "\n",
      "   micro avg      0.817     0.817     0.817       218\n",
      "   macro avg      0.796     0.809     0.801       218\n",
      "weighted avg      0.823     0.817     0.819       218\n",
      "\n"
     ]
    }
   ],
   "source": [
    "#::GMG::Report\n",
    "print(classification_report(y_true = y_test, y_pred = pred_bm, \n",
    "                            target_names=target_names, digits = 3))"
   ]
  },
  {
   "cell_type": "code",
   "execution_count": 58,
   "metadata": {
    "hidden": true
   },
   "outputs": [
    {
     "name": "stdout",
     "output_type": "stream",
     "text": [
      "[[119  24]\n",
      " [ 16  59]]\n"
     ]
    }
   ],
   "source": [
    "#::GMG::Confusion Matrix\n",
    "cm_bm = confusion_matrix(y_true = y_test, y_pred = pred_bm)\n",
    "print(cm_bm)"
   ]
  },
  {
   "cell_type": "code",
   "execution_count": 68,
   "metadata": {
    "hidden": true
   },
   "outputs": [
    {
     "name": "stdout",
     "output_type": "stream",
     "text": [
      "BM Specificity: 0.832 \n",
      "BM Sensitivity: 0.787\n"
     ]
    }
   ],
   "source": [
    "#::GMG::Unfolding of confusion matrix: True Negatives, False Positives, False Negatives\n",
    "#       and True positives where Negative = Healthy and Positive = Diabetes\n",
    "tn_bm, fp_bm, fn_bm, tp_bm = cm_bm.ravel()\n",
    "specificity_bm = tn_bm / (tn_bm + fp_bm)\n",
    "sensitivity_bm = tp_bm / (tp_bm + fn_bm)\n",
    "print(\n",
    "    'BM Specificity: {:4.3f} \\nBM Sensitivity: {:4.3f}'.format(\n",
    "        specificity_bm, sensitivity_bm\n",
    "    )\n",
    ")"
   ]
  },
  {
   "cell_type": "code",
   "execution_count": 69,
   "metadata": {
    "hidden": true
   },
   "outputs": [
    {
     "name": "stdout",
     "output_type": "stream",
     "text": [
      "BM Accuracy: 0.817 \n",
      "BM Balanced Accuracy: 0.809\n"
     ]
    }
   ],
   "source": [
    "#::GMG::Accuracy versus Balanced Accuracy\n",
    "print('BM Accuracy: {:4.3f} \\nBM Balanced Accuracy: {:4.3f}'.format(\n",
    "    accuracy_score(y_true = y_test, y_pred = pred_bm), \n",
    "    balanced_accuracy_score(y_true = y_test, y_pred = pred_bm)\n",
    "  )\n",
    ")"
   ]
  },
  {
   "cell_type": "code",
   "execution_count": 60,
   "metadata": {
    "hidden": true
   },
   "outputs": [
    {
     "name": "stdout",
     "output_type": "stream",
     "text": [
      "AUC diabetes: 0.866 \n",
      "AUC Balanced Mode diabetes: 0.866\n"
     ]
    }
   ],
   "source": [
    "#::GMG::AUC\n",
    "prob_bm = lr_bm.predict_proba(X = x_test)[:, 1] \n",
    "auc_bm = roc_auc_score(y_true = y_test, y_score = prob_bm, average = 'weighted')\n",
    "print('AUC diabetes: {:4.3f} \\nAUC Balanced Mode diabetes: {:4.3f}'.format(auc_roc, auc_bm))"
   ]
  },
  {
   "cell_type": "code",
   "execution_count": 61,
   "metadata": {
    "hidden": true
   },
   "outputs": [
    {
     "name": "stdout",
     "output_type": "stream",
     "text": [
      "fpr: [0.    0.007 0.007 0.014 0.014 0.021 0.021 0.028 0.028 0.035 0.035 0.049\n",
      " 0.049 0.056 0.056 0.063 0.063 0.07  0.07  0.077 0.077 0.084 0.084 0.098\n",
      " 0.098 0.105 0.105 0.133 0.133 0.147 0.147 0.154 0.154 0.161 0.161 0.168\n",
      " 0.168 0.175 0.175 0.203 0.203 0.28  0.28  0.322 0.322 0.336 0.336 0.371\n",
      " 0.371 0.392 0.392 0.399 0.399 0.42  0.42  0.51  0.51  0.545 0.545 0.671\n",
      " 0.671 0.678 0.678 1.   ] \n",
      "tpr: [0.    0.    0.013 0.013 0.093 0.093 0.147 0.147 0.347 0.347 0.507 0.507\n",
      " 0.533 0.533 0.547 0.547 0.587 0.587 0.6   0.6   0.627 0.627 0.64  0.64\n",
      " 0.667 0.667 0.68  0.68  0.72  0.72  0.747 0.747 0.76  0.76  0.773 0.773\n",
      " 0.787 0.787 0.8   0.8   0.813 0.813 0.827 0.827 0.84  0.84  0.853 0.853\n",
      " 0.867 0.867 0.88  0.88  0.893 0.893 0.907 0.907 0.933 0.933 0.973 0.973\n",
      " 0.987 0.987 1.    1.   ] \n",
      "therholds: [1.967 0.967 0.942 0.941 0.899 0.883 0.859 0.857 0.799 0.798 0.71  0.699\n",
      " 0.693 0.686 0.679 0.679 0.657 0.642 0.626 0.625 0.613 0.612 0.61  0.605\n",
      " 0.603 0.602 0.593 0.578 0.574 0.564 0.556 0.555 0.548 0.529 0.513 0.511\n",
      " 0.503 0.497 0.492 0.472 0.468 0.446 0.445 0.415 0.414 0.413 0.411 0.4\n",
      " 0.398 0.392 0.391 0.383 0.381 0.372 0.369 0.341 0.33  0.316 0.313 0.273\n",
      " 0.273 0.27  0.265 0.07 ]\n"
     ]
    }
   ],
   "source": [
    "#::GMG::ROC Curve\n",
    "fpr_bm, tpr_bm, thresholds_bm = roc_curve(\n",
    "    y_true = y_test, \n",
    "    y_score = prob_bm, \n",
    "    pos_label = 1\n",
    ")\n",
    "print('fpr: {} \\ntpr: {} \\ntherholds: {}'.format(\n",
    "    np.array_str(a = fpr_bm, precision = 3), \n",
    "    np.array_str(a = tpr_bm, precision = 3), \n",
    "    np.array_str(a = thresholds_bm, precision = 3)\n",
    "    )\n",
    ")"
   ]
  },
  {
   "cell_type": "code",
   "execution_count": 63,
   "metadata": {
    "hidden": true
   },
   "outputs": [
    {
     "data": {
      "text/plain": [
       "<matplotlib.legend.Legend at 0x7f74f4886a58>"
      ]
     },
     "execution_count": 63,
     "metadata": {},
     "output_type": "execute_result"
    },
    {
     "data": {
      "image/png": "[encoded data removed]",
      "text/plain": [
       "<Figure size 720x648 with 1 Axes>"
      ]
     },
     "metadata": {},
     "output_type": "display_data"
    }
   ],
   "source": [
    "#::GMG::Plot ROC Curve\n",
    "plt.figure(figsize = (10,9))\n",
    "plt.plot(fpr, tpr, color='darkorange',\n",
    "         lw=2, label='Logistic Regression (area = %0.2f)' % auc_roc)\n",
    "plt.plot(fpr_bm, tpr_bm, color='darkgreen',\n",
    "         lw=2, label='Balanced Mode LR (area = %0.2f)' % auc_bm)\n",
    "plt.plot([0, 1], [0, 1], color='navy', lw=2, linestyle='--')\n",
    "plt.xlim([0.0, 1.0])\n",
    "plt.ylim([0.0, 1.05])\n",
    "plt.xlabel('False Positive Rate')\n",
    "plt.ylabel('True Positive Rate')\n",
    "plt.title('ROC Curve')\n",
    "plt.legend(loc=\"lower right\")"
   ]
  },
  {
   "cell_type": "code",
   "execution_count": 64,
   "metadata": {
    "hidden": true
   },
   "outputs": [
    {
     "name": "stdout",
     "output_type": "stream",
     "text": [
      "Average Precision Weighted: 0.736\n"
     ]
    }
   ],
   "source": [
    "#::GMG::average precision \n",
    "apc_bm = average_precision_score(y_true = y_test, \n",
    "                                 y_score = prob_bm, \n",
    "                                 pos_label = 1, \n",
    "                                 average = 'weighted')\n",
    "print('Average Precision Weighted: {:4.3f}'.format(apc_bm))"
   ]
  },
  {
   "cell_type": "code",
   "execution_count": 65,
   "metadata": {
    "hidden": true
   },
   "outputs": [],
   "source": [
    "#::GMG::Precision-Recall Curve\n",
    "precision_bm, recall_bm, _ = precision_recall_curve(\n",
    "    y_true = y_test, \n",
    "    probas_pred = prob_bm, \n",
    "    pos_label = 1\n",
    ")"
   ]
  },
  {
   "cell_type": "code",
   "execution_count": 66,
   "metadata": {
    "hidden": true
   },
   "outputs": [
    {
     "name": "stdout",
     "output_type": "stream",
     "text": [
      "AUC Precision/Recall: 0.727\n"
     ]
    }
   ],
   "source": [
    "#::GMG::AUC (precision, recall)\n",
    "auc_pr_bm = auc(x = recall_bm, y = precision_bm)\n",
    "print('AUC Precision/Recall: {:4.3f}'.format(auc_pr_bm))"
   ]
  },
  {
   "cell_type": "code",
   "execution_count": 67,
   "metadata": {
    "hidden": true
   },
   "outputs": [
    {
     "data": {
      "text/plain": [
       "Text(0.5, 1.0, '2-class Precision-Recall curve: AP=0.74')"
      ]
     },
     "execution_count": 67,
     "metadata": {},
     "output_type": "execute_result"
    },
    {
     "data": {
      "image/png": "[encoded data removed]",
      "text/plain": [
       "<Figure size 720x648 with 1 Axes>"
      ]
     },
     "metadata": {},
     "output_type": "display_data"
    }
   ],
   "source": [
    "#::GMG::Plot Recall-Precision Curve\n",
    "plt.figure(figsize = (10,9))\n",
    "# plot no skill\n",
    "plt.plot([0, 1], [0.5, 0.5], linestyle='--', color = 'C1')\n",
    "plt.step(recall_bm, precision_bm, color='g', alpha=0.2, where='post')\n",
    "plt.fill_between(recall_bm, precision_bm, alpha=0.2, color='g', **step_kwargs)\n",
    "plt.xlabel('Recall')\n",
    "plt.ylabel('Precision')\n",
    "plt.ylim([0.0, 1.05])\n",
    "plt.xlim([0.0, 1.0])\n",
    "plt.title('2-class Precision-Recall curve: AP={0:0.2f}'.format(apc_bm))"
   ]
  },
  {
   "cell_type": "markdown",
   "metadata": {},
   "source": [
    "## Model Parameter Tuning"
   ]
  },
  {
   "cell_type": "markdown",
   "metadata": {},
   "source": [
    "**::GMG::** I'm going to use [`GridSearchCV`](https://scikit-learn.org/stable/modules/generated/sklearn.model_selection.GridSearchCV.html) from [Scikit-learn](https://scikit-learn.org/stable/modules/grid_search.html#grid-search) to *tune the hyperparameters* of the [Logistic Regression](https://scikit-learn.org/stable/modules/generated/sklearn.linear_model.LogisticRegression.html) model. There's an [example](https://scikit-learn.org/stable/auto_examples/model_selection/plot_grid_search_digits.html) in the Scikit-learn documentation that uses `SVM` model and cross-validation. In [second part article](https://towardsdatascience.com/machine-learning-workflow-on-diabetes-data-part-02-11262b7f7a5c) *Machine Learning Workflow on Diabetes Data* by Lahiru Liyanapathirana this is done in *phase 6* (see also [the code](https://github.com/LahiruTjay/Machine-Learning-With-Python/blob/master/Machine%20Learning%20Workflow%20on%20Diabetes%20Data.ipynb) in Github)\n",
    "\n",
    "**::GMG::** Lahiru Liyanapathirana gives a useful warning on using [`GridSearchCV`](https://scikit-learn.org/stable/modules/generated/sklearn.model_selection.GridSearchCV.html) with a particular model:\n",
    "\n",
    "> Important : When using the GridSearchCV, there are some models which have parameters that don’t work with each other. Since GridSearchCV uses combinations of all the parameters given, if two parameters don’t work with each other we will not be able to run the GridSearchCV.\n",
    ">\n",
    "> If that happens, a list of parameter grids can be provided to overcome the given issue. **It is recommended that you read the class document of the which you are trying to fine tune, to find how parameters work with each other.**\n",
    "\n",
    "**::GMG::** This clearly applies to [Logistic Regression](https://scikit-learn.org/stable/modules/generated/sklearn.linear_model.LogisticRegression.html) models."
   ]
  },
  {
   "cell_type": "markdown",
   "metadata": {
    "heading_collapsed": true
   },
   "source": [
    "### gridsearchcv"
   ]
  },
  {
   "cell_type": "code",
   "execution_count": 88,
   "metadata": {
    "hidden": true
   },
   "outputs": [],
   "source": [
    "#::GMG::Logistic Regression model has some hyperparameters that doesn’t work with each other.\n",
    "#       Here is a list of grids with compatible parameters to fine tune the model. Through trial \n",
    "#       and error the following compatible parameters were found. By Lahiru Liyanapathirana\n",
    "#       See: https://towardsdatascience.com/machine-learning-workflow-on-diabetes-data-part-02-11262b7f7a5c\n",
    "#       Specify parameters:\n",
    "#\n",
    "#c_values = list(np.arange(1, 10))\n",
    "#\n",
    "#::NOTE::There's an alternative of ranging C I've seen in an article by Finn Qiao\n",
    "#        I like the way of ranging the C parameter in the log scale\n",
    "# https://towardsdatascience.com/logistic-regression-model-tuning-with-scikit-learn-part-1-425142e01af5\n",
    "# https://docs.scipy.org/doc/numpy-1.16.1/reference/generated/numpy.logspace.html  \n",
    "c_values = np.logspace(-3, 3, 20)\n",
    "param_grid_a = [\n",
    "    {'C': c_values, \n",
    "     'penalty': ['l1'], \n",
    "     'solver' : ['liblinear'], \n",
    "     'multi_class' : ['ovr']\n",
    "    },\n",
    "    {'C': c_values, \n",
    "     'penalty': ['l2'], \n",
    "     'solver' : ['liblinear', 'newton-cg', 'lbfgs'], \n",
    "     'multi_class' : ['ovr']\n",
    "    }\n",
    "]"
   ]
  },
  {
   "cell_type": "code",
   "execution_count": 71,
   "metadata": {
    "hidden": true
   },
   "outputs": [],
   "source": [
    "#::GMG::I use StratifiedKFold to keep the (im)balance between the two classes\n",
    "#::NOTE::In GridSearchCV documentation it says that\n",
    "#        cv : int, cross-validation generator or an iterable, optional\n",
    "#        Determines the cross-validation splitting strategy.\n",
    "#        For integer/None inputs, if the estimator is a classifier and y is either binary or \n",
    "#        multiclass, StratifiedKFold is used. In all other cases, KFold is used.\n",
    "# BUT I purposedly define a Stratified-10-Fold cross-validation generator ;)\n",
    "strat_k_fold = StratifiedKFold(n_splits=10, random_state = 10)"
   ]
  },
  {
   "cell_type": "code",
   "execution_count": 90,
   "metadata": {
    "hidden": true
   },
   "outputs": [],
   "source": [
    "#::GMG::Build up the grid object \n",
    "#::NOTE::scoring : string, callable, list/tuple, dict or None, default: None\n",
    "#        For evaluating multiple metrics, either give a list of (unique) strings or \n",
    "#        a dict with names as keys and callables as values.\n",
    "# https://scikit-learn.org/stable/modules/grid_search.html#multimetric-grid-search\n",
    "# https://scikit-learn.org/stable/modules/model_evaluation.html#multimetric-scoring\n",
    "#\n",
    "#::NOTE::refit : boolean, string, or callable, default=True\n",
    "#       Refit an estimator using the best found parameters on the whole dataset.\n",
    "#       The refitted estimator is made available at the best_estimator_ attribute and \n",
    "#       permits using predict directly on this GridSearchCV instance.\n",
    "# https://scikit-learn.org/stable/modules/generated/sklearn.model_selection.GridSearchCV.html\n",
    "#\n",
    "#::NOTE::If I want to do multiple scoring\n",
    "#scoring = ['balanced_accuracy', 'precision_weighted', 'recall_weighted', 'f1_weighted']\n",
    "grid_1 = GridSearchCV(\n",
    "    LogisticRegression(random_state = 1, max_iter = 1000, class_weight = 'balanced'), \n",
    "    param_grid_a, \n",
    "    cv = strat_k_fold, \n",
    "    refit = True,\n",
    "    return_train_score = True, #::NOTE:: to avoid FutureWarning: You are accessing a training score\n",
    "    verbose = True,\n",
    "    iid = False,\n",
    "    scoring = 'balanced_accuracy'\n",
    ")"
   ]
  },
  {
   "cell_type": "markdown",
   "metadata": {
    "heading_collapsed": true
   },
   "source": [
    "### fit and predict"
   ]
  },
  {
   "cell_type": "code",
   "execution_count": 91,
   "metadata": {
    "hidden": true
   },
   "outputs": [
    {
     "name": "stdout",
     "output_type": "stream",
     "text": [
      "Fitting 10 folds for each of 80 candidates, totalling 800 fits\n"
     ]
    },
    {
     "name": "stderr",
     "output_type": "stream",
     "text": [
      "[Parallel(n_jobs=1)]: Using backend SequentialBackend with 1 concurrent workers.\n",
      "[Parallel(n_jobs=1)]: Done 800 out of 800 | elapsed:   44.5s finished\n"
     ]
    },
    {
     "data": {
      "text/plain": [
       "GridSearchCV(cv=StratifiedKFold(n_splits=10, random_state=10, shuffle=False),\n",
       "       error_score='raise-deprecating',\n",
       "       estimator=LogisticRegression(C=1.0, class_weight='balanced', dual=False,\n",
       "          fit_intercept=True, intercept_scaling=1, max_iter=1000,\n",
       "          multi_class='warn', n_jobs=None, penalty='l2', random_state=1,\n",
       "          solver='warn', tol=0.0001, verbose=0, warm_start=False),\n",
       "       fit_params=None, iid=False, n_jobs=None,\n",
       "       param_grid=[{'C': array([1.00000e-03, 2.06914e-03, 4.28133e-03, 8.85867e-03, 1.83298e-02,\n",
       "       3.79269e-02, 7.84760e-02, 1.62378e-01, 3.35982e-01, 6.95193e-01,\n",
       "       1.43845e+00, 2.97635e+00, 6.15848e+00, 1.27427e+01, 2.63665e+01,\n",
       "       5.45559e+01, 1.12884e+02, 2.33572e+02, 4.83293e+02, 1.00000...00e+03]), 'penalty': ['l2'], 'solver': ['liblinear', 'newton-cg', 'lbfgs'], 'multi_class': ['ovr']}],\n",
       "       pre_dispatch='2*n_jobs', refit=True, return_train_score='warn',\n",
       "       scoring='balanced_accuracy', verbose=True)"
      ]
     },
     "execution_count": 91,
     "metadata": {},
     "output_type": "execute_result"
    }
   ],
   "source": [
    "#::GMG::Run fit with all sets of parameters.\n",
    "# https://scikit-learn.org/stable/modules/generated/sklearn.model_selection.GridSearchCV.html#sklearn.model_selection.GridSearchCV.fit\n",
    "grid_1.fit(x_train, y_train)"
   ]
  },
  {
   "cell_type": "code",
   "execution_count": 92,
   "metadata": {
    "hidden": true
   },
   "outputs": [
    {
     "name": "stdout",
     "output_type": "stream",
     "text": [
      "Parameters: {'C': 1.438449888287663, 'multi_class': 'ovr', 'penalty': 'l2', 'solver': 'liblinear'} \n",
      "Best estimator: LogisticRegression(C=1.438449888287663, class_weight='balanced', dual=False,\n",
      "          fit_intercept=True, intercept_scaling=1, max_iter=1000,\n",
      "          multi_class='ovr', n_jobs=None, penalty='l2', random_state=1,\n",
      "          solver='liblinear', tol=0.0001, verbose=0, warm_start=False) \n",
      "Best Score: 0.721\n"
     ]
    }
   ],
   "source": [
    "#::GMG::Useful attributes of grid object\n",
    "# https://scikit-learn.org/stable/modules/generated/sklearn.model_selection.GridSearchCV.html\n",
    "print(\n",
    "    'Parameters: {} \\nBest estimator: {} \\nBest Score: {:4.3f}'.format(\n",
    "        grid_1.best_params_, grid_1.best_estimator_, grid_1.best_score_\n",
    "    )\n",
    ")"
   ]
  },
  {
   "cell_type": "code",
   "execution_count": 104,
   "metadata": {
    "hidden": true
   },
   "outputs": [
    {
     "name": "stdout",
     "output_type": "stream",
     "text": [
      "- The logistic regression model parameters: \n",
      "  {'C': 1.438449888287663, 'multi_class': 'ovr', 'penalty': 'l2', 'solver': 'liblinear'} \n",
      "  yield the best (balanced accuracy) score: 0.721 \n",
      "  using make_scorer(balanced_accuracy_score)\n"
     ]
    }
   ],
   "source": [
    "#::GMG::cv_results_ : dict of numpy (masked) ndarrays\n",
    "#       A dict with keys as column headers and values as columns, that can be imported into a pandas DataFrame.\n",
    "# https://scikit-learn.org/stable/modules/generated/sklearn.model_selection.GridSearchCV.html\n",
    "print(''.join(['- The logistic regression model parameters: \\n  {} ',\n",
    "              '\\n  yield the best (balanced accuracy) score: {:4.3f} ',\n",
    "              '\\n  using {}']\n",
    "             )\n",
    "        .format(\n",
    "            grid_1.cv_results_['params'][grid_1.best_index_], \n",
    "            grid_1.best_score_, \n",
    "            grid_1.scorer_\n",
    "    )\n",
    ")"
   ]
  },
  {
   "cell_type": "code",
   "execution_count": 96,
   "metadata": {
    "hidden": true
   },
   "outputs": [],
   "source": [
    "pred_gs = grid_1.predict(X = x_test)"
   ]
  },
  {
   "cell_type": "markdown",
   "metadata": {},
   "source": [
    "### evaluation"
   ]
  },
  {
   "cell_type": "code",
   "execution_count": 112,
   "metadata": {},
   "outputs": [],
   "source": [
    "#::GMG::cv_results_ : dict of numpy (masked) ndarrays\n",
    "#       A dict with keys as column headers and values as columns, that can be imported into a pandas DataFrame.\n",
    "# https://pandas.pydata.org/pandas-docs/stable/reference/api/pandas.DataFrame.from_dict.html\n",
    "# \n",
    "# https://stackoverflow.com/questions/15777951/how-to-suppress-pandas-future-warning\n",
    "#import warnings\n",
    "#warnings.simplefilter(action='ignore', category=FutureWarning)\n",
    "df_res = pd.DataFrame.from_dict(data = grid_1.cv_results_)"
   ]
  },
  {
   "cell_type": "code",
   "execution_count": 114,
   "metadata": {},
   "outputs": [
    {
     "data": {
      "text/plain": [
       "(80, 34)"
      ]
     },
     "execution_count": 114,
     "metadata": {},
     "output_type": "execute_result"
    }
   ],
   "source": [
    "df_res.shape"
   ]
  },
  {
   "cell_type": "code",
   "execution_count": 113,
   "metadata": {},
   "outputs": [
    {
     "data": {
      "text/html": [
       "<div>\n",
       "<style scoped>\n",
       "    .dataframe tbody tr th:only-of-type {\n",
       "        vertical-align: middle;\n",
       "    }\n",
       "\n",
       "    .dataframe tbody tr th {\n",
       "        vertical-align: top;\n",
       "    }\n",
       "\n",
       "    .dataframe thead th {\n",
       "        text-align: right;\n",
       "    }\n",
       "</style>\n",
       "<table border=\"1\" class=\"dataframe\">\n",
       "  <thead>\n",
       "    <tr style=\"text-align: right;\">\n",
       "      <th></th>\n",
       "      <th>mean_fit_time</th>\n",
       "      <th>std_fit_time</th>\n",
       "      <th>mean_score_time</th>\n",
       "      <th>std_score_time</th>\n",
       "      <th>param_C</th>\n",
       "      <th>param_multi_class</th>\n",
       "      <th>param_penalty</th>\n",
       "      <th>param_solver</th>\n",
       "      <th>params</th>\n",
       "      <th>split0_test_score</th>\n",
       "      <th>...</th>\n",
       "      <th>split2_train_score</th>\n",
       "      <th>split3_train_score</th>\n",
       "      <th>split4_train_score</th>\n",
       "      <th>split5_train_score</th>\n",
       "      <th>split6_train_score</th>\n",
       "      <th>split7_train_score</th>\n",
       "      <th>split8_train_score</th>\n",
       "      <th>split9_train_score</th>\n",
       "      <th>mean_train_score</th>\n",
       "      <th>std_train_score</th>\n",
       "    </tr>\n",
       "  </thead>\n",
       "  <tbody>\n",
       "    <tr>\n",
       "      <th>0</th>\n",
       "      <td>0.007445</td>\n",
       "      <td>0.004975</td>\n",
       "      <td>0.002652</td>\n",
       "      <td>0.000472</td>\n",
       "      <td>0.001</td>\n",
       "      <td>ovr</td>\n",
       "      <td>l1</td>\n",
       "      <td>liblinear</td>\n",
       "      <td>{'C': 0.001, 'multi_class': 'ovr', 'penalty': ...</td>\n",
       "      <td>0.500000</td>\n",
       "      <td>...</td>\n",
       "      <td>0.500000</td>\n",
       "      <td>0.504599</td>\n",
       "      <td>0.500000</td>\n",
       "      <td>0.500000</td>\n",
       "      <td>0.500000</td>\n",
       "      <td>0.500000</td>\n",
       "      <td>0.500000</td>\n",
       "      <td>0.515721</td>\n",
       "      <td>0.502032</td>\n",
       "      <td>0.004765</td>\n",
       "    </tr>\n",
       "    <tr>\n",
       "      <th>1</th>\n",
       "      <td>0.008280</td>\n",
       "      <td>0.002188</td>\n",
       "      <td>0.002597</td>\n",
       "      <td>0.000567</td>\n",
       "      <td>0.00206914</td>\n",
       "      <td>ovr</td>\n",
       "      <td>l1</td>\n",
       "      <td>liblinear</td>\n",
       "      <td>{'C': 0.00206913808111479, 'multi_class': 'ovr...</td>\n",
       "      <td>0.513072</td>\n",
       "      <td>...</td>\n",
       "      <td>0.612040</td>\n",
       "      <td>0.622352</td>\n",
       "      <td>0.624800</td>\n",
       "      <td>0.612935</td>\n",
       "      <td>0.621775</td>\n",
       "      <td>0.625280</td>\n",
       "      <td>0.617238</td>\n",
       "      <td>0.624960</td>\n",
       "      <td>0.620710</td>\n",
       "      <td>0.005004</td>\n",
       "    </tr>\n",
       "    <tr>\n",
       "      <th>2</th>\n",
       "      <td>0.007804</td>\n",
       "      <td>0.001403</td>\n",
       "      <td>0.002454</td>\n",
       "      <td>0.000070</td>\n",
       "      <td>0.00428133</td>\n",
       "      <td>ovr</td>\n",
       "      <td>l1</td>\n",
       "      <td>liblinear</td>\n",
       "      <td>{'C': 0.004281332398719396, 'multi_class': 'ov...</td>\n",
       "      <td>0.558824</td>\n",
       "      <td>...</td>\n",
       "      <td>0.620262</td>\n",
       "      <td>0.640329</td>\n",
       "      <td>0.636272</td>\n",
       "      <td>0.623373</td>\n",
       "      <td>0.636591</td>\n",
       "      <td>0.634919</td>\n",
       "      <td>0.633087</td>\n",
       "      <td>0.626877</td>\n",
       "      <td>0.630640</td>\n",
       "      <td>0.006713</td>\n",
       "    </tr>\n",
       "    <tr>\n",
       "      <th>3</th>\n",
       "      <td>0.008437</td>\n",
       "      <td>0.001853</td>\n",
       "      <td>0.002368</td>\n",
       "      <td>0.000044</td>\n",
       "      <td>0.00885867</td>\n",
       "      <td>ovr</td>\n",
       "      <td>l1</td>\n",
       "      <td>liblinear</td>\n",
       "      <td>{'C': 0.008858667904100823, 'multi_class': 'ov...</td>\n",
       "      <td>0.617647</td>\n",
       "      <td>...</td>\n",
       "      <td>0.654961</td>\n",
       "      <td>0.652592</td>\n",
       "      <td>0.648297</td>\n",
       "      <td>0.630382</td>\n",
       "      <td>0.641927</td>\n",
       "      <td>0.658330</td>\n",
       "      <td>0.651641</td>\n",
       "      <td>0.638902</td>\n",
       "      <td>0.645063</td>\n",
       "      <td>0.009340</td>\n",
       "    </tr>\n",
       "    <tr>\n",
       "      <th>4</th>\n",
       "      <td>0.011152</td>\n",
       "      <td>0.002343</td>\n",
       "      <td>0.002414</td>\n",
       "      <td>0.000107</td>\n",
       "      <td>0.0183298</td>\n",
       "      <td>ovr</td>\n",
       "      <td>l1</td>\n",
       "      <td>liblinear</td>\n",
       "      <td>{'C': 0.018329807108324356, 'multi_class': 'ov...</td>\n",
       "      <td>0.589869</td>\n",
       "      <td>...</td>\n",
       "      <td>0.657051</td>\n",
       "      <td>0.652453</td>\n",
       "      <td>0.659843</td>\n",
       "      <td>0.640095</td>\n",
       "      <td>0.653314</td>\n",
       "      <td>0.663347</td>\n",
       "      <td>0.645272</td>\n",
       "      <td>0.638743</td>\n",
       "      <td>0.650355</td>\n",
       "      <td>0.007942</td>\n",
       "    </tr>\n",
       "  </tbody>\n",
       "</table>\n",
       "<p>5 rows × 34 columns</p>\n",
       "</div>"
      ],
      "text/plain": [
       "   mean_fit_time  std_fit_time  mean_score_time  std_score_time     param_C  \\\n",
       "0       0.007445      0.004975         0.002652        0.000472       0.001   \n",
       "1       0.008280      0.002188         0.002597        0.000567  0.00206914   \n",
       "2       0.007804      0.001403         0.002454        0.000070  0.00428133   \n",
       "3       0.008437      0.001853         0.002368        0.000044  0.00885867   \n",
       "4       0.011152      0.002343         0.002414        0.000107   0.0183298   \n",
       "\n",
       "  param_multi_class param_penalty param_solver  \\\n",
       "0               ovr            l1    liblinear   \n",
       "1               ovr            l1    liblinear   \n",
       "2               ovr            l1    liblinear   \n",
       "3               ovr            l1    liblinear   \n",
       "4               ovr            l1    liblinear   \n",
       "\n",
       "                                              params  split0_test_score  \\\n",
       "0  {'C': 0.001, 'multi_class': 'ovr', 'penalty': ...           0.500000   \n",
       "1  {'C': 0.00206913808111479, 'multi_class': 'ovr...           0.513072   \n",
       "2  {'C': 0.004281332398719396, 'multi_class': 'ov...           0.558824   \n",
       "3  {'C': 0.008858667904100823, 'multi_class': 'ov...           0.617647   \n",
       "4  {'C': 0.018329807108324356, 'multi_class': 'ov...           0.589869   \n",
       "\n",
       "        ...         split2_train_score  split3_train_score  \\\n",
       "0       ...                   0.500000            0.504599   \n",
       "1       ...                   0.612040            0.622352   \n",
       "2       ...                   0.620262            0.640329   \n",
       "3       ...                   0.654961            0.652592   \n",
       "4       ...                   0.657051            0.652453   \n",
       "\n",
       "   split4_train_score  split5_train_score  split6_train_score  \\\n",
       "0            0.500000            0.500000            0.500000   \n",
       "1            0.624800            0.612935            0.621775   \n",
       "2            0.636272            0.623373            0.636591   \n",
       "3            0.648297            0.630382            0.641927   \n",
       "4            0.659843            0.640095            0.653314   \n",
       "\n",
       "   split7_train_score  split8_train_score  split9_train_score  \\\n",
       "0            0.500000            0.500000            0.515721   \n",
       "1            0.625280            0.617238            0.624960   \n",
       "2            0.634919            0.633087            0.626877   \n",
       "3            0.658330            0.651641            0.638902   \n",
       "4            0.663347            0.645272            0.638743   \n",
       "\n",
       "   mean_train_score  std_train_score  \n",
       "0          0.502032         0.004765  \n",
       "1          0.620710         0.005004  \n",
       "2          0.630640         0.006713  \n",
       "3          0.645063         0.009340  \n",
       "4          0.650355         0.007942  \n",
       "\n",
       "[5 rows x 34 columns]"
      ]
     },
     "execution_count": 113,
     "metadata": {},
     "output_type": "execute_result"
    }
   ],
   "source": [
    "df_res.head()"
   ]
  },
  {
   "cell_type": "code",
   "execution_count": 124,
   "metadata": {},
   "outputs": [
    {
     "name": "stdout",
     "output_type": "stream",
     "text": [
      "Best Score: 0.721 (+/- 0.120)\n"
     ]
    }
   ],
   "source": [
    "print ('Best Score: {:4.3f} (+/- {:4.3f})'.format(\n",
    "    df_res.mean_test_score[grid_1.best_index_], \n",
    "    2 * df_res.std_test_score[grid_1.best_index_]\n",
    "    )\n",
    ")"
   ]
  },
  {
   "cell_type": "code",
   "execution_count": 115,
   "metadata": {},
   "outputs": [
    {
     "name": "stdout",
     "output_type": "stream",
     "text": [
      "GridSearchCV Classification resport:\n",
      "              precision    recall  f1-score   support\n",
      "\n",
      "     healthy      0.881     0.832     0.856       143\n",
      "    diabetes      0.711     0.787     0.747        75\n",
      "\n",
      "   micro avg      0.817     0.817     0.817       218\n",
      "   macro avg      0.796     0.809     0.801       218\n",
      "weighted avg      0.823     0.817     0.819       218\n",
      "\n"
     ]
    }
   ],
   "source": [
    "#::GMG::Report\n",
    "print('GridSearchCV Classification resport:')\n",
    "print(classification_report(y_true = y_test, y_pred = pred_gs, \n",
    "                            target_names = target_names, digits = 3))"
   ]
  },
  {
   "cell_type": "code",
   "execution_count": 116,
   "metadata": {},
   "outputs": [
    {
     "name": "stdout",
     "output_type": "stream",
     "text": [
      "[[119  24]\n",
      " [ 16  59]]\n"
     ]
    }
   ],
   "source": [
    "#::GMG::Confusion Matrix\n",
    "cm_gs = confusion_matrix(y_true = y_test, y_pred = pred_gs)\n",
    "print(cm_gs)"
   ]
  },
  {
   "cell_type": "code",
   "execution_count": 117,
   "metadata": {},
   "outputs": [
    {
     "name": "stdout",
     "output_type": "stream",
     "text": [
      "GreadSearchCV Specificity: 0.832 \n",
      "GridSearchCV Sensitivity: 0.787\n"
     ]
    }
   ],
   "source": [
    "#::GMG::Unfolding of confusion matrix: True Negatives, False Positives, False Negatives\n",
    "#       and True positives where Negative = Healthy and Positive = Diabetes\n",
    "tn_gs, fp_gs, fn_gs, tp_gs = cm_gs.ravel()\n",
    "specificity_gs = tn_gs / (tn_gs + fp_gs)\n",
    "sensitivity_gs = tp_gs / (tp_gs + fn_gs)\n",
    "print(\n",
    "    'GreadSearchCV Specificity: {:4.3f} \\nGridSearchCV Sensitivity: {:4.3f}'.format(\n",
    "        specificity_bm, sensitivity_bm\n",
    "    )\n",
    ")"
   ]
  },
  {
   "cell_type": "code",
   "execution_count": 118,
   "metadata": {},
   "outputs": [
    {
     "name": "stdout",
     "output_type": "stream",
     "text": [
      "GridSearchCV Accuracy: 0.817 \n",
      "GridSearchCV Balanced Accuracy: 0.809\n"
     ]
    }
   ],
   "source": [
    "#::GMG::Accuracy versus Balanced Accuracy\n",
    "print('GridSearchCV Accuracy: {:4.3f} \\nGridSearchCV Balanced Accuracy: {:4.3f}'.format(\n",
    "    accuracy_score(y_true = y_test, y_pred = pred_gs), \n",
    "    balanced_accuracy_score(y_true = y_test, y_pred = pred_gs)\n",
    "  )\n",
    ")"
   ]
  },
  {
   "cell_type": "code",
   "execution_count": 119,
   "metadata": {},
   "outputs": [],
   "source": [
    "#::GMG::AUC\n",
    "prob_gs = grid_1.predict_proba(X = x_test)[:, 1]"
   ]
  },
  {
   "cell_type": "code",
   "execution_count": 120,
   "metadata": {},
   "outputs": [
    {
     "name": "stdout",
     "output_type": "stream",
     "text": [
      "GridSearchCV Average Precision Weighted: 0.734\n"
     ]
    }
   ],
   "source": [
    "#::GMG::average precision \n",
    "apc_gs = average_precision_score(y_true = y_test, \n",
    "                                 y_score = prob_gs, \n",
    "                                 pos_label = 1, \n",
    "                                 average = 'weighted')\n",
    "print('GridSearchCV Average Precision Weighted: {:4.3f}'.format(apc_gs))"
   ]
  },
  {
   "cell_type": "code",
   "execution_count": 121,
   "metadata": {},
   "outputs": [],
   "source": [
    "#::GMG::Precision-Recall Curve\n",
    "precision_gs, recall_gs, _ = precision_recall_curve(\n",
    "    y_true = y_test, \n",
    "    probas_pred = prob_gs, \n",
    "    pos_label = 1\n",
    ")"
   ]
  },
  {
   "cell_type": "code",
   "execution_count": 122,
   "metadata": {},
   "outputs": [
    {
     "name": "stdout",
     "output_type": "stream",
     "text": [
      "AUC Precision/Recall: 0.727\n"
     ]
    }
   ],
   "source": [
    "#::GMG::AUC (precision, recall)\n",
    "auc_pr_gs = auc(x = recall_gs, y = precision_gs)\n",
    "print('AUC Precision/Recall: {:4.3f}'.format(auc_pr_gs))"
   ]
  },
  {
   "cell_type": "code",
   "execution_count": 123,
   "metadata": {},
   "outputs": [
    {
     "data": {
      "text/plain": [
       "Text(0.5, 1.0, '2-class Precision-Recall curve: AP=0.73')"
      ]
     },
     "execution_count": 123,
     "metadata": {},
     "output_type": "execute_result"
    },
    {
     "data": {
      "image/png": "[encoded data removed]",
      "text/plain": [
       "<Figure size 720x648 with 1 Axes>"
      ]
     },
     "metadata": {},
     "output_type": "display_data"
    }
   ],
   "source": [
    "#::GMG::Plot Recall-Precision Curve\n",
    "plt.figure(figsize = (10,9))\n",
    "# plot no skill\n",
    "plt.plot([0, 1], [0.5, 0.5], linestyle='--', color = 'C1')\n",
    "plt.step(recall_gs, precision_gs, color='y', alpha=0.2, where='post')\n",
    "plt.fill_between(recall_gs, precision_gs, alpha=0.2, color='y', **step_kwargs)\n",
    "plt.xlabel('Recall')\n",
    "plt.ylabel('Precision')\n",
    "plt.ylim([0.0, 1.05])\n",
    "plt.xlim([0.0, 1.0])\n",
    "plt.title('2-class Precision-Recall curve: AP={0:0.2f}'.format(apc_gs))"
   ]
  }
 ],
 "metadata": {
  "kernelspec": {
   "display_name": "Python 3",
   "language": "python",
   "name": "python3"
  },
  "language_info": {
   "codemirror_mode": {
    "name": "ipython",
    "version": 3
   },
   "file_extension": ".py",
   "mimetype": "text/x-python",
   "name": "python",
   "nbconvert_exporter": "python",
   "pygments_lexer": "ipython3",
   "version": "3.6.6"
  }
 },
 "nbformat": 4,
 "nbformat_minor": 2
}
