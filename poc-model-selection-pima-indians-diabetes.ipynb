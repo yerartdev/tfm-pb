{
  "nbformat": 4,
  "nbformat_minor": 0,
  "metadata": {
    "colab": {
      "name": "poc-model-selection-pima-indians-diabetes.ipynb",
      "version": "0.3.2",
      "provenance": []
    },
    "language_info": {
      "codemirror_mode": {
        "name": "ipython",
        "version": 3
      },
      "file_extension": ".py",
      "mimetype": "text/x-python",
      "name": "python",
      "nbconvert_exporter": "python",
      "pygments_lexer": "ipython3",
      "version": "3.6.6"
    },
    "kernelspec": {
      "display_name": "Python 3",
      "language": "python",
      "name": "python3"
    }
  },
  "cells": [
    {
      "cell_type": "markdown",
      "metadata": {
        "id": "t_kmztUPeHzk",
        "colab_type": "text"
      },
      "source": [
        "# Gerardo de Miguel González"
      ]
    },
    {
      "cell_type": "markdown",
      "metadata": {
        "id": "V8EpspwKeHzm",
        "colab_type": "text"
      },
      "source": [
        "# Model selection Proof of Concept"
      ]
    },
    {
      "cell_type": "markdown",
      "metadata": {
        "heading_collapsed": true,
        "id": "Z3pmjfWVeHzn",
        "colab_type": "text"
      },
      "source": [
        "## Libraries"
      ]
    },
    {
      "cell_type": "markdown",
      "metadata": {
        "heading_collapsed": true,
        "hidden": true,
        "id": "5U-Tlp6leHzo",
        "colab_type": "text"
      },
      "source": [
        "### general"
      ]
    },
    {
      "cell_type": "code",
      "metadata": {
        "hidden": true,
        "id": "agUOw07weHzq",
        "colab_type": "code",
        "colab": {}
      },
      "source": [
        "import pandas as pd\n",
        "import numpy as np"
      ],
      "execution_count": 0,
      "outputs": []
    },
    {
      "cell_type": "code",
      "metadata": {
        "hidden": true,
        "id": "G8xyzC_leHzv",
        "colab_type": "code",
        "colab": {}
      },
      "source": [
        "#::GMG::seaborn: statistical data visualization for a heatmap of pandas.corr()\n",
        "#::NOTE::There's a lot of fuss for 'heatmapping' with matplotlib only\n",
        "# https://matplotlib.org/3.1.0/gallery/images_contours_and_fields/image_annotated_heatmap.html\n",
        "%matplotlib inline\n",
        "import matplotlib.pyplot as plt\n",
        "import seaborn as sns"
      ],
      "execution_count": 0,
      "outputs": []
    },
    {
      "cell_type": "code",
      "metadata": {
        "hidden": true,
        "id": "5BgM5ij0eHzy",
        "colab_type": "code",
        "colab": {}
      },
      "source": [
        "#::GMG::Helpers\n",
        "# https://stackabuse.com/how-to-format-dates-in-python/\n",
        "import datetime"
      ],
      "execution_count": 0,
      "outputs": []
    },
    {
      "cell_type": "markdown",
      "metadata": {
        "heading_collapsed": true,
        "hidden": true,
        "id": "X_Z-y8wJeHz0",
        "colab_type": "text"
      },
      "source": [
        "### training and testing"
      ]
    },
    {
      "cell_type": "code",
      "metadata": {
        "hidden": true,
        "id": "ncg0TsVmeHz2",
        "colab_type": "code",
        "colab": {}
      },
      "source": [
        "#::GMG::Split train and test: Provides a high-variance estimate of out-of-sample accuracy\n",
        "# It is a general practice to avoid training and testing on the same data.\n",
        "# https://scikit-learn.org/stable/modules/classes.html#module-sklearn.model_selection\n",
        "from sklearn.model_selection import train_test_split"
      ],
      "execution_count": 0,
      "outputs": []
    },
    {
      "cell_type": "code",
      "metadata": {
        "hidden": true,
        "id": "eDYjDDu_eHz5",
        "colab_type": "code",
        "colab": {}
      },
      "source": [
        "#::GMG::k-fold split and CV score\n",
        "# https://scikit-learn.org/stable/modules/cross_validation.html\n",
        "# https://scikit-learn.org/stable/modules/generated/sklearn.model_selection.KFold.html\n",
        "# https://scikit-learn.org/stable/modules/generated/sklearn.model_selection.cross_val_score.html\n",
        "# https://scikit-learn.org/stable/modules/generated/sklearn.model_selection.cross_validate.html\n",
        "from sklearn.model_selection import StratifiedKFold, cross_val_score, cross_validate"
      ],
      "execution_count": 0,
      "outputs": []
    },
    {
      "cell_type": "markdown",
      "metadata": {
        "heading_collapsed": true,
        "hidden": true,
        "id": "rfJIWBE9eHz9",
        "colab_type": "text"
      },
      "source": [
        "### models"
      ]
    },
    {
      "cell_type": "code",
      "metadata": {
        "hidden": true,
        "id": "wy55jrrqeHz-",
        "colab_type": "code",
        "colab": {}
      },
      "source": [
        "#::GMG::Logistic Regression (aka logit) for classification\n",
        "# https://scikit-learn.org/stable/modules/generated/sklearn.linear_model.LogisticRegression.html\n",
        "from sklearn.linear_model import LogisticRegression"
      ],
      "execution_count": 0,
      "outputs": []
    },
    {
      "cell_type": "code",
      "metadata": {
        "hidden": true,
        "id": "guDQyIKleH0B",
        "colab_type": "code",
        "colab": {}
      },
      "source": [
        "#::GMG::Extra models for model selection\n",
        "# https://towardsdatascience.com/machine-learning-workflow-on-diabetes-data-part-01-573864fcc6b8\n",
        "from sklearn.neighbors import KNeighborsClassifier\n",
        "from sklearn.svm import SVC\n",
        "from sklearn.tree import DecisionTreeClassifier\n",
        "from sklearn.naive_bayes import GaussianNB\n",
        "from sklearn.ensemble import RandomForestClassifier\n",
        "from sklearn.ensemble import GradientBoostingClassifier"
      ],
      "execution_count": 0,
      "outputs": []
    },
    {
      "cell_type": "code",
      "metadata": {
        "hidden": true,
        "id": "_ZkFaahCeH0F",
        "colab_type": "code",
        "colab": {}
      },
      "source": [
        "#::GMG::Persistence of the models\n",
        "# https://docs.python.org/3.6/library/pickle.html\n",
        "# https://scikit-learn.org/stable/modules/model_persistence.html\n",
        "# https://machinelearningmastery.com/save-load-machine-learning-models-python-scikit-learn/\n",
        "import pickle as pk"
      ],
      "execution_count": 0,
      "outputs": []
    },
    {
      "cell_type": "markdown",
      "metadata": {
        "heading_collapsed": true,
        "hidden": true,
        "id": "3iOJx3fzeH0J",
        "colab_type": "text"
      },
      "source": [
        "### metrics"
      ]
    },
    {
      "cell_type": "code",
      "metadata": {
        "hidden": true,
        "id": "y0e3ZNtDeH0K",
        "colab_type": "code",
        "colab": {}
      },
      "source": [
        "#::GMG::Accuracy and Balanced Accuracy for taking into account the dataset (im)balance\n",
        "# https://scikit-learn.org/stable/modules/model_evaluation.html#balanced-accuracy-score\n",
        "# https://scikit-learn.org/stable/modules/generated/sklearn.metrics.balanced_accuracy_score.html#sklearn.metrics.balanced_accuracy_score\n",
        "from sklearn.metrics import accuracy_score, balanced_accuracy_score"
      ],
      "execution_count": 0,
      "outputs": []
    },
    {
      "cell_type": "code",
      "metadata": {
        "hidden": true,
        "id": "2JcLbiizeH0Q",
        "colab_type": "code",
        "colab": {}
      },
      "source": [
        "#::GMG::ROC/AUC\n",
        "# https://en.wikipedia.org/wiki/Receiver_operating_characteristic\n",
        "# https://scikit-learn.org/stable/modules/generated/sklearn.metrics.roc_curve.html\n",
        "# https://scikit-learn.org/stable/modules/generated/sklearn.metrics.roc_auc_score.html\n",
        "# https://scikit-learn.org/stable/modules/generated/sklearn.metrics.precision_recall_curve.html\n",
        "# https://scikit-learn.org/stable/modules/generated/sklearn.metrics.auc.html\n",
        "# https://scikit-learn.org/stable/modules/generated/sklearn.metrics.average_precision_score.html\n",
        "from sklearn.metrics import roc_curve, roc_auc_score \n",
        "from sklearn.metrics import precision_recall_curve, auc, average_precision_score"
      ],
      "execution_count": 0,
      "outputs": []
    },
    {
      "cell_type": "code",
      "metadata": {
        "hidden": true,
        "id": "hzJ_r8_WeH0S",
        "colab_type": "code",
        "colab": {}
      },
      "source": [
        "#::GMG::More metrics\n",
        "# https://scikit-learn.org/stable/modules/generated/sklearn.metrics.precision_score.html\n",
        "# https://scikit-learn.org/stable/modules/generated/sklearn.metrics.recall_score.html\n",
        "# https://scikit-learn.org/stable/modules/generated/sklearn.metrics.f1_score.html\n",
        "from sklearn.metrics import precision_score, recall_score, f1_score"
      ],
      "execution_count": 0,
      "outputs": []
    },
    {
      "cell_type": "code",
      "metadata": {
        "hidden": true,
        "id": "fuq1A-_AeH0V",
        "colab_type": "code",
        "colab": {}
      },
      "source": [
        "#::GMG::NOTE::one report for all metrics and confusion matrix\n",
        "# https://scikit-learn.org/stable/modules/generated/sklearn.metrics.confusion_matrix.html\n",
        "# https://scikit-learn.org/stable/modules/model_evaluation.html#classification-report\n",
        "# https://scikit-learn.org/stable/modules/generated/sklearn.metrics.classification_report.html\n",
        "from sklearn.metrics import confusion_matrix\n",
        "from sklearn.metrics import classification_report"
      ],
      "execution_count": 0,
      "outputs": []
    },
    {
      "cell_type": "markdown",
      "metadata": {
        "heading_collapsed": true,
        "id": "U1nZJloVeH0X",
        "colab_type": "text"
      },
      "source": [
        "## Dataset"
      ]
    },
    {
      "cell_type": "markdown",
      "metadata": {
        "heading_collapsed": true,
        "hidden": true,
        "id": "qqTzvTfgeH0Y",
        "colab_type": "text"
      },
      "source": [
        "### Load"
      ]
    },
    {
      "cell_type": "markdown",
      "metadata": {
        "hidden": true,
        "id": "wRImPIsgeH0Z",
        "colab_type": "text"
      },
      "source": [
        "**::GMG::** You may [download the data from kaggle](https://www.kaggle.com/uciml/pima-indians-diabetes-database/downloads/pima-indians-diabetes-database.zip/1) in zipped csv format (which *includes a header* with the column names by the way) using [the reference provided](https://www.kaggle.com/uciml/pima-indians-diabetes-database) in the Datacamp article *if you have an account in kaggle*. I haven't checked it but you should be able [to use the kaggle API](https://medium.com/@yvettewu.dw/tutorial-kaggle-api-google-colaboratory-1a054a382de0) to automate the download from code *with an API key* created with your account. "
      ]
    },
    {
      "cell_type": "markdown",
      "metadata": {
        "hidden": true,
        "id": "5d5dCuPGeH0a",
        "colab_type": "text"
      },
      "source": [
        "**::GMG::** I've already downloaded the csv dataset *manually from kaggle* with my account  and placed it in a data folder."
      ]
    },
    {
      "cell_type": "code",
      "metadata": {
        "hidden": true,
        "id": "mMa1iijIeH0b",
        "colab_type": "code",
        "colab": {}
      },
      "source": [
        "#::GMG::NOTICE::Changed platform from IFCA DataScienceHub to Google Colaboratory\n",
        "#       This cell has no meaning on this platform\n",
        "#!ls data"
      ],
      "execution_count": 0,
      "outputs": []
    },
    {
      "cell_type": "code",
      "metadata": {
        "hidden": true,
        "id": "PjNN9jtoeH0g",
        "colab_type": "code",
        "colab": {}
      },
      "source": [
        "#::GMG::Dataframe\n",
        "#data = pd.read_csv(\"data/pima-indians-diabetes.csv\")\n",
        "#::NOTE::Colaboratory change, I get it from my Github\n",
        "# https://stackoverflow.com/questions/32400867/pandas-read-csv-from-url/41880513#41880513\n",
        "data = pd.read_csv(\n",
        " 'https://github.com/yerartdev/tfm-pb/raw/master/data/pima-indians-diabetes.csv'\n",
        ")"
      ],
      "execution_count": 0,
      "outputs": []
    },
    {
      "cell_type": "code",
      "metadata": {
        "hidden": true,
        "id": "RxEUEr4ceH0j",
        "colab_type": "code",
        "colab": {
          "base_uri": "https://localhost:8080/",
          "height": 202
        },
        "outputId": "7e45aa6f-6461-47c5-fdba-d01af258e902"
      },
      "source": [
        "data.tail()"
      ],
      "execution_count": 17,
      "outputs": [
        {
          "output_type": "execute_result",
          "data": {
            "text/html": [
              "<div>\n",
              "<style scoped>\n",
              "    .dataframe tbody tr th:only-of-type {\n",
              "        vertical-align: middle;\n",
              "    }\n",
              "\n",
              "    .dataframe tbody tr th {\n",
              "        vertical-align: top;\n",
              "    }\n",
              "\n",
              "    .dataframe thead th {\n",
              "        text-align: right;\n",
              "    }\n",
              "</style>\n",
              "<table border=\"1\" class=\"dataframe\">\n",
              "  <thead>\n",
              "    <tr style=\"text-align: right;\">\n",
              "      <th></th>\n",
              "      <th>Pregnancies</th>\n",
              "      <th>Glucose</th>\n",
              "      <th>BloodPressure</th>\n",
              "      <th>SkinThickness</th>\n",
              "      <th>Insulin</th>\n",
              "      <th>BMI</th>\n",
              "      <th>DiabetesPedigreeFunction</th>\n",
              "      <th>Age</th>\n",
              "      <th>Outcome</th>\n",
              "    </tr>\n",
              "  </thead>\n",
              "  <tbody>\n",
              "    <tr>\n",
              "      <th>763</th>\n",
              "      <td>10</td>\n",
              "      <td>101</td>\n",
              "      <td>76</td>\n",
              "      <td>48</td>\n",
              "      <td>180</td>\n",
              "      <td>32.9</td>\n",
              "      <td>0.171</td>\n",
              "      <td>63</td>\n",
              "      <td>0</td>\n",
              "    </tr>\n",
              "    <tr>\n",
              "      <th>764</th>\n",
              "      <td>2</td>\n",
              "      <td>122</td>\n",
              "      <td>70</td>\n",
              "      <td>27</td>\n",
              "      <td>0</td>\n",
              "      <td>36.8</td>\n",
              "      <td>0.340</td>\n",
              "      <td>27</td>\n",
              "      <td>0</td>\n",
              "    </tr>\n",
              "    <tr>\n",
              "      <th>765</th>\n",
              "      <td>5</td>\n",
              "      <td>121</td>\n",
              "      <td>72</td>\n",
              "      <td>23</td>\n",
              "      <td>112</td>\n",
              "      <td>26.2</td>\n",
              "      <td>0.245</td>\n",
              "      <td>30</td>\n",
              "      <td>0</td>\n",
              "    </tr>\n",
              "    <tr>\n",
              "      <th>766</th>\n",
              "      <td>1</td>\n",
              "      <td>126</td>\n",
              "      <td>60</td>\n",
              "      <td>0</td>\n",
              "      <td>0</td>\n",
              "      <td>30.1</td>\n",
              "      <td>0.349</td>\n",
              "      <td>47</td>\n",
              "      <td>1</td>\n",
              "    </tr>\n",
              "    <tr>\n",
              "      <th>767</th>\n",
              "      <td>1</td>\n",
              "      <td>93</td>\n",
              "      <td>70</td>\n",
              "      <td>31</td>\n",
              "      <td>0</td>\n",
              "      <td>30.4</td>\n",
              "      <td>0.315</td>\n",
              "      <td>23</td>\n",
              "      <td>0</td>\n",
              "    </tr>\n",
              "  </tbody>\n",
              "</table>\n",
              "</div>"
            ],
            "text/plain": [
              "     Pregnancies  Glucose  ...  Age  Outcome\n",
              "763           10      101  ...   63        0\n",
              "764            2      122  ...   27        0\n",
              "765            5      121  ...   30        0\n",
              "766            1      126  ...   47        1\n",
              "767            1       93  ...   23        0\n",
              "\n",
              "[5 rows x 9 columns]"
            ]
          },
          "metadata": {
            "tags": []
          },
          "execution_count": 17
        }
      ]
    },
    {
      "cell_type": "markdown",
      "metadata": {
        "hidden": true,
        "id": "MzKZymLFeH0n",
        "colab_type": "text"
      },
      "source": [
        "**::GMG::** There are 8 different integer and real features and the categorical (binary) *Outcome* (i.e. classification) where 1 stands for having diabetes, and 0 denotes not havving diabetes. The dataset is known to have missing values. Specifically, there are missing observations for some columns that are marked as a zero value. A zero value will be invalid for for body mass index or blood pressure, for example."
      ]
    },
    {
      "cell_type": "code",
      "metadata": {
        "hidden": true,
        "id": "0b4QQ87ueH0o",
        "colab_type": "code",
        "colab": {
          "base_uri": "https://localhost:8080/",
          "height": 35
        },
        "outputId": "5e27c881-1426-450b-c17c-76b383413834"
      },
      "source": [
        "print(\"Diabetes data set dimensions : {}\".format(data.shape))"
      ],
      "execution_count": 18,
      "outputs": [
        {
          "output_type": "stream",
          "text": [
            "Diabetes data set dimensions : (768, 9)\n"
          ],
          "name": "stdout"
        }
      ]
    },
    {
      "cell_type": "markdown",
      "metadata": {
        "heading_collapsed": true,
        "hidden": true,
        "id": "fKaEtv5LeH0w",
        "colab_type": "text"
      },
      "source": [
        "### Exploratory Data Analysis"
      ]
    },
    {
      "cell_type": "code",
      "metadata": {
        "hidden": true,
        "id": "kLpcLLIKeH0x",
        "colab_type": "code",
        "colab": {
          "base_uri": "https://localhost:8080/",
          "height": 0
        },
        "outputId": "43a20bf8-2787-4505-ad0f-7d58ddde9973"
      },
      "source": [
        "#::GMG::Do the cleaning if need be\n",
        "# https://towardsdatascience.com/machine-learning-workflow-on-diabetes-data-part-01-573864fcc6b8\n",
        "data.info()"
      ],
      "execution_count": 19,
      "outputs": [
        {
          "output_type": "stream",
          "text": [
            "<class 'pandas.core.frame.DataFrame'>\n",
            "RangeIndex: 768 entries, 0 to 767\n",
            "Data columns (total 9 columns):\n",
            "Pregnancies                 768 non-null int64\n",
            "Glucose                     768 non-null int64\n",
            "BloodPressure               768 non-null int64\n",
            "SkinThickness               768 non-null int64\n",
            "Insulin                     768 non-null int64\n",
            "BMI                         768 non-null float64\n",
            "DiabetesPedigreeFunction    768 non-null float64\n",
            "Age                         768 non-null int64\n",
            "Outcome                     768 non-null int64\n",
            "dtypes: float64(2), int64(7)\n",
            "memory usage: 54.1 KB\n"
          ],
          "name": "stdout"
        }
      ]
    },
    {
      "cell_type": "code",
      "metadata": {
        "hidden": true,
        "id": "_0dQUqyKeH03",
        "colab_type": "code",
        "colab": {
          "base_uri": "https://localhost:8080/",
          "height": 191
        },
        "outputId": "2e40369e-a723-47f5-f8ac-1771e8c63cec"
      },
      "source": [
        "data.isnull().sum()"
      ],
      "execution_count": 20,
      "outputs": [
        {
          "output_type": "execute_result",
          "data": {
            "text/plain": [
              "Pregnancies                 0\n",
              "Glucose                     0\n",
              "BloodPressure               0\n",
              "SkinThickness               0\n",
              "Insulin                     0\n",
              "BMI                         0\n",
              "DiabetesPedigreeFunction    0\n",
              "Age                         0\n",
              "Outcome                     0\n",
              "dtype: int64"
            ]
          },
          "metadata": {
            "tags": []
          },
          "execution_count": 20
        }
      ]
    },
    {
      "cell_type": "code",
      "metadata": {
        "hidden": true,
        "id": "uNv9qy1feH07",
        "colab_type": "code",
        "colab": {
          "base_uri": "https://localhost:8080/",
          "height": 191
        },
        "outputId": "1d356fe2-f7c8-4dd5-dbb9-bf9ec1dd4328"
      },
      "source": [
        "data.isna().sum()"
      ],
      "execution_count": 21,
      "outputs": [
        {
          "output_type": "execute_result",
          "data": {
            "text/plain": [
              "Pregnancies                 0\n",
              "Glucose                     0\n",
              "BloodPressure               0\n",
              "SkinThickness               0\n",
              "Insulin                     0\n",
              "BMI                         0\n",
              "DiabetesPedigreeFunction    0\n",
              "Age                         0\n",
              "Outcome                     0\n",
              "dtype: int64"
            ]
          },
          "metadata": {
            "tags": []
          },
          "execution_count": 21
        }
      ]
    },
    {
      "cell_type": "code",
      "metadata": {
        "hidden": true,
        "id": "U3wXwHzneH1A",
        "colab_type": "code",
        "colab": {
          "base_uri": "https://localhost:8080/",
          "height": 294
        },
        "outputId": "782c4656-a145-4baa-d576-30ca28b24c7f"
      },
      "source": [
        "#::GMG::Statistics reveal some issues related to invalid values on some features, \n",
        "#       i.e. Glucose, BloodPressure, SkinThickness, Insulin and BMI \n",
        "#       which have ZEROS (min statistic) in their values!\n",
        "#::NOTE::Do I need to standarize (scale) the features too?\n",
        "data.describe()"
      ],
      "execution_count": 22,
      "outputs": [
        {
          "output_type": "execute_result",
          "data": {
            "text/html": [
              "<div>\n",
              "<style scoped>\n",
              "    .dataframe tbody tr th:only-of-type {\n",
              "        vertical-align: middle;\n",
              "    }\n",
              "\n",
              "    .dataframe tbody tr th {\n",
              "        vertical-align: top;\n",
              "    }\n",
              "\n",
              "    .dataframe thead th {\n",
              "        text-align: right;\n",
              "    }\n",
              "</style>\n",
              "<table border=\"1\" class=\"dataframe\">\n",
              "  <thead>\n",
              "    <tr style=\"text-align: right;\">\n",
              "      <th></th>\n",
              "      <th>Pregnancies</th>\n",
              "      <th>Glucose</th>\n",
              "      <th>BloodPressure</th>\n",
              "      <th>SkinThickness</th>\n",
              "      <th>Insulin</th>\n",
              "      <th>BMI</th>\n",
              "      <th>DiabetesPedigreeFunction</th>\n",
              "      <th>Age</th>\n",
              "      <th>Outcome</th>\n",
              "    </tr>\n",
              "  </thead>\n",
              "  <tbody>\n",
              "    <tr>\n",
              "      <th>count</th>\n",
              "      <td>768.000000</td>\n",
              "      <td>768.000000</td>\n",
              "      <td>768.000000</td>\n",
              "      <td>768.000000</td>\n",
              "      <td>768.000000</td>\n",
              "      <td>768.000000</td>\n",
              "      <td>768.000000</td>\n",
              "      <td>768.000000</td>\n",
              "      <td>768.000000</td>\n",
              "    </tr>\n",
              "    <tr>\n",
              "      <th>mean</th>\n",
              "      <td>3.845052</td>\n",
              "      <td>120.894531</td>\n",
              "      <td>69.105469</td>\n",
              "      <td>20.536458</td>\n",
              "      <td>79.799479</td>\n",
              "      <td>31.992578</td>\n",
              "      <td>0.471876</td>\n",
              "      <td>33.240885</td>\n",
              "      <td>0.348958</td>\n",
              "    </tr>\n",
              "    <tr>\n",
              "      <th>std</th>\n",
              "      <td>3.369578</td>\n",
              "      <td>31.972618</td>\n",
              "      <td>19.355807</td>\n",
              "      <td>15.952218</td>\n",
              "      <td>115.244002</td>\n",
              "      <td>7.884160</td>\n",
              "      <td>0.331329</td>\n",
              "      <td>11.760232</td>\n",
              "      <td>0.476951</td>\n",
              "    </tr>\n",
              "    <tr>\n",
              "      <th>min</th>\n",
              "      <td>0.000000</td>\n",
              "      <td>0.000000</td>\n",
              "      <td>0.000000</td>\n",
              "      <td>0.000000</td>\n",
              "      <td>0.000000</td>\n",
              "      <td>0.000000</td>\n",
              "      <td>0.078000</td>\n",
              "      <td>21.000000</td>\n",
              "      <td>0.000000</td>\n",
              "    </tr>\n",
              "    <tr>\n",
              "      <th>25%</th>\n",
              "      <td>1.000000</td>\n",
              "      <td>99.000000</td>\n",
              "      <td>62.000000</td>\n",
              "      <td>0.000000</td>\n",
              "      <td>0.000000</td>\n",
              "      <td>27.300000</td>\n",
              "      <td>0.243750</td>\n",
              "      <td>24.000000</td>\n",
              "      <td>0.000000</td>\n",
              "    </tr>\n",
              "    <tr>\n",
              "      <th>50%</th>\n",
              "      <td>3.000000</td>\n",
              "      <td>117.000000</td>\n",
              "      <td>72.000000</td>\n",
              "      <td>23.000000</td>\n",
              "      <td>30.500000</td>\n",
              "      <td>32.000000</td>\n",
              "      <td>0.372500</td>\n",
              "      <td>29.000000</td>\n",
              "      <td>0.000000</td>\n",
              "    </tr>\n",
              "    <tr>\n",
              "      <th>75%</th>\n",
              "      <td>6.000000</td>\n",
              "      <td>140.250000</td>\n",
              "      <td>80.000000</td>\n",
              "      <td>32.000000</td>\n",
              "      <td>127.250000</td>\n",
              "      <td>36.600000</td>\n",
              "      <td>0.626250</td>\n",
              "      <td>41.000000</td>\n",
              "      <td>1.000000</td>\n",
              "    </tr>\n",
              "    <tr>\n",
              "      <th>max</th>\n",
              "      <td>17.000000</td>\n",
              "      <td>199.000000</td>\n",
              "      <td>122.000000</td>\n",
              "      <td>99.000000</td>\n",
              "      <td>846.000000</td>\n",
              "      <td>67.100000</td>\n",
              "      <td>2.420000</td>\n",
              "      <td>81.000000</td>\n",
              "      <td>1.000000</td>\n",
              "    </tr>\n",
              "  </tbody>\n",
              "</table>\n",
              "</div>"
            ],
            "text/plain": [
              "       Pregnancies     Glucose  ...         Age     Outcome\n",
              "count   768.000000  768.000000  ...  768.000000  768.000000\n",
              "mean      3.845052  120.894531  ...   33.240885    0.348958\n",
              "std       3.369578   31.972618  ...   11.760232    0.476951\n",
              "min       0.000000    0.000000  ...   21.000000    0.000000\n",
              "25%       1.000000   99.000000  ...   24.000000    0.000000\n",
              "50%       3.000000  117.000000  ...   29.000000    0.000000\n",
              "75%       6.000000  140.250000  ...   41.000000    1.000000\n",
              "max      17.000000  199.000000  ...   81.000000    1.000000\n",
              "\n",
              "[8 rows x 9 columns]"
            ]
          },
          "metadata": {
            "tags": []
          },
          "execution_count": 22
        }
      ]
    },
    {
      "cell_type": "code",
      "metadata": {
        "hidden": true,
        "id": "AqnUXcHleH1G",
        "colab_type": "code",
        "colab": {
          "base_uri": "https://localhost:8080/",
          "height": 1000
        },
        "outputId": "70a400ec-9583-4ed3-fccc-bfdfff363804"
      },
      "source": [
        "#::GMG::Histograms of the features grouped by Outcome\n",
        "# https://towardsdatascience.com/machine-learning-workflow-on-diabetes-data-part-01-573864fcc6b8\n",
        "#::NOTE::I can see the zeros in BMI, BloodPressure, Glucose, Insulin and SkinThickness!\n",
        "data.groupby('Outcome').hist(figsize=(9, 9))"
      ],
      "execution_count": 23,
      "outputs": [
        {
          "output_type": "execute_result",
          "data": {
            "text/plain": [
              "Outcome\n",
              "0    [[AxesSubplot(0.125,0.670278;0.215278x0.209722...\n",
              "1    [[AxesSubplot(0.125,0.670278;0.215278x0.209722...\n",
              "dtype: object"
            ]
          },
          "metadata": {
            "tags": []
          },
          "execution_count": 23
        },
        {
          "output_type": "display_data",
          "data": {
            "image/png": "[encoded data removed]",
            "text/plain": [
              "<Figure size 648x648 with 9 Axes>"
            ]
          },
          "metadata": {
            "tags": []
          }
        },
        {
          "output_type": "display_data",
          "data": {
            "image/png": "[encoded data removed]",
            "text/plain": [
              "<Figure size 648x648 with 9 Axes>"
            ]
          },
          "metadata": {
            "tags": []
          }
        }
      ]
    },
    {
      "cell_type": "code",
      "metadata": {
        "hidden": true,
        "id": "8QPKWX9seH1J",
        "colab_type": "code",
        "colab": {
          "base_uri": "https://localhost:8080/",
          "height": 104
        },
        "outputId": "e0453cf1-a300-4f6d-dd5d-40f9ad18d66c"
      },
      "source": [
        "#::GMG::Unexpected outliers, as I've just said from data.describe() ...\n",
        "#       Glucose, Insulin, BloodPressure, SkinThickness, and BMI \n",
        "#       which have zeros (min) in their values\n",
        "# https://towardsdatascience.com/machine-learning-workflow-on-diabetes-data-part-01-573864fcc6b8\n",
        "print(\"Zero Plasma Glucose  Total : \", data[data.Glucose == 0].shape[0])\n",
        "print(\"Zero Insulin level   Total : \", data[data.Insulin == 0].shape[0])\n",
        "print(\"Zero Blood Pressure  Total : \", data[data.BloodPressure == 0].shape[0])\n",
        "print(\"Zero Skin Thickness  Total : \", data[data.SkinThickness == 0].shape[0])\n",
        "print(\"Zero Body Mass Index Total : \", data[data.BMI == 0].shape[0])"
      ],
      "execution_count": 24,
      "outputs": [
        {
          "output_type": "stream",
          "text": [
            "Zero Plasma Glucose  Total :  5\n",
            "Zero Insulin level   Total :  374\n",
            "Zero Blood Pressure  Total :  35\n",
            "Zero Skin Thickness  Total :  227\n",
            "Zero Body Mass Index Total :  11\n"
          ],
          "name": "stdout"
        }
      ]
    },
    {
      "cell_type": "code",
      "metadata": {
        "hidden": true,
        "id": "08xWYCSoeH1M",
        "colab_type": "code",
        "colab": {}
      },
      "source": [
        "#::GMG::Hard choice to make ... remove the rows where the “BloodPressure”, \n",
        "#       “BMI” and “Glucose” are zero (small number of rows, low impact)\n",
        "data_mod = data[(data.BloodPressure != 0) & \n",
        "                (data.BMI != 0) & \n",
        "                (data.Glucose != 0)\n",
        "               ]"
      ],
      "execution_count": 0,
      "outputs": []
    },
    {
      "cell_type": "code",
      "metadata": {
        "hidden": true,
        "id": "jLkW6fy-eH1P",
        "colab_type": "code",
        "colab": {
          "base_uri": "https://localhost:8080/",
          "height": 35
        },
        "outputId": "2922a1f9-7e8d-4f5f-f27a-b066c28fa4c7"
      },
      "source": [
        "print(data_mod.shape)"
      ],
      "execution_count": 26,
      "outputs": [
        {
          "output_type": "stream",
          "text": [
            "(724, 9)\n"
          ],
          "name": "stdout"
        }
      ]
    },
    {
      "cell_type": "markdown",
      "metadata": {
        "hidden": true,
        "id": "kbNokGcreH1S",
        "colab_type": "text"
      },
      "source": [
        "**::GMG::** The problem with `Insulin` and `Skin Thickness` is that they are a significant part of the dataset. They cannot be removed. I may use **an imputation method** to fill in the zeros, i.e. put *average/mean values*, but in this case putting a mean value to the blood pressure column *would send a wrong signal to the model*. I may also **avoid using the features** involved. Feature selection by filtering might come in handy and help with that. But the filter is going to use the *outliered* feature ... so I'm in doubt here!"
      ]
    },
    {
      "cell_type": "code",
      "metadata": {
        "hidden": true,
        "id": "uihLmeT6eH1T",
        "colab_type": "code",
        "colab": {
          "base_uri": "https://localhost:8080/",
          "height": 191
        },
        "outputId": "bafd857a-7f31-42f2-c668-3d474feb0006"
      },
      "source": [
        "#::GMG::Some basic (Pearson) correlations with Outcome\n",
        "# https://pandas.pydata.org/pandas-docs/stable/reference/api/pandas.DataFrame.corr.html\n",
        "correlation_matrix = data_mod.corr()\n",
        "correlation_matrix['Outcome'].sort_values(ascending=False)"
      ],
      "execution_count": 27,
      "outputs": [
        {
          "output_type": "execute_result",
          "data": {
            "text/plain": [
              "Outcome                     1.000000\n",
              "Glucose                     0.488384\n",
              "BMI                         0.299375\n",
              "Age                         0.245741\n",
              "Pregnancies                 0.224417\n",
              "DiabetesPedigreeFunction    0.184947\n",
              "BloodPressure               0.166703\n",
              "Insulin                     0.145488\n",
              "SkinThickness               0.092030\n",
              "Name: Outcome, dtype: float64"
            ]
          },
          "metadata": {
            "tags": []
          },
          "execution_count": 27
        }
      ]
    },
    {
      "cell_type": "markdown",
      "metadata": {
        "hidden": true,
        "id": "NKJ5je6-eH1W",
        "colab_type": "text"
      },
      "source": [
        "**::GMG::** Based on this basic analysis I might avoid using `Skin Thickness` but not `Insulin` .\n",
        "\n",
        "**::NOTE::** I've [searched](https://www.google.com/search?client=firefox-b-d&q=a+person+can+have+zero+insulin%3F) about this *zero insulin issue*. So [it turns out](https://www.yourhormones.info/hormones/insulin/) that\n",
        "\n",
        "> People with type 1 diabetes produce very little or no insulin at all. This condition is caused when the beta cells that make insulin have been destroyed by antibodies (these are usually substances released by the body to fight against infections), hence they are unable to produce insulin."
      ]
    },
    {
      "cell_type": "code",
      "metadata": {
        "hidden": true,
        "id": "ChLYkB7OeH1X",
        "colab_type": "code",
        "colab": {
          "base_uri": "https://localhost:8080/",
          "height": 35
        },
        "outputId": "ee50b0b9-6591-4bbd-f91c-1ec9b323c6b0"
      },
      "source": [
        "#::GMG::I make a bold choice ...\n",
        "# https://pandas.pydata.org/pandas-docs/stable/reference/api/pandas.DataFrame.drop.html\n",
        "data_final = data_mod.drop(columns = ['SkinThickness'])\n",
        "print(data_final.shape)"
      ],
      "execution_count": 28,
      "outputs": [
        {
          "output_type": "stream",
          "text": [
            "(724, 8)\n"
          ],
          "name": "stdout"
        }
      ]
    },
    {
      "cell_type": "code",
      "metadata": {
        "hidden": true,
        "id": "NtLVUXZReH1a",
        "colab_type": "code",
        "colab": {
          "base_uri": "https://localhost:8080/",
          "height": 518
        },
        "outputId": "2238d798-99a8-4ae9-b42c-76d5e82720ae"
      },
      "source": [
        "#::GMG::Not much insight from these corr() numbers\n",
        "color = sns.color_palette()\n",
        "sns.set_style('darkgrid')\n",
        "plt.subplots(figsize=(8,6))\n",
        "sns.heatmap(data_final.corr(), center=0, annot=True, linewidths=.3)"
      ],
      "execution_count": 29,
      "outputs": [
        {
          "output_type": "execute_result",
          "data": {
            "text/plain": [
              "<matplotlib.axes._subplots.AxesSubplot at 0x7f94716c1978>"
            ]
          },
          "metadata": {
            "tags": []
          },
          "execution_count": 29
        },
        {
          "output_type": "display_data",
          "data": {
            "image/png": "[encoded data removed]",
            "text/plain": [
              "<Figure size 576x432 with 2 Axes>"
            ]
          },
          "metadata": {
            "tags": []
          }
        }
      ]
    },
    {
      "cell_type": "code",
      "metadata": {
        "hidden": true,
        "id": "xm-TTuDieH1d",
        "colab_type": "code",
        "colab": {
          "base_uri": "https://localhost:8080/",
          "height": 87
        },
        "outputId": "9aaee910-2e4f-43c0-efcc-3793cdaf62a1"
      },
      "source": [
        "#::GMG::Beware of the imbalance dataset ...\n",
        "#       https://www.quora.com/What-is-an-imbalanced-dataset\n",
        "#       https://www.datacamp.com/community/tutorials/diving-deep-imbalanced-data\n",
        "#       https://towardsdatascience.com/methods-for-dealing-with-imbalanced-data-5b761be45a18\n",
        "#       How do I check?\n",
        "# https://towardsdatascience.com/machine-learning-workflow-on-diabetes-data-part-01-573864fcc6b8\n",
        "data_final.groupby('Outcome').size()"
      ],
      "execution_count": 30,
      "outputs": [
        {
          "output_type": "execute_result",
          "data": {
            "text/plain": [
              "Outcome\n",
              "0    475\n",
              "1    249\n",
              "dtype: int64"
            ]
          },
          "metadata": {
            "tags": []
          },
          "execution_count": 30
        }
      ]
    },
    {
      "cell_type": "code",
      "metadata": {
        "hidden": true,
        "id": "GIawWR-GeH1g",
        "colab_type": "code",
        "colab": {
          "base_uri": "https://localhost:8080/",
          "height": 313
        },
        "outputId": "76099d31-057f-4ff6-9509-fecf2eca7c8f"
      },
      "source": [
        "#::GMG::Say, 0 healthy, 1 diabetes\n",
        "# https://docs.scipy.org/doc/numpy-1.13.0/reference/generated/numpy.chararray.astype.html\n",
        "# https://matplotlib.org/gallery/lines_bars_and_markers/categorical_variables.html\n",
        "classes = data_final.Outcome.values\n",
        "unique, counts = np.unique(classes, return_counts=True)\n",
        "plt.bar(unique.astype(np.character),100*counts/classes.size)\n",
        "plt.title('Class Frequency')\n",
        "plt.xlabel('Class')\n",
        "plt.ylabel('Frequency %')"
      ],
      "execution_count": 31,
      "outputs": [
        {
          "output_type": "execute_result",
          "data": {
            "text/plain": [
              "Text(0, 0.5, 'Frequency %')"
            ]
          },
          "metadata": {
            "tags": []
          },
          "execution_count": 31
        },
        {
          "output_type": "display_data",
          "data": {
            "image/png": "[encoded data removed]",
            "text/plain": [
              "<Figure size 432x288 with 1 Axes>"
            ]
          },
          "metadata": {
            "tags": []
          }
        }
      ]
    },
    {
      "cell_type": "markdown",
      "metadata": {
        "id": "62iPg4WveH1l",
        "colab_type": "text"
      },
      "source": [
        "## Model selection"
      ]
    },
    {
      "cell_type": "markdown",
      "metadata": {
        "id": "0vLvRNUqeH1m",
        "colab_type": "text"
      },
      "source": [
        "### models"
      ]
    },
    {
      "cell_type": "code",
      "metadata": {
        "id": "GucRDgZ6eH1n",
        "colab_type": "code",
        "colab": {}
      },
      "source": [
        "#::GMG::Menu\n",
        "#::NOTE::I follow the recipe by Lahiru Liyanapathirana\n",
        "# https://towardsdatascience.com/machine-learning-workflow-on-diabetes-data-part-01-573864fcc6b8\n",
        "models = []"
      ],
      "execution_count": 0,
      "outputs": []
    },
    {
      "cell_type": "code",
      "metadata": {
        "id": "GxKW3f7MeH1q",
        "colab_type": "code",
        "colab": {}
      },
      "source": [
        "#::GMG::Add the methods to train and test, mostly default parameters \n",
        "#       but random_state and class_weight where available and others to avoid 'future warnings'\n",
        "#\n",
        "# class_weight: The “balanced” mode uses the values of y to automatically adjust weights inversely \n",
        "# proportional to class frequencies in the input data as n_samples / (n_classes * np.bincount(y))\n",
        "#\n",
        "# https://scikit-learn.org/stable/modules/generated/sklearn.neighbors.KNeighborsClassifier.html\n",
        "# https://scikit-learn.org/stable/modules/generated/sklearn.svm.SVC.html#sklearn.svm.SVC\n",
        "#\n",
        "#::NOTE::Future Warning on first run ...\n",
        "#        FutureWarning: The default value of gamma will change from 'auto' to 'scale' in version \n",
        "#        0.22 to account better for unscaled features. Set gamma explicitly to 'auto' or 'scale' \n",
        "#        to avoid this warning.\n",
        "#\n",
        "# https://scikit-learn.org/stable/modules/generated/sklearn.tree.DecisionTreeClassifier.html\n",
        "# https://scikit-learn.org/stable/modules/generated/sklearn.naive_bayes.GaussianNB.html\n",
        "# https://scikit-learn.org/stable/modules/generated/sklearn.ensemble.RandomForestClassifier.html\n",
        "#\n",
        "#::NOTE::The “balanced_subsample” mode is the same as “balanced” except that weights are computed \n",
        "#        based on the bootstrap sample for every tree grown.\n",
        "#        bootstrap : boolean, optional (default=True)\n",
        "#        Whether bootstrap samples are used when building trees. If False, the whole datset is used \n",
        "#        to build each tree.\n",
        "#\n",
        "#::NOTE::Future Warning on first run ...\n",
        "# FutureWarning: The default value of n_estimators will change from 10 in version 0.20 to 100 in 0.22.\n",
        "# \"10 in version 0.20 to 100 in 0.22.\", FutureWarning)\n",
        "#\n",
        "# https://scikit-learn.org/stable/modules/generated/sklearn.ensemble.GradientBoostingClassifier.html\n",
        "models.append(('KNN', KNeighborsClassifier()))\n",
        "models.append(('SVC', SVC(class_weight = 'balanced', \n",
        "                          gamma = 'scale', \n",
        "                          random_state = 1)))\n",
        "models.append(('LR', LogisticRegression(solver = 'liblinear', \n",
        "                                        random_state = 1)))\n",
        "models.append(('DT', DecisionTreeClassifier(class_weight = 'balanced', \n",
        "                                            random_state = 1)))\n",
        "models.append(('GNB', GaussianNB()))\n",
        "models.append(('RF', RandomForestClassifier(n_estimators = 100, \n",
        "                                            class_weight = 'balanced_subsample', \n",
        "                                            random_state = 1)))\n",
        "models.append(('GB', GradientBoostingClassifier(random_state = 1)))"
      ],
      "execution_count": 0,
      "outputs": []
    },
    {
      "cell_type": "markdown",
      "metadata": {
        "id": "v9-4T4VjeH1t",
        "colab_type": "text"
      },
      "source": [
        "### train, test, score"
      ]
    },
    {
      "cell_type": "markdown",
      "metadata": {
        "id": "A0nfeyvFeH1w",
        "colab_type": "text"
      },
      "source": [
        "**::GMG::** As [told by Lahiru Liyanapathirana](https://towardsdatascience.com/machine-learning-workflow-on-diabetes-data-part-01-573864fcc6b8),\n",
        "\n",
        "> Provides a *high-variance estimate* of out-of-sample accuracy but, train/test split is still useful because of its **flexibility and speed**"
      ]
    },
    {
      "cell_type": "code",
      "metadata": {
        "id": "TGdJ2M5bf5a-",
        "colab_type": "code",
        "colab": {}
      },
      "source": [
        "#::GMG::Let`s try something different\n",
        "#       I'm going to preserve the proportions of classes with stratify parameter\n",
        "# https://stackoverflow.com/questions/34842405/parameter-stratify-from-method-train-test-split-scikit-learn\n",
        "x_train, x_test, y_train, y_test = train_test_split(\n",
        "    data_final.iloc[:,:data_final.shape[1] - 1], data_final['Outcome'],\n",
        "    test_size = 0.3,\n",
        "    random_state = 70,\n",
        "    stratify = data_final['Outcome']\n",
        ")"
      ],
      "execution_count": 0,
      "outputs": []
    },
    {
      "cell_type": "code",
      "metadata": {
        "id": "a0wT55KpeH1w",
        "colab_type": "code",
        "colab": {}
      },
      "source": [
        "#::GMG::Storage for models and scores (metrics)\n",
        "# https://stackoverflow.com/questions/2402646/python-initializing-multiple-lists-line\n",
        "names, b_acc, precision, recall, f1, auc_pr, avg_prec = [], [], [], [], [], [], []"
      ],
      "execution_count": 0,
      "outputs": []
    },
    {
      "cell_type": "code",
      "metadata": {
        "id": "deN7n1PveH1z",
        "colab_type": "code",
        "colab": {}
      },
      "source": [
        "#::GMG::Train, Test and (accuracy) score each model in a row\n",
        "#::NOTE::perhaps I should also include specificity/sensitivity (?)\n",
        "for name, model in models:\n",
        "    model.fit(x_train, y_train)\n",
        "    #::NOTE::Persitence will have to wait in Colaboratory\n",
        "    #        I need libraries and access to my Google drive\n",
        "    # https://realpython.com/python-string-split-concatenate-join/\n",
        "    # https://stackabuse.com/how-to-format-dates-in-python/\n",
        "    #filename = '_'.join([name, \n",
        "    #                 str(datetime.date.today().year),\n",
        "    #                 str(datetime.date.today().month),\n",
        "    #                 str(datetime.date.today().day)\n",
        "    #                ]) + '.model'\n",
        "    # https://machinelearningmastery.com/save-load-machine-learning-models-python-scikit-learn/\n",
        "    #pk.dump(obj = model, file = open('model/' + filename, 'wb'))\n",
        "    y_pred = model.predict(x_test)\n",
        "    #::NOTE::Not all models have predict_proba() as a function ...\n",
        "    #prob = model.predict_proba(x_test)[:, 1]\n",
        "    names.append(name)\n",
        "    b_acc.append(balanced_accuracy_score(y_true = y_test, \n",
        "                                         y_pred = y_pred))\n",
        "    precision.append(precision_score(y_true = y_test, \n",
        "                                     y_pred = y_pred, \n",
        "                                     average = 'weighted'))\n",
        "    recall.append(recall_score(y_true = y_test, \n",
        "                               y_pred = y_pred, \n",
        "                               average = 'weighted'))\n",
        "    f1.append(f1_score(y_true = y_test, \n",
        "                       y_pred = y_pred, \n",
        "                       average = 'weighted'))\n",
        "    #::NOTE::auc() does not work, I don't know why\n",
        "    #auc_pr.append(auc(recall_score(y_test, y_pred), precision_score(y_test, y_pred)))\n",
        "    #avg_prec.append(average_precision_score(y_true = y_test, y_score = prob))"
      ],
      "execution_count": 0,
      "outputs": []
    },
    {
      "cell_type": "code",
      "metadata": {
        "id": "XthJWA5EeH11",
        "colab_type": "code",
        "colab": {
          "base_uri": "https://localhost:8080/",
          "height": 157
        },
        "outputId": "d7b08e30-346d-48f2-8cbd-ec29d7f4b5d6"
      },
      "source": [
        "#::GMG::Pack the results nicely in a pandas dataframe for printing\n",
        "# https://stackoverflow.com/questions/20937538/how-to-display-pandas-dataframe-of-floats-using-a-format-string-for-columns\n",
        "pd.options.display.float_format = '{:,.3f}'.format\n",
        "results = pd.DataFrame({'Name': names, \n",
        "                        'Balanced_Acc': b_acc,\n",
        "                        'Precision': precision,\n",
        "                        'Recall': recall,\n",
        "                        'F1': f1#,\n",
        "                        #'AUC': auc_pr,\n",
        "                        #'Avg_Precision': avg_precision\n",
        "                       }\n",
        "                      )\n",
        "# https://stackoverflow.com/questions/40990700/pandas-dataframes-in-jupyter-columns-of-equal-width-and-centered?rq=1\n",
        "#d = dict(selector=\"th\", props=[('text-align', 'center')])\n",
        "#results.style.set_properties(**{'width':'10em', 'text-align':'center'}).set_table_styles([d])\n",
        "# https://stackoverflow.com/questions/24644656/how-to-print-pandas-dataframe-without-index\n",
        "print(results.to_string(index = False))"
      ],
      "execution_count": 37,
      "outputs": [
        {
          "output_type": "stream",
          "text": [
            "Name  Balanced_Acc  Precision  Recall    F1\n",
            " KNN         0.720      0.752   0.757 0.754\n",
            " SVC         0.772      0.788   0.775 0.779\n",
            "  LR         0.745      0.803   0.803 0.792\n",
            "  DT         0.641      0.679   0.683 0.681\n",
            " GNB         0.777      0.805   0.807 0.805\n",
            "  RF         0.717      0.760   0.766 0.759\n",
            "  GB         0.720      0.752   0.757 0.754\n"
          ],
          "name": "stdout"
        }
      ]
    },
    {
      "cell_type": "code",
      "metadata": {
        "id": "KG24XxieeH15",
        "colab_type": "code",
        "colab": {
          "base_uri": "https://localhost:8080/",
          "height": 175
        },
        "outputId": "832e5b39-07d5-4cdd-afee-8da3555871c5"
      },
      "source": [
        "#::GMG::I rank the models by Balanced Accuracy\n",
        "# https://www.geeksforgeeks.org/ranking-rows-of-pandas-dataframe/\n",
        "#::NOTE::Should I draw de precision-recall curve of the two best models?\n",
        "results['Rank'] = results['Balanced_Acc'].rank(ascending = 0)\n",
        "results.set_index('Rank', inplace = True)\n",
        "results.sort_index(ascending = 1, inplace = True)\n",
        "print(results)"
      ],
      "execution_count": 38,
      "outputs": [
        {
          "output_type": "stream",
          "text": [
            "      Name  Balanced_Acc  Precision  Recall    F1\n",
            "Rank                                             \n",
            "1.000  GNB         0.777      0.805   0.807 0.805\n",
            "2.000  SVC         0.772      0.788   0.775 0.779\n",
            "3.000   LR         0.745      0.803   0.803 0.792\n",
            "4.500  KNN         0.720      0.752   0.757 0.754\n",
            "4.500   GB         0.720      0.752   0.757 0.754\n",
            "6.000   RF         0.717      0.760   0.766 0.759\n",
            "7.000   DT         0.641      0.679   0.683 0.681\n"
          ],
          "name": "stdout"
        }
      ]
    },
    {
      "cell_type": "markdown",
      "metadata": {
        "id": "61RKzzxYlEjk",
        "colab_type": "text"
      },
      "source": [
        "**::GMG::** Based on the results **`Gaussian Naive Bayes`** (GNB) is the best model. Its `balanced accuracy`, `precision`  and `recall` are the best. The latter is important if its intended use is being a *diabetes* diagnosis tool, right?  **`Linear Regression`**  (LR) is really close in `precision` and  `recall`."
      ]
    },
    {
      "cell_type": "markdown",
      "metadata": {
        "id": "hlTXfs15eH2A",
        "colab_type": "text"
      },
      "source": [
        "### k-fold cross validation score"
      ]
    },
    {
      "cell_type": "markdown",
      "metadata": {
        "id": "bghT51vSe2C8",
        "colab_type": "text"
      },
      "source": [
        "**::GMG::** As [told by Lahiru Liyanapathirana](https://towardsdatascience.com/machine-learning-workflow-on-diabetes-data-part-01-573864fcc6b8),\n",
        "\n",
        "> **More accurate** estimate of out-of-sample accuracy. More “efficient” use of data (every observation is used for both training and testing) BUT **much slower** than Train/Test split\n",
        "\n"
      ]
    },
    {
      "cell_type": "code",
      "metadata": {
        "id": "4DHJnRIXe5Zz",
        "colab_type": "code",
        "colab": {}
      },
      "source": [
        "#::GMG::First try one single metric: balanced accuracy\n",
        "# https://scikit-learn.org/stable/modules/model_evaluation.html#common-cases-predefined-values\n",
        "# https://scikit-learn.org/stable/modules/cross_validation.html#computing-cross-validated-metrics\n",
        "names, score, std_dev = [],[], []"
      ],
      "execution_count": 0,
      "outputs": []
    },
    {
      "cell_type": "code",
      "metadata": {
        "id": "pOmmnMxh7M4Z",
        "colab_type": "code",
        "colab": {}
      },
      "source": [
        "#::GMG::10-fold CV score (balanced accuracy)\n",
        "for name, model in models:\n",
        "    # https://scikit-learn.org/stable/modules/generated/sklearn.model_selection.StratifiedKFold.html\n",
        "    kfold = StratifiedKFold(n_splits = 10, \n",
        "                  random_state = 10)\n",
        "    # https://scikit-learn.org/stable/modules/generated/sklearn.model_selection.cross_val_score.html\n",
        "    scores = cross_val_score(model, \n",
        "                            data_final.iloc[:,:data_final.shape[1] - 1], \n",
        "                            data_final['Outcome'], \n",
        "                            cv=kfold, \n",
        "                            scoring='balanced_accuracy')\n",
        "    #::NOTE::Persitence will have to wait in Colaboratory\n",
        "    #        I need libraries and access to my Google drive    \n",
        "    #filename = '_'.join(['cv', 'bacc', name, \n",
        "    #                 str(datetime.date.today().year),\n",
        "    #                 str(datetime.date.today().month),\n",
        "    #                 str(datetime.date.today().day)\n",
        "    #                ]) + '.model'\n",
        "    #pk.dump(obj = model, file = open('model/' + filename, 'wb'))    \n",
        "    names.append(name)\n",
        "    score.append(scores.mean())\n",
        "    std_dev.append(scores.std())"
      ],
      "execution_count": 0,
      "outputs": []
    },
    {
      "cell_type": "code",
      "metadata": {
        "id": "0hdLVrY720mU",
        "colab_type": "code",
        "colab": {
          "base_uri": "https://localhost:8080/",
          "height": 157
        },
        "outputId": "94b4432a-b8d0-45db-9ccf-cf0f2fe99b1c"
      },
      "source": [
        "#::GMG::Store results in a pandas dataframe\n",
        "kf_cross_val = pd.DataFrame({'Name': names, \n",
        "                             'Score': score,\n",
        "                             'Confidence': [x * 2 for x in std_dev]\n",
        "                            }\n",
        "                           )\n",
        "print(kf_cross_val.to_string(index = False))"
      ],
      "execution_count": 57,
      "outputs": [
        {
          "output_type": "stream",
          "text": [
            "Name  Score  Confidence\n",
            " KNN  0.685       0.101\n",
            " SVC  0.705       0.080\n",
            "  LR  0.717       0.070\n",
            "  DT  0.668       0.118\n",
            " GNB  0.729       0.057\n",
            "  RF  0.738       0.113\n",
            "  GB  0.723       0.115\n"
          ],
          "name": "stdout"
        }
      ]
    },
    {
      "cell_type": "code",
      "metadata": {
        "id": "a9Wa0evq22Uu",
        "colab_type": "code",
        "colab": {
          "base_uri": "https://localhost:8080/",
          "height": 283
        },
        "outputId": "85c11053-115a-483f-fd61-b2fe35ac0018"
      },
      "source": [
        "#::GMG::Barplot to see differences\n",
        "axis = sns.barplot(x = 'Name', \n",
        "                   y = 'Score', \n",
        "                   data = kf_cross_val.loc[:,('Name', 'Score')])\n",
        "axis.set(xlabel='Classifier', ylabel='Balanced Accuracy')\n",
        "for p in axis.patches:\n",
        "    height = p.get_height()\n",
        "    axis.text(p.get_x() + p.get_width()/2, \n",
        "              height + 0.005, '{:1.4f}'.format(height), \n",
        "              ha=\"center\") "
      ],
      "execution_count": 58,
      "outputs": [
        {
          "output_type": "display_data",
          "data": {
            "image/png": "[encoded data removed]",
            "text/plain": [
              "<Figure size 432x288 with 1 Axes>"
            ]
          },
          "metadata": {
            "tags": []
          }
        }
      ]
    },
    {
      "cell_type": "code",
      "metadata": {
        "id": "ovCwj-ur9WU0",
        "colab_type": "code",
        "colab": {
          "base_uri": "https://localhost:8080/",
          "height": 157
        },
        "outputId": "2ff28c5f-192d-4086-c1c4-deaf690e37cc"
      },
      "source": [
        "#::GMG::Sort the models by scores\n",
        "# https://pandas.pydata.org/pandas-docs/stable/reference/api/pandas.DataFrame.sort_values.html\n",
        "# https://thispointer.com/pandas-sort-rows-or-columns-in-dataframe-based-on-values-using-dataframe-sort_values/\n",
        "# https://stackoverflow.com/questions/24644656/how-to-print-pandas-dataframe-without-index\n",
        "print(\n",
        "    kf_cross_val.loc[:,('Name', 'Score')].sort_values(\n",
        "            by ='Score', \n",
        "            ascending = False).to_string(index=False)\n",
        ")"
      ],
      "execution_count": 59,
      "outputs": [
        {
          "output_type": "stream",
          "text": [
            "Name  Score\n",
            "  RF  0.738\n",
            " GNB  0.729\n",
            "  GB  0.723\n",
            "  LR  0.717\n",
            " SVC  0.705\n",
            " KNN  0.685\n",
            "  DT  0.668\n"
          ],
          "name": "stdout"
        }
      ]
    },
    {
      "cell_type": "markdown",
      "metadata": {
        "id": "aEkkOCJG9Xl0",
        "colab_type": "text"
      },
      "source": [
        "**::GMG::** With this method the order of performance of the models has changed and now the *ensemble* model  **`Random Forest`** (RF) is the best. At least if just the balanced accuracy score is taken into account. Perhaps it would be more relevant the `recall` score as I said before."
      ]
    },
    {
      "cell_type": "markdown",
      "metadata": {
        "id": "fRPrkuY8_AEs",
        "colab_type": "text"
      },
      "source": [
        "### Multiple scores k-fold cross validation"
      ]
    },
    {
      "cell_type": "code",
      "metadata": {
        "id": "nn1O1xuQ2-Jd",
        "colab_type": "code",
        "colab": {}
      },
      "source": [
        "#::GMG:: I try multiple scores now\n",
        "# https://scikit-learn.org/stable/modules/cross_validation.html#the-cross-validate-function-and-multiple-metric-evaluation\n",
        "names, b_acc, precision, recall, f1 = [], [], [], [], []"
      ],
      "execution_count": 0,
      "outputs": []
    },
    {
      "cell_type": "code",
      "metadata": {
        "id": "lC7HQy0oIW31",
        "colab_type": "code",
        "colab": {}
      },
      "source": [
        "#::GMG::First I specify the scores I want\n",
        "# https://scikit-learn.org/stable/modules/model_evaluation.html#common-cases-predefined-values\n",
        "scoring = ['balanced_accuracy',\n",
        "           'precision_weighted', \n",
        "           'recall_weighted',\n",
        "           'f1_weighted']"
      ],
      "execution_count": 0,
      "outputs": []
    },
    {
      "cell_type": "code",
      "metadata": {
        "id": "hcsTbQ8jQlb8",
        "colab_type": "code",
        "colab": {}
      },
      "source": [
        "#::GMG::10-fold CV multiple scores\n",
        "for name, model in models:\n",
        "    # https://scikit-learn.org/stable/modules/generated/sklearn.model_selection.cross_validate.html\n",
        "    # cv : int, cross-validation generator or an iterable, optional\n",
        "    # For integer/None inputs, if the estimator is a classifier and y is either \n",
        "    # binary or multiclass, StratifiedKFold is used. In all other cases, KFold \n",
        "    # is used.\n",
        "    scores = cross_validate(model, \n",
        "                            data_final.iloc[:,:data_final.shape[1] - 1], \n",
        "                            data_final['Outcome'], \n",
        "                            cv = 10, \n",
        "                            scoring = scoring)\n",
        "    #::NOTE::Persitence will have to wait in Colaboratory\n",
        "    #        I need libraries and access to my Google drive    \n",
        "    #filename = '_'.join(['cv', 'multi', name, \n",
        "    #                 str(datetime.date.today().year),\n",
        "    #                 str(datetime.date.today().month),\n",
        "    #                 str(datetime.date.today().day)\n",
        "    #                ]) + '.model'\n",
        "    #pk.dump(obj = model, file = open('model/' + filename, 'wb'))  \n",
        "    #::NOTE::What about std() for 95% confidence? PENDING\n",
        "    names.append(name)\n",
        "    b_acc.append(scores['test_' + scoring[0]].mean())\n",
        "    precision.append(scores['test_' + scoring[1]].mean())\n",
        "    recall.append(scores['test_' + scoring[2]].mean())\n",
        "    f1.append(scores['test_' + scoring[3]].mean())"
      ],
      "execution_count": 0,
      "outputs": []
    },
    {
      "cell_type": "code",
      "metadata": {
        "id": "k0zY2NqfXTOT",
        "colab_type": "code",
        "colab": {
          "base_uri": "https://localhost:8080/",
          "height": 157
        },
        "outputId": "e72f15fa-191a-4b2b-c235-976198730f93"
      },
      "source": [
        "#::GMG::Store results in a pandas dataframe\n",
        "results = pd.DataFrame({'Name': names, \n",
        "                        'Balanced_Acc': b_acc,\n",
        "                        'Precision': precision,\n",
        "                        'Recall': recall,\n",
        "                        'F1': f1\n",
        "                       }\n",
        "                      )\n",
        "print(results.to_string(index = False))"
      ],
      "execution_count": 80,
      "outputs": [
        {
          "output_type": "stream",
          "text": [
            "Name  Balanced_Acc  Precision  Recall    F1\n",
            " KNN         0.685      0.728   0.728 0.722\n",
            " SVC         0.705      0.732   0.713 0.717\n",
            "  LR         0.717      0.769   0.771 0.761\n",
            "  DT         0.668      0.708   0.706 0.703\n",
            " GNB         0.729      0.764   0.764 0.761\n",
            "  RF         0.738      0.785   0.783 0.775\n",
            "  GB         0.723      0.763   0.763 0.756\n"
          ],
          "name": "stdout"
        }
      ]
    }
  ]
}