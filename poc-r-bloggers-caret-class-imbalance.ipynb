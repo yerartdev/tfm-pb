{
 "cells": [
  {
   "cell_type": "markdown",
   "metadata": {},
   "source": [
    "# Gerardo de Miguel González"
   ]
  },
  {
   "cell_type": "markdown",
   "metadata": {},
   "source": [
    "**::GMG::** The aim of this notebook is to find a basic workflow for doing machine learning classification of an imbalanced dataset using best practices taken from other people's examples."
   ]
  },
  {
   "cell_type": "markdown",
   "metadata": {},
   "source": [
    "# Handling Class Imbalance with R and Caret"
   ]
  },
  {
   "cell_type": "markdown",
   "metadata": {
    "heading_collapsed": true
   },
   "source": [
    "## References"
   ]
  },
  {
   "cell_type": "markdown",
   "metadata": {
    "hidden": true
   },
   "source": [
    "**::GMG::** This notebook is a re-enactment of the following references:\n",
    "\n",
    "  - [r-bloggers]() Handling Class Imbalance with R and Caret – Caveats when using the AUC. January 2, 2017. By [Wicked Good Data](http://dpmartin42.github.io/) - r ([Daniel P. Martin](http://dpmartin42.github.io/about), lead data scientist for the client-facing people analytics team at McKinsey & Company)\n",
    "  - [Wicked Good Data](http://dpmartin42.github.io/posts/r/imbalanced-classes-part-2) Handling Class Imbalance with R and Caret - Caveats when using the AUC. January 03, 2017\n",
    "  - [Wicked Good Data](http://dpmartin42.github.io/posts/r/imbalanced-classes-part-1) Handling Class Imbalance with R and Caret - An Introduction. December 10, 2016"
   ]
  },
  {
   "cell_type": "markdown",
   "metadata": {
    "heading_collapsed": true
   },
   "source": [
    "## Libraries"
   ]
  },
  {
   "cell_type": "code",
   "execution_count": 1,
   "metadata": {
    "hidden": true
   },
   "outputs": [],
   "source": [
    "#::GMG::Helper function to install missing libraries before loading them\n",
    "# https://stackoverflow.com/questions/4090169/elegant-way-to-check-for-missing-packages-and-install-them\n",
    "using<-function(...) {\n",
    "    libs<-unlist(list(...))\n",
    "    req<-unlist(lapply(libs,require,character.only=TRUE))\n",
    "    need<-libs[req==FALSE]\n",
    "    if(length(need)>0){ \n",
    "        install.packages(need)\n",
    "        lapply(need,require,character.only=TRUE)\n",
    "    }\n",
    "}"
   ]
  },
  {
   "cell_type": "code",
   "execution_count": 2,
   "metadata": {
    "hidden": true
   },
   "outputs": [
    {
     "name": "stderr",
     "output_type": "stream",
     "text": [
      "Loading required package: dplyr\n",
      "\n",
      "Attaching package: ‘dplyr’\n",
      "\n",
      "The following objects are masked from ‘package:stats’:\n",
      "\n",
      "    filter, lag\n",
      "\n",
      "The following objects are masked from ‘package:base’:\n",
      "\n",
      "    intersect, setdiff, setequal, union\n",
      "\n",
      "Loading required package: caret\n",
      "Loading required package: lattice\n",
      "Loading required package: ggplot2\n",
      "Loading required package: DMwR\n",
      "Loading required package: grid\n",
      "Registered S3 method overwritten by 'xts':\n",
      "  method     from\n",
      "  as.zoo.xts zoo \n",
      "Registered S3 method overwritten by 'quantmod':\n",
      "  method            from\n",
      "  as.zoo.data.frame zoo \n",
      "Loading required package: purrr\n",
      "\n",
      "Attaching package: ‘purrr’\n",
      "\n",
      "The following object is masked from ‘package:caret’:\n",
      "\n",
      "    lift\n",
      "\n",
      "Loading required package: pROC\n",
      "Type 'citation(\"pROC\")' for a citation.\n",
      "\n",
      "Attaching package: ‘pROC’\n",
      "\n",
      "The following objects are masked from ‘package:stats’:\n",
      "\n",
      "    cov, smooth, var\n",
      "\n",
      "Loading required package: PRROC\n",
      "Loading required package: gbm\n",
      "Warning message in library(package, lib.loc = lib.loc, character.only = TRUE, logical.return = TRUE, :\n",
      "“there is no package called ‘gbm’”Installing package into ‘/home/jovyan/R/x86_64-pc-linux-gnu-library/3.6’\n",
      "(as ‘lib’ is unspecified)\n",
      "Loading required package: gbm\n",
      "Loaded gbm 2.1.5\n"
     ]
    },
    {
     "data": {
      "text/html": [
       "<ol>\n",
       "\t<li>TRUE</li>\n",
       "</ol>\n"
      ],
      "text/latex": [
       "\\begin{enumerate}\n",
       "\\item TRUE\n",
       "\\end{enumerate}\n"
      ],
      "text/markdown": [
       "1. TRUE\n",
       "\n",
       "\n"
      ],
      "text/plain": [
       "[[1]]\n",
       "[1] TRUE\n"
      ]
     },
     "metadata": {},
     "output_type": "display_data"
    }
   ],
   "source": [
    "#::GMG::I'm going to use ... \n",
    "#(dplyr) - for data manipulation\n",
    "#(caret) - for model-building\n",
    "#(DMwR)  - for smote implementation\n",
    "#(purrr) - for functional programming (map)\n",
    "#(pROC)  - for AUC calculations\n",
    "#(PRROC) - for Precision-Recall curve calculations\n",
    "#(gbm)   - for Generalized Boosted Regression Models\n",
    "# https://cran.r-project.org/web/packages/gbm/index.html\n",
    "using('dplyr', 'caret', 'DMwR','purrr', 'pROC', 'PRROC', 'gbm')"
   ]
  },
  {
   "cell_type": "markdown",
   "metadata": {
    "hidden": true
   },
   "source": [
    "**::GMG::** First installation of `gbm`:\n",
    "\n",
    "```R\n",
    "Loading required package: gbm\n",
    "Warning message in library(package, lib.loc = lib.loc, character.only = TRUE, logical.return = TRUE, :\n",
    "“there is no package called ‘gbm’”Installing package into ‘/home/jovyan/R/x86_64-pc-linux-gnu-library/3.6’\n",
    "(as ‘lib’ is unspecified)\n",
    "Loading required package: gbm\n",
    "Loaded gbm 2.1.5\n",
    "\n",
    "    1. TRUE\n",
    "```"
   ]
  },
  {
   "cell_type": "markdown",
   "metadata": {
    "hidden": true
   },
   "source": [
    "**::GMG::** First installation `DMwR` and `pROC`:\n",
    "\n",
    "```R\n",
    "Loading required package: DMwR\n",
    "Warning message in library(package, lib.loc = lib.loc, character.only = TRUE, logical.return = TRUE, :\n",
    "“there is no package called ‘DMwR’”\n",
    "                           \n",
    "Loading required package: pROC\n",
    "Warning message in library(package, lib.loc = lib.loc, character.only = TRUE, logical.return = TRUE, :\n",
    "“there is no package called ‘pROC’”\n",
    "                           \n",
    "Installing packages into ‘/home/jovyan/R/x86_64-pc-linux-gnu-library/3.6’\n",
    "(as ‘lib’ is unspecified)\n",
    "also installing the dependencies ‘TTR’, ‘xts’, ‘quantmod’, ‘zoo’\n",
    "\n",
    "Loading required package: DMwR\n",
    "Loading required package: grid\n",
    "Registered S3 method overwritten by 'xts':\n",
    "  method     from\n",
    "  as.zoo.xts zoo \n",
    "Registered S3 method overwritten by 'quantmod':\n",
    "  method            from\n",
    "  as.zoo.data.frame zoo \n",
    "Loading required package: pROC\n",
    "Type 'citation(\"pROC\")' for a citation.\n",
    "\n",
    "Attaching package: ‘pROC’\n",
    "\n",
    "The following objects are masked from ‘package:stats’:\n",
    "\n",
    "    cov, smooth, var\n",
    "\n",
    "    1. TRUE\n",
    "    2. TRUE\n",
    "\n",
    "                           \n",
    "```"
   ]
  },
  {
   "cell_type": "markdown",
   "metadata": {
    "heading_collapsed": true
   },
   "source": [
    "## Dataset"
   ]
  },
  {
   "cell_type": "code",
   "execution_count": 3,
   "metadata": {
    "hidden": true
   },
   "outputs": [],
   "source": [
    "set.seed(2969)"
   ]
  },
  {
   "cell_type": "code",
   "execution_count": 4,
   "metadata": {
    "hidden": true
   },
   "outputs": [],
   "source": [
    "#::GMG::This function simulates data with two classes, truly important predictors and irrelevant predictions. \n",
    "# https://rdrr.io/rforge/caret/man/twoClassSim.html\n",
    "imbal_train <- caret::twoClassSim(5000,\n",
    "                           intercept = -25,\n",
    "                           linearVars = 20,\n",
    "                           noiseVars = 10)                           \n",
    "imbal_test  <- caret::twoClassSim(5000,\n",
    "                           intercept = -25,\n",
    "                           linearVars = 20,\n",
    "                           noiseVars = 10)"
   ]
  },
  {
   "cell_type": "markdown",
   "metadata": {
    "heading_collapsed": true
   },
   "source": [
    "## Model"
   ]
  },
  {
   "cell_type": "markdown",
   "metadata": {
    "heading_collapsed": true,
    "hidden": true
   },
   "source": [
    "### base (Gradient Boost)"
   ]
  },
  {
   "cell_type": "code",
   "execution_count": 5,
   "metadata": {
    "hidden": true
   },
   "outputs": [],
   "source": [
    "#::GMG::Set up control function for training\n",
    "ctrl <- trainControl(method = \"repeatedcv\",\n",
    "                     number = 10,\n",
    "                     repeats = 5,\n",
    "                     summaryFunction = twoClassSummary,\n",
    "                     classProbs = TRUE)"
   ]
  },
  {
   "cell_type": "code",
   "execution_count": 6,
   "metadata": {
    "hidden": true
   },
   "outputs": [],
   "source": [
    "#::GMG::Make it reproducble\n",
    "set.seed(5627)"
   ]
  },
  {
   "cell_type": "code",
   "execution_count": 7,
   "metadata": {
    "hidden": true
   },
   "outputs": [],
   "source": [
    "#::GMG::Build a standard classifier using a gradient boosted machine\n",
    "orig_fit <- train(Class ~ .,\n",
    "                  data = imbal_train,\n",
    "                  method = \"gbm\",\n",
    "                  verbose = FALSE,\n",
    "                  metric = \"ROC\",\n",
    "                  trControl = ctrl)"
   ]
  },
  {
   "cell_type": "markdown",
   "metadata": {
    "heading_collapsed": true,
    "hidden": true
   },
   "source": [
    "### weighted"
   ]
  },
  {
   "cell_type": "code",
   "execution_count": 8,
   "metadata": {
    "hidden": true
   },
   "outputs": [],
   "source": [
    "#::GMG::Create model weights (they sum to one)\n",
    "#::NOTE::I measure the time it takes\n",
    "# https://www.r-bloggers.com/5-ways-to-measure-running-time-of-r-code/\n",
    "start_time <- Sys.time()\n",
    "model_weights <- ifelse(imbal_train$Class == \"Class1\",\n",
    "                        (1/table(imbal_train$Class)[1]) * 0.5,\n",
    "                        (1/table(imbal_train$Class)[2]) * 0.5)\n",
    "end_time <- Sys.time()"
   ]
  },
  {
   "cell_type": "code",
   "execution_count": null,
   "metadata": {
    "hidden": true
   },
   "outputs": [],
   "source": [
    "cat('calculating model weights has taken: ', end_time - start_time, ' mins.')"
   ]
  },
  {
   "cell_type": "code",
   "execution_count": 9,
   "metadata": {
    "hidden": true
   },
   "outputs": [],
   "source": [
    "#::GMG::Use the same seed to ensure same cross-validation splits\n",
    "#::NOTE::This might not be working (?) --> See last cells!\n",
    "ctrl$seeds <- orig_fit$control$seeds"
   ]
  },
  {
   "cell_type": "code",
   "execution_count": 10,
   "metadata": {
    "hidden": true
   },
   "outputs": [],
   "source": [
    "#::GMG::Weighted model\n",
    "#::NOTE::I measure the time it takes\n",
    "# https://www.r-bloggers.com/5-ways-to-measure-running-time-of-r-code/\n",
    "start_time <- Sys.time()\n",
    "weighted_fit <- train(Class ~ .,\n",
    "                      data = imbal_train,\n",
    "                      method = \"gbm\",\n",
    "                      verbose = FALSE,\n",
    "                      weights = model_weights,\n",
    "                      metric = \"ROC\",\n",
    "                      trControl = ctrl)\n",
    "end_time <- Sys.time()"
   ]
  },
  {
   "cell_type": "code",
   "execution_count": null,
   "metadata": {
    "hidden": true
   },
   "outputs": [],
   "source": [
    "cat('model weighted fit has taken: ', end_time - start_time, ' mins.')"
   ]
  },
  {
   "cell_type": "markdown",
   "metadata": {
    "heading_collapsed": true,
    "hidden": true
   },
   "source": [
    "### down(sampling)"
   ]
  },
  {
   "cell_type": "code",
   "execution_count": 11,
   "metadata": {
    "hidden": true
   },
   "outputs": [],
   "source": [
    "ctrl$sampling <- \"down\""
   ]
  },
  {
   "cell_type": "code",
   "execution_count": 12,
   "metadata": {
    "hidden": true
   },
   "outputs": [],
   "source": [
    "#::NOTE::I measure the time it takes\n",
    "# https://www.r-bloggers.com/5-ways-to-measure-running-time-of-r-code/\n",
    "start_time <- Sys.time()\n",
    "down_fit <- train(Class ~ .,\n",
    "                  data = imbal_train,\n",
    "                  method = \"gbm\",\n",
    "                  verbose = FALSE,\n",
    "                  metric = \"ROC\",\n",
    "                  trControl = ctrl)\n",
    "end_time <- Sys.time()"
   ]
  },
  {
   "cell_type": "code",
   "execution_count": null,
   "metadata": {
    "hidden": true
   },
   "outputs": [],
   "source": [
    "cat('model downsampling fit has taken: ', end_time - start_time, ' mins.')"
   ]
  },
  {
   "cell_type": "markdown",
   "metadata": {
    "heading_collapsed": true,
    "hidden": true
   },
   "source": [
    "### up(sampling)"
   ]
  },
  {
   "cell_type": "code",
   "execution_count": 13,
   "metadata": {
    "hidden": true
   },
   "outputs": [],
   "source": [
    "ctrl$sampling <- \"up\""
   ]
  },
  {
   "cell_type": "code",
   "execution_count": 14,
   "metadata": {
    "hidden": true
   },
   "outputs": [],
   "source": [
    "#::NOTE::I measure the time it takes\n",
    "# https://www.r-bloggers.com/5-ways-to-measure-running-time-of-r-code/\n",
    "start_time <- Sys.time()\n",
    "up_fit <- train(Class ~ .,\n",
    "                data = imbal_train,\n",
    "                method = \"gbm\",\n",
    "                verbose = FALSE,\n",
    "                metric = \"ROC\",\n",
    "                trControl = ctrl)\n",
    "end_time <- Sys.time()"
   ]
  },
  {
   "cell_type": "code",
   "execution_count": null,
   "metadata": {
    "hidden": true
   },
   "outputs": [],
   "source": [
    "cat('model upsampling fit has taken: ', end_time - start_time, ' mins.')"
   ]
  },
  {
   "cell_type": "markdown",
   "metadata": {
    "heading_collapsed": true,
    "hidden": true
   },
   "source": [
    "### smote"
   ]
  },
  {
   "cell_type": "code",
   "execution_count": 15,
   "metadata": {
    "hidden": true
   },
   "outputs": [],
   "source": [
    "ctrl$sampling <- \"smote\""
   ]
  },
  {
   "cell_type": "code",
   "execution_count": 16,
   "metadata": {
    "hidden": true
   },
   "outputs": [],
   "source": [
    "#::NOTE::I measure the time it takes\n",
    "# https://www.r-bloggers.com/5-ways-to-measure-running-time-of-r-code/\n",
    "start_time <- Sys.time()\n",
    "smote_fit <- train(Class ~ .,\n",
    "                   data = imbal_train,\n",
    "                   method = \"gbm\",\n",
    "                   verbose = FALSE,\n",
    "                   metric = \"ROC\",\n",
    "                   trControl = ctrl)\n",
    "end_time <- Sys.time()"
   ]
  },
  {
   "cell_type": "code",
   "execution_count": null,
   "metadata": {
    "hidden": true
   },
   "outputs": [],
   "source": [
    "cat('model smote fit has taken: ', end_time - start_time, ' mins.')"
   ]
  },
  {
   "cell_type": "markdown",
   "metadata": {
    "heading_collapsed": true
   },
   "source": [
    "## Evaluation"
   ]
  },
  {
   "cell_type": "markdown",
   "metadata": {
    "hidden": true
   },
   "source": [
    "**::GMG::** Saito and Rehmsmeier (2015) recommend examining the precision-recall curve as it is more explicitly informative than a ROC curve in the case of imbalanced classes."
   ]
  },
  {
   "cell_type": "code",
   "execution_count": 17,
   "metadata": {
    "hidden": true
   },
   "outputs": [],
   "source": [
    "##::GMG:Examine results for test set\n",
    "model_list <- list(original = orig_fit,\n",
    "                   weighted = weighted_fit,\n",
    "                   down = down_fit,\n",
    "                   up = up_fit,\n",
    "                   SMOTE = smote_fit)"
   ]
  },
  {
   "cell_type": "code",
   "execution_count": 18,
   "metadata": {
    "hidden": true
   },
   "outputs": [],
   "source": [
    "#::GMG::We can calculate the area under the precision-recall curve for our 5 classifiers using the PRROC \n",
    "#       package in R to create a custom function, calc_auprc. \n",
    "calc_auprc <- function(model, data){\n",
    "  \n",
    "  index_class2 <- data$Class == \"Class2\"\n",
    "  index_class1 <- data$Class == \"Class1\"\n",
    "  \n",
    "  predictions <- predict(model, data, type = \"prob\")\n",
    "  \n",
    "  pr.curve(predictions$Class2[index_class2], predictions$Class2[index_class1], curve = TRUE)\n",
    "  \n",
    "}"
   ]
  },
  {
   "cell_type": "code",
   "execution_count": 19,
   "metadata": {
    "hidden": true
   },
   "outputs": [],
   "source": [
    "#::GMG::Get results for all 5 models\n",
    "model_list_pr <- model_list %>%\n",
    "  map(calc_auprc, data = imbal_test)"
   ]
  },
  {
   "cell_type": "code",
   "execution_count": 20,
   "metadata": {
    "hidden": true
   },
   "outputs": [
    {
     "data": {
      "text/html": [
       "<dl>\n",
       "\t<dt>$original</dt>\n",
       "\t\t<dd>0.518795148812988</dd>\n",
       "\t<dt>$weighted</dt>\n",
       "\t\t<dd>0.640686970245322</dd>\n",
       "\t<dt>$down</dt>\n",
       "\t\t<dd>0.530570045405464</dd>\n",
       "\t<dt>$up</dt>\n",
       "\t\t<dd>0.624623217265466</dd>\n",
       "\t<dt>$SMOTE</dt>\n",
       "\t\t<dd>0.634175334274599</dd>\n",
       "</dl>\n"
      ],
      "text/latex": [
       "\\begin{description}\n",
       "\\item[\\$original] 0.518795148812988\n",
       "\\item[\\$weighted] 0.640686970245322\n",
       "\\item[\\$down] 0.530570045405464\n",
       "\\item[\\$up] 0.624623217265466\n",
       "\\item[\\$SMOTE] 0.634175334274599\n",
       "\\end{description}\n"
      ],
      "text/markdown": [
       "$original\n",
       ":   0.518795148812988\n",
       "$weighted\n",
       ":   0.640686970245322\n",
       "$down\n",
       ":   0.530570045405464\n",
       "$up\n",
       ":   0.624623217265466\n",
       "$SMOTE\n",
       ":   0.634175334274599\n",
       "\n",
       "\n"
      ],
      "text/plain": [
       "$original\n",
       "[1] 0.5187951\n",
       "\n",
       "$weighted\n",
       "[1] 0.640687\n",
       "\n",
       "$down\n",
       "[1] 0.53057\n",
       "\n",
       "$up\n",
       "[1] 0.6246232\n",
       "\n",
       "$SMOTE\n",
       "[1] 0.6341753\n"
      ]
     },
     "metadata": {},
     "output_type": "display_data"
    }
   ],
   "source": [
    "model_list_pr %>%\n",
    "  map(function(the_mod) the_mod$auc.integral)"
   ]
  },
  {
   "cell_type": "markdown",
   "metadata": {
    "hidden": true
   },
   "source": [
    "**::GMG::** We have better performance for the weighted model, followed by the sampled models, with the original model coming in last. However, now the difference in performance is much more apparent."
   ]
  },
  {
   "cell_type": "code",
   "execution_count": 21,
   "metadata": {
    "hidden": true
   },
   "outputs": [
    {
     "name": "stderr",
     "output_type": "stream",
     "text": [
      "Warning message:\n",
      "“`data_frame()` is deprecated, use `tibble()`.\n",
      "\u001b[90mThis warning is displayed once per session.\u001b[39m”"
     ]
    },
    {
     "data": {
      "image/png": "[encoded data removed]",
      "text/plain": [
       "plot without title"
      ]
     },
     "metadata": {},
     "output_type": "display_data"
    }
   ],
   "source": [
    "#::GMG::Plot the AUPRC curve for all 5 models\n",
    "#::NOTE::We can dig deeper into these results by actually plotting the precision-recall curves.\n",
    "results_list_pr <- list(NA)\n",
    "num_mod <- 1\n",
    "\n",
    "for(the_pr in model_list_pr){\n",
    "  \n",
    "  results_list_pr[[num_mod]] <- data_frame(recall = the_pr$curve[, 1],\n",
    "                                           precision = the_pr$curve[, 2],\n",
    "                                           model = names(model_list_pr)[num_mod])\n",
    "  \n",
    "  num_mod <- num_mod + 1\n",
    "  \n",
    "}\n",
    "\n",
    "results_df_pr <- bind_rows(results_list_pr)\n",
    "\n",
    "custom_col <- c(\"#000000\", \"#009E73\", \"#0072B2\", \"#D55E00\", \"#CC79A7\")\n",
    "\n",
    "ggplot(aes(x = recall, y = precision, group = model), data = results_df_pr) +\n",
    "  geom_line(aes(color = model), size = 1) +\n",
    "  scale_color_manual(values = custom_col) +\n",
    "  geom_abline(intercept = sum(imbal_test$Class == \"Class2\")/nrow(imbal_test),\n",
    "              slope = 0, color = \"gray\", size = 1) +\n",
    "  theme_bw()"
   ]
  },
  {
   "cell_type": "markdown",
   "metadata": {
    "hidden": true
   },
   "source": [
    "**::GMG::** There's a warning in this cell:\n",
    "\n",
    "```R\n",
    "Warning message:\n",
    "“`data_frame()` is deprecated, use `tibble()`.\n",
    "This warning is displayed once per session.”\n",
    "```\n",
    "\n",
    "So [what](https://www.google.com/search?client=firefox-b-d&q=tibble()+versus+data.frame()) are [the differences](https://cran.rstudio.com/web/packages/tibble/vignettes/tibble.html) between `tibble()` and `data_frame()`?"
   ]
  },
  {
   "cell_type": "markdown",
   "metadata": {
    "hidden": true
   },
   "source": [
    "**::GMG::** Discussion:\n",
    "\n",
    "> we see that both up sampling and weighting offer the best precision and recall performance depending on the threshold that is chosen, while the original classifier is essentially the worst performing across all thresholds. For example, the weighted classifier simultaneously has a recall of 75% and a precision of 50%, resulting in an F1 score of 0.6, while the original classifier has a recall of 75% and a precision of 25%, resulting in an F1 score of 0.38. In other words, when both classifiers create their predictions and use a particular threshold to obtain hard classifications, they both correctly identify 75% of the cases that are actually in the minority class. However, the weighted classifier is more efficient in these predictions, in that 50% of the observations predicted to be in the minority class actually are, while for the original classifier, only 25% of the observations predicted to be in the minority class actually are."
   ]
  },
  {
   "cell_type": "markdown",
   "metadata": {
    "heading_collapsed": true
   },
   "source": [
    "## Caret custom metrics"
   ]
  },
  {
   "cell_type": "markdown",
   "metadata": {
    "hidden": true
   },
   "source": [
    "**::GMG::** I want to choose hyperparameters of a classifier by using the area under the precision-recall curve rather than the AUC, as some combinations of hyperparameters for a given model might have better early retrieval performance compared to others. It's easy to create a *custom summary function* in caret to allow you to do this by combining the code for the `calc_auprc` function with [these instructions](https://topepo.github.io/caret/model-training-and-tuning.html#metrics) found in the caret documentation. "
   ]
  },
  {
   "cell_type": "code",
   "execution_count": 22,
   "metadata": {
    "hidden": true
   },
   "outputs": [],
   "source": [
    "#.:GMG::The custom summary function is implemented\n",
    "auprcSummary <- function(data, lev = NULL, model = NULL){\n",
    "  index_class2 <- data$obs == \"Class2\"\n",
    "  index_class1 <- data$obs == \"Class1\"\n",
    "  \n",
    "  the_curve <- pr.curve(data$Class2[index_class2], data$Class2[index_class1], curve = FALSE)\n",
    "  out <- the_curve$auc.integral\n",
    "  names(out) <- \"AUPRC\"\n",
    "  out  \n",
    "}"
   ]
  },
  {
   "cell_type": "code",
   "execution_count": 23,
   "metadata": {
    "hidden": true
   },
   "outputs": [],
   "source": [
    "#::GMG::Re-initialize control function to remove smote and\n",
    "#       include our new summary function\n",
    "ctrl <- trainControl(method = \"repeatedcv\",\n",
    "                     number = 10,\n",
    "                     repeats = 5,\n",
    "                     summaryFunction = auprcSummary,\n",
    "                     classProbs = TRUE,\n",
    "                     seeds = orig_fit$control$seeds)"
   ]
  },
  {
   "cell_type": "code",
   "execution_count": 24,
   "metadata": {
    "hidden": true
   },
   "outputs": [],
   "source": [
    "#::NOTE::I measure the time it takes\n",
    "# https://www.r-bloggers.com/5-ways-to-measure-running-time-of-r-code/\n",
    "start_time <- Sys.time()\n",
    "orig_pr <- train(Class ~ .,\n",
    "                 data = imbal_train,\n",
    "                 method = \"gbm\",\n",
    "                 verbose = FALSE,\n",
    "                 metric = \"AUPRC\",\n",
    "                 trControl = ctrl)\n",
    "end_time <- Sys.time()"
   ]
  },
  {
   "cell_type": "code",
   "execution_count": null,
   "metadata": {
    "hidden": true
   },
   "outputs": [],
   "source": [
    "cat('model fit has taken: ', end_time - start_time, ' mins.')"
   ]
  },
  {
   "cell_type": "code",
   "execution_count": 25,
   "metadata": {
    "hidden": true
   },
   "outputs": [],
   "source": [
    "#::GMG::Get results for auprc on the test set\n",
    "orig_fit_test <- orig_fit %>%\n",
    "  calc_auprc(data = imbal_test) %>%\n",
    "  (function(the_mod) the_mod$auc.integral)\n",
    "orig_pr_test <- orig_pr %>%\n",
    "  calc_auprc(data = imbal_test) %>%\n",
    "  (function(the_mod) the_mod$auc.integral)"
   ]
  },
  {
   "cell_type": "code",
   "execution_count": 26,
   "metadata": {
    "hidden": true
   },
   "outputs": [
    {
     "data": {
      "text/html": [
       "FALSE"
      ],
      "text/latex": [
       "FALSE"
      ],
      "text/markdown": [
       "FALSE"
      ],
      "text/plain": [
       "[1] FALSE"
      ]
     },
     "metadata": {},
     "output_type": "display_data"
    }
   ],
   "source": [
    "#::GMG::The test errors are the same (?)\n",
    "identical(orig_fit_test, orig_pr_test)"
   ]
  },
  {
   "cell_type": "code",
   "execution_count": 28,
   "metadata": {
    "hidden": true
   },
   "outputs": [
    {
     "name": "stdout",
     "output_type": "stream",
     "text": [
      "[1] 0.5187951\n"
     ]
    }
   ],
   "source": [
    "print(orig_fit_test)"
   ]
  },
  {
   "cell_type": "code",
   "execution_count": 29,
   "metadata": {
    "hidden": true
   },
   "outputs": [
    {
     "name": "stdout",
     "output_type": "stream",
     "text": [
      "[1] 0.5034778\n"
     ]
    }
   ],
   "source": [
    "print(orig_pr_test)"
   ]
  },
  {
   "cell_type": "code",
   "execution_count": 27,
   "metadata": {
    "hidden": true
   },
   "outputs": [
    {
     "data": {
      "text/html": [
       "FALSE"
      ],
      "text/latex": [
       "FALSE"
      ],
      "text/markdown": [
       "FALSE"
      ],
      "text/plain": [
       "[1] FALSE"
      ]
     },
     "metadata": {},
     "output_type": "display_data"
    }
   ],
   "source": [
    "#::GMG::Because both chose the same hyperparameter combination (?)\n",
    "identical(orig_fit$bestTune, orig_pr$bestTune)"
   ]
  },
  {
   "cell_type": "code",
   "execution_count": 30,
   "metadata": {
    "hidden": true
   },
   "outputs": [
    {
     "name": "stdout",
     "output_type": "stream",
     "text": [
      "  n.trees interaction.depth shrinkage n.minobsinnode\n",
      "9     150                 3       0.1             10\n"
     ]
    }
   ],
   "source": [
    "print(orig_fit$bestTune)"
   ]
  },
  {
   "cell_type": "code",
   "execution_count": 31,
   "metadata": {
    "hidden": true
   },
   "outputs": [
    {
     "name": "stdout",
     "output_type": "stream",
     "text": [
      "  n.trees interaction.depth shrinkage n.minobsinnode\n",
      "6     150                 2       0.1             10\n"
     ]
    }
   ],
   "source": [
    "print(orig_pr$bestTune)"
   ]
  },
  {
   "cell_type": "markdown",
   "metadata": {
    "heading_collapsed": true
   },
   "source": [
    "## Final thoughts"
   ]
  },
  {
   "cell_type": "markdown",
   "metadata": {
    "hidden": true
   },
   "source": [
    "> The area under the precision-recall curve can be a useful metric to help differentiate between two competing models in the case of imbalanced classes. For the AUC, weights and sampling techniques may only provide modest improvements. However, this improvement typically impacts early retrieval performance, resulting in a much larger gain in the overall precision of a model. In conjunction with trying weighting or sampling, it is also recommended to avoid relying solely on the AUC when evaluating the performance of a classifier that has imbalanced classes as it can be a misleading metric. The code above shows how easy it is to use the precision-recall curve, a more sensitive measure of classification performance when there are imbalanced classes."
   ]
  }
 ],
 "metadata": {
  "kernelspec": {
   "display_name": "R",
   "language": "R",
   "name": "ir"
  },
  "language_info": {
   "codemirror_mode": "r",
   "file_extension": ".r",
   "mimetype": "text/x-r-source",
   "name": "R",
   "pygments_lexer": "r",
   "version": "3.6.0"
  }
 },
 "nbformat": 4,
 "nbformat_minor": 2
}
